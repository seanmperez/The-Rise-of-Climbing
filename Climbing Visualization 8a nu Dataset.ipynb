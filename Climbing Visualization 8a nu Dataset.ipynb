{
 "cells": [
  {
   "cell_type": "markdown",
   "metadata": {},
   "source": [
    "# Visualizing Climbing Data from 8a.nu using SQL and Tableau\n",
    "\n"
   ]
  },
  {
   "cell_type": "markdown",
   "metadata": {},
   "source": [
    "### Introduction\n",
    "Climbing has transformed from a off-the-beaten-path lifestyle, to a competitive sport now being featured in the 2021 olympics. Unlike a lot of other popular sports such as basketball and football, little data-driven information is available about climbers.\n",
    "\n",
    "\n",
    "### Data\n",
    "Luckily, kaggle has a great dataset of users from the world's largest rock climbing logbook, 8a.nu. The dataset was collected on 9/13/2017 can be found on kaggle https://www.kaggle.com/dcohen21/8anu-climbing-logbook. The data is held in a sqlite database. \n",
    "\n",
    "### Analytics\n",
    "In order to undestand what insights we can gain from this dataset, we first need to understand what information is in tables.\n",
    "\n",
    "\n",
    "\n",
    "\n",
    "\n",
    "\n",
    "\n",
    "\n",
    "\n",
    "    "
   ]
  },
  {
   "cell_type": "code",
   "execution_count": 28,
   "metadata": {},
   "outputs": [],
   "source": [
    "import sqlite3\n",
    "import pandas as pd\n",
    "import numpy as np\n",
    "import matplotlib.pyplot as plt\n",
    "import os"
   ]
  },
  {
   "cell_type": "markdown",
   "metadata": {},
   "source": [
    "## Understanding the sql data schema"
   ]
  },
  {
   "cell_type": "code",
   "execution_count": 2,
   "metadata": {},
   "outputs": [],
   "source": [
    "#Make a connection\n",
    "con = sqlite3.connect('database.sqlite')\n",
    "\n",
    "#Make a cursor instance\n",
    "c = con.cursor()"
   ]
  },
  {
   "cell_type": "markdown",
   "metadata": {},
   "source": [
    "How many tables are in the sql database and what are their names?"
   ]
  },
  {
   "cell_type": "code",
   "execution_count": 3,
   "metadata": {
    "scrolled": true
   },
   "outputs": [],
   "source": [
    "#Look at all of the tables within the sqlite databes\n",
    "def table_names():\n",
    "    query = \"\"\"\n",
    "    SELECT NAME \n",
    "    FROM SQLITE_MASTER \n",
    "    WHERE type= 'table';\n",
    "    \"\"\"\n",
    "    c.execute(query)\n",
    "    \n",
    "    tables = []\n",
    "    for row in c.fetchall():\n",
    "        tables.append(row[0])\n",
    "    \n",
    "    return tables"
   ]
  },
  {
   "cell_type": "code",
   "execution_count": 4,
   "metadata": {},
   "outputs": [
    {
     "name": "stdout",
     "output_type": "stream",
     "text": [
      "user\n",
      "method\n",
      "grade\n",
      "ascent\n"
     ]
    }
   ],
   "source": [
    "all_tables = table_names()\n",
    "\n",
    "for table in all_tables:\n",
    "    print(table)"
   ]
  },
  {
   "cell_type": "markdown",
   "metadata": {},
   "source": [
    "### Tables\n",
    "\n",
    "There are 4 tables in the dataset:\n",
    "1. user\n",
    "2. method\n",
    "3. grade\n",
    "4. ascent\n",
    "\n",
    "Next we need to know about the contents of each table including:\n",
    "\n",
    "1. What columns are in each table?\n",
    "2. How many rows are in each table?\n",
    "3. How do the tables relate?"
   ]
  },
  {
   "cell_type": "code",
   "execution_count": 5,
   "metadata": {},
   "outputs": [],
   "source": [
    "def col_info():\n",
    "    #Get table names\n",
    "    tables = table_names()\n",
    "    \n",
    "    #Initialize dataframes for each table\n",
    "    dfs = {}\n",
    "\n",
    "    for table in tables:\n",
    "        #d[table] = pd.DataFrame()\n",
    "        \n",
    "        query = f\"\"\"\n",
    "        PRAGMA table_info({table})\n",
    "        \"\"\"\n",
    "        c.execute(query)\n",
    "        \n",
    "        Column = []\n",
    "        Type = []\n",
    "        Not_Null = []\n",
    "        Primary_Key = []\n",
    "        \n",
    "        for row in c:\n",
    "            Column.append(row[1])\n",
    "            Type.append(row[2])\n",
    "            if row[3]:\n",
    "                Not_Null.append(\"YES\")\n",
    "            else:\n",
    "                Not_Null.append(\"NO\")\n",
    "            if row[5]:\n",
    "                Primary_Key.append(\"YES\")\n",
    "            else:\n",
    "                Primary_Key.append(\"\")\n",
    "            \n",
    "        dfs[table] = pd.DataFrame({\"Column\" : Column,\n",
    "                          \"Type\" : Type,\n",
    "                          \"Not_Null\" : Not_Null,\n",
    "                          \"Primary_Key\" : Primary_Key})\n",
    "    return dfs "
   ]
  },
  {
   "cell_type": "code",
   "execution_count": 6,
   "metadata": {},
   "outputs": [],
   "source": [
    "column_info_dfs = col_info()"
   ]
  },
  {
   "cell_type": "code",
   "execution_count": 7,
   "metadata": {},
   "outputs": [
    {
     "data": {
      "text/html": [
       "<div>\n",
       "<style scoped>\n",
       "    .dataframe tbody tr th:only-of-type {\n",
       "        vertical-align: middle;\n",
       "    }\n",
       "\n",
       "    .dataframe tbody tr th {\n",
       "        vertical-align: top;\n",
       "    }\n",
       "\n",
       "    .dataframe thead th {\n",
       "        text-align: right;\n",
       "    }\n",
       "</style>\n",
       "<table border=\"1\" class=\"dataframe\">\n",
       "  <thead>\n",
       "    <tr style=\"text-align: right;\">\n",
       "      <th></th>\n",
       "      <th>Column</th>\n",
       "      <th>Type</th>\n",
       "      <th>Not_Null</th>\n",
       "      <th>Primary_Key</th>\n",
       "    </tr>\n",
       "  </thead>\n",
       "  <tbody>\n",
       "    <tr>\n",
       "      <th>0</th>\n",
       "      <td>id</td>\n",
       "      <td>INTEGER</td>\n",
       "      <td>YES</td>\n",
       "      <td>YES</td>\n",
       "    </tr>\n",
       "    <tr>\n",
       "      <th>1</th>\n",
       "      <td>first_name</td>\n",
       "      <td>VARCHAR</td>\n",
       "      <td>NO</td>\n",
       "      <td></td>\n",
       "    </tr>\n",
       "    <tr>\n",
       "      <th>2</th>\n",
       "      <td>last_name</td>\n",
       "      <td>VARCHAR</td>\n",
       "      <td>NO</td>\n",
       "      <td></td>\n",
       "    </tr>\n",
       "    <tr>\n",
       "      <th>3</th>\n",
       "      <td>city</td>\n",
       "      <td>VARCHAR</td>\n",
       "      <td>NO</td>\n",
       "      <td></td>\n",
       "    </tr>\n",
       "    <tr>\n",
       "      <th>4</th>\n",
       "      <td>country</td>\n",
       "      <td>VARCHAR</td>\n",
       "      <td>NO</td>\n",
       "      <td></td>\n",
       "    </tr>\n",
       "    <tr>\n",
       "      <th>5</th>\n",
       "      <td>sex</td>\n",
       "      <td>INTEGER</td>\n",
       "      <td>NO</td>\n",
       "      <td></td>\n",
       "    </tr>\n",
       "    <tr>\n",
       "      <th>6</th>\n",
       "      <td>height</td>\n",
       "      <td>INTEGER</td>\n",
       "      <td>NO</td>\n",
       "      <td></td>\n",
       "    </tr>\n",
       "    <tr>\n",
       "      <th>7</th>\n",
       "      <td>weight</td>\n",
       "      <td>INTEGER</td>\n",
       "      <td>NO</td>\n",
       "      <td></td>\n",
       "    </tr>\n",
       "    <tr>\n",
       "      <th>8</th>\n",
       "      <td>started</td>\n",
       "      <td>INTEGER</td>\n",
       "      <td>NO</td>\n",
       "      <td></td>\n",
       "    </tr>\n",
       "    <tr>\n",
       "      <th>9</th>\n",
       "      <td>competitions</td>\n",
       "      <td>VARCHAR</td>\n",
       "      <td>NO</td>\n",
       "      <td></td>\n",
       "    </tr>\n",
       "    <tr>\n",
       "      <th>10</th>\n",
       "      <td>occupation</td>\n",
       "      <td>VARCHAR</td>\n",
       "      <td>NO</td>\n",
       "      <td></td>\n",
       "    </tr>\n",
       "    <tr>\n",
       "      <th>11</th>\n",
       "      <td>sponsor1</td>\n",
       "      <td>VARCHAR</td>\n",
       "      <td>NO</td>\n",
       "      <td></td>\n",
       "    </tr>\n",
       "    <tr>\n",
       "      <th>12</th>\n",
       "      <td>sponsor2</td>\n",
       "      <td>VARCHAR</td>\n",
       "      <td>NO</td>\n",
       "      <td></td>\n",
       "    </tr>\n",
       "    <tr>\n",
       "      <th>13</th>\n",
       "      <td>sponsor3</td>\n",
       "      <td>VARCHAR</td>\n",
       "      <td>NO</td>\n",
       "      <td></td>\n",
       "    </tr>\n",
       "    <tr>\n",
       "      <th>14</th>\n",
       "      <td>best_area</td>\n",
       "      <td>VARCHAR</td>\n",
       "      <td>NO</td>\n",
       "      <td></td>\n",
       "    </tr>\n",
       "    <tr>\n",
       "      <th>15</th>\n",
       "      <td>worst_area</td>\n",
       "      <td>VARCHAR</td>\n",
       "      <td>NO</td>\n",
       "      <td></td>\n",
       "    </tr>\n",
       "    <tr>\n",
       "      <th>16</th>\n",
       "      <td>guide_area</td>\n",
       "      <td>VARCHAR</td>\n",
       "      <td>NO</td>\n",
       "      <td></td>\n",
       "    </tr>\n",
       "    <tr>\n",
       "      <th>17</th>\n",
       "      <td>interests</td>\n",
       "      <td>VARCHAR</td>\n",
       "      <td>NO</td>\n",
       "      <td></td>\n",
       "    </tr>\n",
       "    <tr>\n",
       "      <th>18</th>\n",
       "      <td>birth</td>\n",
       "      <td>DATE</td>\n",
       "      <td>NO</td>\n",
       "      <td></td>\n",
       "    </tr>\n",
       "    <tr>\n",
       "      <th>19</th>\n",
       "      <td>presentation</td>\n",
       "      <td>VARCHAR</td>\n",
       "      <td>NO</td>\n",
       "      <td></td>\n",
       "    </tr>\n",
       "    <tr>\n",
       "      <th>20</th>\n",
       "      <td>deactivated</td>\n",
       "      <td>INTEGER</td>\n",
       "      <td>NO</td>\n",
       "      <td></td>\n",
       "    </tr>\n",
       "    <tr>\n",
       "      <th>21</th>\n",
       "      <td>anonymous</td>\n",
       "      <td>INTEGER</td>\n",
       "      <td>NO</td>\n",
       "      <td></td>\n",
       "    </tr>\n",
       "  </tbody>\n",
       "</table>\n",
       "</div>"
      ],
      "text/plain": [
       "          Column     Type Not_Null Primary_Key\n",
       "0             id  INTEGER      YES         YES\n",
       "1     first_name  VARCHAR       NO            \n",
       "2      last_name  VARCHAR       NO            \n",
       "3           city  VARCHAR       NO            \n",
       "4        country  VARCHAR       NO            \n",
       "5            sex  INTEGER       NO            \n",
       "6         height  INTEGER       NO            \n",
       "7         weight  INTEGER       NO            \n",
       "8        started  INTEGER       NO            \n",
       "9   competitions  VARCHAR       NO            \n",
       "10    occupation  VARCHAR       NO            \n",
       "11      sponsor1  VARCHAR       NO            \n",
       "12      sponsor2  VARCHAR       NO            \n",
       "13      sponsor3  VARCHAR       NO            \n",
       "14     best_area  VARCHAR       NO            \n",
       "15    worst_area  VARCHAR       NO            \n",
       "16    guide_area  VARCHAR       NO            \n",
       "17     interests  VARCHAR       NO            \n",
       "18         birth     DATE       NO            \n",
       "19  presentation  VARCHAR       NO            \n",
       "20   deactivated  INTEGER       NO            \n",
       "21     anonymous  INTEGER       NO            "
      ]
     },
     "execution_count": 7,
     "metadata": {},
     "output_type": "execute_result"
    }
   ],
   "source": [
    "column_info_dfs[\"user\"]"
   ]
  },
  {
   "cell_type": "code",
   "execution_count": 8,
   "metadata": {
    "scrolled": true
   },
   "outputs": [
    {
     "data": {
      "text/html": [
       "<div>\n",
       "<style scoped>\n",
       "    .dataframe tbody tr th:only-of-type {\n",
       "        vertical-align: middle;\n",
       "    }\n",
       "\n",
       "    .dataframe tbody tr th {\n",
       "        vertical-align: top;\n",
       "    }\n",
       "\n",
       "    .dataframe thead th {\n",
       "        text-align: right;\n",
       "    }\n",
       "</style>\n",
       "<table border=\"1\" class=\"dataframe\">\n",
       "  <thead>\n",
       "    <tr style=\"text-align: right;\">\n",
       "      <th></th>\n",
       "      <th>Column</th>\n",
       "      <th>Type</th>\n",
       "      <th>Not_Null</th>\n",
       "      <th>Primary_Key</th>\n",
       "    </tr>\n",
       "  </thead>\n",
       "  <tbody>\n",
       "    <tr>\n",
       "      <th>0</th>\n",
       "      <td>id</td>\n",
       "      <td>INTEGER</td>\n",
       "      <td>YES</td>\n",
       "      <td>YES</td>\n",
       "    </tr>\n",
       "    <tr>\n",
       "      <th>1</th>\n",
       "      <td>score</td>\n",
       "      <td>INTEGER</td>\n",
       "      <td>NO</td>\n",
       "      <td></td>\n",
       "    </tr>\n",
       "    <tr>\n",
       "      <th>2</th>\n",
       "      <td>shorthand</td>\n",
       "      <td>VARCHAR</td>\n",
       "      <td>NO</td>\n",
       "      <td></td>\n",
       "    </tr>\n",
       "    <tr>\n",
       "      <th>3</th>\n",
       "      <td>name</td>\n",
       "      <td>VARCHAR</td>\n",
       "      <td>NO</td>\n",
       "      <td></td>\n",
       "    </tr>\n",
       "  </tbody>\n",
       "</table>\n",
       "</div>"
      ],
      "text/plain": [
       "      Column     Type Not_Null Primary_Key\n",
       "0         id  INTEGER      YES         YES\n",
       "1      score  INTEGER       NO            \n",
       "2  shorthand  VARCHAR       NO            \n",
       "3       name  VARCHAR       NO            "
      ]
     },
     "execution_count": 8,
     "metadata": {},
     "output_type": "execute_result"
    }
   ],
   "source": [
    "column_info_dfs[\"method\"]"
   ]
  },
  {
   "cell_type": "code",
   "execution_count": 9,
   "metadata": {},
   "outputs": [
    {
     "data": {
      "text/html": [
       "<div>\n",
       "<style scoped>\n",
       "    .dataframe tbody tr th:only-of-type {\n",
       "        vertical-align: middle;\n",
       "    }\n",
       "\n",
       "    .dataframe tbody tr th {\n",
       "        vertical-align: top;\n",
       "    }\n",
       "\n",
       "    .dataframe thead th {\n",
       "        text-align: right;\n",
       "    }\n",
       "</style>\n",
       "<table border=\"1\" class=\"dataframe\">\n",
       "  <thead>\n",
       "    <tr style=\"text-align: right;\">\n",
       "      <th></th>\n",
       "      <th>Column</th>\n",
       "      <th>Type</th>\n",
       "      <th>Not_Null</th>\n",
       "      <th>Primary_Key</th>\n",
       "    </tr>\n",
       "  </thead>\n",
       "  <tbody>\n",
       "    <tr>\n",
       "      <th>0</th>\n",
       "      <td>id</td>\n",
       "      <td>INTEGER</td>\n",
       "      <td>YES</td>\n",
       "      <td>YES</td>\n",
       "    </tr>\n",
       "    <tr>\n",
       "      <th>1</th>\n",
       "      <td>score</td>\n",
       "      <td>INTEGER</td>\n",
       "      <td>NO</td>\n",
       "      <td></td>\n",
       "    </tr>\n",
       "    <tr>\n",
       "      <th>2</th>\n",
       "      <td>fra_routes</td>\n",
       "      <td>VARCHAR</td>\n",
       "      <td>NO</td>\n",
       "      <td></td>\n",
       "    </tr>\n",
       "    <tr>\n",
       "      <th>3</th>\n",
       "      <td>fra_routes_input</td>\n",
       "      <td>BOOLEAN</td>\n",
       "      <td>NO</td>\n",
       "      <td></td>\n",
       "    </tr>\n",
       "    <tr>\n",
       "      <th>4</th>\n",
       "      <td>fra_routes_selector</td>\n",
       "      <td>BOOLEAN</td>\n",
       "      <td>NO</td>\n",
       "      <td></td>\n",
       "    </tr>\n",
       "    <tr>\n",
       "      <th>5</th>\n",
       "      <td>fra_boulders</td>\n",
       "      <td>VARCHAR</td>\n",
       "      <td>NO</td>\n",
       "      <td></td>\n",
       "    </tr>\n",
       "    <tr>\n",
       "      <th>6</th>\n",
       "      <td>fra_boulders_input</td>\n",
       "      <td>BOOLEAN</td>\n",
       "      <td>NO</td>\n",
       "      <td></td>\n",
       "    </tr>\n",
       "    <tr>\n",
       "      <th>7</th>\n",
       "      <td>fra_boulders_selector</td>\n",
       "      <td>BOOLEAN</td>\n",
       "      <td>NO</td>\n",
       "      <td></td>\n",
       "    </tr>\n",
       "    <tr>\n",
       "      <th>8</th>\n",
       "      <td>usa_routes</td>\n",
       "      <td>VARCHAR</td>\n",
       "      <td>NO</td>\n",
       "      <td></td>\n",
       "    </tr>\n",
       "    <tr>\n",
       "      <th>9</th>\n",
       "      <td>usa_routes_input</td>\n",
       "      <td>BOOLEAN</td>\n",
       "      <td>NO</td>\n",
       "      <td></td>\n",
       "    </tr>\n",
       "    <tr>\n",
       "      <th>10</th>\n",
       "      <td>usa_routes_selector</td>\n",
       "      <td>BOOLEAN</td>\n",
       "      <td>NO</td>\n",
       "      <td></td>\n",
       "    </tr>\n",
       "    <tr>\n",
       "      <th>11</th>\n",
       "      <td>usa_boulders</td>\n",
       "      <td>VARCHAR</td>\n",
       "      <td>NO</td>\n",
       "      <td></td>\n",
       "    </tr>\n",
       "    <tr>\n",
       "      <th>12</th>\n",
       "      <td>usa_boulders_input</td>\n",
       "      <td>BOOLEAN</td>\n",
       "      <td>NO</td>\n",
       "      <td></td>\n",
       "    </tr>\n",
       "    <tr>\n",
       "      <th>13</th>\n",
       "      <td>usa_boulders_selector</td>\n",
       "      <td>BOOLEAN</td>\n",
       "      <td>NO</td>\n",
       "      <td></td>\n",
       "    </tr>\n",
       "  </tbody>\n",
       "</table>\n",
       "</div>"
      ],
      "text/plain": [
       "                   Column     Type Not_Null Primary_Key\n",
       "0                      id  INTEGER      YES         YES\n",
       "1                   score  INTEGER       NO            \n",
       "2              fra_routes  VARCHAR       NO            \n",
       "3        fra_routes_input  BOOLEAN       NO            \n",
       "4     fra_routes_selector  BOOLEAN       NO            \n",
       "5            fra_boulders  VARCHAR       NO            \n",
       "6      fra_boulders_input  BOOLEAN       NO            \n",
       "7   fra_boulders_selector  BOOLEAN       NO            \n",
       "8              usa_routes  VARCHAR       NO            \n",
       "9        usa_routes_input  BOOLEAN       NO            \n",
       "10    usa_routes_selector  BOOLEAN       NO            \n",
       "11           usa_boulders  VARCHAR       NO            \n",
       "12     usa_boulders_input  BOOLEAN       NO            \n",
       "13  usa_boulders_selector  BOOLEAN       NO            "
      ]
     },
     "execution_count": 9,
     "metadata": {},
     "output_type": "execute_result"
    }
   ],
   "source": [
    "column_info_dfs[\"grade\"]"
   ]
  },
  {
   "cell_type": "code",
   "execution_count": 10,
   "metadata": {},
   "outputs": [
    {
     "data": {
      "text/html": [
       "<div>\n",
       "<style scoped>\n",
       "    .dataframe tbody tr th:only-of-type {\n",
       "        vertical-align: middle;\n",
       "    }\n",
       "\n",
       "    .dataframe tbody tr th {\n",
       "        vertical-align: top;\n",
       "    }\n",
       "\n",
       "    .dataframe thead th {\n",
       "        text-align: right;\n",
       "    }\n",
       "</style>\n",
       "<table border=\"1\" class=\"dataframe\">\n",
       "  <thead>\n",
       "    <tr style=\"text-align: right;\">\n",
       "      <th></th>\n",
       "      <th>Column</th>\n",
       "      <th>Type</th>\n",
       "      <th>Not_Null</th>\n",
       "      <th>Primary_Key</th>\n",
       "    </tr>\n",
       "  </thead>\n",
       "  <tbody>\n",
       "    <tr>\n",
       "      <th>0</th>\n",
       "      <td>id</td>\n",
       "      <td>INTEGER</td>\n",
       "      <td>YES</td>\n",
       "      <td>YES</td>\n",
       "    </tr>\n",
       "    <tr>\n",
       "      <th>1</th>\n",
       "      <td>user_id</td>\n",
       "      <td>INTEGER</td>\n",
       "      <td>NO</td>\n",
       "      <td></td>\n",
       "    </tr>\n",
       "    <tr>\n",
       "      <th>2</th>\n",
       "      <td>grade_id</td>\n",
       "      <td>INTEGER</td>\n",
       "      <td>NO</td>\n",
       "      <td></td>\n",
       "    </tr>\n",
       "    <tr>\n",
       "      <th>3</th>\n",
       "      <td>notes</td>\n",
       "      <td>VARCHAR</td>\n",
       "      <td>NO</td>\n",
       "      <td></td>\n",
       "    </tr>\n",
       "    <tr>\n",
       "      <th>4</th>\n",
       "      <td>raw_notes</td>\n",
       "      <td>INTEGER</td>\n",
       "      <td>NO</td>\n",
       "      <td></td>\n",
       "    </tr>\n",
       "    <tr>\n",
       "      <th>5</th>\n",
       "      <td>method_id</td>\n",
       "      <td>INTEGER</td>\n",
       "      <td>NO</td>\n",
       "      <td></td>\n",
       "    </tr>\n",
       "    <tr>\n",
       "      <th>6</th>\n",
       "      <td>climb_type</td>\n",
       "      <td>INTEGER</td>\n",
       "      <td>NO</td>\n",
       "      <td></td>\n",
       "    </tr>\n",
       "    <tr>\n",
       "      <th>7</th>\n",
       "      <td>total_score</td>\n",
       "      <td>INTEGER</td>\n",
       "      <td>NO</td>\n",
       "      <td></td>\n",
       "    </tr>\n",
       "    <tr>\n",
       "      <th>8</th>\n",
       "      <td>date</td>\n",
       "      <td>INTEGER</td>\n",
       "      <td>NO</td>\n",
       "      <td></td>\n",
       "    </tr>\n",
       "    <tr>\n",
       "      <th>9</th>\n",
       "      <td>year</td>\n",
       "      <td>INTEGER</td>\n",
       "      <td>NO</td>\n",
       "      <td></td>\n",
       "    </tr>\n",
       "    <tr>\n",
       "      <th>10</th>\n",
       "      <td>last_year</td>\n",
       "      <td>BOOLEAN</td>\n",
       "      <td>NO</td>\n",
       "      <td></td>\n",
       "    </tr>\n",
       "    <tr>\n",
       "      <th>11</th>\n",
       "      <td>rec_date</td>\n",
       "      <td>INTEGER</td>\n",
       "      <td>NO</td>\n",
       "      <td></td>\n",
       "    </tr>\n",
       "    <tr>\n",
       "      <th>12</th>\n",
       "      <td>project_ascent_date</td>\n",
       "      <td>INTEGER</td>\n",
       "      <td>NO</td>\n",
       "      <td></td>\n",
       "    </tr>\n",
       "    <tr>\n",
       "      <th>13</th>\n",
       "      <td>name</td>\n",
       "      <td>VARCHAR</td>\n",
       "      <td>NO</td>\n",
       "      <td></td>\n",
       "    </tr>\n",
       "    <tr>\n",
       "      <th>14</th>\n",
       "      <td>crag_id</td>\n",
       "      <td>INTEGER</td>\n",
       "      <td>NO</td>\n",
       "      <td></td>\n",
       "    </tr>\n",
       "    <tr>\n",
       "      <th>15</th>\n",
       "      <td>crag</td>\n",
       "      <td>VARCHAR</td>\n",
       "      <td>NO</td>\n",
       "      <td></td>\n",
       "    </tr>\n",
       "    <tr>\n",
       "      <th>16</th>\n",
       "      <td>sector_id</td>\n",
       "      <td>INTEGER</td>\n",
       "      <td>NO</td>\n",
       "      <td></td>\n",
       "    </tr>\n",
       "    <tr>\n",
       "      <th>17</th>\n",
       "      <td>sector</td>\n",
       "      <td>VARCHAR</td>\n",
       "      <td>NO</td>\n",
       "      <td></td>\n",
       "    </tr>\n",
       "    <tr>\n",
       "      <th>18</th>\n",
       "      <td>country</td>\n",
       "      <td>VARCHAR</td>\n",
       "      <td>NO</td>\n",
       "      <td></td>\n",
       "    </tr>\n",
       "    <tr>\n",
       "      <th>19</th>\n",
       "      <td>comment</td>\n",
       "      <td>VARCHAR</td>\n",
       "      <td>NO</td>\n",
       "      <td></td>\n",
       "    </tr>\n",
       "    <tr>\n",
       "      <th>20</th>\n",
       "      <td>rating</td>\n",
       "      <td>INTEGER</td>\n",
       "      <td>NO</td>\n",
       "      <td></td>\n",
       "    </tr>\n",
       "    <tr>\n",
       "      <th>21</th>\n",
       "      <td>description</td>\n",
       "      <td>VARCHAR</td>\n",
       "      <td>NO</td>\n",
       "      <td></td>\n",
       "    </tr>\n",
       "    <tr>\n",
       "      <th>22</th>\n",
       "      <td>yellow_id</td>\n",
       "      <td>INTEGER</td>\n",
       "      <td>NO</td>\n",
       "      <td></td>\n",
       "    </tr>\n",
       "    <tr>\n",
       "      <th>23</th>\n",
       "      <td>climb_try</td>\n",
       "      <td>BOOLEAN</td>\n",
       "      <td>NO</td>\n",
       "      <td></td>\n",
       "    </tr>\n",
       "    <tr>\n",
       "      <th>24</th>\n",
       "      <td>repeat</td>\n",
       "      <td>BOOLEAN</td>\n",
       "      <td>NO</td>\n",
       "      <td></td>\n",
       "    </tr>\n",
       "    <tr>\n",
       "      <th>25</th>\n",
       "      <td>exclude_from_ranking</td>\n",
       "      <td>BOOLEAN</td>\n",
       "      <td>NO</td>\n",
       "      <td></td>\n",
       "    </tr>\n",
       "    <tr>\n",
       "      <th>26</th>\n",
       "      <td>user_recommended</td>\n",
       "      <td>BOOLEAN</td>\n",
       "      <td>NO</td>\n",
       "      <td></td>\n",
       "    </tr>\n",
       "    <tr>\n",
       "      <th>27</th>\n",
       "      <td>chipped</td>\n",
       "      <td>BOOLEAN</td>\n",
       "      <td>NO</td>\n",
       "      <td></td>\n",
       "    </tr>\n",
       "  </tbody>\n",
       "</table>\n",
       "</div>"
      ],
      "text/plain": [
       "                  Column     Type Not_Null Primary_Key\n",
       "0                     id  INTEGER      YES         YES\n",
       "1                user_id  INTEGER       NO            \n",
       "2               grade_id  INTEGER       NO            \n",
       "3                  notes  VARCHAR       NO            \n",
       "4              raw_notes  INTEGER       NO            \n",
       "5              method_id  INTEGER       NO            \n",
       "6             climb_type  INTEGER       NO            \n",
       "7            total_score  INTEGER       NO            \n",
       "8                   date  INTEGER       NO            \n",
       "9                   year  INTEGER       NO            \n",
       "10             last_year  BOOLEAN       NO            \n",
       "11              rec_date  INTEGER       NO            \n",
       "12   project_ascent_date  INTEGER       NO            \n",
       "13                  name  VARCHAR       NO            \n",
       "14               crag_id  INTEGER       NO            \n",
       "15                  crag  VARCHAR       NO            \n",
       "16             sector_id  INTEGER       NO            \n",
       "17                sector  VARCHAR       NO            \n",
       "18               country  VARCHAR       NO            \n",
       "19               comment  VARCHAR       NO            \n",
       "20                rating  INTEGER       NO            \n",
       "21           description  VARCHAR       NO            \n",
       "22             yellow_id  INTEGER       NO            \n",
       "23             climb_try  BOOLEAN       NO            \n",
       "24                repeat  BOOLEAN       NO            \n",
       "25  exclude_from_ranking  BOOLEAN       NO            \n",
       "26      user_recommended  BOOLEAN       NO            \n",
       "27               chipped  BOOLEAN       NO            "
      ]
     },
     "execution_count": 10,
     "metadata": {},
     "output_type": "execute_result"
    }
   ],
   "source": [
    "column_info_dfs[\"ascent\"]"
   ]
  },
  {
   "cell_type": "markdown",
   "metadata": {},
   "source": [
    "## Tables Summary\n",
    "\n",
    "There are 4 tables, all of which can be joined on the primary key \"id\".\n",
    "\n",
    "Next we need to know the number of records in each table."
   ]
  },
  {
   "cell_type": "code",
   "execution_count": 11,
   "metadata": {},
   "outputs": [],
   "source": [
    "def countRows():\n",
    "    #Get table names\n",
    "    tables = table_names()\n",
    "    \n",
    "    for table in tables:\n",
    "        query = f\"\"\"\n",
    "        SELECT COUNT(id)\n",
    "        FROM {table}\n",
    "        \"\"\"\n",
    "        count = c.execute(query).fetchall()[0][0]\n",
    "        print(f\"{table} table:  {count} rows\")\n",
    "        "
   ]
  },
  {
   "cell_type": "code",
   "execution_count": 12,
   "metadata": {},
   "outputs": [
    {
     "name": "stdout",
     "output_type": "stream",
     "text": [
      "user table:  62593 rows\n",
      "method table:  5 rows\n",
      "grade table:  83 rows\n",
      "ascent table:  4111877 rows\n"
     ]
    }
   ],
   "source": [
    "countRows()"
   ]
  },
  {
   "cell_type": "markdown",
   "metadata": {},
   "source": [
    "### Database Structure Insights\n",
    "\n",
    "We can see that the largest tables is the ascent table with more than 4 million rows. The user table is the second largest around 63,000 rows. In the user table, each record represents a unique user (as indicated in the table name). Records such as name support this notion. The ascent table represents every unique \"send\" (a completed climbing boulder/route) for all users. \n",
    "\n",
    "1. Popularity\n",
    "    - Number of climbers over time.\n",
    "        - Segment by female and male climbers\n",
    "\n",
    "2. The average climber\n",
    "    - Ratio of Male vs Female\n",
    "    - Height\n",
    "    - Weight\n",
    "    - Occupation\n",
    "    - Location\n",
    "    - Average and Max grade\n",
    "    \n",
    "\n",
    "3. Grade progression over time \n",
    "    - To understand climbing grade metrics, we will need to join the user table to the ascent table. \n"
   ]
  },
  {
   "cell_type": "markdown",
   "metadata": {},
   "source": [
    "### User data questions:\n",
    "1. How many male climbers?\n",
    "2. How many female climbers?\n",
    "3. What is the growth of cimbing?\n",
    "    - Looking at when climbers started climbing as metric"
   ]
  },
  {
   "cell_type": "code",
   "execution_count": null,
   "metadata": {},
   "outputs": [],
   "source": []
  },
  {
   "cell_type": "code",
   "execution_count": 14,
   "metadata": {},
   "outputs": [],
   "source": [
    "# Get count of all users who started in a given year\n",
    "\n"
   ]
  },
  {
   "cell_type": "code",
   "execution_count": 15,
   "metadata": {},
   "outputs": [],
   "source": [
    "start_year_count_all = queryToDataframe(\"\"\"\n",
    "SELECT COUNT(started) AS total, started AS year\n",
    "FROM user\n",
    "WHERE year BETWEEN 1920 AND 2017\n",
    "GROUP BY(year)\n",
    "ORDER BY year DESC\n",
    "\"\"\")"
   ]
  },
  {
   "cell_type": "code",
   "execution_count": 16,
   "metadata": {},
   "outputs": [
    {
     "data": {
      "text/html": [
       "<div>\n",
       "<style scoped>\n",
       "    .dataframe tbody tr th:only-of-type {\n",
       "        vertical-align: middle;\n",
       "    }\n",
       "\n",
       "    .dataframe tbody tr th {\n",
       "        vertical-align: top;\n",
       "    }\n",
       "\n",
       "    .dataframe thead th {\n",
       "        text-align: right;\n",
       "    }\n",
       "</style>\n",
       "<table border=\"1\" class=\"dataframe\">\n",
       "  <thead>\n",
       "    <tr style=\"text-align: right;\">\n",
       "      <th></th>\n",
       "      <th>total</th>\n",
       "      <th>year</th>\n",
       "    </tr>\n",
       "  </thead>\n",
       "  <tbody>\n",
       "    <tr>\n",
       "      <th>62</th>\n",
       "      <td>2</td>\n",
       "      <td>1945</td>\n",
       "    </tr>\n",
       "    <tr>\n",
       "      <th>63</th>\n",
       "      <td>1</td>\n",
       "      <td>1943</td>\n",
       "    </tr>\n",
       "    <tr>\n",
       "      <th>64</th>\n",
       "      <td>1</td>\n",
       "      <td>1942</td>\n",
       "    </tr>\n",
       "    <tr>\n",
       "      <th>65</th>\n",
       "      <td>1</td>\n",
       "      <td>1938</td>\n",
       "    </tr>\n",
       "    <tr>\n",
       "      <th>66</th>\n",
       "      <td>1</td>\n",
       "      <td>1929</td>\n",
       "    </tr>\n",
       "    <tr>\n",
       "      <th>67</th>\n",
       "      <td>1</td>\n",
       "      <td>1928</td>\n",
       "    </tr>\n",
       "    <tr>\n",
       "      <th>68</th>\n",
       "      <td>1</td>\n",
       "      <td>1925</td>\n",
       "    </tr>\n",
       "    <tr>\n",
       "      <th>69</th>\n",
       "      <td>1</td>\n",
       "      <td>1922</td>\n",
       "    </tr>\n",
       "    <tr>\n",
       "      <th>70</th>\n",
       "      <td>1</td>\n",
       "      <td>1920</td>\n",
       "    </tr>\n",
       "  </tbody>\n",
       "</table>\n",
       "</div>"
      ],
      "text/plain": [
       "    total  year\n",
       "62      2  1945\n",
       "63      1  1943\n",
       "64      1  1942\n",
       "65      1  1938\n",
       "66      1  1929\n",
       "67      1  1928\n",
       "68      1  1925\n",
       "69      1  1922\n",
       "70      1  1920"
      ]
     },
     "execution_count": 16,
     "metadata": {},
     "output_type": "execute_result"
    }
   ],
   "source": [
    "start_year_count_all[start_year_count_all[\"year\"] < 1950]"
   ]
  },
  {
   "cell_type": "code",
   "execution_count": 24,
   "metadata": {},
   "outputs": [],
   "source": [
    "year_count_segmented = queryToDataframe(\"\"\"\n",
    "WITH t AS\n",
    "    (\n",
    "    SELECT COUNT(started) AS total, started AS year\n",
    "    FROM user\n",
    "    WHERE year BETWEEN 1960 AND 2017\n",
    "    GROUP BY(year)\n",
    "    ),\n",
    "f AS\n",
    "    (\n",
    "    SELECT COUNT(started) AS female, started AS year\n",
    "    FROM user\n",
    "    WHERE year BETWEEN 1960 AND 2017\n",
    "        AND sex = 1\n",
    "    GROUP BY(year)\n",
    "    ),\n",
    "m AS\n",
    "    (\n",
    "    SELECT COUNT(started) AS male, started AS year\n",
    "    FROM user\n",
    "    WHERE year BETWEEN 1960 AND 2017\n",
    "        AND sex = 0\n",
    "    GROUP BY(year)\n",
    "    )\n",
    "SELECT t.year, t.total, m.male, IFNULL(f.female, 0) AS female\n",
    "FROM t\n",
    "LEFT JOIN f\n",
    "    ON t.year = f.year\n",
    "LEFT JOIN m\n",
    "    ON t.year = m.year\n",
    "\"\"\")"
   ]
  },
  {
   "cell_type": "code",
   "execution_count": 25,
   "metadata": {},
   "outputs": [
    {
     "data": {
      "text/html": [
       "<div>\n",
       "<style scoped>\n",
       "    .dataframe tbody tr th:only-of-type {\n",
       "        vertical-align: middle;\n",
       "    }\n",
       "\n",
       "    .dataframe tbody tr th {\n",
       "        vertical-align: top;\n",
       "    }\n",
       "\n",
       "    .dataframe thead th {\n",
       "        text-align: right;\n",
       "    }\n",
       "</style>\n",
       "<table border=\"1\" class=\"dataframe\">\n",
       "  <thead>\n",
       "    <tr style=\"text-align: right;\">\n",
       "      <th></th>\n",
       "      <th>year</th>\n",
       "      <th>total</th>\n",
       "      <th>male</th>\n",
       "      <th>female</th>\n",
       "    </tr>\n",
       "  </thead>\n",
       "  <tbody>\n",
       "    <tr>\n",
       "      <th>0</th>\n",
       "      <td>1960</td>\n",
       "      <td>5</td>\n",
       "      <td>5</td>\n",
       "      <td>0</td>\n",
       "    </tr>\n",
       "    <tr>\n",
       "      <th>1</th>\n",
       "      <td>1962</td>\n",
       "      <td>2</td>\n",
       "      <td>2</td>\n",
       "      <td>0</td>\n",
       "    </tr>\n",
       "    <tr>\n",
       "      <th>2</th>\n",
       "      <td>1963</td>\n",
       "      <td>3</td>\n",
       "      <td>3</td>\n",
       "      <td>0</td>\n",
       "    </tr>\n",
       "    <tr>\n",
       "      <th>3</th>\n",
       "      <td>1964</td>\n",
       "      <td>3</td>\n",
       "      <td>3</td>\n",
       "      <td>0</td>\n",
       "    </tr>\n",
       "    <tr>\n",
       "      <th>4</th>\n",
       "      <td>1965</td>\n",
       "      <td>4</td>\n",
       "      <td>4</td>\n",
       "      <td>0</td>\n",
       "    </tr>\n",
       "    <tr>\n",
       "      <th>5</th>\n",
       "      <td>1966</td>\n",
       "      <td>4</td>\n",
       "      <td>3</td>\n",
       "      <td>1</td>\n",
       "    </tr>\n",
       "    <tr>\n",
       "      <th>6</th>\n",
       "      <td>1967</td>\n",
       "      <td>5</td>\n",
       "      <td>5</td>\n",
       "      <td>0</td>\n",
       "    </tr>\n",
       "    <tr>\n",
       "      <th>7</th>\n",
       "      <td>1968</td>\n",
       "      <td>11</td>\n",
       "      <td>10</td>\n",
       "      <td>1</td>\n",
       "    </tr>\n",
       "    <tr>\n",
       "      <th>8</th>\n",
       "      <td>1969</td>\n",
       "      <td>6</td>\n",
       "      <td>6</td>\n",
       "      <td>0</td>\n",
       "    </tr>\n",
       "    <tr>\n",
       "      <th>9</th>\n",
       "      <td>1970</td>\n",
       "      <td>19</td>\n",
       "      <td>19</td>\n",
       "      <td>0</td>\n",
       "    </tr>\n",
       "    <tr>\n",
       "      <th>10</th>\n",
       "      <td>1971</td>\n",
       "      <td>9</td>\n",
       "      <td>9</td>\n",
       "      <td>0</td>\n",
       "    </tr>\n",
       "    <tr>\n",
       "      <th>11</th>\n",
       "      <td>1972</td>\n",
       "      <td>15</td>\n",
       "      <td>15</td>\n",
       "      <td>0</td>\n",
       "    </tr>\n",
       "    <tr>\n",
       "      <th>12</th>\n",
       "      <td>1973</td>\n",
       "      <td>12</td>\n",
       "      <td>12</td>\n",
       "      <td>0</td>\n",
       "    </tr>\n",
       "    <tr>\n",
       "      <th>13</th>\n",
       "      <td>1974</td>\n",
       "      <td>27</td>\n",
       "      <td>26</td>\n",
       "      <td>1</td>\n",
       "    </tr>\n",
       "    <tr>\n",
       "      <th>14</th>\n",
       "      <td>1975</td>\n",
       "      <td>29</td>\n",
       "      <td>29</td>\n",
       "      <td>0</td>\n",
       "    </tr>\n",
       "    <tr>\n",
       "      <th>15</th>\n",
       "      <td>1976</td>\n",
       "      <td>23</td>\n",
       "      <td>22</td>\n",
       "      <td>1</td>\n",
       "    </tr>\n",
       "    <tr>\n",
       "      <th>16</th>\n",
       "      <td>1977</td>\n",
       "      <td>31</td>\n",
       "      <td>30</td>\n",
       "      <td>1</td>\n",
       "    </tr>\n",
       "    <tr>\n",
       "      <th>17</th>\n",
       "      <td>1978</td>\n",
       "      <td>40</td>\n",
       "      <td>40</td>\n",
       "      <td>0</td>\n",
       "    </tr>\n",
       "    <tr>\n",
       "      <th>18</th>\n",
       "      <td>1979</td>\n",
       "      <td>39</td>\n",
       "      <td>39</td>\n",
       "      <td>0</td>\n",
       "    </tr>\n",
       "    <tr>\n",
       "      <th>19</th>\n",
       "      <td>1980</td>\n",
       "      <td>123</td>\n",
       "      <td>119</td>\n",
       "      <td>4</td>\n",
       "    </tr>\n",
       "    <tr>\n",
       "      <th>20</th>\n",
       "      <td>1981</td>\n",
       "      <td>41</td>\n",
       "      <td>40</td>\n",
       "      <td>1</td>\n",
       "    </tr>\n",
       "    <tr>\n",
       "      <th>21</th>\n",
       "      <td>1982</td>\n",
       "      <td>79</td>\n",
       "      <td>79</td>\n",
       "      <td>0</td>\n",
       "    </tr>\n",
       "    <tr>\n",
       "      <th>22</th>\n",
       "      <td>1983</td>\n",
       "      <td>79</td>\n",
       "      <td>75</td>\n",
       "      <td>4</td>\n",
       "    </tr>\n",
       "    <tr>\n",
       "      <th>23</th>\n",
       "      <td>1984</td>\n",
       "      <td>89</td>\n",
       "      <td>84</td>\n",
       "      <td>5</td>\n",
       "    </tr>\n",
       "    <tr>\n",
       "      <th>24</th>\n",
       "      <td>1985</td>\n",
       "      <td>133</td>\n",
       "      <td>129</td>\n",
       "      <td>4</td>\n",
       "    </tr>\n",
       "    <tr>\n",
       "      <th>25</th>\n",
       "      <td>1986</td>\n",
       "      <td>104</td>\n",
       "      <td>99</td>\n",
       "      <td>5</td>\n",
       "    </tr>\n",
       "    <tr>\n",
       "      <th>26</th>\n",
       "      <td>1987</td>\n",
       "      <td>131</td>\n",
       "      <td>125</td>\n",
       "      <td>6</td>\n",
       "    </tr>\n",
       "    <tr>\n",
       "      <th>27</th>\n",
       "      <td>1988</td>\n",
       "      <td>172</td>\n",
       "      <td>171</td>\n",
       "      <td>1</td>\n",
       "    </tr>\n",
       "    <tr>\n",
       "      <th>28</th>\n",
       "      <td>1989</td>\n",
       "      <td>190</td>\n",
       "      <td>178</td>\n",
       "      <td>12</td>\n",
       "    </tr>\n",
       "    <tr>\n",
       "      <th>29</th>\n",
       "      <td>1990</td>\n",
       "      <td>325</td>\n",
       "      <td>307</td>\n",
       "      <td>18</td>\n",
       "    </tr>\n",
       "    <tr>\n",
       "      <th>30</th>\n",
       "      <td>1991</td>\n",
       "      <td>223</td>\n",
       "      <td>211</td>\n",
       "      <td>12</td>\n",
       "    </tr>\n",
       "    <tr>\n",
       "      <th>31</th>\n",
       "      <td>1992</td>\n",
       "      <td>377</td>\n",
       "      <td>360</td>\n",
       "      <td>17</td>\n",
       "    </tr>\n",
       "    <tr>\n",
       "      <th>32</th>\n",
       "      <td>1993</td>\n",
       "      <td>371</td>\n",
       "      <td>348</td>\n",
       "      <td>23</td>\n",
       "    </tr>\n",
       "    <tr>\n",
       "      <th>33</th>\n",
       "      <td>1994</td>\n",
       "      <td>450</td>\n",
       "      <td>403</td>\n",
       "      <td>47</td>\n",
       "    </tr>\n",
       "    <tr>\n",
       "      <th>34</th>\n",
       "      <td>1995</td>\n",
       "      <td>567</td>\n",
       "      <td>511</td>\n",
       "      <td>56</td>\n",
       "    </tr>\n",
       "    <tr>\n",
       "      <th>35</th>\n",
       "      <td>1996</td>\n",
       "      <td>574</td>\n",
       "      <td>514</td>\n",
       "      <td>60</td>\n",
       "    </tr>\n",
       "    <tr>\n",
       "      <th>36</th>\n",
       "      <td>1997</td>\n",
       "      <td>548</td>\n",
       "      <td>473</td>\n",
       "      <td>75</td>\n",
       "    </tr>\n",
       "    <tr>\n",
       "      <th>37</th>\n",
       "      <td>1998</td>\n",
       "      <td>747</td>\n",
       "      <td>645</td>\n",
       "      <td>102</td>\n",
       "    </tr>\n",
       "    <tr>\n",
       "      <th>38</th>\n",
       "      <td>1999</td>\n",
       "      <td>807</td>\n",
       "      <td>691</td>\n",
       "      <td>116</td>\n",
       "    </tr>\n",
       "    <tr>\n",
       "      <th>39</th>\n",
       "      <td>2000</td>\n",
       "      <td>3621</td>\n",
       "      <td>3176</td>\n",
       "      <td>441</td>\n",
       "    </tr>\n",
       "    <tr>\n",
       "      <th>40</th>\n",
       "      <td>2001</td>\n",
       "      <td>1127</td>\n",
       "      <td>977</td>\n",
       "      <td>150</td>\n",
       "    </tr>\n",
       "    <tr>\n",
       "      <th>41</th>\n",
       "      <td>2002</td>\n",
       "      <td>1198</td>\n",
       "      <td>1009</td>\n",
       "      <td>189</td>\n",
       "    </tr>\n",
       "    <tr>\n",
       "      <th>42</th>\n",
       "      <td>2003</td>\n",
       "      <td>1350</td>\n",
       "      <td>1147</td>\n",
       "      <td>203</td>\n",
       "    </tr>\n",
       "    <tr>\n",
       "      <th>43</th>\n",
       "      <td>2004</td>\n",
       "      <td>1580</td>\n",
       "      <td>1352</td>\n",
       "      <td>228</td>\n",
       "    </tr>\n",
       "    <tr>\n",
       "      <th>44</th>\n",
       "      <td>2005</td>\n",
       "      <td>1772</td>\n",
       "      <td>1497</td>\n",
       "      <td>275</td>\n",
       "    </tr>\n",
       "    <tr>\n",
       "      <th>45</th>\n",
       "      <td>2006</td>\n",
       "      <td>1918</td>\n",
       "      <td>1643</td>\n",
       "      <td>275</td>\n",
       "    </tr>\n",
       "    <tr>\n",
       "      <th>46</th>\n",
       "      <td>2007</td>\n",
       "      <td>2163</td>\n",
       "      <td>1854</td>\n",
       "      <td>309</td>\n",
       "    </tr>\n",
       "    <tr>\n",
       "      <th>47</th>\n",
       "      <td>2008</td>\n",
       "      <td>2319</td>\n",
       "      <td>1969</td>\n",
       "      <td>350</td>\n",
       "    </tr>\n",
       "    <tr>\n",
       "      <th>48</th>\n",
       "      <td>2009</td>\n",
       "      <td>2138</td>\n",
       "      <td>1807</td>\n",
       "      <td>331</td>\n",
       "    </tr>\n",
       "    <tr>\n",
       "      <th>49</th>\n",
       "      <td>2010</td>\n",
       "      <td>1970</td>\n",
       "      <td>1723</td>\n",
       "      <td>247</td>\n",
       "    </tr>\n",
       "    <tr>\n",
       "      <th>50</th>\n",
       "      <td>2011</td>\n",
       "      <td>1683</td>\n",
       "      <td>1412</td>\n",
       "      <td>271</td>\n",
       "    </tr>\n",
       "    <tr>\n",
       "      <th>51</th>\n",
       "      <td>2012</td>\n",
       "      <td>1505</td>\n",
       "      <td>1239</td>\n",
       "      <td>266</td>\n",
       "    </tr>\n",
       "    <tr>\n",
       "      <th>52</th>\n",
       "      <td>2013</td>\n",
       "      <td>1034</td>\n",
       "      <td>829</td>\n",
       "      <td>205</td>\n",
       "    </tr>\n",
       "    <tr>\n",
       "      <th>53</th>\n",
       "      <td>2014</td>\n",
       "      <td>747</td>\n",
       "      <td>600</td>\n",
       "      <td>147</td>\n",
       "    </tr>\n",
       "    <tr>\n",
       "      <th>54</th>\n",
       "      <td>2015</td>\n",
       "      <td>538</td>\n",
       "      <td>417</td>\n",
       "      <td>121</td>\n",
       "    </tr>\n",
       "    <tr>\n",
       "      <th>55</th>\n",
       "      <td>2016</td>\n",
       "      <td>285</td>\n",
       "      <td>228</td>\n",
       "      <td>57</td>\n",
       "    </tr>\n",
       "    <tr>\n",
       "      <th>56</th>\n",
       "      <td>2017</td>\n",
       "      <td>58</td>\n",
       "      <td>42</td>\n",
       "      <td>16</td>\n",
       "    </tr>\n",
       "  </tbody>\n",
       "</table>\n",
       "</div>"
      ],
      "text/plain": [
       "    year  total  male  female\n",
       "0   1960      5     5       0\n",
       "1   1962      2     2       0\n",
       "2   1963      3     3       0\n",
       "3   1964      3     3       0\n",
       "4   1965      4     4       0\n",
       "5   1966      4     3       1\n",
       "6   1967      5     5       0\n",
       "7   1968     11    10       1\n",
       "8   1969      6     6       0\n",
       "9   1970     19    19       0\n",
       "10  1971      9     9       0\n",
       "11  1972     15    15       0\n",
       "12  1973     12    12       0\n",
       "13  1974     27    26       1\n",
       "14  1975     29    29       0\n",
       "15  1976     23    22       1\n",
       "16  1977     31    30       1\n",
       "17  1978     40    40       0\n",
       "18  1979     39    39       0\n",
       "19  1980    123   119       4\n",
       "20  1981     41    40       1\n",
       "21  1982     79    79       0\n",
       "22  1983     79    75       4\n",
       "23  1984     89    84       5\n",
       "24  1985    133   129       4\n",
       "25  1986    104    99       5\n",
       "26  1987    131   125       6\n",
       "27  1988    172   171       1\n",
       "28  1989    190   178      12\n",
       "29  1990    325   307      18\n",
       "30  1991    223   211      12\n",
       "31  1992    377   360      17\n",
       "32  1993    371   348      23\n",
       "33  1994    450   403      47\n",
       "34  1995    567   511      56\n",
       "35  1996    574   514      60\n",
       "36  1997    548   473      75\n",
       "37  1998    747   645     102\n",
       "38  1999    807   691     116\n",
       "39  2000   3621  3176     441\n",
       "40  2001   1127   977     150\n",
       "41  2002   1198  1009     189\n",
       "42  2003   1350  1147     203\n",
       "43  2004   1580  1352     228\n",
       "44  2005   1772  1497     275\n",
       "45  2006   1918  1643     275\n",
       "46  2007   2163  1854     309\n",
       "47  2008   2319  1969     350\n",
       "48  2009   2138  1807     331\n",
       "49  2010   1970  1723     247\n",
       "50  2011   1683  1412     271\n",
       "51  2012   1505  1239     266\n",
       "52  2013   1034   829     205\n",
       "53  2014    747   600     147\n",
       "54  2015    538   417     121\n",
       "55  2016    285   228      57\n",
       "56  2017     58    42      16"
      ]
     },
     "execution_count": 25,
     "metadata": {},
     "output_type": "execute_result"
    }
   ],
   "source": [
    "year_count_segmented"
   ]
  },
  {
   "cell_type": "code",
   "execution_count": 29,
   "metadata": {},
   "outputs": [],
   "source": [
    "def write_csv(df, path, filename):\n",
    "    \"\"\"\n",
    "    Takes a dataframe, path, and filename.\n",
    "    Returns a written csv.\n",
    "    Checks if the csv is already written, and if the path is correct.\n",
    "    \"\"\"\n",
    "    file = os.path.join(path, filename)\n",
    "\n",
    "    if os.path.exists(path):\n",
    "        if os.path.exists(file):\n",
    "            print(f\"The csv {filename} already exists.\")\n",
    "        else:\n",
    "            pd.DataFrame.to_csv(df, file)\n",
    "    else:\n",
    "        print(f\"The path {path} does not exist.\")"
   ]
  },
  {
   "cell_type": "code",
   "execution_count": 30,
   "metadata": {},
   "outputs": [],
   "source": [
    "write_csv(year_count_segmented, \"clean_data\", \"popularity_growth.csv\")"
   ]
  },
  {
   "cell_type": "code",
   "execution_count": 127,
   "metadata": {},
   "outputs": [
    {
     "data": {
      "text/plain": [
       "0     1966\n",
       "1     1968\n",
       "2     1974\n",
       "3     1976\n",
       "4     1977\n",
       "5     1980\n",
       "6     1981\n",
       "7     1983\n",
       "8     1984\n",
       "9     1985\n",
       "10    1986\n",
       "11    1987\n",
       "12    1988\n",
       "13    1989\n",
       "14    1990\n",
       "15    1991\n",
       "16    1992\n",
       "17    1993\n",
       "18    1994\n",
       "19    1995\n",
       "20    1996\n",
       "21    1997\n",
       "22    1998\n",
       "23    1999\n",
       "24    2000\n",
       "25    2001\n",
       "26    2002\n",
       "27    2003\n",
       "28    2004\n",
       "29    2005\n",
       "30    2006\n",
       "31    2007\n",
       "32    2008\n",
       "33    2009\n",
       "34    2010\n",
       "35    2011\n",
       "36    2012\n",
       "37    2013\n",
       "38    2014\n",
       "39    2015\n",
       "40    2016\n",
       "41    2017\n",
       "Name: year, dtype: int64"
      ]
     },
     "execution_count": 127,
     "metadata": {},
     "output_type": "execute_result"
    }
   ],
   "source": [
    "pd.to_datetime(year_count_segmented[\"year\"], format = '%Y').dt.year"
   ]
  },
  {
   "cell_type": "code",
   "execution_count": 128,
   "metadata": {},
   "outputs": [],
   "source": [
    "def multiLinePlot(df, x, time = False, title = \"\", ylab = \"\", xlab = \"\"):\n",
    "    if time:\n",
    "        xvar = pd.to_datetime(df[x], format = '%Y').dt.year\n",
    "        xvar = df[x]\n",
    "        \n",
    "    yvars = df.drop(columns = x)\n",
    "    ycols = yvars.columns.values\n",
    "    \n",
    "    for col in ycols:\n",
    "        plt.plot(xvar, df[col], label = col)\n",
    "    \n",
    "    plt.legend()\n",
    "    \n",
    "    plt.title(title)\n",
    "    plt.xlabel(xlab)\n",
    "    plt.ylabel(ylab)"
   ]
  },
  {
   "cell_type": "code",
   "execution_count": 130,
   "metadata": {},
   "outputs": [
    {
     "data": {
      "image/png": "[encoded data removed]",
      "text/plain": [
       "<Figure size 432x288 with 1 Axes>"
      ]
     },
     "metadata": {
      "needs_background": "light"
     },
     "output_type": "display_data"
    }
   ],
   "source": [
    "multiLinePlot(df = year_count_segmented, \n",
    "              x = \"year\", \n",
    "              time = True, \n",
    "              title = \"Popularity of Climbing Over Time (Starting Date)\",\n",
    "              ylab = \"Total Climbers\",\n",
    "              xlab = \"Year\")"
   ]
  },
  {
   "cell_type": "markdown",
   "metadata": {},
   "source": [
    "How many climbers are male vs female?"
   ]
  },
  {
   "cell_type": "code",
   "execution_count": 96,
   "metadata": {},
   "outputs": [],
   "source": [
    "sex_ratio = queryToDataframe(\"\"\"\n",
    "SELECT COUNT(*) AS count, \n",
    "    CASE WHEN sex = 0 THEN 'male'\n",
    "         WHEN sex = 1 THEN 'female'\n",
    "         ELSE 'NA'\n",
    "    END AS sex\n",
    "FROM user\n",
    "GROUP BY sex\n",
    "ORDER BY count DESC\n",
    "\"\"\")"
   ]
  },
  {
   "cell_type": "code",
   "execution_count": 97,
   "metadata": {},
   "outputs": [
    {
     "data": {
      "text/html": [
       "<div>\n",
       "<style scoped>\n",
       "    .dataframe tbody tr th:only-of-type {\n",
       "        vertical-align: middle;\n",
       "    }\n",
       "\n",
       "    .dataframe tbody tr th {\n",
       "        vertical-align: top;\n",
       "    }\n",
       "\n",
       "    .dataframe thead th {\n",
       "        text-align: right;\n",
       "    }\n",
       "</style>\n",
       "<table border=\"1\" class=\"dataframe\">\n",
       "  <thead>\n",
       "    <tr style=\"text-align: right;\">\n",
       "      <th></th>\n",
       "      <th>count</th>\n",
       "      <th>sex</th>\n",
       "    </tr>\n",
       "  </thead>\n",
       "  <tbody>\n",
       "    <tr>\n",
       "      <th>0</th>\n",
       "      <td>53898</td>\n",
       "      <td>male</td>\n",
       "    </tr>\n",
       "    <tr>\n",
       "      <th>1</th>\n",
       "      <td>8691</td>\n",
       "      <td>female</td>\n",
       "    </tr>\n",
       "    <tr>\n",
       "      <th>2</th>\n",
       "      <td>4</td>\n",
       "      <td>NA</td>\n",
       "    </tr>\n",
       "  </tbody>\n",
       "</table>\n",
       "</div>"
      ],
      "text/plain": [
       "   count     sex\n",
       "0  53898    male\n",
       "1   8691  female\n",
       "2      4      NA"
      ]
     },
     "execution_count": 97,
     "metadata": {},
     "output_type": "execute_result"
    }
   ],
   "source": [
    "sex_ratio"
   ]
  },
  {
   "cell_type": "code",
   "execution_count": 131,
   "metadata": {},
   "outputs": [],
   "source": [
    "countryTop10 = queryToDataframe(\"\"\"\n",
    "SELECT COUNT(*) AS count, country\n",
    "FROM user\n",
    "GROUP BY country\n",
    "ORDER BY count DESC\n",
    "LIMIT 10\n",
    "\"\"\")"
   ]
  },
  {
   "cell_type": "code",
   "execution_count": 132,
   "metadata": {},
   "outputs": [
    {
     "data": {
      "text/html": [
       "<div>\n",
       "<style scoped>\n",
       "    .dataframe tbody tr th:only-of-type {\n",
       "        vertical-align: middle;\n",
       "    }\n",
       "\n",
       "    .dataframe tbody tr th {\n",
       "        vertical-align: top;\n",
       "    }\n",
       "\n",
       "    .dataframe thead th {\n",
       "        text-align: right;\n",
       "    }\n",
       "</style>\n",
       "<table border=\"1\" class=\"dataframe\">\n",
       "  <thead>\n",
       "    <tr style=\"text-align: right;\">\n",
       "      <th></th>\n",
       "      <th>count</th>\n",
       "      <th>country</th>\n",
       "    </tr>\n",
       "  </thead>\n",
       "  <tbody>\n",
       "    <tr>\n",
       "      <th>0</th>\n",
       "      <td>11861</td>\n",
       "      <td>USA</td>\n",
       "    </tr>\n",
       "    <tr>\n",
       "      <th>1</th>\n",
       "      <td>6905</td>\n",
       "      <td>ESP</td>\n",
       "    </tr>\n",
       "    <tr>\n",
       "      <th>2</th>\n",
       "      <td>3712</td>\n",
       "      <td>DEU</td>\n",
       "    </tr>\n",
       "    <tr>\n",
       "      <th>3</th>\n",
       "      <td>3629</td>\n",
       "      <td>SWE</td>\n",
       "    </tr>\n",
       "    <tr>\n",
       "      <th>4</th>\n",
       "      <td>3590</td>\n",
       "      <td>ITA</td>\n",
       "    </tr>\n",
       "    <tr>\n",
       "      <th>5</th>\n",
       "      <td>3326</td>\n",
       "      <td>FRA</td>\n",
       "    </tr>\n",
       "    <tr>\n",
       "      <th>6</th>\n",
       "      <td>3303</td>\n",
       "      <td>POL</td>\n",
       "    </tr>\n",
       "    <tr>\n",
       "      <th>7</th>\n",
       "      <td>2660</td>\n",
       "      <td>GBR</td>\n",
       "    </tr>\n",
       "    <tr>\n",
       "      <th>8</th>\n",
       "      <td>2062</td>\n",
       "      <td>BRA</td>\n",
       "    </tr>\n",
       "    <tr>\n",
       "      <th>9</th>\n",
       "      <td>1928</td>\n",
       "      <td>AUT</td>\n",
       "    </tr>\n",
       "  </tbody>\n",
       "</table>\n",
       "</div>"
      ],
      "text/plain": [
       "   count country\n",
       "0  11861     USA\n",
       "1   6905     ESP\n",
       "2   3712     DEU\n",
       "3   3629     SWE\n",
       "4   3590     ITA\n",
       "5   3326     FRA\n",
       "6   3303     POL\n",
       "7   2660     GBR\n",
       "8   2062     BRA\n",
       "9   1928     AUT"
      ]
     },
     "execution_count": 132,
     "metadata": {},
     "output_type": "execute_result"
    }
   ],
   "source": [
    "countryTop10"
   ]
  },
  {
   "cell_type": "code",
   "execution_count": 148,
   "metadata": {},
   "outputs": [],
   "source": [
    "weight_average = queryToDataframe(\"\"\"\n",
    "SELECT AVG(weight) AS avg_weight, \n",
    "       AVG(height) AS avg_height,\n",
    "       CASE WHEN sex = 0 THEN 'male'\n",
    "            WHEN sex = 1 THEN 'female'\n",
    "            ELSE 'NA'\n",
    "    END AS sex\n",
    "FROM user\n",
    "GROUP BY sex\n",
    "\"\"\")"
   ]
  },
  {
   "cell_type": "code",
   "execution_count": 149,
   "metadata": {},
   "outputs": [
    {
     "data": {
      "text/html": [
       "<div>\n",
       "<style scoped>\n",
       "    .dataframe tbody tr th:only-of-type {\n",
       "        vertical-align: middle;\n",
       "    }\n",
       "\n",
       "    .dataframe tbody tr th {\n",
       "        vertical-align: top;\n",
       "    }\n",
       "\n",
       "    .dataframe thead th {\n",
       "        text-align: right;\n",
       "    }\n",
       "</style>\n",
       "<table border=\"1\" class=\"dataframe\">\n",
       "  <thead>\n",
       "    <tr style=\"text-align: right;\">\n",
       "      <th></th>\n",
       "      <th>avg_weight</th>\n",
       "      <th>avg_height</th>\n",
       "      <th>sex</th>\n",
       "    </tr>\n",
       "  </thead>\n",
       "  <tbody>\n",
       "    <tr>\n",
       "      <th>0</th>\n",
       "      <td>34.961297</td>\n",
       "      <td>85.152065</td>\n",
       "      <td>male</td>\n",
       "    </tr>\n",
       "    <tr>\n",
       "      <th>1</th>\n",
       "      <td>21.729951</td>\n",
       "      <td>76.043263</td>\n",
       "      <td>female</td>\n",
       "    </tr>\n",
       "    <tr>\n",
       "      <th>2</th>\n",
       "      <td>0.000000</td>\n",
       "      <td>36.500000</td>\n",
       "      <td>NA</td>\n",
       "    </tr>\n",
       "  </tbody>\n",
       "</table>\n",
       "</div>"
      ],
      "text/plain": [
       "   avg_weight  avg_height     sex\n",
       "0   34.961297   85.152065    male\n",
       "1   21.729951   76.043263  female\n",
       "2    0.000000   36.500000      NA"
      ]
     },
     "execution_count": 149,
     "metadata": {},
     "output_type": "execute_result"
    }
   ],
   "source": [
    "weight_average"
   ]
  },
  {
   "cell_type": "code",
   "execution_count": 150,
   "metadata": {},
   "outputs": [
    {
     "data": {
      "text/html": [
       "<div>\n",
       "<style scoped>\n",
       "    .dataframe tbody tr th:only-of-type {\n",
       "        vertical-align: middle;\n",
       "    }\n",
       "\n",
       "    .dataframe tbody tr th {\n",
       "        vertical-align: top;\n",
       "    }\n",
       "\n",
       "    .dataframe thead th {\n",
       "        text-align: right;\n",
       "    }\n",
       "</style>\n",
       "<table border=\"1\" class=\"dataframe\">\n",
       "  <thead>\n",
       "    <tr style=\"text-align: right;\">\n",
       "      <th></th>\n",
       "      <th>count</th>\n",
       "      <th>avg_weight</th>\n",
       "      <th>avg_height</th>\n",
       "      <th>sex</th>\n",
       "    </tr>\n",
       "  </thead>\n",
       "  <tbody>\n",
       "    <tr>\n",
       "      <th>0</th>\n",
       "      <td>53898</td>\n",
       "      <td>34.961297</td>\n",
       "      <td>85.152065</td>\n",
       "      <td>male</td>\n",
       "    </tr>\n",
       "    <tr>\n",
       "      <th>1</th>\n",
       "      <td>8691</td>\n",
       "      <td>21.729951</td>\n",
       "      <td>76.043263</td>\n",
       "      <td>female</td>\n",
       "    </tr>\n",
       "    <tr>\n",
       "      <th>2</th>\n",
       "      <td>4</td>\n",
       "      <td>0.000000</td>\n",
       "      <td>36.500000</td>\n",
       "      <td>NA</td>\n",
       "    </tr>\n",
       "  </tbody>\n",
       "</table>\n",
       "</div>"
      ],
      "text/plain": [
       "   count  avg_weight  avg_height     sex\n",
       "0  53898   34.961297   85.152065    male\n",
       "1   8691   21.729951   76.043263  female\n",
       "2      4    0.000000   36.500000      NA"
      ]
     },
     "execution_count": 150,
     "metadata": {},
     "output_type": "execute_result"
    }
   ],
   "source": [
    "queryToDataframe(\"\"\"\n",
    "SELECT COUNT(*) AS count,\n",
    "       AVG(weight) AS avg_weight, \n",
    "       AVG(height) AS avg_height,\n",
    "       CASE WHEN sex = 0 THEN 'male'\n",
    "            WHEN sex = 1 THEN 'female'\n",
    "            ELSE 'NA'\n",
    "    END AS sex\n",
    "FROM user\n",
    "GROUP BY sex\n",
    "\"\"\")"
   ]
  },
  {
   "cell_type": "code",
   "execution_count": null,
   "metadata": {},
   "outputs": [],
   "source": []
  },
  {
   "cell_type": "code",
   "execution_count": null,
   "metadata": {},
   "outputs": [],
   "source": []
  },
  {
   "cell_type": "code",
   "execution_count": null,
   "metadata": {},
   "outputs": [],
   "source": []
  },
  {
   "cell_type": "code",
   "execution_count": null,
   "metadata": {},
   "outputs": [],
   "source": []
  },
  {
   "cell_type": "code",
   "execution_count": null,
   "metadata": {},
   "outputs": [],
   "source": []
  },
  {
   "cell_type": "code",
   "execution_count": null,
   "metadata": {},
   "outputs": [],
   "source": []
  },
  {
   "cell_type": "code",
   "execution_count": null,
   "metadata": {},
   "outputs": [],
   "source": []
  },
  {
   "cell_type": "code",
   "execution_count": null,
   "metadata": {},
   "outputs": [],
   "source": []
  },
  {
   "cell_type": "code",
   "execution_count": null,
   "metadata": {},
   "outputs": [],
   "source": []
  },
  {
   "cell_type": "markdown",
   "metadata": {},
   "source": [
    "In order to look at the routes people are climbing, we first need to segment the types of climbs people are doing including:\n",
    "\n",
    "1. Bouldering\n",
    "2. Routes"
   ]
  },
  {
   "cell_type": "code",
   "execution_count": null,
   "metadata": {},
   "outputs": [],
   "source": [
    "queryToDataframe(\"\"\"\n",
    "SELECT \n",
    "    MAX(a.grade_id), a.climb_type AS bouldering, a.year, \n",
    "    g.fra_routes AS grade \n",
    "FROM ascent a, grade g\n",
    "WHERE a.grade_id = g.id\n",
    "GROUP BY user_id, bouldering, year\n",
    "LIMIT 100\n",
    "\"\"\")"
   ]
  },
  {
   "cell_type": "code",
   "execution_count": 158,
   "metadata": {},
   "outputs": [
    {
     "data": {
      "text/plain": [
       "0                        id\n",
       "1                     score\n",
       "2                fra_routes\n",
       "3          fra_routes_input\n",
       "4       fra_routes_selector\n",
       "5              fra_boulders\n",
       "6        fra_boulders_input\n",
       "7     fra_boulders_selector\n",
       "8                usa_routes\n",
       "9          usa_routes_input\n",
       "10      usa_routes_selector\n",
       "11             usa_boulders\n",
       "12       usa_boulders_input\n",
       "13    usa_boulders_selector\n",
       "Name: Column, dtype: object"
      ]
     },
     "execution_count": 158,
     "metadata": {},
     "output_type": "execute_result"
    }
   ],
   "source": [
    "column_info_dfs[\"grade\"][\"Column\"]"
   ]
  },
  {
   "cell_type": "code",
   "execution_count": 43,
   "metadata": {},
   "outputs": [
    {
     "data": {
      "text/html": [
       "<div>\n",
       "<style scoped>\n",
       "    .dataframe tbody tr th:only-of-type {\n",
       "        vertical-align: middle;\n",
       "    }\n",
       "\n",
       "    .dataframe tbody tr th {\n",
       "        vertical-align: top;\n",
       "    }\n",
       "\n",
       "    .dataframe thead th {\n",
       "        text-align: right;\n",
       "    }\n",
       "</style>\n",
       "<table border=\"1\" class=\"dataframe\">\n",
       "  <thead>\n",
       "    <tr style=\"text-align: right;\">\n",
       "      <th></th>\n",
       "      <th>first_name</th>\n",
       "      <th>sex</th>\n",
       "    </tr>\n",
       "  </thead>\n",
       "  <tbody>\n",
       "    <tr>\n",
       "      <th>0</th>\n",
       "      <td>Simeon</td>\n",
       "      <td>0</td>\n",
       "    </tr>\n",
       "    <tr>\n",
       "      <th>1</th>\n",
       "      <td>User</td>\n",
       "      <td>0</td>\n",
       "    </tr>\n",
       "    <tr>\n",
       "      <th>2</th>\n",
       "      <td>Ivan</td>\n",
       "      <td>0</td>\n",
       "    </tr>\n",
       "    <tr>\n",
       "      <th>3</th>\n",
       "      <td>Alfredo Polo</td>\n",
       "      <td>0</td>\n",
       "    </tr>\n",
       "    <tr>\n",
       "      <th>4</th>\n",
       "      <td>Mike</td>\n",
       "      <td>0</td>\n",
       "    </tr>\n",
       "    <tr>\n",
       "      <th>5</th>\n",
       "      <td>Protax</td>\n",
       "      <td>0</td>\n",
       "    </tr>\n",
       "    <tr>\n",
       "      <th>6</th>\n",
       "      <td>Leon</td>\n",
       "      <td>0</td>\n",
       "    </tr>\n",
       "    <tr>\n",
       "      <th>7</th>\n",
       "      <td>Natalia</td>\n",
       "      <td>1</td>\n",
       "    </tr>\n",
       "    <tr>\n",
       "      <th>8</th>\n",
       "      <td>Ronald</td>\n",
       "      <td>0</td>\n",
       "    </tr>\n",
       "    <tr>\n",
       "      <th>9</th>\n",
       "      <td>george</td>\n",
       "      <td>0</td>\n",
       "    </tr>\n",
       "    <tr>\n",
       "      <th>10</th>\n",
       "      <td>Teddy</td>\n",
       "      <td>0</td>\n",
       "    </tr>\n",
       "    <tr>\n",
       "      <th>11</th>\n",
       "      <td>Dusan</td>\n",
       "      <td>0</td>\n",
       "    </tr>\n",
       "    <tr>\n",
       "      <th>12</th>\n",
       "      <td>Simen</td>\n",
       "      <td>0</td>\n",
       "    </tr>\n",
       "    <tr>\n",
       "      <th>13</th>\n",
       "      <td>Taylor</td>\n",
       "      <td>0</td>\n",
       "    </tr>\n",
       "    <tr>\n",
       "      <th>14</th>\n",
       "      <td>Sergio</td>\n",
       "      <td>0</td>\n",
       "    </tr>\n",
       "    <tr>\n",
       "      <th>15</th>\n",
       "      <td>Deivid</td>\n",
       "      <td>0</td>\n",
       "    </tr>\n",
       "    <tr>\n",
       "      <th>16</th>\n",
       "      <td>?</td>\n",
       "      <td>0</td>\n",
       "    </tr>\n",
       "    <tr>\n",
       "      <th>17</th>\n",
       "      <td>Chema</td>\n",
       "      <td>0</td>\n",
       "    </tr>\n",
       "    <tr>\n",
       "      <th>18</th>\n",
       "      <td>Isaac</td>\n",
       "      <td>0</td>\n",
       "    </tr>\n",
       "    <tr>\n",
       "      <th>19</th>\n",
       "      <td>Fabrizio</td>\n",
       "      <td>0</td>\n",
       "    </tr>\n",
       "  </tbody>\n",
       "</table>\n",
       "</div>"
      ],
      "text/plain": [
       "      first_name  sex\n",
       "0         Simeon    0\n",
       "1           User    0\n",
       "2           Ivan    0\n",
       "3   Alfredo Polo    0\n",
       "4           Mike    0\n",
       "5         Protax    0\n",
       "6           Leon    0\n",
       "7        Natalia    1\n",
       "8         Ronald    0\n",
       "9         george    0\n",
       "10         Teddy    0\n",
       "11         Dusan    0\n",
       "12         Simen    0\n",
       "13        Taylor    0\n",
       "14        Sergio    0\n",
       "15        Deivid    0\n",
       "16             ?    0\n",
       "17         Chema    0\n",
       "18         Isaac    0\n",
       "19      Fabrizio    0"
      ]
     },
     "execution_count": 43,
     "metadata": {},
     "output_type": "execute_result"
    }
   ],
   "source": [
    "queryToDataframe(\"\"\"\n",
    "SELECT first_name, sex\n",
    "FROM user\n",
    "ORDER BY RANDOM()\n",
    "LIMIT 20\n",
    "\"\"\")"
   ]
  },
  {
   "cell_type": "code",
   "execution_count": null,
   "metadata": {},
   "outputs": [],
   "source": []
  },
  {
   "cell_type": "code",
   "execution_count": null,
   "metadata": {},
   "outputs": [],
   "source": []
  },
  {
   "cell_type": "code",
   "execution_count": null,
   "metadata": {},
   "outputs": [],
   "source": []
  },
  {
   "cell_type": "code",
   "execution_count": 85,
   "metadata": {},
   "outputs": [
    {
     "data": {
      "text/plain": [
       "[('Leif',),\n",
       " ('Andreas',),\n",
       " ('Magnus',),\n",
       " ('Annika',),\n",
       " ('Joe',),\n",
       " ('Tim',),\n",
       " ('Jens',),\n",
       " ('Johan',),\n",
       " ('Bosse',),\n",
       " ('jens',)]"
      ]
     },
     "execution_count": 85,
     "metadata": {},
     "output_type": "execute_result"
    }
   ],
   "source": []
  },
  {
   "cell_type": "code",
   "execution_count": 162,
   "metadata": {},
   "outputs": [
    {
     "data": {
      "text/html": [
       "<div>\n",
       "<style scoped>\n",
       "    .dataframe tbody tr th:only-of-type {\n",
       "        vertical-align: middle;\n",
       "    }\n",
       "\n",
       "    .dataframe tbody tr th {\n",
       "        vertical-align: top;\n",
       "    }\n",
       "\n",
       "    .dataframe thead th {\n",
       "        text-align: right;\n",
       "    }\n",
       "</style>\n",
       "<table border=\"1\" class=\"dataframe\">\n",
       "  <thead>\n",
       "    <tr style=\"text-align: right;\">\n",
       "      <th></th>\n",
       "      <th>id</th>\n",
       "      <th>score</th>\n",
       "      <th>shorthand</th>\n",
       "      <th>name</th>\n",
       "    </tr>\n",
       "  </thead>\n",
       "  <tbody>\n",
       "    <tr>\n",
       "      <th>0</th>\n",
       "      <td>1</td>\n",
       "      <td>0</td>\n",
       "      <td>redpoint</td>\n",
       "      <td>Redpoint</td>\n",
       "    </tr>\n",
       "    <tr>\n",
       "      <th>1</th>\n",
       "      <td>2</td>\n",
       "      <td>53</td>\n",
       "      <td>flash</td>\n",
       "      <td>Flash</td>\n",
       "    </tr>\n",
       "    <tr>\n",
       "      <th>2</th>\n",
       "      <td>3</td>\n",
       "      <td>145</td>\n",
       "      <td>onsight</td>\n",
       "      <td>Onsight</td>\n",
       "    </tr>\n",
       "    <tr>\n",
       "      <th>3</th>\n",
       "      <td>4</td>\n",
       "      <td>-52</td>\n",
       "      <td>toprope</td>\n",
       "      <td>Toprope</td>\n",
       "    </tr>\n",
       "    <tr>\n",
       "      <th>4</th>\n",
       "      <td>5</td>\n",
       "      <td>95</td>\n",
       "      <td>onsight</td>\n",
       "      <td>Onsight</td>\n",
       "    </tr>\n",
       "  </tbody>\n",
       "</table>\n",
       "</div>"
      ],
      "text/plain": [
       "   id  score shorthand      name\n",
       "0   1      0  redpoint  Redpoint\n",
       "1   2     53     flash     Flash\n",
       "2   3    145   onsight   Onsight\n",
       "3   4    -52   toprope   Toprope\n",
       "4   5     95   onsight   Onsight"
      ]
     },
     "execution_count": 162,
     "metadata": {},
     "output_type": "execute_result"
    }
   ],
   "source": []
  },
  {
   "cell_type": "code",
   "execution_count": 19,
   "metadata": {
    "scrolled": true
   },
   "outputs": [
    {
     "data": {
      "text/plain": [
       "'id'"
      ]
     },
     "execution_count": 19,
     "metadata": {},
     "output_type": "execute_result"
    }
   ],
   "source": [
    "c.execute(\"\"\"SELECT * FROM method LIMIT 5\"\"\").description[0][0]"
   ]
  },
  {
   "cell_type": "code",
   "execution_count": 22,
   "metadata": {},
   "outputs": [
    {
     "data": {
      "text/plain": [
       "['id', 'score', 'shorthand', 'name']"
      ]
     },
     "execution_count": 22,
     "metadata": {},
     "output_type": "execute_result"
    }
   ],
   "source": [
    "queryToDataframe(c.execute(\"\"\"SELECT * FROM method LIMIT 5\"\"\"))"
   ]
  },
  {
   "cell_type": "code",
   "execution_count": 5,
   "metadata": {},
   "outputs": [
    {
     "ename": "TypeError",
     "evalue": "'tuple' object is not callable",
     "output_type": "error",
     "traceback": [
      "\u001b[0;31m---------------------------------------------------------------------------\u001b[0m",
      "\u001b[0;31mTypeError\u001b[0m                                 Traceback (most recent call last)",
      "\u001b[0;32m<ipython-input-5-acc00083835a>\u001b[0m in \u001b[0;36m<module>\u001b[0;34m\u001b[0m\n\u001b[0;32m----> 1\u001b[0;31m \u001b[0mc\u001b[0m\u001b[0;34m.\u001b[0m\u001b[0mexecute\u001b[0m\u001b[0;34m(\u001b[0m\u001b[0;34m\"\"\"SELECT started FROM user LIMIT 5\"\"\"\u001b[0m\u001b[0;34m)\u001b[0m\u001b[0;34m.\u001b[0m\u001b[0mdescription\u001b[0m\u001b[0;34m(\u001b[0m\u001b[0;34m)\u001b[0m\u001b[0;34m\u001b[0m\u001b[0;34m\u001b[0m\u001b[0m\n\u001b[0m",
      "\u001b[0;31mTypeError\u001b[0m: 'tuple' object is not callable"
     ]
    }
   ],
   "source": [
    "c.execute(\"\"\"SELECT started FROM user LIMIT 5\"\"\").fetchall()"
   ]
  },
  {
   "cell_type": "code",
   "execution_count": 5,
   "metadata": {},
   "outputs": [
    {
     "name": "stdout",
     "output_type": "stream",
     "text": [
      "(1, 0, 'redpoint', 'Redpoint')\n",
      "(2, 53, 'flash', 'Flash')\n",
      "(3, 145, 'onsight', 'Onsight')\n",
      "(4, -52, 'toprope', 'Toprope')\n",
      "(5, 95, 'onsight', 'Onsight')\n"
     ]
    }
   ],
   "source": [
    "#Read all data from the small method database\n",
    "c.execute(\"\"\"SELECT * FROM method\"\"\")\n",
    "for row in c.fetchall():\n",
    "    print(row)\n",
    "    \n"
   ]
  },
  {
   "cell_type": "code",
   "execution_count": 6,
   "metadata": {
    "scrolled": true
   },
   "outputs": [],
   "source": [
    "Grade_raw_df = pd.read_sql_query(\"SELECT * FROM grade\", con)\n",
    "User_raw_df = pd.read_sql_query(\"SELECT * FROM user\", con)\n",
    "Method_raw_df = pd.read_sql_query(\"SELECT * FROM method\", con)"
   ]
  },
  {
   "cell_type": "code",
   "execution_count": 3,
   "metadata": {},
   "outputs": [],
   "source": [
    "#The ascent df crashes python\n",
    "Ascent_raw_df = pd.read_sql_query(\"SELECT id, user_id, grade_id, method_id, climb_type, year FROM ascent\", con)"
   ]
  },
  {
   "cell_type": "code",
   "execution_count": 4,
   "metadata": {},
   "outputs": [
    {
     "data": {
      "text/html": [
       "<div>\n",
       "<style scoped>\n",
       "    .dataframe tbody tr th:only-of-type {\n",
       "        vertical-align: middle;\n",
       "    }\n",
       "\n",
       "    .dataframe tbody tr th {\n",
       "        vertical-align: top;\n",
       "    }\n",
       "\n",
       "    .dataframe thead th {\n",
       "        text-align: right;\n",
       "    }\n",
       "</style>\n",
       "<table border=\"1\" class=\"dataframe\">\n",
       "  <thead>\n",
       "    <tr style=\"text-align: right;\">\n",
       "      <th></th>\n",
       "      <th>grade_id</th>\n",
       "      <th>method_id</th>\n",
       "      <th>year</th>\n",
       "    </tr>\n",
       "  </thead>\n",
       "  <tbody>\n",
       "    <tr>\n",
       "      <th>0</th>\n",
       "      <td>36</td>\n",
       "      <td>3</td>\n",
       "      <td>1999</td>\n",
       "    </tr>\n",
       "    <tr>\n",
       "      <th>1</th>\n",
       "      <td>36</td>\n",
       "      <td>3</td>\n",
       "      <td>1999</td>\n",
       "    </tr>\n",
       "    <tr>\n",
       "      <th>2</th>\n",
       "      <td>36</td>\n",
       "      <td>3</td>\n",
       "      <td>1999</td>\n",
       "    </tr>\n",
       "    <tr>\n",
       "      <th>3</th>\n",
       "      <td>36</td>\n",
       "      <td>3</td>\n",
       "      <td>1999</td>\n",
       "    </tr>\n",
       "    <tr>\n",
       "      <th>4</th>\n",
       "      <td>36</td>\n",
       "      <td>3</td>\n",
       "      <td>1999</td>\n",
       "    </tr>\n",
       "  </tbody>\n",
       "</table>\n",
       "</div>"
      ],
      "text/plain": [
       "   grade_id  method_id  year\n",
       "0        36          3  1999\n",
       "1        36          3  1999\n",
       "2        36          3  1999\n",
       "3        36          3  1999\n",
       "4        36          3  1999"
      ]
     },
     "execution_count": 4,
     "metadata": {},
     "output_type": "execute_result"
    }
   ],
   "source": [
    "Ascent_raw_df.head()"
   ]
  },
  {
   "cell_type": "code",
   "execution_count": null,
   "metadata": {},
   "outputs": [],
   "source": []
  }
 ],
 "metadata": {
  "history": [
   {
    "code": "#Look at all of the tables within the sqlite databes\ndef db_names(): \n    c.execute(\"SELECT NAME FROM SQLITE_MASTER WHERE type= 'table';\")\n    for row in c.fetchall():\n        print(row)#[0])\n    \ndb_names()\n    \n#There are 4 tables 1) User 2) Method 3) Grade 4) Ascent",
    "id": "34a76614916f4d788b73dbfc4c80a2c6",
    "idx": 4,
    "time": "2021-01-17T21:34:31.299Z",
    "type": "execution"
   },
   {
    "id": "34a76614916f4d788b73dbfc4c80a2c6",
    "time": "2021-01-17T21:34:31.443Z",
    "type": "completion"
   },
   {
    "code": "import sqlite3\nimport pandas as pd\nimport matplotlib.pyplot as plt",
    "id": "779c8404e6ce45eb82e00e9c28cc9ca0",
    "idx": 1,
    "time": "2021-01-17T21:34:39.531Z",
    "type": "execution"
   },
   {
    "code": "#Make a connection\ncon = sqlite3.connect('database.sqlite')\n\n#Make a cursor instance\nc = con.cursor()",
    "id": "24443add292d4eac8eadfb5f9299bbe8",
    "idx": 3,
    "time": "2021-01-17T21:34:40.109Z",
    "type": "execution"
   },
   {
    "code": "#Look at all of the tables within the sqlite databes\ndef db_names(): \n    c.execute(\"SELECT NAME FROM SQLITE_MASTER WHERE type= 'table';\")\n    for row in c.fetchall():\n        print(row)#[0])\n    \ndb_names()\n    \n#There are 4 tables 1) User 2) Method 3) Grade 4) Ascent",
    "id": "34a76614916f4d788b73dbfc4c80a2c6",
    "idx": 4,
    "time": "2021-01-17T21:34:40.575Z",
    "type": "execution"
   },
   {
    "id": "779c8404e6ce45eb82e00e9c28cc9ca0",
    "time": "2021-01-17T21:34:43.041Z",
    "type": "completion"
   },
   {
    "id": "24443add292d4eac8eadfb5f9299bbe8",
    "time": "2021-01-17T21:34:43.043Z",
    "type": "completion"
   },
   {
    "id": "34a76614916f4d788b73dbfc4c80a2c6",
    "time": "2021-01-17T21:34:43.045Z",
    "type": "completion"
   },
   {
    "code": "#Look at all of the tables within the sqlite databes\ndef db_names():\n    query = \"\"\"\n    SELECT NAME \n    FROM SQLITE_MASTER \n    WHERE type= 'table';\n    \"\"\"\n    c.execute(query)\n    for row in c.fetchall():\n        print(row)\n    \ndb_names()\n    \n#There are 4 tables 1) User 2) Method 3) Grade 4) Ascent",
    "id": "34a76614916f4d788b73dbfc4c80a2c6",
    "idx": 5,
    "time": "2021-01-17T21:40:04.108Z",
    "type": "execution"
   },
   {
    "id": "34a76614916f4d788b73dbfc4c80a2c6",
    "time": "2021-01-17T21:40:04.176Z",
    "type": "completion"
   },
   {
    "code": "#Look at all of the tables within the sqlite databes\ndef db_names():\n    query = \"\"\"\n    SELECT NAME \n    FROM SQLITE_MASTER \n    WHERE type= 'table';\n    \"\"\"\n    c.execute(query)\n    for row in c.fetchall():\n        print(row)\n    \ndb_names()",
    "id": "34a76614916f4d788b73dbfc4c80a2c6",
    "idx": 5,
    "time": "2021-01-17T21:40:13.096Z",
    "type": "execution"
   },
   {
    "id": "34a76614916f4d788b73dbfc4c80a2c6",
    "time": "2021-01-17T21:40:13.171Z",
    "type": "completion"
   },
   {
    "code": "def headers():\n    headers = [i[0] for i in cursor.description]\n    print(headers)",
    "id": "bcb7a92df9ac4366beb5895f3fa35840",
    "idx": 7,
    "time": "2021-01-17T21:44:36.082Z",
    "type": "execution"
   },
   {
    "id": "bcb7a92df9ac4366beb5895f3fa35840",
    "time": "2021-01-17T21:44:36.148Z",
    "type": "completion"
   },
   {
    "code": "#Look at all of the tables within the sqlite databes\ndef db_names():\n    query = \"\"\"\n    SELECT NAME \n    FROM SQLITE_MASTER \n    WHERE type= 'table';\n    \"\"\"\n    c.execute(query)\n    for row in c.fetchall():\n        print(row)\n    headers = [i[0] for i in c.description]\n    print(headers)\n    \ndb_names()",
    "id": "34a76614916f4d788b73dbfc4c80a2c6",
    "idx": 5,
    "time": "2021-01-17T21:44:59.861Z",
    "type": "execution"
   },
   {
    "id": "34a76614916f4d788b73dbfc4c80a2c6",
    "time": "2021-01-17T21:44:59.924Z",
    "type": "completion"
   },
   {
    "code": "def headers():\n    headers = [i[0] for i in c.description]\n    print(headers)",
    "id": "bcb7a92df9ac4366beb5895f3fa35840",
    "idx": 7,
    "time": "2021-01-17T21:45:40.207Z",
    "type": "execution"
   },
   {
    "id": "bcb7a92df9ac4366beb5895f3fa35840",
    "time": "2021-01-17T21:45:40.276Z",
    "type": "completion"
   },
   {
    "code": "def headers():\n    headers = [i[0] for i in c.description]\n    return print(headers)",
    "id": "bcb7a92df9ac4366beb5895f3fa35840",
    "idx": 7,
    "time": "2021-01-17T21:45:45.336Z",
    "type": "execution"
   },
   {
    "id": "bcb7a92df9ac4366beb5895f3fa35840",
    "time": "2021-01-17T21:45:45.398Z",
    "type": "completion"
   },
   {
    "code": "headers()",
    "id": "ffa00f1449d74700956c63e19c1a774c",
    "idx": 8,
    "time": "2021-01-17T21:45:48.551Z",
    "type": "execution"
   },
   {
    "id": "ffa00f1449d74700956c63e19c1a774c",
    "time": "2021-01-17T21:45:48.613Z",
    "type": "completion"
   },
   {
    "code": "#Look at all of the tables within the sqlite databes\ndef db_names():\n    query = \"\"\"\n    SELECT NAME \n    FROM SQLITE_MASTER \n    WHERE type= 'table';\n    \"\"\"\n    c.execute(query)\n    for row in c.fetchall():\n        print(row[0])\n    \ndb_names()",
    "id": "34a76614916f4d788b73dbfc4c80a2c6",
    "idx": 5,
    "time": "2021-01-17T21:47:19.186Z",
    "type": "execution"
   },
   {
    "id": "34a76614916f4d788b73dbfc4c80a2c6",
    "time": "2021-01-17T21:47:19.297Z",
    "type": "completion"
   },
   {
    "code": "#Look at all of the tables within the sqlite databes\ndef db_names():\n    query = \"\"\"\n    SELECT NAME \n    FROM SQLITE_MASTER \n    WHERE type= 'table';\n    \"\"\"\n    c.execute(query)\n    \n    tables = []\n    for row in c.fetchall():\n        tables.append(row[0])\n    \n    return tables\n    \ndb_names()",
    "id": "34a76614916f4d788b73dbfc4c80a2c6",
    "idx": 5,
    "time": "2021-01-17T21:49:27.797Z",
    "type": "execution"
   },
   {
    "id": "34a76614916f4d788b73dbfc4c80a2c6",
    "time": "2021-01-17T21:49:27.892Z",
    "type": "completion"
   },
   {
    "code": "#Look at all of the tables within the sqlite databes\ndef table_names():\n    query = \"\"\"\n    SELECT NAME \n    FROM SQLITE_MASTER \n    WHERE type= 'table';\n    \"\"\"\n    c.execute(query)\n    \n    tables = []\n    for row in c.fetchall():\n        tables.append(row[0])\n    \n    return tables\n    \ntable_names()",
    "id": "34a76614916f4d788b73dbfc4c80a2c6",
    "idx": 5,
    "time": "2021-01-17T21:50:38.174Z",
    "type": "execution"
   },
   {
    "id": "34a76614916f4d788b73dbfc4c80a2c6",
    "time": "2021-01-17T21:50:38.241Z",
    "type": "completion"
   },
   {
    "code": "c.execute(\"\"\"PRAGMA table_info(user)\"\"\")",
    "id": "ffa00f1449d74700956c63e19c1a774c",
    "idx": 8,
    "time": "2021-01-17T21:51:56.520Z",
    "type": "execution"
   },
   {
    "id": "ffa00f1449d74700956c63e19c1a774c",
    "time": "2021-01-17T21:51:56.582Z",
    "type": "completion"
   },
   {
    "code": "for i in c.execute(\"\"\"PRAGMA table_info(user)\"\"\"):\n    print i",
    "id": "ffa00f1449d74700956c63e19c1a774c",
    "idx": 8,
    "time": "2021-01-17T21:52:17.626Z",
    "type": "execution"
   },
   {
    "id": "ffa00f1449d74700956c63e19c1a774c",
    "time": "2021-01-17T21:52:17.705Z",
    "type": "completion"
   },
   {
    "code": "for i in c.execute(\"\"\"PRAGMA table_info(user)\"\"\"):\n    print(i)",
    "id": "ffa00f1449d74700956c63e19c1a774c",
    "idx": 8,
    "time": "2021-01-17T21:52:23.475Z",
    "type": "execution"
   },
   {
    "id": "ffa00f1449d74700956c63e19c1a774c",
    "time": "2021-01-17T21:52:23.540Z",
    "type": "completion"
   },
   {
    "code": "if 0:\n    print()",
    "id": "c4ad5f04b3f74bb283d40f45ff38e10f",
    "idx": 9,
    "time": "2021-01-17T22:05:52.063Z",
    "type": "execution"
   },
   {
    "id": "c4ad5f04b3f74bb283d40f45ff38e10f",
    "time": "2021-01-17T22:05:52.130Z",
    "type": "completion"
   },
   {
    "code": "if 0:\n    print(\"True\")",
    "id": "c4ad5f04b3f74bb283d40f45ff38e10f",
    "idx": 9,
    "time": "2021-01-17T22:05:56.621Z",
    "type": "execution"
   },
   {
    "id": "c4ad5f04b3f74bb283d40f45ff38e10f",
    "time": "2021-01-17T22:05:56.700Z",
    "type": "completion"
   },
   {
    "code": "if 1:\n    print(\"True\")",
    "id": "c4ad5f04b3f74bb283d40f45ff38e10f",
    "idx": 9,
    "time": "2021-01-17T22:06:00.458Z",
    "type": "execution"
   },
   {
    "id": "c4ad5f04b3f74bb283d40f45ff38e10f",
    "time": "2021-01-17T22:06:00.538Z",
    "type": "completion"
   },
   {
    "code": "a = [1,2,3]\nb = [1,3,3]\n\npd.DataFrame(a,b)",
    "id": "c4ad5f04b3f74bb283d40f45ff38e10f",
    "idx": 9,
    "time": "2021-01-17T22:09:04.128Z",
    "type": "execution"
   },
   {
    "id": "c4ad5f04b3f74bb283d40f45ff38e10f",
    "time": "2021-01-17T22:09:04.232Z",
    "type": "completion"
   },
   {
    "code": "a = [1,2,3]\nb = [1,3,3]\n\npd.DataFrame(a,b,a)",
    "id": "c4ad5f04b3f74bb283d40f45ff38e10f",
    "idx": 9,
    "time": "2021-01-17T22:09:20.360Z",
    "type": "execution"
   },
   {
    "id": "c4ad5f04b3f74bb283d40f45ff38e10f",
    "time": "2021-01-17T22:09:20.538Z",
    "type": "completion"
   },
   {
    "code": "a = [1,2,3]\nb = [1,3,3]\n\npd.DataFrame(a,b)",
    "id": "c4ad5f04b3f74bb283d40f45ff38e10f",
    "idx": 9,
    "time": "2021-01-17T22:09:24.514Z",
    "type": "execution"
   },
   {
    "id": "c4ad5f04b3f74bb283d40f45ff38e10f",
    "time": "2021-01-17T22:09:24.603Z",
    "type": "completion"
   },
   {
    "code": "a = [1,2,3]\nb = [1,3,3]\n\npd.DataFrame({{a}: a,\n              {b}: b})",
    "id": "c4ad5f04b3f74bb283d40f45ff38e10f",
    "idx": 9,
    "time": "2021-01-17T22:09:58.690Z",
    "type": "execution"
   },
   {
    "id": "c4ad5f04b3f74bb283d40f45ff38e10f",
    "time": "2021-01-17T22:09:58.754Z",
    "type": "completion"
   },
   {
    "code": "a = [1,2,3]\nb = [1,3,3]\n\npd.DataFrame({f\"{a}\": a,\n              f\"{b}\": b})",
    "id": "c4ad5f04b3f74bb283d40f45ff38e10f",
    "idx": 9,
    "time": "2021-01-17T22:10:56.135Z",
    "type": "execution"
   },
   {
    "id": "c4ad5f04b3f74bb283d40f45ff38e10f",
    "time": "2021-01-17T22:10:56.211Z",
    "type": "completion"
   },
   {
    "code": "a = [1,2,3]\nb = [1,3,3]\n\npd.DataFrame({eval(a)\": a,\n              eval(b): b})",
    "id": "c4ad5f04b3f74bb283d40f45ff38e10f",
    "idx": 9,
    "time": "2021-01-17T22:12:02.081Z",
    "type": "execution"
   },
   {
    "id": "c4ad5f04b3f74bb283d40f45ff38e10f",
    "time": "2021-01-17T22:12:02.146Z",
    "type": "completion"
   },
   {
    "code": "a = [1,2,3]\nb = [1,3,3]\n\npd.DataFrame({eval(a): a,\n              eval(b): b})",
    "id": "c4ad5f04b3f74bb283d40f45ff38e10f",
    "idx": 9,
    "time": "2021-01-17T22:12:06.289Z",
    "type": "execution"
   },
   {
    "id": "c4ad5f04b3f74bb283d40f45ff38e10f",
    "time": "2021-01-17T22:12:06.354Z",
    "type": "completion"
   },
   {
    "code": "#Look at all of the tables within the sqlite databes\ndef table_names():\n    query = \"\"\"\n    SELECT NAME \n    FROM SQLITE_MASTER \n    WHERE type= 'table';\n    \"\"\"\n    c.execute(query)\n    \n    tables = []\n    for row in c.fetchall():\n        tables.append(row[0])\n    \n    return tables\n    \ntable_names()",
    "id": "34a76614916f4d788b73dbfc4c80a2c6",
    "idx": 5,
    "time": "2021-01-17T22:14:54.929Z",
    "type": "execution"
   },
   {
    "id": "34a76614916f4d788b73dbfc4c80a2c6",
    "time": "2021-01-17T22:14:54.995Z",
    "type": "completion"
   },
   {
    "code": "def col_names():\n    tables = table_names()\n    \n    for table in tables:\n        print(f\"{table} table contains the following columns:\")\n        print(\".............\")\n        \n        query = f\"\"\"\n        PRAGMA table_info({table})\n        \"\"\"\n        c.execute(query)\n        \n        Column = []\n        Type = []\n        Not_Null = []\n        Primary_Key = []\n        \n        for row in c:\n            Column.append(row[1])\n            Type.append(row[2])\n            Not_Null.append(row[3])\n            if row[0]:\n                Primary_Key.append(\"YES\")\n            else:\n                Primary_Key.append(\"NO\")\n            \n            df = pd.DataFrame({\"Column\" = Column,\n                              \"Type\" = Type,\n                              \"Not_Null\" = Not_Null,\n                              \"Primary_Key\" = Primary_Key})\n            return df",
    "id": "bcb7a92df9ac4366beb5895f3fa35840",
    "idx": 7,
    "time": "2021-01-17T22:15:28.610Z",
    "type": "execution"
   },
   {
    "id": "bcb7a92df9ac4366beb5895f3fa35840",
    "time": "2021-01-17T22:15:28.671Z",
    "type": "completion"
   },
   {
    "code": "def col_names():\n    tables = table_names()\n    \n    for table in tables:\n        print(f\"{table} table contains the following columns:\")\n        print(\".............\")\n        \n        query = f\"\"\"\n        PRAGMA table_info({table})\n        \"\"\"\n        c.execute(query)\n        \n        Column = []\n        Type = []\n        Not_Null = []\n        Primary_Key = []\n        \n        for row in c:\n            Column.append(row[1])\n            Type.append(row[2])\n            Not_Null.append(row[3])\n            if row[0]:\n                Primary_Key.append(\"YES\")\n            else:\n                Primary_Key.append(\"NO\")\n            \n            df = pd.DataFrame({\"Column\" : Column,\n                              \"Type\" : Type,\n                              \"Not_Null\" :\" Not_Null,\n                              \"Primary_Key\" : Primary_Key})\n            return df",
    "id": "bcb7a92df9ac4366beb5895f3fa35840",
    "idx": 7,
    "time": "2021-01-17T22:15:51.786Z",
    "type": "execution"
   },
   {
    "id": "bcb7a92df9ac4366beb5895f3fa35840",
    "time": "2021-01-17T22:15:51.852Z",
    "type": "completion"
   },
   {
    "code": "def col_names():\n    tables = table_names()\n    \n    for table in tables:\n        print(f\"{table} table contains the following columns:\")\n        print(\".............\")\n        \n        query = f\"\"\"\n        PRAGMA table_info({table})\n        \"\"\"\n        c.execute(query)\n        \n        Column = []\n        Type = []\n        Not_Null = []\n        Primary_Key = []\n        \n        for row in c:\n            Column.append(row[1])\n            Type.append(row[2])\n            Not_Null.append(row[3])\n            if row[0]:\n                Primary_Key.append(\"YES\")\n            else:\n                Primary_Key.append(\"NO\")\n            \n            df = pd.DataFrame({\"Column\" : Column,\n                              \"Type\" : Type,\n                              \"Not_Null\" : Not_Null,\n                              \"Primary_Key\" : Primary_Key})\n            return df",
    "id": "bcb7a92df9ac4366beb5895f3fa35840",
    "idx": 7,
    "time": "2021-01-17T22:16:00.090Z",
    "type": "execution"
   },
   {
    "id": "bcb7a92df9ac4366beb5895f3fa35840",
    "time": "2021-01-17T22:16:00.156Z",
    "type": "completion"
   },
   {
    "code": "col_names()",
    "id": "ffa00f1449d74700956c63e19c1a774c",
    "idx": 8,
    "time": "2021-01-17T22:16:05.330Z",
    "type": "execution"
   },
   {
    "id": "ffa00f1449d74700956c63e19c1a774c",
    "time": "2021-01-17T22:16:05.424Z",
    "type": "completion"
   },
   {
    "code": "def col_names():\n    tables = table_names()\n    \n    for table in tables:\n        print(f\"{table} table contains the following columns:\")\n        print(\".............\")\n        \n        query = f\"\"\"\n        PRAGMA table_info({table})\n        \"\"\"\n        c.execute(query)\n        \n        Column = []\n        Type = []\n        Not_Null = []\n        Primary_Key = []\n        \n        for row in c:\n            Column.append(row[1])\n            Type.append(row[2])\n            Not_Null.append(row[3])\n            if row[0]:\n                Primary_Key.append(\"YES\")\n            else:\n                Primary_Key.append(\"NO\")\n            \n        df = pd.DataFrame({\"Column\" : Column,\n                          \"Type\" : Type,\n                          \"Not_Null\" : Not_Null,\n                          \"Primary_Key\" : Primary_Key})\n        return df",
    "id": "bcb7a92df9ac4366beb5895f3fa35840",
    "idx": 7,
    "time": "2021-01-17T22:16:51.100Z",
    "type": "execution"
   },
   {
    "id": "bcb7a92df9ac4366beb5895f3fa35840",
    "time": "2021-01-17T22:16:51.163Z",
    "type": "completion"
   },
   {
    "code": "col_names()",
    "id": "ffa00f1449d74700956c63e19c1a774c",
    "idx": 8,
    "time": "2021-01-17T22:16:51.534Z",
    "type": "execution"
   },
   {
    "id": "ffa00f1449d74700956c63e19c1a774c",
    "time": "2021-01-17T22:16:51.649Z",
    "type": "completion"
   },
   {
    "code": "def col_names():\n    tables = table_names()\n    \n    for table in tables:\n        #print(f\"{table} table contains the following columns:\")\n        #print(\".............\")\n        \n        query = f\"\"\"\n        PRAGMA table_info({table})\n        \"\"\"\n        c.execute(query)\n        \n        Column = []\n        Type = []\n        Not_Null = []\n        Primary_Key = []\n        \n        for row in c:\n            Column.append(row[1])\n            Type.append(row[2])\n            Not_Null.append(row[3])\n            if row[0]:\n                Primary_Key.append(\"YES\")\n            else:\n                Primary_Key.append(\"NO\")\n            \n        df = pd.DataFrame({\"Column\" : Column,\n                          \"Type\" : Type,\n                          \"Not_Null\" : Not_Null,\n                          \"Primary_Key\" : Primary_Key})\n        return df",
    "id": "bcb7a92df9ac4366beb5895f3fa35840",
    "idx": 7,
    "time": "2021-01-17T22:19:53.822Z",
    "type": "execution"
   },
   {
    "id": "bcb7a92df9ac4366beb5895f3fa35840",
    "time": "2021-01-17T22:19:53.880Z",
    "type": "completion"
   },
   {
    "code": "user, method, grade, ascent = col_names()",
    "id": "ffa00f1449d74700956c63e19c1a774c",
    "idx": 8,
    "time": "2021-01-17T22:20:06.478Z",
    "type": "execution"
   },
   {
    "id": "ffa00f1449d74700956c63e19c1a774c",
    "time": "2021-01-17T22:20:06.547Z",
    "type": "completion"
   },
   {
    "code": "user",
    "id": "cbf570503a3a4adca612234db923691d",
    "idx": 9,
    "time": "2021-01-17T22:20:10.853Z",
    "type": "execution"
   },
   {
    "id": "cbf570503a3a4adca612234db923691d",
    "time": "2021-01-17T22:20:10.914Z",
    "type": "completion"
   },
   {
    "code": "def col_names():\n    #Get table names\n    tables = table_names()\n    \n    #Initialize dataframes for each table\n    dfs = {}\n\n    for table in tables:\n        #d[table] = pd.DataFrame()\n        \n        query = f\"\"\"\n        PRAGMA table_info({table})\n        \"\"\"\n        c.execute(query)\n        \n        Column = []\n        Type = []\n        Not_Null = []\n        Primary_Key = []\n        \n        for row in c:\n            Column.append(row[1])\n            Type.append(row[2])\n            Not_Null.append(row[3])\n            if row[0]:\n                Primary_Key.append(\"YES\")\n            else:\n                Primary_Key.append(\"NO\")\n            \n        df[table] = pd.DataFrame({\"Column\" : Column,\n                          \"Type\" : Type,\n                          \"Not_Null\" : Not_Null,\n                          \"Primary_Key\" : Primary_Key})\n    return dfs ",
    "id": "bcb7a92df9ac4366beb5895f3fa35840",
    "idx": 7,
    "time": "2021-01-17T22:25:51.796Z",
    "type": "execution"
   },
   {
    "id": "bcb7a92df9ac4366beb5895f3fa35840",
    "time": "2021-01-17T22:25:51.865Z",
    "type": "completion"
   },
   {
    "code": "user, method, grade, ascent = col_names()",
    "id": "ffa00f1449d74700956c63e19c1a774c",
    "idx": 8,
    "time": "2021-01-17T22:25:53.239Z",
    "type": "execution"
   },
   {
    "id": "ffa00f1449d74700956c63e19c1a774c",
    "time": "2021-01-17T22:25:53.319Z",
    "type": "completion"
   },
   {
    "code": "def col_names():\n    #Get table names\n    tables = table_names()\n    \n    #Initialize dataframes for each table\n    dfs = {}\n\n    for table in tables:\n        #d[table] = pd.DataFrame()\n        \n        query = f\"\"\"\n        PRAGMA table_info({table})\n        \"\"\"\n        c.execute(query)\n        \n        Column = []\n        Type = []\n        Not_Null = []\n        Primary_Key = []\n        \n        for row in c:\n            Column.append(row[1])\n            Type.append(row[2])\n            Not_Null.append(row[3])\n            if row[0]:\n                Primary_Key.append(\"YES\")\n            else:\n                Primary_Key.append(\"NO\")\n            \n        dfs[table] = pd.DataFrame({\"Column\" : Column,\n                          \"Type\" : Type,\n                          \"Not_Null\" : Not_Null,\n                          \"Primary_Key\" : Primary_Key})\n    return dfs ",
    "id": "bcb7a92df9ac4366beb5895f3fa35840",
    "idx": 7,
    "time": "2021-01-17T22:26:05.684Z",
    "type": "execution"
   },
   {
    "id": "bcb7a92df9ac4366beb5895f3fa35840",
    "time": "2021-01-17T22:26:05.769Z",
    "type": "completion"
   },
   {
    "code": "user, method, grade, ascent = col_names()",
    "id": "ffa00f1449d74700956c63e19c1a774c",
    "idx": 8,
    "time": "2021-01-17T22:26:06.222Z",
    "type": "execution"
   },
   {
    "id": "ffa00f1449d74700956c63e19c1a774c",
    "time": "2021-01-17T22:26:06.294Z",
    "type": "completion"
   },
   {
    "code": "user",
    "id": "cbf570503a3a4adca612234db923691d",
    "idx": 9,
    "time": "2021-01-17T22:26:07.392Z",
    "type": "execution"
   },
   {
    "id": "cbf570503a3a4adca612234db923691d",
    "time": "2021-01-17T22:26:07.474Z",
    "type": "completion"
   },
   {
    "code": "col_names()",
    "id": "ffa00f1449d74700956c63e19c1a774c",
    "idx": 8,
    "time": "2021-01-17T22:26:15.628Z",
    "type": "execution"
   },
   {
    "id": "ffa00f1449d74700956c63e19c1a774c",
    "time": "2021-01-17T22:26:15.730Z",
    "type": "completion"
   },
   {
    "code": "col_names()[0]",
    "id": "ffa00f1449d74700956c63e19c1a774c",
    "idx": 8,
    "time": "2021-01-17T22:26:37.588Z",
    "type": "execution"
   },
   {
    "id": "ffa00f1449d74700956c63e19c1a774c",
    "time": "2021-01-17T22:26:37.674Z",
    "type": "completion"
   },
   {
    "code": "col_names()",
    "id": "ffa00f1449d74700956c63e19c1a774c",
    "idx": 8,
    "time": "2021-01-17T22:26:42.178Z",
    "type": "execution"
   },
   {
    "id": "ffa00f1449d74700956c63e19c1a774c",
    "time": "2021-01-17T22:26:42.265Z",
    "type": "completion"
   },
   {
    "code": "col_names(\"user\")",
    "id": "ffa00f1449d74700956c63e19c1a774c",
    "idx": 8,
    "time": "2021-01-17T22:26:59.211Z",
    "type": "execution"
   },
   {
    "id": "ffa00f1449d74700956c63e19c1a774c",
    "time": "2021-01-17T22:26:59.273Z",
    "type": "completion"
   },
   {
    "code": "col_names()[\"user\"]",
    "id": "ffa00f1449d74700956c63e19c1a774c",
    "idx": 8,
    "time": "2021-01-17T22:27:23.667Z",
    "type": "execution"
   },
   {
    "id": "ffa00f1449d74700956c63e19c1a774c",
    "time": "2021-01-17T22:27:24.033Z",
    "type": "completion"
   },
   {
    "code": "def col_info():\n    #Get table names\n    tables = table_names()\n    \n    #Initialize dataframes for each table\n    dfs = {}\n\n    for table in tables:\n        #d[table] = pd.DataFrame()\n        \n        query = f\"\"\"\n        PRAGMA table_info({table})\n        \"\"\"\n        c.execute(query)\n        \n        Column = []\n        Type = []\n        Not_Null = []\n        Primary_Key = []\n        \n        for row in c:\n            Column.append(row[1])\n            Type.append(row[2])\n            Not_Null.append(row[3])\n            if row[0]:\n                Primary_Key.append(\"YES\")\n            else:\n                Primary_Key.append(\"NO\")\n            \n        dfs[table] = pd.DataFrame({\"Column\" : Column,\n                          \"Type\" : Type,\n                          \"Not_Null\" : Not_Null,\n                          \"Primary_Key\" : Primary_Key})\n    return dfs ",
    "id": "bcb7a92df9ac4366beb5895f3fa35840",
    "idx": 7,
    "time": "2021-01-17T22:27:40.406Z",
    "type": "execution"
   },
   {
    "id": "bcb7a92df9ac4366beb5895f3fa35840",
    "time": "2021-01-17T22:27:40.465Z",
    "type": "completion"
   },
   {
    "code": "columninfo = column_info()",
    "id": "ffa00f1449d74700956c63e19c1a774c",
    "idx": 8,
    "time": "2021-01-17T22:28:13.006Z",
    "type": "execution"
   },
   {
    "id": "ffa00f1449d74700956c63e19c1a774c",
    "time": "2021-01-17T22:28:13.080Z",
    "type": "completion"
   },
   {
    "code": "columninfo = col_info()",
    "id": "ffa00f1449d74700956c63e19c1a774c",
    "idx": 8,
    "time": "2021-01-17T22:28:21.423Z",
    "type": "execution"
   },
   {
    "id": "ffa00f1449d74700956c63e19c1a774c",
    "time": "2021-01-17T22:28:21.495Z",
    "type": "completion"
   },
   {
    "code": "columninfo[\"user\"]",
    "id": "cbf570503a3a4adca612234db923691d",
    "idx": 9,
    "time": "2021-01-17T22:28:33.912Z",
    "type": "execution"
   },
   {
    "id": "cbf570503a3a4adca612234db923691d",
    "time": "2021-01-17T22:28:33.981Z",
    "type": "completion"
   },
   {
    "code": "column_info_ds = col_info()",
    "id": "ffa00f1449d74700956c63e19c1a774c",
    "idx": 8,
    "time": "2021-01-17T22:47:01.847Z",
    "type": "execution"
   },
   {
    "id": "ffa00f1449d74700956c63e19c1a774c",
    "time": "2021-01-17T22:47:01.924Z",
    "type": "completion"
   },
   {
    "code": "column_info_dfs = col_info()",
    "id": "ffa00f1449d74700956c63e19c1a774c",
    "idx": 8,
    "time": "2021-01-17T22:47:12.152Z",
    "type": "execution"
   },
   {
    "id": "ffa00f1449d74700956c63e19c1a774c",
    "time": "2021-01-17T22:47:12.230Z",
    "type": "completion"
   },
   {
    "code": "def col_info():\n    #Get table names\n    tables = table_names()\n    \n    #Initialize dataframes for each table\n    dfs = {}\n\n    for table in tables:\n        #d[table] = pd.DataFrame()\n        \n        query = f\"\"\"\n        PRAGMA table_info({table})\n        \"\"\"\n        c.execute(query)\n        \n        Column = []\n        Type = []\n        Not_Null = []\n        Primary_Key = []\n        \n        for row in c:\n            Column.append(row[1])\n            Type.append(row[2])\n            Not_Null.append(row[3])\n            if row[4]:\n                Primary_Key.append(\"YES\")\n            else:\n                Primary_Key.append(\"NO\")\n            \n        dfs[table] = pd.DataFrame({\"Column\" : Column,\n                          \"Type\" : Type,\n                          \"Not_Null\" : Not_Null,\n                          \"Primary_Key\" : Primary_Key})\n    return dfs ",
    "id": "bcb7a92df9ac4366beb5895f3fa35840",
    "idx": 7,
    "time": "2021-01-17T22:49:18.784Z",
    "type": "execution"
   },
   {
    "id": "bcb7a92df9ac4366beb5895f3fa35840",
    "time": "2021-01-17T22:49:18.855Z",
    "type": "completion"
   },
   {
    "code": "column_info_dfs = col_info()",
    "id": "ffa00f1449d74700956c63e19c1a774c",
    "idx": 8,
    "time": "2021-01-17T22:49:19.141Z",
    "type": "execution"
   },
   {
    "id": "ffa00f1449d74700956c63e19c1a774c",
    "time": "2021-01-17T22:49:19.216Z",
    "type": "completion"
   },
   {
    "code": "for i in column_info_dfs:\n    ",
    "id": "cbf570503a3a4adca612234db923691d",
    "idx": 9,
    "time": "2021-01-17T22:49:20.764Z",
    "type": "execution"
   },
   {
    "id": "cbf570503a3a4adca612234db923691d",
    "time": "2021-01-17T22:49:20.822Z",
    "type": "completion"
   },
   {
    "code": "for i in column_info_dfs:\n    column_info_dfs[i]",
    "id": "cbf570503a3a4adca612234db923691d",
    "idx": 9,
    "time": "2021-01-17T22:49:31.451Z",
    "type": "execution"
   },
   {
    "id": "cbf570503a3a4adca612234db923691d",
    "time": "2021-01-17T22:49:31.508Z",
    "type": "completion"
   },
   {
    "code": "for key in column_info_dfs.keys():\n    column_info_dfs[key]",
    "id": "cbf570503a3a4adca612234db923691d",
    "idx": 9,
    "time": "2021-01-17T22:49:55.954Z",
    "type": "execution"
   },
   {
    "id": "cbf570503a3a4adca612234db923691d",
    "time": "2021-01-17T22:49:56.013Z",
    "type": "completion"
   },
   {
    "code": "column_info_dfs.keys()",
    "id": "b8c50729a07a41749ef19e1b35b7614f",
    "idx": 9,
    "time": "2021-01-17T22:50:31.120Z",
    "type": "execution"
   },
   {
    "id": "b8c50729a07a41749ef19e1b35b7614f",
    "time": "2021-01-17T22:50:31.198Z",
    "type": "completion"
   },
   {
    "code": "column_info_dfs.keys()[1]",
    "id": "b8c50729a07a41749ef19e1b35b7614f",
    "idx": 9,
    "time": "2021-01-17T22:50:54.003Z",
    "type": "execution"
   },
   {
    "id": "b8c50729a07a41749ef19e1b35b7614f",
    "time": "2021-01-17T22:50:54.070Z",
    "type": "completion"
   },
   {
    "code": "column_info_dfs.keys()",
    "id": "b8c50729a07a41749ef19e1b35b7614f",
    "idx": 9,
    "time": "2021-01-17T22:50:57.761Z",
    "type": "execution"
   },
   {
    "id": "b8c50729a07a41749ef19e1b35b7614f",
    "time": "2021-01-17T22:50:57.818Z",
    "type": "completion"
   },
   {
    "code": "column_info_dfs.keys().values",
    "id": "b8c50729a07a41749ef19e1b35b7614f",
    "idx": 9,
    "time": "2021-01-17T22:51:02.352Z",
    "type": "execution"
   },
   {
    "id": "b8c50729a07a41749ef19e1b35b7614f",
    "time": "2021-01-17T22:51:02.428Z",
    "type": "completion"
   },
   {
    "code": "for key in list(column_info_dfs.keys()):\n    column_info_dfs[key]",
    "id": "cbf570503a3a4adca612234db923691d",
    "idx": 10,
    "time": "2021-01-17T22:52:01.079Z",
    "type": "execution"
   },
   {
    "id": "cbf570503a3a4adca612234db923691d",
    "time": "2021-01-17T22:52:01.143Z",
    "type": "completion"
   },
   {
    "code": "for key in list(column_info_dfs.keys()):\n    print(key)",
    "id": "cbf570503a3a4adca612234db923691d",
    "idx": 10,
    "time": "2021-01-17T22:52:13.157Z",
    "type": "execution"
   },
   {
    "id": "cbf570503a3a4adca612234db923691d",
    "time": "2021-01-17T22:52:13.234Z",
    "type": "completion"
   },
   {
    "code": "column_info_dfs[\"user\"]",
    "id": "b8c50729a07a41749ef19e1b35b7614f",
    "idx": 10,
    "time": "2021-01-17T22:52:50.218Z",
    "type": "execution"
   },
   {
    "id": "b8c50729a07a41749ef19e1b35b7614f",
    "time": "2021-01-17T22:52:50.290Z",
    "type": "completion"
   },
   {
    "code": "column_info_dfs[\"method\"]",
    "id": "cbf570503a3a4adca612234db923691d",
    "idx": 11,
    "time": "2021-01-17T22:53:38.007Z",
    "type": "execution"
   },
   {
    "id": "cbf570503a3a4adca612234db923691d",
    "time": "2021-01-17T22:53:38.081Z",
    "type": "completion"
   },
   {
    "code": "column_info_dfs[\"grade\"]",
    "id": "ca307523d81c48ec8a6a9744531ec7a2",
    "idx": 12,
    "time": "2021-01-17T22:53:40.259Z",
    "type": "execution"
   },
   {
    "id": "ca307523d81c48ec8a6a9744531ec7a2",
    "time": "2021-01-17T22:53:40.323Z",
    "type": "completion"
   },
   {
    "code": "columns_info_dfs[\"ascent\"]",
    "id": "cd78c8c534424e0d8c19ed7de84fe4cc",
    "idx": 13,
    "time": "2021-01-17T22:53:43.428Z",
    "type": "execution"
   },
   {
    "id": "cd78c8c534424e0d8c19ed7de84fe4cc",
    "time": "2021-01-17T22:53:43.491Z",
    "type": "completion"
   },
   {
    "code": "column_info_dfs[\"grade\"]",
    "id": "ca307523d81c48ec8a6a9744531ec7a2",
    "idx": 12,
    "time": "2021-01-17T22:53:54.276Z",
    "type": "execution"
   },
   {
    "id": "ca307523d81c48ec8a6a9744531ec7a2",
    "time": "2021-01-17T22:53:54.348Z",
    "type": "completion"
   },
   {
    "code": "def col_info():\n    #Get table names\n    tables = table_names()\n    \n    #Initialize dataframes for each table\n    dfs = {}\n\n    for table in tables:\n        #d[table] = pd.DataFrame()\n        \n        query = f\"\"\"\n        PRAGMA table_info({table})\n        \"\"\"\n        c.execute(query)\n        \n        Column = []\n        Type = []\n        Not_Null = []\n        Primary_Key = []\n        \n        for row in c:\n            Column.append(row[1])\n            Type.append(row[2])\n            Not_Null.append(row[3])\n            if row[5]:\n                Primary_Key.append(\"YES\")\n            else:\n                Primary_Key.append(\"NO\")\n            \n        dfs[table] = pd.DataFrame({\"Column\" : Column,\n                          \"Type\" : Type,\n                          \"Not_Null\" : Not_Null,\n                          \"Primary_Key\" : Primary_Key})\n    return dfs ",
    "id": "bcb7a92df9ac4366beb5895f3fa35840",
    "idx": 7,
    "time": "2021-01-17T22:54:30.052Z",
    "type": "execution"
   },
   {
    "id": "bcb7a92df9ac4366beb5895f3fa35840",
    "time": "2021-01-17T22:54:30.107Z",
    "type": "completion"
   },
   {
    "code": "column_info_dfs = col_info()",
    "id": "ffa00f1449d74700956c63e19c1a774c",
    "idx": 8,
    "time": "2021-01-17T22:54:30.410Z",
    "type": "execution"
   },
   {
    "id": "ffa00f1449d74700956c63e19c1a774c",
    "time": "2021-01-17T22:54:30.528Z",
    "type": "completion"
   },
   {
    "code": "column_info_dfs[\"user\"]",
    "id": "b8c50729a07a41749ef19e1b35b7614f",
    "idx": 10,
    "time": "2021-01-17T22:54:31.446Z",
    "type": "execution"
   },
   {
    "id": "b8c50729a07a41749ef19e1b35b7614f",
    "time": "2021-01-17T22:54:31.523Z",
    "type": "completion"
   },
   {
    "code": "column_info_dfs[\"method\"]",
    "id": "cbf570503a3a4adca612234db923691d",
    "idx": 11,
    "time": "2021-01-17T22:54:34.346Z",
    "type": "execution"
   },
   {
    "id": "cbf570503a3a4adca612234db923691d",
    "time": "2021-01-17T22:54:34.413Z",
    "type": "completion"
   },
   {
    "code": "column_info_dfs[\"grade\"]",
    "id": "ca307523d81c48ec8a6a9744531ec7a2",
    "idx": 12,
    "time": "2021-01-17T22:54:36.172Z",
    "type": "execution"
   },
   {
    "id": "ca307523d81c48ec8a6a9744531ec7a2",
    "time": "2021-01-17T22:54:36.270Z",
    "type": "completion"
   },
   {
    "code": "def col_info():\n    #Get table names\n    tables = table_names()\n    \n    #Initialize dataframes for each table\n    dfs = {}\n\n    for table in tables:\n        #d[table] = pd.DataFrame()\n        \n        query = f\"\"\"\n        PRAGMA table_info({table})\n        \"\"\"\n        c.execute(query)\n        \n        Column = []\n        Type = []\n        Not_Null = []\n        Primary_Key = []\n        \n        for row in c:\n            Column.append(row[1])\n            Type.append(row[2])\n            if row[3]:\n                Not_Null.append(\"YES\")\n            else:\n                Not_Null.append(\"NO\")\n            if row[5]:\n                Primary_Key.append(\"YES\")\n            else:\n                Primary_Key.append(\"\")\n            \n        dfs[table] = pd.DataFrame({\"Column\" : Column,\n                          \"Type\" : Type,\n                          \"Not_Null\" : Not_Null,\n                          \"Primary_Key\" : Primary_Key})\n    return dfs ",
    "id": "bcb7a92df9ac4366beb5895f3fa35840",
    "idx": 7,
    "time": "2021-01-17T22:55:51.503Z",
    "type": "execution"
   },
   {
    "id": "bcb7a92df9ac4366beb5895f3fa35840",
    "time": "2021-01-17T22:55:51.575Z",
    "type": "completion"
   },
   {
    "code": "column_info_dfs = col_info()",
    "id": "ffa00f1449d74700956c63e19c1a774c",
    "idx": 8,
    "time": "2021-01-17T22:55:52.062Z",
    "type": "execution"
   },
   {
    "id": "ffa00f1449d74700956c63e19c1a774c",
    "time": "2021-01-17T22:55:52.158Z",
    "type": "completion"
   },
   {
    "code": "column_info_dfs[\"user\"]",
    "id": "b8c50729a07a41749ef19e1b35b7614f",
    "idx": 10,
    "time": "2021-01-17T22:55:52.966Z",
    "type": "execution"
   },
   {
    "id": "b8c50729a07a41749ef19e1b35b7614f",
    "time": "2021-01-17T22:55:53.070Z",
    "type": "completion"
   },
   {
    "code": "column_info_dfs[\"method\"]",
    "id": "cbf570503a3a4adca612234db923691d",
    "idx": 11,
    "time": "2021-01-17T22:55:57.372Z",
    "type": "execution"
   },
   {
    "id": "cbf570503a3a4adca612234db923691d",
    "time": "2021-01-17T22:55:57.440Z",
    "type": "completion"
   },
   {
    "code": "column_info_dfs[\"grade\"]",
    "id": "ca307523d81c48ec8a6a9744531ec7a2",
    "idx": 12,
    "time": "2021-01-17T22:55:59.739Z",
    "type": "execution"
   },
   {
    "id": "ca307523d81c48ec8a6a9744531ec7a2",
    "time": "2021-01-17T22:55:59.812Z",
    "type": "completion"
   },
   {
    "code": "columns_info_dfs[\"ascent\"]",
    "id": "cd78c8c534424e0d8c19ed7de84fe4cc",
    "idx": 13,
    "time": "2021-01-17T22:56:07.995Z",
    "type": "execution"
   },
   {
    "id": "cd78c8c534424e0d8c19ed7de84fe4cc",
    "time": "2021-01-17T22:56:08.078Z",
    "type": "completion"
   },
   {
    "code": "columns_info_dfs.keys()",
    "id": "c4ad5f04b3f74bb283d40f45ff38e10f",
    "idx": 14,
    "time": "2021-01-17T22:56:27.864Z",
    "type": "execution"
   },
   {
    "id": "c4ad5f04b3f74bb283d40f45ff38e10f",
    "time": "2021-01-17T22:56:27.941Z",
    "type": "completion"
   },
   {
    "code": "column_info_dfs[\"ascent\"]",
    "id": "cd78c8c534424e0d8c19ed7de84fe4cc",
    "idx": 13,
    "time": "2021-01-17T22:56:34.543Z",
    "type": "execution"
   },
   {
    "id": "cd78c8c534424e0d8c19ed7de84fe4cc",
    "time": "2021-01-17T22:56:34.632Z",
    "type": "completion"
   },
   {
    "code": "c.execute(\"\"\"SELECT first_name FROM user LIMIT 5;\"\"\")",
    "id": "a08376a5548545148cd3defc9451e746",
    "idx": 15,
    "time": "2021-01-17T23:01:58.775Z",
    "type": "execution"
   },
   {
    "id": "a08376a5548545148cd3defc9451e746",
    "time": "2021-01-17T23:01:58.847Z",
    "type": "completion"
   },
   {
    "code": "c.execute(\"\"\"SELECT first_name FROM user LIMIT 5;\"\"\").fetchall()",
    "id": "a08376a5548545148cd3defc9451e746",
    "idx": 15,
    "time": "2021-01-17T23:02:12.140Z",
    "type": "execution"
   },
   {
    "id": "a08376a5548545148cd3defc9451e746",
    "time": "2021-01-17T23:02:12.202Z",
    "type": "completion"
   },
   {
    "code": "c.execute(\"\"\"SELECT first_name FROM user LIMIT 10;\"\"\").fetchall()",
    "id": "a08376a5548545148cd3defc9451e746",
    "idx": 15,
    "time": "2021-01-17T23:02:27.530Z",
    "type": "execution"
   },
   {
    "id": "a08376a5548545148cd3defc9451e746",
    "time": "2021-01-17T23:02:27.594Z",
    "type": "completion"
   },
   {
    "code": "c.execute(\"\"\"SELECT id FROM user LIMIT 10;\"\"\").fetchall()",
    "id": "46be38dca2ec436e95e7a5a48dd324d3",
    "idx": 17,
    "time": "2021-01-17T23:11:01.174Z",
    "type": "execution"
   },
   {
    "id": "46be38dca2ec436e95e7a5a48dd324d3",
    "time": "2021-01-17T23:11:01.284Z",
    "type": "completion"
   },
   {
    "code": "c.execute(\"\"\"SELECT COUNT(rownum) FROM user\"\"\").fetchall()",
    "id": "46be38dca2ec436e95e7a5a48dd324d3",
    "idx": 17,
    "time": "2021-01-17T23:26:27.925Z",
    "type": "execution"
   },
   {
    "id": "46be38dca2ec436e95e7a5a48dd324d3",
    "time": "2021-01-17T23:26:28.006Z",
    "type": "completion"
   },
   {
    "code": "c.execute(\"\"\"SELECT COUNT(id) FROM user\"\"\").fetchall()",
    "id": "46be38dca2ec436e95e7a5a48dd324d3",
    "idx": 17,
    "time": "2021-01-17T23:27:01.699Z",
    "type": "execution"
   },
   {
    "id": "46be38dca2ec436e95e7a5a48dd324d3",
    "time": "2021-01-17T23:27:01.826Z",
    "type": "completion"
   },
   {
    "code": "c.execute(\"\"\"SELECT COUNT(id) FROM user\"\"\").fetchall()[1]",
    "id": "46be38dca2ec436e95e7a5a48dd324d3",
    "idx": 22,
    "time": "2021-01-17T23:32:19.810Z",
    "type": "execution"
   },
   {
    "id": "46be38dca2ec436e95e7a5a48dd324d3",
    "time": "2021-01-17T23:32:19.913Z",
    "type": "completion"
   },
   {
    "code": "c.execute(\"\"\"SELECT COUNT(id) FROM user\"\"\").fetchall()",
    "id": "46be38dca2ec436e95e7a5a48dd324d3",
    "idx": 22,
    "time": "2021-01-17T23:32:27.325Z",
    "type": "execution"
   },
   {
    "id": "46be38dca2ec436e95e7a5a48dd324d3",
    "time": "2021-01-17T23:32:27.425Z",
    "type": "completion"
   },
   {
    "code": "c.execute(\"\"\"SELECT COUNT(id) FROM user\"\"\").fetchall()[0]",
    "id": "46be38dca2ec436e95e7a5a48dd324d3",
    "idx": 22,
    "time": "2021-01-17T23:32:58.079Z",
    "type": "execution"
   },
   {
    "id": "46be38dca2ec436e95e7a5a48dd324d3",
    "time": "2021-01-17T23:32:58.179Z",
    "type": "completion"
   },
   {
    "code": "c.execute(\"\"\"SELECT COUNT(id) FROM user\"\"\").fetchall()[0][0]",
    "id": "46be38dca2ec436e95e7a5a48dd324d3",
    "idx": 22,
    "time": "2021-01-17T23:33:02.876Z",
    "type": "execution"
   },
   {
    "id": "46be38dca2ec436e95e7a5a48dd324d3",
    "time": "2021-01-17T23:33:02.977Z",
    "type": "completion"
   },
   {
    "code": "def countRows():\n    #Get table names\n    tables = table_names()\n    \n    for table in tables:\n        query = f\"\"\"\n        SELECT COUNT(id)\n        FROM {table}\n        \"\"\"\n        count = c.execute(query)[0][0]\n        print(f\"There are {count} rows in table {table}\")\n        ",
    "id": "f9d72c05cb5243f6812542f9bedafadf",
    "idx": 16,
    "time": "2021-01-17T23:33:47.179Z",
    "type": "execution"
   },
   {
    "id": "f9d72c05cb5243f6812542f9bedafadf",
    "time": "2021-01-17T23:33:47.234Z",
    "type": "completion"
   },
   {
    "code": "countRows()",
    "id": "74bcbb8e3ce44cd1b0d0a127f823acc7",
    "idx": 17,
    "time": "2021-01-17T23:33:54.110Z",
    "type": "execution"
   },
   {
    "id": "74bcbb8e3ce44cd1b0d0a127f823acc7",
    "time": "2021-01-17T23:33:54.200Z",
    "type": "completion"
   },
   {
    "code": "def countRows():\n    #Get table names\n    tables = table_names()\n    \n    for table in tables:\n        query = f\"\"\"\n        SELECT COUNT(id)\n        FROM {table}\n        \"\"\"\n        count = c.execute(query).fetchall()[0][0]\n        print(f\"There are {count} rows in table {table}\")\n        ",
    "id": "f9d72c05cb5243f6812542f9bedafadf",
    "idx": 16,
    "time": "2021-01-17T23:34:36.384Z",
    "type": "execution"
   },
   {
    "id": "f9d72c05cb5243f6812542f9bedafadf",
    "time": "2021-01-17T23:34:36.443Z",
    "type": "completion"
   },
   {
    "code": "countRows()",
    "id": "74bcbb8e3ce44cd1b0d0a127f823acc7",
    "idx": 17,
    "time": "2021-01-17T23:34:36.746Z",
    "type": "execution"
   },
   {
    "id": "74bcbb8e3ce44cd1b0d0a127f823acc7",
    "time": "2021-01-17T23:34:38.879Z",
    "type": "completion"
   },
   {
    "code": "def countRows():\n    #Get table names\n    tables = table_names()\n    \n    for table in tables:\n        query = f\"\"\"\n        SELECT COUNT(id)\n        FROM {table}\n        \"\"\"\n        count = c.execute(query).fetchall()[0][0]\n        print(f\"There are {count} rows in the {table} table\")\n        ",
    "id": "f9d72c05cb5243f6812542f9bedafadf",
    "idx": 16,
    "time": "2021-01-17T23:34:56.768Z",
    "type": "execution"
   },
   {
    "id": "f9d72c05cb5243f6812542f9bedafadf",
    "time": "2021-01-17T23:34:56.824Z",
    "type": "completion"
   },
   {
    "code": "countRows()",
    "id": "74bcbb8e3ce44cd1b0d0a127f823acc7",
    "idx": 17,
    "time": "2021-01-17T23:34:57.581Z",
    "type": "execution"
   },
   {
    "id": "74bcbb8e3ce44cd1b0d0a127f823acc7",
    "time": "2021-01-17T23:34:58.538Z",
    "type": "completion"
   },
   {
    "code": "def countRows():\n    #Get table names\n    tables = table_names()\n    \n    for table in tables:\n        query = f\"\"\"\n        SELECT COUNT(id)\n        FROM {table}\n        \"\"\"\n        count = c.execute(query).fetchall()[0][0]\n        print(f\"{table} table:  {count} rows\")\n        ",
    "id": "f9d72c05cb5243f6812542f9bedafadf",
    "idx": 16,
    "time": "2021-01-18T00:52:52.190Z",
    "type": "execution"
   },
   {
    "id": "f9d72c05cb5243f6812542f9bedafadf",
    "time": "2021-01-18T00:52:52.253Z",
    "type": "completion"
   },
   {
    "code": "countRows()",
    "id": "74bcbb8e3ce44cd1b0d0a127f823acc7",
    "idx": 17,
    "time": "2021-01-18T00:52:52.597Z",
    "type": "execution"
   },
   {
    "id": "74bcbb8e3ce44cd1b0d0a127f823acc7",
    "time": "2021-01-18T00:52:53.392Z",
    "type": "completion"
   },
   {
    "code": "c.execute(\"\"\"SELECT * FROM method LIMIT 5\"\"\").fetchall()",
    "id": "46be38dca2ec436e95e7a5a48dd324d3",
    "idx": 23,
    "time": "2021-01-18T00:56:08.123Z",
    "type": "execution"
   },
   {
    "id": "46be38dca2ec436e95e7a5a48dd324d3",
    "time": "2021-01-18T00:56:08.271Z",
    "type": "completion"
   },
   {
    "code": "c.execute(\"\"\"SELECT started FROM user LIMIT 5\"\"\").fetchall()",
    "id": "a05b788c4ee9490c97535cd8284cac10",
    "idx": 24,
    "time": "2021-01-18T00:57:17.084Z",
    "type": "execution"
   },
   {
    "id": "a05b788c4ee9490c97535cd8284cac10",
    "time": "2021-01-18T00:57:17.150Z",
    "type": "completion"
   },
   {
    "code": "all_tables = table_names()\n\nfor table,i in all_tables, np.arange(0,len(all_tables)):\n    print(f\"Table {i}: {table}\")",
    "id": "46836afe03d64626a3adab1169ca1c4a",
    "idx": 7,
    "time": "2021-01-18T18:15:52.361Z",
    "type": "execution"
   },
   {
    "id": "46836afe03d64626a3adab1169ca1c4a",
    "time": "2021-01-18T18:15:52.504Z",
    "type": "completion"
   },
   {
    "code": "#Look at all of the tables within the sqlite databes\ndef table_names():\n    query = \"\"\"\n    SELECT NAME \n    FROM SQLITE_MASTER \n    WHERE type= 'table';\n    \"\"\"\n    c.execute(query)\n    \n    tables = []\n    for row in c.fetchall():\n        tables.append(row[0])\n    \n    return tables",
    "id": "ee6691e155a8444b9a6ca9925920cf2c",
    "idx": 6,
    "time": "2021-01-18T18:15:56.863Z",
    "type": "execution"
   },
   {
    "id": "ee6691e155a8444b9a6ca9925920cf2c",
    "time": "2021-01-18T18:15:56.923Z",
    "type": "completion"
   },
   {
    "code": "all_tables = table_names()\n\nfor table,i in all_tables, np.arange(0,len(all_tables)):\n    print(f\"Table {i}: {table}\")",
    "id": "46836afe03d64626a3adab1169ca1c4a",
    "idx": 7,
    "time": "2021-01-18T18:15:57.607Z",
    "type": "execution"
   },
   {
    "id": "46836afe03d64626a3adab1169ca1c4a",
    "time": "2021-01-18T18:15:57.712Z",
    "type": "completion"
   },
   {
    "code": "import sqlite3\nimport pandas as pd\nimport matplotlib.pyplot as plt",
    "id": "8c87f16f235d480e8546ecff116c0878",
    "idx": 2,
    "time": "2021-01-18T18:17:08.707Z",
    "type": "execution"
   },
   {
    "id": "8c87f16f235d480e8546ecff116c0878",
    "time": "2021-01-18T18:17:09.415Z",
    "type": "completion"
   },
   {
    "code": "#Make a connection\ncon = sqlite3.connect('database.sqlite')\n\n#Make a cursor instance\nc = con.cursor()",
    "id": "c6668035e21440c684eb01d912d358b3",
    "idx": 4,
    "time": "2021-01-18T18:17:09.652Z",
    "type": "execution"
   },
   {
    "id": "c6668035e21440c684eb01d912d358b3",
    "time": "2021-01-18T18:17:09.734Z",
    "type": "completion"
   },
   {
    "code": "#Look at all of the tables within the sqlite databes\ndef table_names():\n    query = \"\"\"\n    SELECT NAME \n    FROM SQLITE_MASTER \n    WHERE type= 'table';\n    \"\"\"\n    c.execute(query)\n    \n    tables = []\n    for row in c.fetchall():\n        tables.append(row[0])\n    \n    return tables",
    "id": "ee6691e155a8444b9a6ca9925920cf2c",
    "idx": 6,
    "time": "2021-01-18T18:17:10.597Z",
    "type": "execution"
   },
   {
    "id": "ee6691e155a8444b9a6ca9925920cf2c",
    "time": "2021-01-18T18:17:10.676Z",
    "type": "completion"
   },
   {
    "code": "all_tables = table_names()\n\nfor table,i in all_tables, np.arange(0,len(all_tables)):\n    print(f\"Table {i}: {table}\")",
    "id": "46836afe03d64626a3adab1169ca1c4a",
    "idx": 7,
    "time": "2021-01-18T18:17:11.633Z",
    "type": "execution"
   },
   {
    "id": "46836afe03d64626a3adab1169ca1c4a",
    "time": "2021-01-18T18:17:11.738Z",
    "type": "completion"
   },
   {
    "code": "import sqlite3\nimport pandas as pd\nimport numpy as np\nimport matplotlib.pyplot as plt",
    "id": "8c87f16f235d480e8546ecff116c0878",
    "idx": 2,
    "time": "2021-01-18T18:17:23.309Z",
    "type": "execution"
   },
   {
    "id": "8c87f16f235d480e8546ecff116c0878",
    "time": "2021-01-18T18:17:23.363Z",
    "type": "completion"
   },
   {
    "code": "#Make a connection\ncon = sqlite3.connect('database.sqlite')\n\n#Make a cursor instance\nc = con.cursor()",
    "id": "c6668035e21440c684eb01d912d358b3",
    "idx": 4,
    "time": "2021-01-18T18:17:24.007Z",
    "type": "execution"
   },
   {
    "id": "c6668035e21440c684eb01d912d358b3",
    "time": "2021-01-18T18:17:24.077Z",
    "type": "completion"
   },
   {
    "code": "#Look at all of the tables within the sqlite databes\ndef table_names():\n    query = \"\"\"\n    SELECT NAME \n    FROM SQLITE_MASTER \n    WHERE type= 'table';\n    \"\"\"\n    c.execute(query)\n    \n    tables = []\n    for row in c.fetchall():\n        tables.append(row[0])\n    \n    return tables",
    "id": "ee6691e155a8444b9a6ca9925920cf2c",
    "idx": 6,
    "time": "2021-01-18T18:17:24.771Z",
    "type": "execution"
   },
   {
    "id": "ee6691e155a8444b9a6ca9925920cf2c",
    "time": "2021-01-18T18:17:24.845Z",
    "type": "completion"
   },
   {
    "code": "all_tables = table_names()\n\nfor table,i in all_tables, np.arange(0,len(all_tables)):\n    print(f\"Table {i}: {table}\")",
    "id": "46836afe03d64626a3adab1169ca1c4a",
    "idx": 7,
    "time": "2021-01-18T18:17:25.875Z",
    "type": "execution"
   },
   {
    "id": "46836afe03d64626a3adab1169ca1c4a",
    "time": "2021-01-18T18:17:25.955Z",
    "type": "completion"
   },
   {
    "code": "all_tables = table_names()\n\nfor table in all_tables:\n    print(table)",
    "id": "46836afe03d64626a3adab1169ca1c4a",
    "idx": 7,
    "time": "2021-01-18T18:18:27.307Z",
    "type": "execution"
   },
   {
    "id": "46836afe03d64626a3adab1169ca1c4a",
    "time": "2021-01-18T18:18:27.427Z",
    "type": "completion"
   },
   {
    "code": "def col_info():\n    #Get table names\n    tables = table_names()\n    \n    #Initialize dataframes for each table\n    dfs = {}\n\n    for table in tables:\n        #d[table] = pd.DataFrame()\n        \n        query = f\"\"\"\n        PRAGMA table_info({table})\n        \"\"\"\n        c.execute(query)\n        \n        Column = []\n        Type = []\n        Not_Null = []\n        Primary_Key = []\n        \n        for row in c:\n            Column.append(row[1])\n            Type.append(row[2])\n            if row[3]:\n                Not_Null.append(\"YES\")\n            else:\n                Not_Null.append(\"NO\")\n            if row[5]:\n                Primary_Key.append(\"YES\")\n            else:\n                Primary_Key.append(\"\")\n            \n        dfs[table] = pd.DataFrame({\"Column\" : Column,\n                          \"Type\" : Type,\n                          \"Not_Null\" : Not_Null,\n                          \"Primary_Key\" : Primary_Key})\n    return dfs ",
    "id": "e0106e6ac6fa45f1ae0630dca9976f53",
    "idx": 9,
    "time": "2021-01-18T18:19:11.513Z",
    "type": "execution"
   },
   {
    "id": "e0106e6ac6fa45f1ae0630dca9976f53",
    "time": "2021-01-18T18:19:11.577Z",
    "type": "completion"
   },
   {
    "code": "column_info_dfs = col_info()",
    "id": "cf581af22163415aa61d69d0303e5009",
    "idx": 10,
    "time": "2021-01-18T18:19:12.029Z",
    "type": "execution"
   },
   {
    "id": "cf581af22163415aa61d69d0303e5009",
    "time": "2021-01-18T18:19:12.110Z",
    "type": "completion"
   },
   {
    "code": "column_info_dfs[\"user\"]",
    "id": "931a43d1c3f444b6a3d87f563ef644f8",
    "idx": 12,
    "time": "2021-01-18T18:19:14.000Z",
    "type": "execution"
   },
   {
    "id": "931a43d1c3f444b6a3d87f563ef644f8",
    "time": "2021-01-18T18:19:14.124Z",
    "type": "completion"
   },
   {
    "code": "column_info_dfs[\"method\"]",
    "id": "28bc2870efb14326bee83683fd3007be",
    "idx": 13,
    "time": "2021-01-18T18:19:16.802Z",
    "type": "execution"
   },
   {
    "id": "28bc2870efb14326bee83683fd3007be",
    "time": "2021-01-18T18:19:16.880Z",
    "type": "completion"
   },
   {
    "code": "column_info_dfs[\"grade\"]",
    "id": "5fd3d71585ea49318c293391c5d343eb",
    "idx": 14,
    "time": "2021-01-18T18:19:17.928Z",
    "type": "execution"
   },
   {
    "id": "5fd3d71585ea49318c293391c5d343eb",
    "time": "2021-01-18T18:19:18.016Z",
    "type": "completion"
   },
   {
    "code": "column_info_dfs[\"ascent\"]",
    "id": "f5f717a50c4549a3a3e38abb488652e3",
    "idx": 15,
    "time": "2021-01-18T18:19:23.010Z",
    "type": "execution"
   },
   {
    "id": "f5f717a50c4549a3a3e38abb488652e3",
    "time": "2021-01-18T18:19:23.094Z",
    "type": "completion"
   },
   {
    "code": "def countRows():\n    #Get table names\n    tables = table_names()\n    \n    for table in tables:\n        query = f\"\"\"\n        SELECT COUNT(id)\n        FROM {table}\n        \"\"\"\n        count = c.execute(query).fetchall()[0][0]\n        print(f\"{table} table:  {count} rows\")\n        ",
    "id": "fedbeb1a5f44481184acf1f11abc9f58",
    "idx": 17,
    "time": "2021-01-18T18:20:50.267Z",
    "type": "execution"
   },
   {
    "id": "fedbeb1a5f44481184acf1f11abc9f58",
    "time": "2021-01-18T18:20:50.331Z",
    "type": "completion"
   },
   {
    "code": "countRows()",
    "id": "2655484886314084ac1c67da39893646",
    "idx": 18,
    "time": "2021-01-18T18:20:50.805Z",
    "type": "execution"
   },
   {
    "id": "2655484886314084ac1c67da39893646",
    "time": "2021-01-18T18:20:52.712Z",
    "type": "completion"
   },
   {
    "code": "c.execute(\"\"\"\nSELECT started \nFROM user\nGROUPBY started\nLIMIT 10;\n\"\"\").fetchall()",
    "id": "1dfae657339941e48690877122f46a24",
    "idx": 21,
    "time": "2021-01-18T20:04:05.547Z",
    "type": "execution"
   },
   {
    "id": "1dfae657339941e48690877122f46a24",
    "time": "2021-01-18T20:04:05.618Z",
    "type": "completion"
   },
   {
    "code": "c.execute(\"\"\"\nSELECT started \nFROM user\nGROUP BY started\nORDER BY RANDOM()\nLIMIT 10;\n\"\"\").fetchall()",
    "id": "1dfae657339941e48690877122f46a24",
    "idx": 21,
    "time": "2021-01-18T20:04:43.982Z",
    "type": "execution"
   },
   {
    "id": "1dfae657339941e48690877122f46a24",
    "time": "2021-01-18T20:04:44.144Z",
    "type": "completion"
   },
   {
    "code": "import sqlite3\nimport pandas as pd\nimport numpy as np\nimport matplotlib.pyplot as plt",
    "id": "c63f0392dcfc465288a7519769744736",
    "idx": 2,
    "time": "2021-01-19T05:48:12.500Z",
    "type": "execution"
   },
   {
    "code": "#Make a connection\ncon = sqlite3.connect('database.sqlite')\n\n#Make a cursor instance\nc = con.cursor()",
    "id": "b8f7c99fd512401790a221f649c9001f",
    "idx": 4,
    "time": "2021-01-19T05:48:12.841Z",
    "type": "execution"
   },
   {
    "id": "c63f0392dcfc465288a7519769744736",
    "time": "2021-01-19T05:48:13.165Z",
    "type": "completion"
   },
   {
    "id": "b8f7c99fd512401790a221f649c9001f",
    "time": "2021-01-19T05:48:13.168Z",
    "type": "completion"
   },
   {
    "code": "#Look at all of the tables within the sqlite databes\ndef table_names():\n    query = \"\"\"\n    SELECT NAME \n    FROM SQLITE_MASTER \n    WHERE type= 'table';\n    \"\"\"\n    c.execute(query)\n    \n    tables = []\n    for row in c.fetchall():\n        tables.append(row[0])\n    \n    return tables",
    "id": "fe88969809c2488789a8c8f023db223b",
    "idx": 6,
    "time": "2021-01-19T05:48:13.189Z",
    "type": "execution"
   },
   {
    "id": "fe88969809c2488789a8c8f023db223b",
    "time": "2021-01-19T05:48:13.272Z",
    "type": "completion"
   },
   {
    "code": "all_tables = table_names()\n\nfor table in all_tables:\n    print(table)",
    "id": "c96c42a293ae4422b36c7819a36ded9a",
    "idx": 7,
    "time": "2021-01-19T05:48:13.370Z",
    "type": "execution"
   },
   {
    "id": "c96c42a293ae4422b36c7819a36ded9a",
    "time": "2021-01-19T05:48:13.439Z",
    "type": "completion"
   },
   {
    "code": "def col_info():\n    #Get table names\n    tables = table_names()\n    \n    #Initialize dataframes for each table\n    dfs = {}\n\n    for table in tables:\n        #d[table] = pd.DataFrame()\n        \n        query = f\"\"\"\n        PRAGMA table_info({table})\n        \"\"\"\n        c.execute(query)\n        \n        Column = []\n        Type = []\n        Not_Null = []\n        Primary_Key = []\n        \n        for row in c:\n            Column.append(row[1])\n            Type.append(row[2])\n            if row[3]:\n                Not_Null.append(\"YES\")\n            else:\n                Not_Null.append(\"NO\")\n            if row[5]:\n                Primary_Key.append(\"YES\")\n            else:\n                Primary_Key.append(\"\")\n            \n        dfs[table] = pd.DataFrame({\"Column\" : Column,\n                          \"Type\" : Type,\n                          \"Not_Null\" : Not_Null,\n                          \"Primary_Key\" : Primary_Key})\n    return dfs ",
    "id": "aaa1b7fe63a44ae58771b57a06fc03e5",
    "idx": 9,
    "time": "2021-01-19T05:48:13.867Z",
    "type": "execution"
   },
   {
    "id": "aaa1b7fe63a44ae58771b57a06fc03e5",
    "time": "2021-01-19T05:48:13.937Z",
    "type": "completion"
   },
   {
    "code": "column_info_dfs = col_info()",
    "id": "f22da0a9752a4fb480bc936a268999ad",
    "idx": 10,
    "time": "2021-01-19T05:48:14.018Z",
    "type": "execution"
   },
   {
    "id": "f22da0a9752a4fb480bc936a268999ad",
    "time": "2021-01-19T05:48:14.108Z",
    "type": "completion"
   },
   {
    "code": "column_info_dfs[\"user\"]",
    "id": "3f7d169f9cdb49b383efabc397955d27",
    "idx": 12,
    "time": "2021-01-19T05:48:14.392Z",
    "type": "execution"
   },
   {
    "id": "3f7d169f9cdb49b383efabc397955d27",
    "time": "2021-01-19T05:48:14.510Z",
    "type": "completion"
   },
   {
    "code": "column_info_dfs[\"method\"]",
    "id": "da3f1282ef4144c090d35991f6e37e58",
    "idx": 13,
    "time": "2021-01-19T05:48:14.579Z",
    "type": "execution"
   },
   {
    "id": "da3f1282ef4144c090d35991f6e37e58",
    "time": "2021-01-19T05:48:14.644Z",
    "type": "completion"
   },
   {
    "code": "column_info_dfs[\"grade\"]",
    "id": "342bfdb37ee24e1a90f04eb4a0d19e0f",
    "idx": 14,
    "time": "2021-01-19T05:48:14.746Z",
    "type": "execution"
   },
   {
    "id": "342bfdb37ee24e1a90f04eb4a0d19e0f",
    "time": "2021-01-19T05:48:14.819Z",
    "type": "completion"
   },
   {
    "code": "column_info_dfs[\"ascent\"]",
    "id": "8ff89f420a6249578c95e8dc2db00539",
    "idx": 15,
    "time": "2021-01-19T05:48:14.951Z",
    "type": "execution"
   },
   {
    "id": "8ff89f420a6249578c95e8dc2db00539",
    "time": "2021-01-19T05:48:15.015Z",
    "type": "completion"
   },
   {
    "code": "def countRows():\n    #Get table names\n    tables = table_names()\n    \n    for table in tables:\n        query = f\"\"\"\n        SELECT COUNT(id)\n        FROM {table}\n        \"\"\"\n        count = c.execute(query).fetchall()[0][0]\n        print(f\"{table} table:  {count} rows\")\n        ",
    "id": "e55b32d9e8494a289116e539d697c639",
    "idx": 17,
    "time": "2021-01-19T05:48:15.307Z",
    "type": "execution"
   },
   {
    "id": "e55b32d9e8494a289116e539d697c639",
    "time": "2021-01-19T05:48:15.369Z",
    "type": "completion"
   },
   {
    "code": "countRows()",
    "id": "4d8b28a57e7a4ed38307e9bf76a502cf",
    "idx": 18,
    "time": "2021-01-19T05:48:16.114Z",
    "type": "execution"
   },
   {
    "id": "4d8b28a57e7a4ed38307e9bf76a502cf",
    "time": "2021-01-19T05:48:18.084Z",
    "type": "completion"
   },
   {
    "code": "# Get count of all users who started in a given year\n\nc.execute(\"\"\"\nSELECT COUNT(started), started \nFROM user\nGROUP BY started\nORDER BY started DESC\nLIMIT 10;\n\"\"\").fetchall()",
    "id": "ad8f421e7a1d4eec93812759024af2e4",
    "idx": 21,
    "time": "2021-01-19T05:50:03.277Z",
    "type": "execution"
   },
   {
    "id": "ad8f421e7a1d4eec93812759024af2e4",
    "time": "2021-01-19T05:50:03.546Z",
    "type": "completion"
   },
   {
    "code": "# Get count of all users who started in a given year\n\nc.execute(\"\"\"\nSELECT COUNT(started) AS count, started \nFROM user\nGROUP BY started\nORDER BY count DESC\nLIMIT 10;\n\"\"\").fetchall()",
    "id": "ad8f421e7a1d4eec93812759024af2e4",
    "idx": 21,
    "time": "2021-01-19T05:50:38.770Z",
    "type": "execution"
   },
   {
    "id": "ad8f421e7a1d4eec93812759024af2e4",
    "time": "2021-01-19T05:50:38.896Z",
    "type": "completion"
   },
   {
    "code": "import sqlite3\nimport pandas as pd\nimport numpy as np\nimport matplotlib.pyplot as plt",
    "id": "8ff9a4a699194538addff04bc0a8436b",
    "idx": 2,
    "time": "2021-01-19T18:28:04.763Z",
    "type": "execution"
   },
   {
    "id": "8ff9a4a699194538addff04bc0a8436b",
    "time": "2021-01-19T18:28:05.430Z",
    "type": "completion"
   },
   {
    "code": "#Make a connection\ncon = sqlite3.connect('database.sqlite')\n\n#Make a cursor instance\nc = con.cursor()",
    "id": "d59671926fb84299881fe34b51b313d6",
    "idx": 4,
    "time": "2021-01-19T18:28:05.547Z",
    "type": "execution"
   },
   {
    "id": "d59671926fb84299881fe34b51b313d6",
    "time": "2021-01-19T18:28:05.622Z",
    "type": "completion"
   },
   {
    "code": "c.execute(\"\"\"SELECT * FROM method LIMIT 5\"\"\").fetchmany()",
    "id": "262e64720421488d86259f92022e5854",
    "idx": 27,
    "time": "2021-01-19T18:28:20.396Z",
    "type": "execution"
   },
   {
    "id": "262e64720421488d86259f92022e5854",
    "time": "2021-01-19T18:28:20.463Z",
    "type": "completion"
   },
   {
    "code": "c.execute(\"\"\"SELECT * FROM method LIMIT 5\"\"\").fetchall()",
    "id": "5b11e3913608460e8d08ecabbba8b57c",
    "idx": 28,
    "time": "2021-01-19T18:28:36.508Z",
    "type": "execution"
   },
   {
    "id": "5b11e3913608460e8d08ecabbba8b57c",
    "time": "2021-01-19T18:28:36.571Z",
    "type": "completion"
   },
   {
    "code": "c.execute(\"\"\"SELECT started FROM user LIMIT 5\"\"\").description()",
    "id": "cf6aa51dcddd4097a2946f088b435384",
    "idx": 29,
    "time": "2021-01-19T18:29:33.317Z",
    "type": "execution"
   },
   {
    "id": "cf6aa51dcddd4097a2946f088b435384",
    "time": "2021-01-19T18:29:33.556Z",
    "type": "completion"
   },
   {
    "code": "c.execute(\"\"\"SELECT * FROM method LIMIT 5\"\"\").fetchall().description",
    "id": "5b11e3913608460e8d08ecabbba8b57c",
    "idx": 28,
    "time": "2021-01-19T18:29:48.337Z",
    "type": "execution"
   },
   {
    "id": "5b11e3913608460e8d08ecabbba8b57c",
    "time": "2021-01-19T18:29:48.423Z",
    "type": "completion"
   },
   {
    "code": "c.execute(\"\"\"SELECT * FROM method LIMIT 5\"\"\").description()",
    "id": "5b11e3913608460e8d08ecabbba8b57c",
    "idx": 28,
    "time": "2021-01-19T18:29:56.090Z",
    "type": "execution"
   },
   {
    "id": "5b11e3913608460e8d08ecabbba8b57c",
    "time": "2021-01-19T18:29:56.156Z",
    "type": "completion"
   },
   {
    "code": "c.execute(\"\"\"SELECT * FROM method LIMIT 5\"\"\").description",
    "id": "5b11e3913608460e8d08ecabbba8b57c",
    "idx": 28,
    "time": "2021-01-19T18:30:34.227Z",
    "type": "execution"
   },
   {
    "id": "5b11e3913608460e8d08ecabbba8b57c",
    "time": "2021-01-19T18:30:34.323Z",
    "type": "completion"
   },
   {
    "code": "# Get count of all users who started in a given year\n\nc.execute(\"\"\"\nSELECT COUNT(started) AS count, started \nFROM user\nGROUP BY started\nORDER BY count DESC\nLIMIT 10;\n\"\"\").fetchone()",
    "id": "6831acab309a458b9ac71bf03828cc41",
    "idx": 24,
    "time": "2021-01-19T18:48:14.923Z",
    "type": "execution"
   },
   {
    "id": "6831acab309a458b9ac71bf03828cc41",
    "time": "2021-01-19T18:48:15.025Z",
    "type": "completion"
   },
   {
    "code": "# Get count of all users who started in a given year\n\nlen(c.execute(\"\"\"\nSELECT COUNT(started) AS count, started \nFROM user\nGROUP BY started\nORDER BY count DESC\nLIMIT 10;\n\"\"\").fetchone())",
    "id": "6831acab309a458b9ac71bf03828cc41",
    "idx": 24,
    "time": "2021-01-19T18:48:24.720Z",
    "type": "execution"
   },
   {
    "id": "6831acab309a458b9ac71bf03828cc41",
    "time": "2021-01-19T18:48:24.842Z",
    "type": "completion"
   },
   {
    "code": "a = 5\nfor i in a:\n    print i",
    "id": "e9a996f168814c6482dc6af737fc1374",
    "idx": 22,
    "time": "2021-01-19T18:49:31.747Z",
    "type": "execution"
   },
   {
    "id": "e9a996f168814c6482dc6af737fc1374",
    "time": "2021-01-19T18:49:31.843Z",
    "type": "completion"
   },
   {
    "code": "a = 5\nfor i in a:\n    print(i)",
    "id": "e9a996f168814c6482dc6af737fc1374",
    "idx": 22,
    "time": "2021-01-19T18:49:37.708Z",
    "type": "execution"
   },
   {
    "id": "e9a996f168814c6482dc6af737fc1374",
    "time": "2021-01-19T18:49:37.777Z",
    "type": "completion"
   },
   {
    "code": "a = 5\nfor i in range(a):\n    print(i)",
    "id": "e9a996f168814c6482dc6af737fc1374",
    "idx": 22,
    "time": "2021-01-19T18:49:44.391Z",
    "type": "execution"
   },
   {
    "id": "e9a996f168814c6482dc6af737fc1374",
    "time": "2021-01-19T18:49:44.482Z",
    "type": "completion"
   },
   {
    "code": "c.execute(\"\"\"SELECT * FROM method LIMIT 5\"\"\").description[0]",
    "id": "5b11e3913608460e8d08ecabbba8b57c",
    "idx": 31,
    "time": "2021-01-19T18:51:42.155Z",
    "type": "execution"
   },
   {
    "id": "5b11e3913608460e8d08ecabbba8b57c",
    "time": "2021-01-19T18:51:42.253Z",
    "type": "completion"
   },
   {
    "code": "c.execute(\"\"\"SELECT * FROM method LIMIT 5\"\"\").description[0][1]",
    "id": "5b11e3913608460e8d08ecabbba8b57c",
    "idx": 31,
    "time": "2021-01-19T18:51:47.646Z",
    "type": "execution"
   },
   {
    "id": "5b11e3913608460e8d08ecabbba8b57c",
    "time": "2021-01-19T18:51:47.703Z",
    "type": "completion"
   },
   {
    "code": "c.execute(\"\"\"SELECT * FROM method LIMIT 5\"\"\").description[0]",
    "id": "5b11e3913608460e8d08ecabbba8b57c",
    "idx": 31,
    "time": "2021-01-19T18:51:51.199Z",
    "type": "execution"
   },
   {
    "id": "5b11e3913608460e8d08ecabbba8b57c",
    "time": "2021-01-19T18:51:51.262Z",
    "type": "completion"
   },
   {
    "code": "c.execute(\"\"\"SELECT * FROM method LIMIT 5\"\"\").description[0][[1]]",
    "id": "5b11e3913608460e8d08ecabbba8b57c",
    "idx": 31,
    "time": "2021-01-19T18:51:59.281Z",
    "type": "execution"
   },
   {
    "id": "5b11e3913608460e8d08ecabbba8b57c",
    "time": "2021-01-19T18:51:59.356Z",
    "type": "completion"
   },
   {
    "code": "c.execute(\"\"\"SELECT * FROM method LIMIT 5\"\"\").description[0]",
    "id": "5b11e3913608460e8d08ecabbba8b57c",
    "idx": 31,
    "time": "2021-01-19T18:52:02.790Z",
    "type": "execution"
   },
   {
    "id": "5b11e3913608460e8d08ecabbba8b57c",
    "time": "2021-01-19T18:52:02.876Z",
    "type": "completion"
   },
   {
    "code": "c.execute(\"\"\"SELECT * FROM method LIMIT 5\"\"\").description[0][0]",
    "id": "5b11e3913608460e8d08ecabbba8b57c",
    "idx": 31,
    "time": "2021-01-19T18:53:21.922Z",
    "type": "execution"
   },
   {
    "id": "5b11e3913608460e8d08ecabbba8b57c",
    "time": "2021-01-19T18:53:22.015Z",
    "type": "completion"
   },
   {
    "code": "queryToDataframe(c.execute(\"\"\"SELECT * FROM method LIMIT 5\"\"\"))",
    "id": "138e03902331428f8bb69569a5e149ef",
    "idx": 32,
    "time": "2021-01-19T18:55:29.567Z",
    "type": "execution"
   },
   {
    "id": "138e03902331428f8bb69569a5e149ef",
    "time": "2021-01-19T18:55:29.650Z",
    "type": "completion"
   },
   {
    "code": "def queryToDataframe(query):\n    \"\"\"\n    Takes a sql query.\n    Returns a dataframe with column names and records.\n    \"\"\"\n    colnames = query.description\n    \n    cols = []\n    for col in range(len(colnames)):\n        cols.append(colnames[col][0])\n    \n    #query.fetchall()\n    return cols",
    "id": "540daf83842647379a3c68b83bd55b3c",
    "idx": 21,
    "time": "2021-01-19T18:55:33.054Z",
    "type": "execution"
   },
   {
    "id": "540daf83842647379a3c68b83bd55b3c",
    "time": "2021-01-19T18:55:33.108Z",
    "type": "completion"
   },
   {
    "code": "queryToDataframe(c.execute(\"\"\"SELECT * FROM method LIMIT 5\"\"\"))",
    "id": "138e03902331428f8bb69569a5e149ef",
    "idx": 32,
    "time": "2021-01-19T18:55:38.005Z",
    "type": "execution"
   },
   {
    "id": "138e03902331428f8bb69569a5e149ef",
    "time": "2021-01-19T18:55:38.094Z",
    "type": "completion"
   },
   {
    "code": "c.execute(\"\"\"\nSELECT * FROM ascent  LIMIT 5\n\"\"\").fetchall()",
    "id": "4adc354af79f453a8ee92f816e27bec0",
    "idx": 26,
    "time": "2021-01-19T18:57:05.058Z",
    "type": "execution"
   },
   {
    "id": "4adc354af79f453a8ee92f816e27bec0",
    "time": "2021-01-19T18:57:05.123Z",
    "type": "completion"
   },
   {
    "code": "c.execute(\"\"\"\nSELECT * FROM method  LIMIT 5\n\"\"\").fetchall()",
    "id": "4adc354af79f453a8ee92f816e27bec0",
    "idx": 26,
    "time": "2021-01-19T18:57:12.145Z",
    "type": "execution"
   },
   {
    "id": "4adc354af79f453a8ee92f816e27bec0",
    "time": "2021-01-19T18:57:12.237Z",
    "type": "completion"
   },
   {
    "code": "pd.DataFrame(c.execute(\"\"\"\nSELECT * FROM method  LIMIT 5\n\"\"\").fetchall())",
    "id": "4adc354af79f453a8ee92f816e27bec0",
    "idx": 26,
    "time": "2021-01-19T18:57:49.631Z",
    "type": "execution"
   },
   {
    "id": "4adc354af79f453a8ee92f816e27bec0",
    "time": "2021-01-19T18:57:49.750Z",
    "type": "completion"
   },
   {
    "code": "def queryToDataframe(query):\n    \"\"\"\n    Takes a sql query.\n    Returns a dataframe with column names and records.\n    \"\"\"\n    colnames = query.description\n    numcols = len(colnames)\n    \n    cols = []\n    for col in range(numcols):\n        cols.append(colnames[col][0])\n    \n    rows = query.execute(query).fetchall()\n    \n    df = pd.DataFrame(rows, columns = cols)\n    return df",
    "id": "540daf83842647379a3c68b83bd55b3c",
    "idx": 21,
    "time": "2021-01-19T18:59:56.600Z",
    "type": "execution"
   },
   {
    "id": "540daf83842647379a3c68b83bd55b3c",
    "time": "2021-01-19T18:59:56.658Z",
    "type": "completion"
   },
   {
    "code": "queryToDataframe(\"\"\"\nSELECT * FROM method  LIMIT 5\n\"\"\")",
    "id": "4adc354af79f453a8ee92f816e27bec0",
    "idx": 26,
    "time": "2021-01-19T19:01:51.139Z",
    "type": "execution"
   },
   {
    "id": "4adc354af79f453a8ee92f816e27bec0",
    "time": "2021-01-19T19:01:51.250Z",
    "type": "completion"
   },
   {
    "code": "queryToDataframe(c.execute(\"\"\"\nSELECT * FROM method  LIMIT 5\n\"\"\"))",
    "id": "4adc354af79f453a8ee92f816e27bec0",
    "idx": 26,
    "time": "2021-01-19T19:02:23.302Z",
    "type": "execution"
   },
   {
    "id": "4adc354af79f453a8ee92f816e27bec0",
    "time": "2021-01-19T19:02:23.405Z",
    "type": "completion"
   },
   {
    "code": "def queryToDataframe(query):\n    \"\"\"\n    Takes a sql query.\n    Returns a dataframe with column names and records.\n    \"\"\"\n    colnames = query.description\n    numcols = len(colnames)\n    \n    cols = []\n    for col in range(numcols):\n        cols.append(colnames[col][0])\n    \n    rows = query.fetchall()\n    \n    df = pd.DataFrame(rows, columns = cols)\n    return df",
    "id": "540daf83842647379a3c68b83bd55b3c",
    "idx": 21,
    "time": "2021-01-19T19:02:43.103Z",
    "type": "execution"
   },
   {
    "id": "540daf83842647379a3c68b83bd55b3c",
    "time": "2021-01-19T19:02:43.163Z",
    "type": "completion"
   },
   {
    "code": "queryToDataframe(\"\"\"\nSELECT * FROM method  LIMIT 5\n\"\"\")",
    "id": "4adc354af79f453a8ee92f816e27bec0",
    "idx": 26,
    "time": "2021-01-19T19:02:56.087Z",
    "type": "execution"
   },
   {
    "id": "4adc354af79f453a8ee92f816e27bec0",
    "time": "2021-01-19T19:02:56.157Z",
    "type": "completion"
   },
   {
    "code": "import sqlite3\nimport pandas as pd\nimport numpy as np\nimport matplotlib.pyplot as plt",
    "id": "559ae0eed80847e68780ba401781e336",
    "idx": 2,
    "time": "2021-01-19T20:59:11.232Z",
    "type": "execution"
   },
   {
    "code": "#Make a connection\ncon = sqlite3.connect('database.sqlite')\n\n#Make a cursor instance\nc = con.cursor()",
    "id": "9b49cac7fbf44ab4abab65791939bbd9",
    "idx": 4,
    "time": "2021-01-19T20:59:11.814Z",
    "type": "execution"
   },
   {
    "id": "559ae0eed80847e68780ba401781e336",
    "time": "2021-01-19T20:59:11.950Z",
    "type": "completion"
   },
   {
    "id": "9b49cac7fbf44ab4abab65791939bbd9",
    "time": "2021-01-19T20:59:11.952Z",
    "type": "completion"
   },
   {
    "code": "#Look at all of the tables within the sqlite databes\ndef table_names():\n    query = \"\"\"\n    SELECT NAME \n    FROM SQLITE_MASTER \n    WHERE type= 'table';\n    \"\"\"\n    c.execute(query)\n    \n    tables = []\n    for row in c.fetchall():\n        tables.append(row[0])\n    \n    return tables",
    "id": "3ab248e71e3d4f009d98de0388d67b2b",
    "idx": 6,
    "time": "2021-01-19T20:59:12.757Z",
    "type": "execution"
   },
   {
    "id": "3ab248e71e3d4f009d98de0388d67b2b",
    "time": "2021-01-19T20:59:12.813Z",
    "type": "completion"
   },
   {
    "code": "all_tables = table_names()\n\nfor table in all_tables:\n    print(table)",
    "id": "3d1daffb1a7c45af8fb0dc30e199af03",
    "idx": 7,
    "time": "2021-01-19T20:59:13.121Z",
    "type": "execution"
   },
   {
    "id": "3d1daffb1a7c45af8fb0dc30e199af03",
    "time": "2021-01-19T20:59:13.209Z",
    "type": "completion"
   },
   {
    "code": "def col_info():\n    #Get table names\n    tables = table_names()\n    \n    #Initialize dataframes for each table\n    dfs = {}\n\n    for table in tables:\n        #d[table] = pd.DataFrame()\n        \n        query = f\"\"\"\n        PRAGMA table_info({table})\n        \"\"\"\n        c.execute(query)\n        \n        Column = []\n        Type = []\n        Not_Null = []\n        Primary_Key = []\n        \n        for row in c:\n            Column.append(row[1])\n            Type.append(row[2])\n            if row[3]:\n                Not_Null.append(\"YES\")\n            else:\n                Not_Null.append(\"NO\")\n            if row[5]:\n                Primary_Key.append(\"YES\")\n            else:\n                Primary_Key.append(\"\")\n            \n        dfs[table] = pd.DataFrame({\"Column\" : Column,\n                          \"Type\" : Type,\n                          \"Not_Null\" : Not_Null,\n                          \"Primary_Key\" : Primary_Key})\n    return dfs ",
    "id": "2c93132de0304a90a98f5b224fa29ac4",
    "idx": 9,
    "time": "2021-01-19T20:59:13.548Z",
    "type": "execution"
   },
   {
    "id": "2c93132de0304a90a98f5b224fa29ac4",
    "time": "2021-01-19T20:59:13.606Z",
    "type": "completion"
   },
   {
    "code": "column_info_dfs = col_info()",
    "id": "1a090bb85cb54c8c82c5c1002aeb2d95",
    "idx": 10,
    "time": "2021-01-19T20:59:13.773Z",
    "type": "execution"
   },
   {
    "id": "1a090bb85cb54c8c82c5c1002aeb2d95",
    "time": "2021-01-19T20:59:13.850Z",
    "type": "completion"
   },
   {
    "code": "column_info_dfs[\"user\"]",
    "id": "8df43d3d87ec43a8885ef8b3bfefabd0",
    "idx": 12,
    "time": "2021-01-19T20:59:14.248Z",
    "type": "execution"
   },
   {
    "id": "8df43d3d87ec43a8885ef8b3bfefabd0",
    "time": "2021-01-19T20:59:14.359Z",
    "type": "completion"
   },
   {
    "code": "column_info_dfs[\"method\"]",
    "id": "7492d3f512454c5e8d72d0be5db333b4",
    "idx": 13,
    "time": "2021-01-19T20:59:14.493Z",
    "type": "execution"
   },
   {
    "id": "7492d3f512454c5e8d72d0be5db333b4",
    "time": "2021-01-19T20:59:14.592Z",
    "type": "completion"
   },
   {
    "code": "column_info_dfs[\"grade\"]",
    "id": "e924ceafee894931a379520b248733a5",
    "idx": 14,
    "time": "2021-01-19T20:59:14.785Z",
    "type": "execution"
   },
   {
    "id": "e924ceafee894931a379520b248733a5",
    "time": "2021-01-19T20:59:14.853Z",
    "type": "completion"
   },
   {
    "code": "column_info_dfs[\"ascent\"]",
    "id": "53c702ddef2c4c9e8b16c863d38768c6",
    "idx": 15,
    "time": "2021-01-19T20:59:15.076Z",
    "type": "execution"
   },
   {
    "id": "53c702ddef2c4c9e8b16c863d38768c6",
    "time": "2021-01-19T20:59:15.149Z",
    "type": "completion"
   },
   {
    "code": "def countRows():\n    #Get table names\n    tables = table_names()\n    \n    for table in tables:\n        query = f\"\"\"\n        SELECT COUNT(id)\n        FROM {table}\n        \"\"\"\n        count = c.execute(query).fetchall()[0][0]\n        print(f\"{table} table:  {count} rows\")\n        ",
    "id": "5215ed043dc1407c889d7e6288f3ee8a",
    "idx": 17,
    "time": "2021-01-19T20:59:15.931Z",
    "type": "execution"
   },
   {
    "id": "5215ed043dc1407c889d7e6288f3ee8a",
    "time": "2021-01-19T20:59:16.074Z",
    "type": "completion"
   },
   {
    "code": "countRows()",
    "id": "dbb0e095d4994e24b78e6837445838e1",
    "idx": 18,
    "time": "2021-01-19T20:59:16.720Z",
    "type": "execution"
   },
   {
    "id": "dbb0e095d4994e24b78e6837445838e1",
    "time": "2021-01-19T20:59:19.019Z",
    "type": "completion"
   },
   {
    "code": "def queryToDataframe(query):\n    \"\"\"\n    Takes a sql query.\n    Returns a dataframe with column names and records.\n    \"\"\"\n    colnames = query.description\n    numcols = len(colnames)\n    \n    cols = []\n    for col in range(numcols):\n        cols.append(colnames[col][0])\n    \n    rows = query.fetchall()\n    \n    df = pd.DataFrame(rows, columns = cols)\n    return df",
    "id": "03d2c7ded7d841148ae98773c905cf0c",
    "idx": 21,
    "time": "2021-01-19T20:59:21.177Z",
    "type": "execution"
   },
   {
    "id": "03d2c7ded7d841148ae98773c905cf0c",
    "time": "2021-01-19T20:59:21.238Z",
    "type": "completion"
   },
   {
    "code": "queryToDataframe(c.execute(\"\"\"\nSELECT * FROM method  LIMIT 5\n\"\"\"))",
    "id": "517024a30af34bbdb808903970a9f32c",
    "idx": 25,
    "time": "2021-01-19T21:00:18.629Z",
    "type": "execution"
   },
   {
    "id": "517024a30af34bbdb808903970a9f32c",
    "time": "2021-01-19T21:00:18.781Z",
    "type": "completion"
   },
   {
    "code": "import sqlite3\nimport pandas as pd\nimport numpy as np\nimport matplotlib.pyplot as plt",
    "id": "4b1e54fd3e4945b88c09b6da0e344e79",
    "idx": 2,
    "time": "2021-01-20T23:50:57.052Z",
    "type": "execution"
   },
   {
    "code": "#Make a connection\ncon = sqlite3.connect('database.sqlite')\n\n#Make a cursor instance\nc = con.cursor()",
    "id": "d16d18a7d96f4421ae2fadb1aa3fec1b",
    "idx": 4,
    "time": "2021-01-20T23:50:58.013Z",
    "type": "execution"
   },
   {
    "id": "4b1e54fd3e4945b88c09b6da0e344e79",
    "time": "2021-01-20T23:50:58.038Z",
    "type": "completion"
   },
   {
    "id": "d16d18a7d96f4421ae2fadb1aa3fec1b",
    "time": "2021-01-20T23:50:58.074Z",
    "type": "completion"
   },
   {
    "code": "#Look at all of the tables within the sqlite databes\ndef table_names():\n    query = \"\"\"\n    SELECT NAME \n    FROM SQLITE_MASTER \n    WHERE type= 'table';\n    \"\"\"\n    c.execute(query)\n    \n    tables = []\n    for row in c.fetchall():\n        tables.append(row[0])\n    \n    return tables",
    "id": "223de227ca89413c85995c59e583fc41",
    "idx": 6,
    "time": "2021-01-20T23:50:59.636Z",
    "type": "execution"
   },
   {
    "id": "223de227ca89413c85995c59e583fc41",
    "time": "2021-01-20T23:50:59.695Z",
    "type": "completion"
   },
   {
    "code": "all_tables = table_names()\n\nfor table in all_tables:\n    print(table)",
    "id": "0787981a2bbb43ad8b0a501bec10119f",
    "idx": 7,
    "time": "2021-01-20T23:51:00.441Z",
    "type": "execution"
   },
   {
    "id": "0787981a2bbb43ad8b0a501bec10119f",
    "time": "2021-01-20T23:51:00.506Z",
    "type": "completion"
   },
   {
    "code": "def col_info():\n    #Get table names\n    tables = table_names()\n    \n    #Initialize dataframes for each table\n    dfs = {}\n\n    for table in tables:\n        #d[table] = pd.DataFrame()\n        \n        query = f\"\"\"\n        PRAGMA table_info({table})\n        \"\"\"\n        c.execute(query)\n        \n        Column = []\n        Type = []\n        Not_Null = []\n        Primary_Key = []\n        \n        for row in c:\n            Column.append(row[1])\n            Type.append(row[2])\n            if row[3]:\n                Not_Null.append(\"YES\")\n            else:\n                Not_Null.append(\"NO\")\n            if row[5]:\n                Primary_Key.append(\"YES\")\n            else:\n                Primary_Key.append(\"\")\n            \n        dfs[table] = pd.DataFrame({\"Column\" : Column,\n                          \"Type\" : Type,\n                          \"Not_Null\" : Not_Null,\n                          \"Primary_Key\" : Primary_Key})\n    return dfs ",
    "id": "a3ebaa238840496c9610f830f0d339fe",
    "idx": 9,
    "time": "2021-01-20T23:51:27.329Z",
    "type": "execution"
   },
   {
    "id": "a3ebaa238840496c9610f830f0d339fe",
    "time": "2021-01-20T23:51:27.391Z",
    "type": "completion"
   },
   {
    "code": "column_info_dfs = col_info()",
    "id": "1a127c080bbe455395ea4c8b4f448b0d",
    "idx": 10,
    "time": "2021-01-20T23:51:28.164Z",
    "type": "execution"
   },
   {
    "id": "1a127c080bbe455395ea4c8b4f448b0d",
    "time": "2021-01-20T23:51:28.239Z",
    "type": "completion"
   },
   {
    "code": "column_info_dfs[\"user\"]",
    "id": "4654a73fc5e94a48a1d27c89912bb68b",
    "idx": 12,
    "time": "2021-01-20T23:51:31.255Z",
    "type": "execution"
   },
   {
    "id": "4654a73fc5e94a48a1d27c89912bb68b",
    "time": "2021-01-20T23:51:31.328Z",
    "type": "completion"
   },
   {
    "code": "column_info_dfs[\"method\"]",
    "id": "71a39d6c2d9f4cb1ae90ede6aedf4c73",
    "idx": 13,
    "time": "2021-01-20T23:53:22.959Z",
    "type": "execution"
   },
   {
    "id": "71a39d6c2d9f4cb1ae90ede6aedf4c73",
    "time": "2021-01-20T23:53:23.068Z",
    "type": "completion"
   },
   {
    "code": "column_info_dfs[\"grade\"]",
    "id": "d1db4b5261ca46eb8dcd7ae2e4c27417",
    "idx": 14,
    "time": "2021-01-20T23:53:57.811Z",
    "type": "execution"
   },
   {
    "id": "d1db4b5261ca46eb8dcd7ae2e4c27417",
    "time": "2021-01-20T23:53:57.879Z",
    "type": "completion"
   },
   {
    "code": "column_info_dfs[\"ascent\"]",
    "id": "32c61ebca71845758428fd8489f714e8",
    "idx": 15,
    "time": "2021-01-20T23:54:53.275Z",
    "type": "execution"
   },
   {
    "id": "32c61ebca71845758428fd8489f714e8",
    "time": "2021-01-20T23:54:53.406Z",
    "type": "completion"
   },
   {
    "code": "def countRows():\n    #Get table names\n    tables = table_names()\n    \n    for table in tables:\n        query = f\"\"\"\n        SELECT COUNT(id)\n        FROM {table}\n        \"\"\"\n        count = c.execute(query).fetchall()[0][0]\n        print(f\"{table} table:  {count} rows\")\n        ",
    "id": "d9c799acf4aa4fa69a953d869f85ae10",
    "idx": 17,
    "time": "2021-01-20T23:54:56.809Z",
    "type": "execution"
   },
   {
    "id": "d9c799acf4aa4fa69a953d869f85ae10",
    "time": "2021-01-20T23:54:56.862Z",
    "type": "completion"
   },
   {
    "code": "countRows()",
    "id": "e9cebbf4f5da4369960140a0f6b4d340",
    "idx": 18,
    "time": "2021-01-20T23:54:58.091Z",
    "type": "execution"
   },
   {
    "id": "e9cebbf4f5da4369960140a0f6b4d340",
    "time": "2021-01-20T23:55:00.148Z",
    "type": "completion"
   },
   {
    "code": "countRows()",
    "id": "e9cebbf4f5da4369960140a0f6b4d340",
    "idx": 18,
    "time": "2021-01-20T23:55:57.478Z",
    "type": "execution"
   },
   {
    "id": "e9cebbf4f5da4369960140a0f6b4d340",
    "time": "2021-01-20T23:55:58.390Z",
    "type": "completion"
   },
   {
    "code": "queryToDataframe(c.execute(\"\"\"\nSELECT COUNT(year) AS count, year\nFROM user\nGROUBY(year)\n\"\"\"))",
    "id": "1c4254c32fa94563879043b53a7d5d2d",
    "idx": 25,
    "time": "2021-01-21T00:07:06.955Z",
    "type": "execution"
   },
   {
    "id": "1c4254c32fa94563879043b53a7d5d2d",
    "time": "2021-01-21T00:07:07.130Z",
    "type": "completion"
   },
   {
    "code": "def queryToDataframe(query):\n    \"\"\"\n    Takes a sql query.\n    Returns a dataframe with column names and records.\n    \"\"\"\n    colnames = query.description\n    numcols = len(colnames)\n    \n    cols = []\n    for col in range(numcols):\n        cols.append(colnames[col][0])\n    \n    rows = query.fetchall()\n    \n    df = pd.DataFrame(rows, columns = cols)\n    return df",
    "id": "8b57d314a23741639b96cd128db4f010",
    "idx": 21,
    "time": "2021-01-21T00:07:13.767Z",
    "type": "execution"
   },
   {
    "id": "8b57d314a23741639b96cd128db4f010",
    "time": "2021-01-21T00:07:13.822Z",
    "type": "completion"
   },
   {
    "code": "# Get count of all users who started in a given year\n\n",
    "id": "3d618f64ff1a42adae9371f6812a70a8",
    "idx": 23,
    "time": "2021-01-21T00:07:14.296Z",
    "type": "execution"
   },
   {
    "id": "3d618f64ff1a42adae9371f6812a70a8",
    "time": "2021-01-21T00:07:14.349Z",
    "type": "completion"
   },
   {
    "code": "# Most climbers did not input the year they started climbing.\n# Aside from that, it appears most climbers started in the 2000s. \n",
    "id": "90d5d36af6ce4c2287245e7d1bbf3614",
    "idx": 24,
    "time": "2021-01-21T00:07:14.678Z",
    "type": "execution"
   },
   {
    "id": "90d5d36af6ce4c2287245e7d1bbf3614",
    "time": "2021-01-21T00:07:14.735Z",
    "type": "completion"
   },
   {
    "code": "queryToDataframe(c.execute(\"\"\"\nSELECT COUNT(year) AS count, year\nFROM user\nGROUBY(year)\n\"\"\"))",
    "id": "1c4254c32fa94563879043b53a7d5d2d",
    "idx": 25,
    "time": "2021-01-21T00:07:15.446Z",
    "type": "execution"
   },
   {
    "id": "1c4254c32fa94563879043b53a7d5d2d",
    "time": "2021-01-21T00:07:15.578Z",
    "type": "completion"
   },
   {
    "code": "queryToDataframe(c.execute(\"\"\"\nSELECT COUNT(year) AS count, year\nFROM user\nGROUP BY(year)\n\"\"\"))",
    "id": "1c4254c32fa94563879043b53a7d5d2d",
    "idx": 25,
    "time": "2021-01-21T00:07:53.312Z",
    "type": "execution"
   },
   {
    "id": "1c4254c32fa94563879043b53a7d5d2d",
    "time": "2021-01-21T00:07:53.412Z",
    "type": "completion"
   },
   {
    "code": "queryToDataframe(c.execute(\"\"\"\nSELECT COUNT(start) AS count, start\nFROM user\nGROUP BY(start)\n\"\"\"))",
    "id": "1c4254c32fa94563879043b53a7d5d2d",
    "idx": 25,
    "time": "2021-01-21T00:08:18.084Z",
    "type": "execution"
   },
   {
    "id": "1c4254c32fa94563879043b53a7d5d2d",
    "time": "2021-01-21T00:08:18.181Z",
    "type": "completion"
   },
   {
    "code": "queryToDataframe(c.execute(\"\"\"\nSELECT COUNT(started) AS count, started\nFROM user\nGROUP BY(started)\n\"\"\"))",
    "id": "1c4254c32fa94563879043b53a7d5d2d",
    "idx": 25,
    "time": "2021-01-21T00:08:29.581Z",
    "type": "execution"
   },
   {
    "id": "1c4254c32fa94563879043b53a7d5d2d",
    "time": "2021-01-21T00:08:29.736Z",
    "type": "completion"
   },
   {
    "code": "queryToDataframe(c.execute(\"\"\"\nSELECT COUNT(started) AS count, started\nFROM user\nGROUP BY(started)\nORDER DESC(count)\n\"\"\"))",
    "id": "1c4254c32fa94563879043b53a7d5d2d",
    "idx": 25,
    "time": "2021-01-21T00:08:55.165Z",
    "type": "execution"
   },
   {
    "id": "1c4254c32fa94563879043b53a7d5d2d",
    "time": "2021-01-21T00:08:55.490Z",
    "type": "completion"
   },
   {
    "code": "queryToDataframe(c.execute(\"\"\"\nSELECT COUNT(started) AS count, started\nFROM user\nGROUP BY(started)\n\"\"\"))",
    "id": "1c4254c32fa94563879043b53a7d5d2d",
    "idx": 25,
    "time": "2021-01-21T00:09:05.583Z",
    "type": "execution"
   },
   {
    "id": "1c4254c32fa94563879043b53a7d5d2d",
    "time": "2021-01-21T00:09:05.703Z",
    "type": "completion"
   },
   {
    "code": "start_year_count = queryToDataframe(c.execute(\"\"\"\nSELECT COUNT(started) AS count, started\nFROM user\nGROUP BY(started)\n\"\"\"))",
    "id": "1c4254c32fa94563879043b53a7d5d2d",
    "idx": 25,
    "time": "2021-01-21T00:09:28.066Z",
    "type": "execution"
   },
   {
    "id": "1c4254c32fa94563879043b53a7d5d2d",
    "time": "2021-01-21T00:09:28.168Z",
    "type": "completion"
   },
   {
    "code": "start_year_count = queryToDataframe(c.execute(\"\"\"\nSELECT COUNT(started) AS count, started\nFROM user\nWHERE started BETWEEN 1920 AND 2017\nGROUP BY(started)\n\"\"\"))",
    "id": "1c4254c32fa94563879043b53a7d5d2d",
    "idx": 25,
    "time": "2021-01-21T00:11:08.547Z",
    "type": "execution"
   },
   {
    "id": "1c4254c32fa94563879043b53a7d5d2d",
    "time": "2021-01-21T00:11:08.634Z",
    "type": "completion"
   },
   {
    "code": "start_year_count",
    "id": "43a290b2571f4f8e8016135baa207539",
    "idx": 26,
    "time": "2021-01-21T00:11:10.031Z",
    "type": "execution"
   },
   {
    "id": "43a290b2571f4f8e8016135baa207539",
    "time": "2021-01-21T00:11:10.098Z",
    "type": "completion"
   },
   {
    "code": "start_year_count = queryToDataframe(c.execute(\"\"\"\nSELECT COUNT(started) AS count, started\nFROM user\nWHERE started BETWEEN 1920 AND 2017\nGROUP BY(started)\nORDER BY started DESC\n\"\"\"))",
    "id": "1c4254c32fa94563879043b53a7d5d2d",
    "idx": 25,
    "time": "2021-01-21T00:11:36.447Z",
    "type": "execution"
   },
   {
    "id": "1c4254c32fa94563879043b53a7d5d2d",
    "time": "2021-01-21T00:11:36.544Z",
    "type": "completion"
   },
   {
    "code": "start_year_count",
    "id": "43a290b2571f4f8e8016135baa207539",
    "idx": 26,
    "time": "2021-01-21T00:11:36.873Z",
    "type": "execution"
   },
   {
    "id": "43a290b2571f4f8e8016135baa207539",
    "time": "2021-01-21T00:11:36.935Z",
    "type": "completion"
   },
   {
    "code": "start_year_count.plot()",
    "id": "43a290b2571f4f8e8016135baa207539",
    "idx": 24,
    "time": "2021-01-21T00:18:36.481Z",
    "type": "execution"
   },
   {
    "id": "43a290b2571f4f8e8016135baa207539",
    "time": "2021-01-21T00:18:36.867Z",
    "type": "completion"
   },
   {
    "code": "start_year_count",
    "id": "43a290b2571f4f8e8016135baa207539",
    "idx": 24,
    "time": "2021-01-21T00:18:55.381Z",
    "type": "execution"
   },
   {
    "id": "43a290b2571f4f8e8016135baa207539",
    "time": "2021-01-21T00:18:55.449Z",
    "type": "completion"
   },
   {
    "code": "queryToDataframe(c.execute(\"\"\"\nSELECT *\nFROM grade\nLIMIT 5\n\"\"\"))",
    "id": "10598f1812114a1c8d48b55bcf4c0df8",
    "idx": 24,
    "time": "2021-01-21T00:24:01.243Z",
    "type": "execution"
   },
   {
    "id": "10598f1812114a1c8d48b55bcf4c0df8",
    "time": "2021-01-21T00:24:01.323Z",
    "type": "completion"
   },
   {
    "code": "queryToDataframe(c.execute(\"\"\"\nSELECT *\nFROM grade\nLIMIT 10\n\"\"\"))",
    "id": "10598f1812114a1c8d48b55bcf4c0df8",
    "idx": 24,
    "time": "2021-01-21T00:24:12.183Z",
    "type": "execution"
   },
   {
    "id": "10598f1812114a1c8d48b55bcf4c0df8",
    "time": "2021-01-21T00:24:12.258Z",
    "type": "completion"
   },
   {
    "code": "start_year_count = queryToDataframe(c.execute(\"\"\"\nSELECT COUNT(started) AS count, started AS year\nFROM user\nWHERE started BETWEEN 1920 AND 2017\nGROUP BY(started)\nORDER BY started DESC\n\"\"\"))",
    "id": "1c4254c32fa94563879043b53a7d5d2d",
    "idx": 22,
    "time": "2021-01-21T00:25:47.612Z",
    "type": "execution"
   },
   {
    "id": "1c4254c32fa94563879043b53a7d5d2d",
    "time": "2021-01-21T00:25:47.705Z",
    "type": "completion"
   },
   {
    "code": "start_year_count",
    "id": "43a290b2571f4f8e8016135baa207539",
    "idx": 23,
    "time": "2021-01-21T00:25:48.527Z",
    "type": "execution"
   },
   {
    "id": "43a290b2571f4f8e8016135baa207539",
    "time": "2021-01-21T00:25:48.593Z",
    "type": "completion"
   },
   {
    "code": "start_year_count = queryToDataframe(c.execute(\"\"\"\nSELECT COUNT(started) AS total, started AS year\nFROM user\nWHERE started BETWEEN 1920 AND 2017\nGROUP BY(started)\nORDER BY started DESC\n\"\"\"))",
    "id": "1c4254c32fa94563879043b53a7d5d2d",
    "idx": 22,
    "time": "2021-01-21T00:26:01.535Z",
    "type": "execution"
   },
   {
    "id": "1c4254c32fa94563879043b53a7d5d2d",
    "time": "2021-01-21T00:26:01.624Z",
    "type": "completion"
   },
   {
    "code": "start_year_count",
    "id": "43a290b2571f4f8e8016135baa207539",
    "idx": 23,
    "time": "2021-01-21T00:26:01.985Z",
    "type": "execution"
   },
   {
    "id": "43a290b2571f4f8e8016135baa207539",
    "time": "2021-01-21T00:26:02.046Z",
    "type": "completion"
   },
   {
    "code": "start_year_count = queryToDataframe(c.execute(\"\"\"\nSELECT COUNT(started) AS total, started AS year\nFROM user\nWHERE year BETWEEN 1920 AND 2017\nGROUP BY(year)\nORDER BY year DESC\n\"\"\"))",
    "id": "1c4254c32fa94563879043b53a7d5d2d",
    "idx": 22,
    "time": "2021-01-21T00:32:14.362Z",
    "type": "execution"
   },
   {
    "id": "1c4254c32fa94563879043b53a7d5d2d",
    "time": "2021-01-21T00:32:14.493Z",
    "type": "completion"
   },
   {
    "code": "start_year_count",
    "id": "43a290b2571f4f8e8016135baa207539",
    "idx": 23,
    "time": "2021-01-21T00:32:14.722Z",
    "type": "execution"
   },
   {
    "id": "43a290b2571f4f8e8016135baa207539",
    "time": "2021-01-21T00:32:14.837Z",
    "type": "completion"
   },
   {
    "code": "queryToDataframe(c.execute(\"\"\"\nSELECT name,sex\nFROM user\nLIMIT 10\n\"\"\"))",
    "id": "10598f1812114a1c8d48b55bcf4c0df8",
    "idx": 24,
    "time": "2021-01-21T00:35:49.947Z",
    "type": "execution"
   },
   {
    "id": "10598f1812114a1c8d48b55bcf4c0df8",
    "time": "2021-01-21T00:35:50.069Z",
    "type": "completion"
   },
   {
    "code": "queryToDataframe(c.execute(\"\"\"\nSELECT first_name, sex\nFROM user\nLIMIT 10\n\"\"\"))",
    "id": "10598f1812114a1c8d48b55bcf4c0df8",
    "idx": 24,
    "time": "2021-01-21T00:36:00.628Z",
    "type": "execution"
   },
   {
    "id": "10598f1812114a1c8d48b55bcf4c0df8",
    "time": "2021-01-21T00:36:00.701Z",
    "type": "completion"
   },
   {
    "code": "queryToDataframe(c.execute(\"\"\"\nSELECT first_name, sex\nFROM user\nLIMIT 20\n\"\"\"))",
    "id": "10598f1812114a1c8d48b55bcf4c0df8",
    "idx": 24,
    "time": "2021-01-21T00:36:10.843Z",
    "type": "execution"
   },
   {
    "id": "10598f1812114a1c8d48b55bcf4c0df8",
    "time": "2021-01-21T00:36:10.950Z",
    "type": "completion"
   },
   {
    "code": "queryToDataframe(c.execute(\"\"\"\nSELECT first_name, sex\nORDER BY RANDOM()\nFROM user\nLIMIT 20\n\"\"\"))",
    "id": "10598f1812114a1c8d48b55bcf4c0df8",
    "idx": 24,
    "time": "2021-01-21T00:36:30.465Z",
    "type": "execution"
   },
   {
    "id": "10598f1812114a1c8d48b55bcf4c0df8",
    "time": "2021-01-21T00:36:30.568Z",
    "type": "completion"
   },
   {
    "code": "queryToDataframe(c.execute(\"\"\"\nSELECT first_name, sex\nFROM user\nORDER BY RANDOM()\nLIMIT 20\n\"\"\"))",
    "id": "10598f1812114a1c8d48b55bcf4c0df8",
    "idx": 24,
    "time": "2021-01-21T00:36:38.765Z",
    "type": "execution"
   },
   {
    "id": "10598f1812114a1c8d48b55bcf4c0df8",
    "time": "2021-01-21T00:36:38.911Z",
    "type": "completion"
   },
   {
    "code": "start_year_count = queryToDataframe(c.execute(\"\"\"\nWITH all AS \n(\nSELECT COUNT(started) AS total, started AS year\nFROM user\nWHERE year BETWEEN 1920 AND 2017\nGROUP BY(year)\nORDER BY year DESC\n),\n\nWITH female AS\n(\nSELECT COUNT(started) AS female, started AS year\nFROM user\nWHERE sex = '1'\n    AND year BETWEEN 1920 AND 2017\nGROUP BY(year)\nORDER BY year DESC\n)\n\nSELECT year, total\nFROM all\nINNER JOIN all.year = female.year\n\"\"\"))",
    "id": "1c4254c32fa94563879043b53a7d5d2d",
    "idx": 22,
    "time": "2021-01-21T00:44:38.494Z",
    "type": "execution"
   },
   {
    "id": "1c4254c32fa94563879043b53a7d5d2d",
    "time": "2021-01-21T00:44:38.594Z",
    "type": "completion"
   },
   {
    "code": "start_year_count_all = queryToDataframe(c.execute(\"\"\"\nSELECT COUNT(started) AS total, started AS year\nFROM user\nWHERE year BETWEEN 1920 AND 2017\nGROUP BY(year)\nORDER BY year DESC\n\"\"\"))",
    "id": "1c4254c32fa94563879043b53a7d5d2d",
    "idx": 22,
    "time": "2021-01-21T00:49:42.975Z",
    "type": "execution"
   },
   {
    "id": "1c4254c32fa94563879043b53a7d5d2d",
    "time": "2021-01-21T00:49:43.067Z",
    "type": "completion"
   },
   {
    "code": "start_year_count_all",
    "id": "a5ebbb6aa60a41db8d662c5c40717dff",
    "idx": 23,
    "time": "2021-01-21T00:49:54.825Z",
    "type": "execution"
   },
   {
    "id": "a5ebbb6aa60a41db8d662c5c40717dff",
    "time": "2021-01-21T00:49:54.946Z",
    "type": "completion"
   },
   {
    "code": "def queryToDataframe(query):\n    \"\"\"\n    Takes a sql query.\n    Returns a dataframe with column names and records.\n    \"\"\"\n    sql = c.execute(query)\n    colnames = sql.description\n    numcols = len(colnames)\n    \n    cols = []\n    for col in range(numcols):\n        cols.append(colnames[col][0])\n    \n    rows = sql.fetchall()\n    \n    df = pd.DataFrame(rows, columns = cols)\n    return df",
    "id": "8b57d314a23741639b96cd128db4f010",
    "idx": 20,
    "time": "2021-01-21T01:10:49.358Z",
    "type": "execution"
   },
   {
    "id": "8b57d314a23741639b96cd128db4f010",
    "time": "2021-01-21T01:10:49.430Z",
    "type": "completion"
   },
   {
    "code": "start_year_count_all = queryToDataframe(\"\"\"\nSELECT COUNT(started) AS total, started AS year\nFROM user\nWHERE year BETWEEN 1920 AND 2017\nGROUP BY(year)\nORDER BY year DESC\n\"\"\")",
    "id": "1c4254c32fa94563879043b53a7d5d2d",
    "idx": 22,
    "time": "2021-01-21T01:10:56.459Z",
    "type": "execution"
   },
   {
    "id": "1c4254c32fa94563879043b53a7d5d2d",
    "time": "2021-01-21T01:10:56.558Z",
    "type": "completion"
   },
   {
    "code": "start_year_count_all",
    "id": "a5ebbb6aa60a41db8d662c5c40717dff",
    "idx": 23,
    "time": "2021-01-21T01:10:58.079Z",
    "type": "execution"
   },
   {
    "id": "a5ebbb6aa60a41db8d662c5c40717dff",
    "time": "2021-01-21T01:10:58.161Z",
    "type": "completion"
   },
   {
    "code": "start_year_segmented = queryToDataframe(\"\"\"\nWITH t AS\n    (\n    SELECT COUNT(started) AS total, started AS year\n    FROM user\n    WHERE year BETWEEN 1920 AND 2017\n    GROUP BY(year)\n    )\nWITH f AS\n    (\n    SELECT COUNT(started) AS female, started AS year\n    FROM user\n    WHERE year BETWEEN 1920 AND 2017\n        AND sex = 1\n    GROUP BY(year)\n    )\n    \nWITH m AS\n    (\n    SELECT COUNT(started) AS male, started AS year\n    FROM user\n    WHERE year BETWEEN 1920 AND 2017\n        AND sex = 0\n    GROUP BY(year)\n    )\n\nSELECT year, total, female, male\nFROM \n    t\nINNER JOIN f ON f.year = t.year\nINNER JOIN m.year ON m.year = t.year\nORDER year DESC\n\"\"\")",
    "id": "9093f78a81894d06a3935641f0122f06",
    "idx": 24,
    "time": "2021-01-21T01:40:33.209Z",
    "type": "execution"
   },
   {
    "id": "9093f78a81894d06a3935641f0122f06",
    "time": "2021-01-21T01:40:33.330Z",
    "type": "completion"
   },
   {
    "code": "queryToDataframe(\"\"\"\nWITH t AS\n    (\n    SELECT COUNT(started) AS total, started AS year\n    FROM user\n    WHERE year BETWEEN 1920 AND 2017\n    GROUP BY(year)\n    )\nSELECT * t\n\"\"\"",
    "id": "b59103f0804046f68417ba24797bad20",
    "idx": 24,
    "time": "2021-01-21T01:46:03.629Z",
    "type": "execution"
   },
   {
    "id": "b59103f0804046f68417ba24797bad20",
    "time": "2021-01-21T01:46:03.690Z",
    "type": "completion"
   },
   {
    "code": "queryToDataframe(\"\"\"\nWITH t AS\n    (\n    SELECT COUNT(started) AS total, started AS year\n    FROM user\n    WHERE year BETWEEN 1920 AND 2017\n    GROUP BY(year)\n    )\nSELECT * t\n\"\"\")",
    "id": "b59103f0804046f68417ba24797bad20",
    "idx": 24,
    "time": "2021-01-21T01:46:09.805Z",
    "type": "execution"
   },
   {
    "id": "b59103f0804046f68417ba24797bad20",
    "time": "2021-01-21T01:46:09.919Z",
    "type": "completion"
   },
   {
    "code": "queryToDataframe(\"\"\"\nWITH t AS\n    (\n    SELECT * FROM method\n    )\nSELECT * FROM t\n\"\"\")",
    "id": "b59103f0804046f68417ba24797bad20",
    "idx": 24,
    "time": "2021-01-21T01:52:44.110Z",
    "type": "execution"
   },
   {
    "id": "b59103f0804046f68417ba24797bad20",
    "time": "2021-01-21T01:52:44.212Z",
    "type": "completion"
   },
   {
    "code": "queryToDataframe(\"\"\"\nWITH t AS\n    (\n    SELECT COUNT(started) AS total, started AS year\n    FROM user\n    WHERE year BETWEEN 1920 AND 2017\n    GROUP BY(year)\n    )\nWITH f AS\n    (\n    SELECT COUNT(started) AS female, started AS year\n    FROM user\n    WHERE year BETWEEN 1920 AND 2017\n        AND sex = 1\n    GROUP BY(year)\n    )\nSELECT * from f\n\"\"\")",
    "id": "b59103f0804046f68417ba24797bad20",
    "idx": 24,
    "time": "2021-01-21T01:54:46.568Z",
    "type": "execution"
   },
   {
    "id": "b59103f0804046f68417ba24797bad20",
    "time": "2021-01-21T01:54:46.653Z",
    "type": "completion"
   },
   {
    "code": "queryToDataframe(\"\"\"\nWITH t AS\n    (\n    SELECT COUNT(started) AS total, started AS year\n    FROM user\n    WHERE year BETWEEN 1920 AND 2017\n    GROUP BY(year)\n    ),\nWITH f AS\n    (\n    SELECT COUNT(started) AS female, started AS year\n    FROM user\n    WHERE year BETWEEN 1920 AND 2017\n        AND sex = 1\n    GROUP BY(year)\n    )\nSELECT * from f\n\"\"\")",
    "id": "b59103f0804046f68417ba24797bad20",
    "idx": 24,
    "time": "2021-01-21T01:55:02.556Z",
    "type": "execution"
   },
   {
    "id": "b59103f0804046f68417ba24797bad20",
    "time": "2021-01-21T01:55:02.665Z",
    "type": "completion"
   },
   {
    "code": "queryToDataframe(\"\"\"\nWITH t AS\n    (\n    SELECT COUNT(started) AS total, started AS year\n    FROM user\n    WHERE year BETWEEN 1920 AND 2017\n    GROUP BY(year)\n    ),\nWITH f AS\n    (\n    SELECT COUNT(started) AS female, started AS year\n    FROM user\n    WHERE year BETWEEN 1920 AND 2017\n        AND sex = 1\n    GROUP BY(year)\n    ),\nSELECT * from f\n\"\"\")",
    "id": "b59103f0804046f68417ba24797bad20",
    "idx": 24,
    "time": "2021-01-21T01:55:06.245Z",
    "type": "execution"
   },
   {
    "id": "b59103f0804046f68417ba24797bad20",
    "time": "2021-01-21T01:55:06.350Z",
    "type": "completion"
   },
   {
    "code": "queryToDataframe(\"\"\"\nWITH t AS\n    (\n    SELECT COUNT(started) AS total, started AS year\n    FROM user\n    WHERE year BETWEEN 1920 AND 2017\n    GROUP BY(year)\n    ),\nWITH f AS\n    (\n    SELECT COUNT(started) AS female, started AS year\n    FROM user\n    WHERE year BETWEEN 1920 AND 2017\n        AND sex = 1\n    GROUP BY(year)\n    )\nSELECT * from f\n\"\"\")",
    "id": "b59103f0804046f68417ba24797bad20",
    "idx": 24,
    "time": "2021-01-21T01:55:50.391Z",
    "type": "execution"
   },
   {
    "id": "b59103f0804046f68417ba24797bad20",
    "time": "2021-01-21T01:55:50.509Z",
    "type": "completion"
   },
   {
    "code": "queryToDataframe(\"\"\"\nWITH f AS\n    (\n    SELECT COUNT(started) AS female, started AS year\n    FROM user\n    WHERE year BETWEEN 1920 AND 2017\n        AND sex = 1\n    GROUP BY(year)\n    )\nSELECT * from f\n\"\"\")",
    "id": "b59103f0804046f68417ba24797bad20",
    "idx": 24,
    "time": "2021-01-21T01:56:03.487Z",
    "type": "execution"
   },
   {
    "id": "b59103f0804046f68417ba24797bad20",
    "time": "2021-01-21T01:56:03.631Z",
    "type": "completion"
   },
   {
    "code": "queryToDataframe(\"\"\"\nWITH t AS\n    (\n    SELECT COUNT(started) AS total, started AS year\n    FROM user\n    WHERE year BETWEEN 1920 AND 2017\n    GROUP BY(year)\n    ),\nWITH f AS\n    (\n    SELECT COUNT(started) AS female, started AS year\n    FROM user\n    WHERE year BETWEEN 1920 AND 2017\n        AND sex = 1\n    GROUP BY(year)\n    )\nSELECT * from t, f\n\"\"\")",
    "id": "b59103f0804046f68417ba24797bad20",
    "idx": 24,
    "time": "2021-01-21T01:57:55.809Z",
    "type": "execution"
   },
   {
    "id": "b59103f0804046f68417ba24797bad20",
    "time": "2021-01-21T01:57:55.893Z",
    "type": "completion"
   },
   {
    "code": "queryToDataframe(\"\"\"\nWITH t AS\n    (\n    SELECT COUNT(started) AS total, started AS year\n    FROM user\n    WHERE year BETWEEN 1920 AND 2017\n    GROUP BY(year)\n    ),\nWITH f AS\n    (\n    SELECT COUNT(started) AS female, started AS year\n    FROM user\n    WHERE year BETWEEN 1920 AND 2017\n        AND sex = 1\n    GROUP BY(year)\n    )\nSELECT * FROM t, f\nWHERE t.year = f.year\n\"\"\")",
    "id": "b59103f0804046f68417ba24797bad20",
    "idx": 24,
    "time": "2021-01-21T01:58:59.820Z",
    "type": "execution"
   },
   {
    "id": "b59103f0804046f68417ba24797bad20",
    "time": "2021-01-21T01:58:59.917Z",
    "type": "completion"
   },
   {
    "code": "queryToDataframe(\"\"\"\nWITH t AS\n    (\n    SELECT COUNT(started) AS total, started AS year\n    FROM user\n    WHERE year BETWEEN 1920 AND 2017\n    GROUP BY(year)\n    )\nSELECT * FROM t\n\"\"\")",
    "id": "05c499590e3d41798d499f66245ca456",
    "idx": 24,
    "time": "2021-01-21T01:59:35.731Z",
    "type": "execution"
   },
   {
    "id": "05c499590e3d41798d499f66245ca456",
    "time": "2021-01-21T01:59:35.872Z",
    "type": "completion"
   },
   {
    "code": "queryToDataframe(\"\"\"\nWITH t AS\n    (\n    SELECT COUNT(started) AS total, started AS year\n    FROM user\n    WHERE year BETWEEN 1920 AND 2017\n    GROUP BY(year)\n    ),\nf AS\n    (\n    SELECT COUNT(started) AS female, started AS year\n    FROM user\n    WHERE year BETWEEN 1920 AND 2017\n        AND sex = 1\n    GROUP BY(year)\n    )\nSELECT * FROM t, f\nWHERE t.year = f.year\n\"\"\")",
    "id": "b59103f0804046f68417ba24797bad20",
    "idx": 25,
    "time": "2021-01-21T02:00:08.851Z",
    "type": "execution"
   },
   {
    "id": "b59103f0804046f68417ba24797bad20",
    "time": "2021-01-21T02:00:08.970Z",
    "type": "completion"
   },
   {
    "code": "queryToDataframe(\"\"\"\nWITH t AS\n    (\n    SELECT COUNT(started) AS total, started AS year\n    FROM user\n    WHERE year BETWEEN 1920 AND 2017\n    GROUP BY(year)\n    ),\nf AS\n    (\n    SELECT COUNT(started) AS female, started AS year\n    FROM user\n    WHERE year BETWEEN 1920 AND 2017\n        AND sex = 1\n    GROUP BY(year)\n    )\nSELECT year, total, female FROM t, f\nWHERE t.year = f.year\n\"\"\")",
    "id": "b59103f0804046f68417ba24797bad20",
    "idx": 25,
    "time": "2021-01-21T02:00:52.057Z",
    "type": "execution"
   },
   {
    "id": "b59103f0804046f68417ba24797bad20",
    "time": "2021-01-21T02:00:52.134Z",
    "type": "completion"
   },
   {
    "code": "queryToDataframe(\"\"\"\nWITH t AS\n    (\n    SELECT COUNT(started) AS total, started AS year\n    FROM user\n    WHERE year BETWEEN 1920 AND 2017\n    GROUP BY(year)\n    ),\nf AS\n    (\n    SELECT COUNT(started) AS female, started AS year\n    FROM user\n    WHERE year BETWEEN 1920 AND 2017\n        AND sex = 1\n    GROUP BY(year)\n    )\nSELECT f.year, total, female FROM t, f\nWHERE t.year = f.year\n\"\"\")",
    "id": "b59103f0804046f68417ba24797bad20",
    "idx": 25,
    "time": "2021-01-21T02:00:56.866Z",
    "type": "execution"
   },
   {
    "id": "b59103f0804046f68417ba24797bad20",
    "time": "2021-01-21T02:00:56.985Z",
    "type": "completion"
   },
   {
    "code": "queryToDataframe(\"\"\"\nWITH t AS\n    (\n    SELECT COUNT(started) AS total, started AS year\n    FROM user\n    WHERE year BETWEEN 1920 AND 2017\n    GROUP BY(year)\n    ),\nf AS\n    (\n    SELECT COUNT(started) AS female, started AS year\n    FROM user\n    WHERE year BETWEEN 1920 AND 2017\n        AND sex = 1\n    GROUP BY(year)\n    )\nSELECT f.year, t.total, f.female FROM t, f\nWHERE t.year = f.year\n\"\"\")",
    "id": "b59103f0804046f68417ba24797bad20",
    "idx": 25,
    "time": "2021-01-21T02:01:05.599Z",
    "type": "execution"
   },
   {
    "id": "b59103f0804046f68417ba24797bad20",
    "time": "2021-01-21T02:01:05.761Z",
    "type": "completion"
   },
   {
    "code": "queryToDataframe(\"\"\"\nWITH t AS\n    (\n    SELECT COUNT(started) AS total, started AS year\n    FROM user\n    WHERE year BETWEEN 1920 AND 2017\n    GROUP BY(year)\n    ),\nf AS\n    (\n    SELECT COUNT(started) AS female, started AS year\n    FROM user\n    WHERE year BETWEEN 1920 AND 2017\n        AND sex = 1\n    GROUP BY(year)\n    ),\nm AS\n    (\n    SELECT COUNT(started) AS MALE, started AS year\n    FROM user\n    WHERE year BETWEEN 1920 AND 2017\n        AND sex = 0\n    GROUP BY(year)\n    )\nSELECT f.year, t.total, f.female, m.male \nFROM t, f, m\nWHERE t.year = f.year\n\"\"\")",
    "id": "b59103f0804046f68417ba24797bad20",
    "idx": 25,
    "time": "2021-01-21T02:02:21.605Z",
    "type": "execution"
   },
   {
    "id": "b59103f0804046f68417ba24797bad20",
    "time": "2021-01-21T02:02:21.793Z",
    "type": "completion"
   },
   {
    "code": "queryToDataframe(\"\"\"\nWITH t AS\n    (\n    SELECT COUNT(started) AS total, started AS year\n    FROM user\n    WHERE year BETWEEN 1920 AND 2017\n    GROUP BY(year)\n    ),\nf AS\n    (\n    SELECT COUNT(started) AS female, started AS year\n    FROM user\n    WHERE year BETWEEN 1920 AND 2017\n        AND sex = 1\n    GROUP BY(year)\n    ),\nm AS\n    (\n    SELECT COUNT(started) AS male, started AS year\n    FROM user\n    WHERE year BETWEEN 1920 AND 2017\n        AND sex = 0\n    GROUP BY(year)\n    )\nSELECT f.year, t.total, f.female, m.male \nFROM t, f, m\nWHERE t.year = f.year\n\"\"\")",
    "id": "b59103f0804046f68417ba24797bad20",
    "idx": 25,
    "time": "2021-01-21T02:02:46.714Z",
    "type": "execution"
   },
   {
    "id": "b59103f0804046f68417ba24797bad20",
    "time": "2021-01-21T02:02:46.904Z",
    "type": "completion"
   },
   {
    "code": "queryToDataframe(\"\"\"\nWITH t AS\n    (\n    SELECT COUNT(started) AS total, started AS year\n    FROM user\n    WHERE year BETWEEN 1920 AND 2017\n    GROUP BY(year)\n    ),\nf AS\n    (\n    SELECT COUNT(started) AS female, started AS year\n    FROM user\n    WHERE year BETWEEN 1920 AND 2017\n        AND sex = 1\n    GROUP BY(year)\n    ),\nm AS\n    (\n    SELECT COUNT(started) AS male, started AS year\n    FROM user\n    WHERE year BETWEEN 1920 AND 2017\n        AND sex = 0\n    GROUP BY(year)\n    )\nSELECT f.year, t.total, f.female, m.male \nFROM t, f, m\nWHERE t.year = f.year = m.year\n\"\"\")",
    "id": "b59103f0804046f68417ba24797bad20",
    "idx": 25,
    "time": "2021-01-21T02:03:17.516Z",
    "type": "execution"
   },
   {
    "id": "b59103f0804046f68417ba24797bad20",
    "time": "2021-01-21T02:03:17.700Z",
    "type": "completion"
   },
   {
    "code": "queryToDataframe(\"\"\"\nWITH t AS\n    (\n    SELECT COUNT(started) AS total, started AS year\n    FROM user\n    WHERE year BETWEEN 1920 AND 2017\n    GROUP BY(year)\n    ),\nf AS\n    (\n    SELECT COUNT(started) AS female, started AS year\n    FROM user\n    WHERE year BETWEEN 1920 AND 2017\n        AND sex = 1\n    GROUP BY(year)\n    ),\nm AS\n    (\n    SELECT COUNT(started) AS male, started AS year\n    FROM user\n    WHERE year BETWEEN 1920 AND 2017\n        AND sex = 0\n    GROUP BY(year)\n    )\nSELECT f.year, t.total, f.female, m.male \nFROM t, f, m\nWHERE t.year = f.year\n    AND t.year = m.year\n\"\"\")",
    "id": "b59103f0804046f68417ba24797bad20",
    "idx": 25,
    "time": "2021-01-21T02:03:27.887Z",
    "type": "execution"
   },
   {
    "id": "b59103f0804046f68417ba24797bad20",
    "time": "2021-01-21T02:03:28.023Z",
    "type": "completion"
   },
   {
    "code": "year_count_segmented = queryToDataframe(\"\"\"\nWITH t AS\n    (\n    SELECT COUNT(started) AS total, started AS year\n    FROM user\n    WHERE year BETWEEN 1920 AND 2017\n    GROUP BY(year)\n    ),\nf AS\n    (\n    SELECT COUNT(started) AS female, started AS year\n    FROM user\n    WHERE year BETWEEN 1920 AND 2017\n        AND sex = 1\n    GROUP BY(year)\n    ),\nm AS\n    (\n    SELECT COUNT(started) AS male, started AS year\n    FROM user\n    WHERE year BETWEEN 1920 AND 2017\n        AND sex = 0\n    GROUP BY(year)\n    )\nSELECT f.year, t.total, f.female, m.male \nFROM t, f, m\nWHERE t.year = f.year\n    AND t.year = m.year\n\"\"\")",
    "id": "b59103f0804046f68417ba24797bad20",
    "idx": 24,
    "time": "2021-01-21T02:04:40.498Z",
    "type": "execution"
   },
   {
    "id": "b59103f0804046f68417ba24797bad20",
    "time": "2021-01-21T02:04:40.614Z",
    "type": "completion"
   },
   {
    "code": "year_count_segmented",
    "id": "6469cfb1db544db4be7e6774a267681d",
    "idx": 25,
    "time": "2021-01-21T02:04:59.263Z",
    "type": "execution"
   },
   {
    "id": "6469cfb1db544db4be7e6774a267681d",
    "time": "2021-01-21T02:04:59.334Z",
    "type": "completion"
   },
   {
    "code": "start_year_count_all[start_year_count_all < 1950]",
    "id": "a5ebbb6aa60a41db8d662c5c40717dff",
    "idx": 23,
    "time": "2021-01-21T02:05:31.864Z",
    "type": "execution"
   },
   {
    "id": "a5ebbb6aa60a41db8d662c5c40717dff",
    "time": "2021-01-21T02:05:32.002Z",
    "type": "completion"
   },
   {
    "code": "start_year_count_all[start_year_count_all[\"year\"] < 1950]",
    "id": "a5ebbb6aa60a41db8d662c5c40717dff",
    "idx": 23,
    "time": "2021-01-21T02:05:57.537Z",
    "type": "execution"
   },
   {
    "id": "a5ebbb6aa60a41db8d662c5c40717dff",
    "time": "2021-01-21T02:05:57.622Z",
    "type": "completion"
   },
   {
    "code": "year_count_segmented = queryToDataframe(\"\"\"\nWITH t AS\n    (\n    SELECT COUNT(started) AS total, started AS year\n    FROM user\n    WHERE year BETWEEN 1960 AND 2017\n    GROUP BY(year)\n    ),\nf AS\n    (\n    SELECT COUNT(started) AS female, started AS year\n    FROM user\n    WHERE year BETWEEN 1960 AND 2017\n        AND sex = 1\n    GROUP BY(year)\n    ),\nm AS\n    (\n    SELECT COUNT(started) AS male, started AS year\n    FROM user\n    WHERE year BETWEEN 1960 AND 2017\n        AND sex = 0\n    GROUP BY(year)\n    )\nSELECT f.year, t.total, f.female, m.male \nFROM t, f, m\nWHERE t.year = f.year\n    AND t.year = m.year\n\"\"\")",
    "id": "b59103f0804046f68417ba24797bad20",
    "idx": 24,
    "time": "2021-01-21T02:06:25.438Z",
    "type": "execution"
   },
   {
    "id": "b59103f0804046f68417ba24797bad20",
    "time": "2021-01-21T02:06:25.562Z",
    "type": "completion"
   },
   {
    "code": "year_count_segmented",
    "id": "6469cfb1db544db4be7e6774a267681d",
    "idx": 25,
    "time": "2021-01-21T02:06:25.910Z",
    "type": "execution"
   },
   {
    "id": "6469cfb1db544db4be7e6774a267681d",
    "time": "2021-01-21T02:06:25.985Z",
    "type": "completion"
   },
   {
    "code": "queryToDataframe(c.execute(\"\"\"\nSELECT COUNT(*)\nFROM user\nWHERE sex = 0\n\"\"\"))",
    "id": "1d39c693cd3e443abb1347da43fa9a53",
    "idx": 27,
    "time": "2021-01-21T02:20:48.409Z",
    "type": "execution"
   },
   {
    "id": "1d39c693cd3e443abb1347da43fa9a53",
    "time": "2021-01-21T02:20:48.542Z",
    "type": "completion"
   },
   {
    "code": "queryToDataframe(c.execute(\"\"\"\nSELECT COUNT(*)\nFROM user\nWHERE sex == 0\n\"\"\"))",
    "id": "1d39c693cd3e443abb1347da43fa9a53",
    "idx": 27,
    "time": "2021-01-21T02:20:56.802Z",
    "type": "execution"
   },
   {
    "id": "1d39c693cd3e443abb1347da43fa9a53",
    "time": "2021-01-21T02:20:56.899Z",
    "type": "completion"
   },
   {
    "code": "queryToDataframe(c.execute(\"\"\"\nSELECT COUNT(*)\nFROM user\n\"\"\"))",
    "id": "1d39c693cd3e443abb1347da43fa9a53",
    "idx": 27,
    "time": "2021-01-21T02:21:33.456Z",
    "type": "execution"
   },
   {
    "id": "1d39c693cd3e443abb1347da43fa9a53",
    "time": "2021-01-21T02:21:33.582Z",
    "type": "completion"
   },
   {
    "code": "queryToDataframe(c.execute(\"\"\"\nSELECT COUNT()\nFROM user\n\"\"\"))",
    "id": "1d39c693cd3e443abb1347da43fa9a53",
    "idx": 27,
    "time": "2021-01-21T02:21:43.603Z",
    "type": "execution"
   },
   {
    "id": "1d39c693cd3e443abb1347da43fa9a53",
    "time": "2021-01-21T02:21:43.728Z",
    "type": "completion"
   },
   {
    "code": "queryToDataframe(c.execute(\"\"\"\nSELECT COUNT(id)\nFROM user\nWHERE sex = 0\n\"\"\"))",
    "id": "1d39c693cd3e443abb1347da43fa9a53",
    "idx": 27,
    "time": "2021-01-21T02:22:04.756Z",
    "type": "execution"
   },
   {
    "id": "1d39c693cd3e443abb1347da43fa9a53",
    "time": "2021-01-21T02:22:04.884Z",
    "type": "completion"
   },
   {
    "code": "queryToDataframe(\"\"\"\nSELECT COUNT(id)\nFROM user\nWHERE sex = 0\n\"\"\")",
    "id": "1d39c693cd3e443abb1347da43fa9a53",
    "idx": 27,
    "time": "2021-01-21T02:22:13.484Z",
    "type": "execution"
   },
   {
    "id": "1d39c693cd3e443abb1347da43fa9a53",
    "time": "2021-01-21T02:22:13.632Z",
    "type": "completion"
   },
   {
    "code": "queryToDataframe(\"\"\"\nSELECT COUNT(id WHERE sex = 0) AS male, COUNT(id WHERE sex=1) AS female\nFROM user\n\"\"\")",
    "id": "1d39c693cd3e443abb1347da43fa9a53",
    "idx": 27,
    "time": "2021-01-21T02:23:56.313Z",
    "type": "execution"
   },
   {
    "id": "1d39c693cd3e443abb1347da43fa9a53",
    "time": "2021-01-21T02:23:56.394Z",
    "type": "completion"
   },
   {
    "code": "queryToDataframe(\"\"\"\nWITH f AS \n    (\n    SELECT COUNT(*) AS male\n    WHERE sex = 0\n    ),\n    \n    m AS\n    (\n    SELECT COUNT(*) AS female\n    WHERE sex = 1\n    )\n    \nSELECT * \nFROM f,m\n\"\"\")",
    "id": "1d39c693cd3e443abb1347da43fa9a53",
    "idx": 27,
    "time": "2021-01-21T02:26:45.919Z",
    "type": "execution"
   },
   {
    "id": "1d39c693cd3e443abb1347da43fa9a53",
    "time": "2021-01-21T02:26:46.001Z",
    "type": "completion"
   },
   {
    "code": "queryToDataframe(\"\"\"\nWITH f AS \n    (\n    SELECT COUNT(*) AS male\n    FROM user\n    WHERE sex = 0\n    ),\n    \n    m AS\n    (\n    SELECT COUNT(*) AS female\n    FROM user\n    WHERE sex = 1\n    )\n    \nSELECT * \nFROM f,m\n\"\"\")",
    "id": "1d39c693cd3e443abb1347da43fa9a53",
    "idx": 27,
    "time": "2021-01-21T02:26:59.666Z",
    "type": "execution"
   },
   {
    "id": "1d39c693cd3e443abb1347da43fa9a53",
    "time": "2021-01-21T02:26:59.793Z",
    "type": "completion"
   },
   {
    "code": "sex_ratio = queryToDataframe(\"\"\"\nWITH f AS \n    (\n    SELECT COUNT(*) AS male\n    FROM user\n    WHERE sex = 0\n    ),\n    \n    m AS\n    (\n    SELECT COUNT(*) AS female\n    FROM user\n    WHERE sex = 1\n    )\n    \nSELECT * \nFROM f,m\n\"\"\")",
    "id": "1d39c693cd3e443abb1347da43fa9a53",
    "idx": 27,
    "time": "2021-01-21T02:28:17.245Z",
    "type": "execution"
   },
   {
    "id": "1d39c693cd3e443abb1347da43fa9a53",
    "time": "2021-01-21T02:28:17.344Z",
    "type": "completion"
   },
   {
    "code": "sex_ratio",
    "id": "8b627c2b284347848149caba22d679c5",
    "idx": 28,
    "time": "2021-01-21T02:28:32.524Z",
    "type": "execution"
   },
   {
    "id": "8b627c2b284347848149caba22d679c5",
    "time": "2021-01-21T02:28:32.630Z",
    "type": "completion"
   },
   {
    "code": "queryToDataframe(\"\"\"\nSELECT COUNT(*) AS count\nFROM user\nGROUP BY sex\n\"\"\")",
    "id": "017e25a77966450d80758f5ed2c94837",
    "idx": 29,
    "time": "2021-01-21T02:36:49.500Z",
    "type": "execution"
   },
   {
    "id": "017e25a77966450d80758f5ed2c94837",
    "time": "2021-01-21T02:36:49.651Z",
    "type": "completion"
   },
   {
    "code": "queryToDataframe(\"\"\"\nSELECT COUNT(*) AS count\nFROM user\nGROUP BY country\n\"\"\")",
    "id": "017e25a77966450d80758f5ed2c94837",
    "idx": 29,
    "time": "2021-01-21T02:40:01.898Z",
    "type": "execution"
   },
   {
    "id": "017e25a77966450d80758f5ed2c94837",
    "time": "2021-01-21T02:40:02.033Z",
    "type": "completion"
   },
   {
    "code": "queryToDataframe(\"\"\"\nSELECT COUNT(*) AS count, country\nFROM user\nGROUP BY country\n\"\"\")",
    "id": "017e25a77966450d80758f5ed2c94837",
    "idx": 29,
    "time": "2021-01-21T02:41:15.396Z",
    "type": "execution"
   },
   {
    "id": "017e25a77966450d80758f5ed2c94837",
    "time": "2021-01-21T02:41:15.520Z",
    "type": "completion"
   },
   {
    "code": "queryToDataframe(\"\"\"\nSELECT COUNT(*) AS count, country\nFROM user\nGROUP BY country\nORDER count DESC\n\"\"\")",
    "id": "017e25a77966450d80758f5ed2c94837",
    "idx": 29,
    "time": "2021-01-21T02:41:26.309Z",
    "type": "execution"
   },
   {
    "id": "017e25a77966450d80758f5ed2c94837",
    "time": "2021-01-21T02:41:26.582Z",
    "type": "completion"
   },
   {
    "code": "queryToDataframe(\"\"\"\nSELECT COUNT(*) AS count, country\nFROM user\nGROUP BY country\nORDER count DES\n\"\"\")",
    "id": "017e25a77966450d80758f5ed2c94837",
    "idx": 29,
    "time": "2021-01-21T02:41:32.654Z",
    "type": "execution"
   },
   {
    "id": "017e25a77966450d80758f5ed2c94837",
    "time": "2021-01-21T02:41:32.795Z",
    "type": "completion"
   },
   {
    "code": "queryToDataframe(\"\"\"\nSELECT COUNT(*) AS count, country\nFROM user\nGROUP BY country\nORDER BY count DES\n\"\"\")",
    "id": "017e25a77966450d80758f5ed2c94837",
    "idx": 29,
    "time": "2021-01-21T02:41:40.754Z",
    "type": "execution"
   },
   {
    "id": "017e25a77966450d80758f5ed2c94837",
    "time": "2021-01-21T02:41:41.845Z",
    "type": "completion"
   },
   {
    "code": "queryToDataframe(\"\"\"\nSELECT COUNT(*) AS count, country\nFROM user\nGROUP BY country\nORDER BY count DESC\n\"\"\")",
    "id": "017e25a77966450d80758f5ed2c94837",
    "idx": 29,
    "time": "2021-01-21T02:41:49.192Z",
    "type": "execution"
   },
   {
    "id": "017e25a77966450d80758f5ed2c94837",
    "time": "2021-01-21T02:41:49.959Z",
    "type": "completion"
   },
   {
    "code": "queryToDataframe(\"\"\"\nSELECT COUNT(*) AS count, \n    sex CASE WHEN 0 THEN 'male'\n             WHEN 1 THEN 'female'\n             ELSE 'NA'\nFROM user\nGROUP BY sex\nORDER BY count DESC\n\"\"\")",
    "id": "7cd4a5e836a3491b8191ddf3afad75b3",
    "idx": 29,
    "time": "2021-01-21T02:45:09.381Z",
    "type": "execution"
   },
   {
    "id": "7cd4a5e836a3491b8191ddf3afad75b3",
    "time": "2021-01-21T02:45:09.808Z",
    "type": "completion"
   },
   {
    "code": "queryToDataframe(\"\"\"\nSELECT COUNT(*) AS count, \n    CASE WHEN sex = 0 THEN 'male'\n         WHEN sex = 1 THEN 'female'\n         ELSE 'NA'\n    END AS sex\nFROM user\nGROUP BY sex\nORDER BY count DESC\n\"\"\")",
    "id": "7cd4a5e836a3491b8191ddf3afad75b3",
    "idx": 29,
    "time": "2021-01-21T02:48:47.944Z",
    "type": "execution"
   },
   {
    "id": "7cd4a5e836a3491b8191ddf3afad75b3",
    "time": "2021-01-21T02:48:49.047Z",
    "type": "completion"
   },
   {
    "code": "sex_ratio = queryToDataframe(\"\"\"\nSELECT COUNT(*) AS count, \n    CASE WHEN sex = 0 THEN 'male'\n         WHEN sex = 1 THEN 'female'\n         ELSE 'NA'\n    END AS sex\nFROM user\nGROUP BY sex\nORDER BY count DESC\n\"\"\")",
    "id": "1d39c693cd3e443abb1347da43fa9a53",
    "idx": 27,
    "time": "2021-01-21T02:49:15.484Z",
    "type": "execution"
   },
   {
    "code": "sex_ratio",
    "id": "8b627c2b284347848149caba22d679c5",
    "idx": 28,
    "time": "2021-01-21T02:49:15.746Z",
    "type": "execution"
   },
   {
    "id": "1d39c693cd3e443abb1347da43fa9a53",
    "time": "2021-01-21T02:49:16.011Z",
    "type": "completion"
   },
   {
    "id": "8b627c2b284347848149caba22d679c5",
    "time": "2021-01-21T02:49:16.029Z",
    "type": "completion"
   },
   {
    "code": "year_count_segmented.dtypes()",
    "id": "6469cfb1db544db4be7e6774a267681d",
    "idx": 25,
    "time": "2021-01-21T02:51:08.933Z",
    "type": "execution"
   },
   {
    "id": "6469cfb1db544db4be7e6774a267681d",
    "time": "2021-01-21T02:51:09.052Z",
    "type": "completion"
   },
   {
    "code": "year_count_segmented.dtypes",
    "id": "6469cfb1db544db4be7e6774a267681d",
    "idx": 25,
    "time": "2021-01-21T02:51:12.801Z",
    "type": "execution"
   },
   {
    "id": "6469cfb1db544db4be7e6774a267681d",
    "time": "2021-01-21T02:51:13.089Z",
    "type": "completion"
   },
   {
    "code": "year_count_segmented",
    "id": "6469cfb1db544db4be7e6774a267681d",
    "idx": 25,
    "time": "2021-01-21T02:51:17.345Z",
    "type": "execution"
   },
   {
    "id": "6469cfb1db544db4be7e6774a267681d",
    "time": "2021-01-21T02:51:18.067Z",
    "type": "completion"
   },
   {
    "code": "year_count_segmented.columns",
    "id": "fbd138fdb9ca40fd8cc82ca385be8323",
    "idx": 26,
    "time": "2021-01-21T02:58:06.694Z",
    "type": "execution"
   },
   {
    "id": "fbd138fdb9ca40fd8cc82ca385be8323",
    "time": "2021-01-21T02:58:07.350Z",
    "type": "completion"
   },
   {
    "code": "year_count_segmented.columns.values",
    "id": "fbd138fdb9ca40fd8cc82ca385be8323",
    "idx": 26,
    "time": "2021-01-21T02:58:10.473Z",
    "type": "execution"
   },
   {
    "id": "fbd138fdb9ca40fd8cc82ca385be8323",
    "time": "2021-01-21T02:58:10.693Z",
    "type": "completion"
   },
   {
    "code": "year_count_segmented.columns.values()",
    "id": "fbd138fdb9ca40fd8cc82ca385be8323",
    "idx": 26,
    "time": "2021-01-21T02:58:17.156Z",
    "type": "execution"
   },
   {
    "id": "fbd138fdb9ca40fd8cc82ca385be8323",
    "time": "2021-01-21T02:58:17.375Z",
    "type": "completion"
   },
   {
    "code": "year_count_segmented.columns.values",
    "id": "fbd138fdb9ca40fd8cc82ca385be8323",
    "idx": 26,
    "time": "2021-01-21T02:58:21.000Z",
    "type": "execution"
   },
   {
    "id": "fbd138fdb9ca40fd8cc82ca385be8323",
    "time": "2021-01-21T02:58:21.334Z",
    "type": "completion"
   },
   {
    "code": "year_count_segmented.columns.values[1]",
    "id": "fbd138fdb9ca40fd8cc82ca385be8323",
    "idx": 26,
    "time": "2021-01-21T02:58:23.906Z",
    "type": "execution"
   },
   {
    "id": "fbd138fdb9ca40fd8cc82ca385be8323",
    "time": "2021-01-21T02:58:24.343Z",
    "type": "completion"
   },
   {
    "code": "year_count_segmented[\"year\"].to_datetime",
    "id": "fbd138fdb9ca40fd8cc82ca385be8323",
    "idx": 26,
    "time": "2021-01-21T03:03:48.876Z",
    "type": "execution"
   },
   {
    "id": "fbd138fdb9ca40fd8cc82ca385be8323",
    "time": "2021-01-21T03:03:49.567Z",
    "type": "completion"
   },
   {
    "code": "pd.to_datetime(year_count_segmented[\"year\"])",
    "id": "fbd138fdb9ca40fd8cc82ca385be8323",
    "idx": 26,
    "time": "2021-01-21T03:04:54.405Z",
    "type": "execution"
   },
   {
    "id": "fbd138fdb9ca40fd8cc82ca385be8323",
    "time": "2021-01-21T03:04:54.622Z",
    "type": "completion"
   },
   {
    "code": "pd.to_datetime(year_count_segmented[\"year\"], format = '%Y')",
    "id": "fbd138fdb9ca40fd8cc82ca385be8323",
    "idx": 26,
    "time": "2021-01-21T03:05:31.500Z",
    "type": "execution"
   },
   {
    "id": "fbd138fdb9ca40fd8cc82ca385be8323",
    "time": "2021-01-21T03:05:31.632Z",
    "type": "completion"
   },
   {
    "code": "def multiLinePlot(df, x, time = False):\n    if time:\n        xvar = pd.to_datetime(df[x])\n    else:\n        xvar = df[x]\n        \n    yvars = df.drop(columns = x)\n    ycols = yvars.columns.values\n    \n    for col in ycols:\n        plt.plot(xvar, df[col])\n    \n    plt.legend()\n    return fig",
    "id": "12dab9ef95ff45c0a54abd55063278ec",
    "idx": 27,
    "time": "2021-01-21T03:10:00.402Z",
    "type": "execution"
   },
   {
    "id": "12dab9ef95ff45c0a54abd55063278ec",
    "time": "2021-01-21T03:10:00.836Z",
    "type": "completion"
   },
   {
    "code": "multiLinePlot(year_count_segmented, \"year\", time = True)",
    "id": "d05d08528d754480a970548518a4c800",
    "idx": 28,
    "time": "2021-01-21T03:10:34.963Z",
    "type": "execution"
   },
   {
    "id": "d05d08528d754480a970548518a4c800",
    "time": "2021-01-21T03:10:36.884Z",
    "type": "completion"
   },
   {
    "code": "def multiLinePlot(df, x, time = False):\n    if time:\n        xvar = pd.to_datetime(df[x])\n    else:\n        xvar = df[x]\n        \n    yvars = df.drop(columns = x)\n    ycols = yvars.columns.values\n    \n    for col in ycols:\n        plt.plot(xvar, df[col], label = col)\n    \n    plt.legend()\n    return fig",
    "id": "12dab9ef95ff45c0a54abd55063278ec",
    "idx": 27,
    "time": "2021-01-21T03:10:46.220Z",
    "type": "execution"
   },
   {
    "id": "12dab9ef95ff45c0a54abd55063278ec",
    "time": "2021-01-21T03:10:46.867Z",
    "type": "completion"
   },
   {
    "code": "multiLinePlot(year_count_segmented, \"year\", time = True)",
    "id": "d05d08528d754480a970548518a4c800",
    "idx": 28,
    "time": "2021-01-21T03:10:46.980Z",
    "type": "execution"
   },
   {
    "id": "d05d08528d754480a970548518a4c800",
    "time": "2021-01-21T03:10:48.850Z",
    "type": "completion"
   },
   {
    "code": "def multiLinePlot(df, x, time = False):\n    if time:\n        xvar = pd.to_datetime(df[x])\n    else:\n        xvar = df[x]\n        \n    yvars = df.drop(columns = x)\n    ycols = yvars.columns.values\n    \n    for col in ycols:\n        plt.plot(xvar, df[col], label = col)\n    \n    plt.legend()",
    "id": "12dab9ef95ff45c0a54abd55063278ec",
    "idx": 27,
    "time": "2021-01-21T03:11:15.922Z",
    "type": "execution"
   },
   {
    "id": "12dab9ef95ff45c0a54abd55063278ec",
    "time": "2021-01-21T03:11:16.889Z",
    "type": "completion"
   },
   {
    "code": "multiLinePlot(year_count_segmented, \"year\", time = True)",
    "id": "d05d08528d754480a970548518a4c800",
    "idx": 28,
    "time": "2021-01-21T03:11:23.476Z",
    "type": "execution"
   },
   {
    "id": "d05d08528d754480a970548518a4c800",
    "time": "2021-01-21T03:11:24.924Z",
    "type": "completion"
   },
   {
    "code": "def multiLinePlot(df, x, time = False, title = \"\", ylab = \"\", xlab = \"\"):\n    if time:\n        xvar = pd.to_datetime(df[x])\n    else:\n        xvar = df[x]\n        \n    yvars = df.drop(columns = x)\n    ycols = yvars.columns.values\n    \n    for col in ycols:\n        plt.plot(xvar, df[col], label = col)\n    \n    plt.legend()\n    \n    title = title",
    "id": "12dab9ef95ff45c0a54abd55063278ec",
    "idx": 27,
    "time": "2021-01-21T03:12:24.387Z",
    "type": "execution"
   },
   {
    "id": "12dab9ef95ff45c0a54abd55063278ec",
    "time": "2021-01-21T03:12:24.942Z",
    "type": "completion"
   },
   {
    "code": "def multiLinePlot(df, x, time = False, title = \"\", ylab = \"\", xlab = \"\"):\n    if time:\n        xvar = pd.to_datetime(df[x]).dt.year\n    else:\n        xvar = df[x]\n        \n    yvars = df.drop(columns = x)\n    ycols = yvars.columns.values\n    \n    for col in ycols:\n        plt.plot(xvar, df[col], label = col)\n    \n    plt.legend()\n    \n    plt.title(title)\n    plt.xlab(xlab)\n    plt.ylab(ylab)",
    "id": "12dab9ef95ff45c0a54abd55063278ec",
    "idx": 27,
    "time": "2021-01-21T03:15:52.757Z",
    "type": "execution"
   },
   {
    "id": "12dab9ef95ff45c0a54abd55063278ec",
    "time": "2021-01-21T03:15:53.056Z",
    "type": "completion"
   },
   {
    "code": "multiLinePlot(year_count_segmented, \"year\", time = True)",
    "id": "d05d08528d754480a970548518a4c800",
    "idx": 28,
    "time": "2021-01-21T03:15:55.122Z",
    "type": "execution"
   },
   {
    "id": "d05d08528d754480a970548518a4c800",
    "time": "2021-01-21T03:15:56.426Z",
    "type": "completion"
   },
   {
    "code": "def multiLinePlot(df, x, time = False, title = \"\", ylab = \"\", xlab = \"\"):\n    if time:\n        xvar = pd.to_datetime(df[x]).dt.year\n    else:\n        xvar = df[x]\n        \n    yvars = df.drop(columns = x)\n    ycols = yvars.columns.values\n    \n    for col in ycols:\n        plt.plot(xvar, df[col], label = col)\n    \n    plt.legend()\n    \n    plt.title(title)\n    plt.xlabel(xlab)\n    plt.ylabel(ylab)",
    "id": "12dab9ef95ff45c0a54abd55063278ec",
    "idx": 27,
    "time": "2021-01-21T03:16:04.100Z",
    "type": "execution"
   },
   {
    "code": "multiLinePlot(year_count_segmented, \"year\", time = True)",
    "id": "d05d08528d754480a970548518a4c800",
    "idx": 28,
    "time": "2021-01-21T03:16:04.583Z",
    "type": "execution"
   },
   {
    "id": "12dab9ef95ff45c0a54abd55063278ec",
    "time": "2021-01-21T03:16:05.063Z",
    "type": "completion"
   },
   {
    "id": "d05d08528d754480a970548518a4c800",
    "time": "2021-01-21T03:16:06.099Z",
    "type": "completion"
   },
   {
    "code": "pd.to_datetime(year_count_segmented[\"year\"]).dt.year",
    "id": "fbd138fdb9ca40fd8cc82ca385be8323",
    "idx": 26,
    "time": "2021-01-21T03:16:21.441Z",
    "type": "execution"
   },
   {
    "id": "fbd138fdb9ca40fd8cc82ca385be8323",
    "time": "2021-01-21T03:16:22.080Z",
    "type": "completion"
   },
   {
    "code": "pd.to_datetime(year_count_segmented[\"year\"], format = '%Y')",
    "id": "fbd138fdb9ca40fd8cc82ca385be8323",
    "idx": 26,
    "time": "2021-01-21T03:16:29.138Z",
    "type": "execution"
   },
   {
    "id": "fbd138fdb9ca40fd8cc82ca385be8323",
    "time": "2021-01-21T03:16:30.087Z",
    "type": "completion"
   },
   {
    "code": "pd.to_datetime(year_count_segmented[\"year\"])",
    "id": "fbd138fdb9ca40fd8cc82ca385be8323",
    "idx": 26,
    "time": "2021-01-21T03:16:45.586Z",
    "type": "execution"
   },
   {
    "id": "fbd138fdb9ca40fd8cc82ca385be8323",
    "time": "2021-01-21T03:16:46.143Z",
    "type": "completion"
   },
   {
    "code": "pd.to_datetime(year_count_segmented[\"year\"]).hear",
    "id": "fbd138fdb9ca40fd8cc82ca385be8323",
    "idx": 26,
    "time": "2021-01-21T03:16:49.592Z",
    "type": "execution"
   },
   {
    "id": "fbd138fdb9ca40fd8cc82ca385be8323",
    "time": "2021-01-21T03:16:50.146Z",
    "type": "completion"
   },
   {
    "code": "pd.to_datetime(year_count_segmented[\"year\"]).year",
    "id": "fbd138fdb9ca40fd8cc82ca385be8323",
    "idx": 26,
    "time": "2021-01-21T03:16:53.170Z",
    "type": "execution"
   },
   {
    "id": "fbd138fdb9ca40fd8cc82ca385be8323",
    "time": "2021-01-21T03:16:54.167Z",
    "type": "completion"
   },
   {
    "code": "pd.to_datetime(year_count_segmented[\"year\"]).dt.year",
    "id": "fbd138fdb9ca40fd8cc82ca385be8323",
    "idx": 26,
    "time": "2021-01-21T03:16:58.504Z",
    "type": "execution"
   },
   {
    "id": "fbd138fdb9ca40fd8cc82ca385be8323",
    "time": "2021-01-21T03:16:59.101Z",
    "type": "completion"
   },
   {
    "code": "pd.to_datetime(year_count_segmented[\"year\"])",
    "id": "fbd138fdb9ca40fd8cc82ca385be8323",
    "idx": 26,
    "time": "2021-01-21T03:17:29.983Z",
    "type": "execution"
   },
   {
    "id": "fbd138fdb9ca40fd8cc82ca385be8323",
    "time": "2021-01-21T03:17:30.139Z",
    "type": "completion"
   },
   {
    "code": "pd.to_datetime(year_count_segmented[\"year\"], format = '%Y').dt.year",
    "id": "fbd138fdb9ca40fd8cc82ca385be8323",
    "idx": 26,
    "time": "2021-01-21T03:17:51.264Z",
    "type": "execution"
   },
   {
    "id": "fbd138fdb9ca40fd8cc82ca385be8323",
    "time": "2021-01-21T03:17:52.150Z",
    "type": "completion"
   },
   {
    "code": "def multiLinePlot(df, x, time = False, title = \"\", ylab = \"\", xlab = \"\"):\n    if time:\n        xvar = pd.to_datetime(df[x], format = '%Y').dt.year\n        xvar = df[x]\n        \n    yvars = df.drop(columns = x)\n    ycols = yvars.columns.values\n    \n    for col in ycols:\n        plt.plot(xvar, df[col], label = col)\n    \n    plt.legend()\n    \n    plt.title(title)\n    plt.xlabel(xlab)\n    plt.ylabel(ylab)",
    "id": "12dab9ef95ff45c0a54abd55063278ec",
    "idx": 27,
    "time": "2021-01-21T03:18:06.552Z",
    "type": "execution"
   },
   {
    "code": "multiLinePlot(year_count_segmented, \"year\", time = True)",
    "id": "d05d08528d754480a970548518a4c800",
    "idx": 28,
    "time": "2021-01-21T03:18:07.037Z",
    "type": "execution"
   },
   {
    "id": "12dab9ef95ff45c0a54abd55063278ec",
    "time": "2021-01-21T03:18:07.203Z",
    "type": "completion"
   },
   {
    "id": "d05d08528d754480a970548518a4c800",
    "time": "2021-01-21T03:18:07.456Z",
    "type": "completion"
   },
   {
    "code": "multiLinePlot(df = year_count_segmented, \n              x = \"year\", \n              time = True, \n              title = \"Popularity of Climbing Over Time (Starting Date)\",\n              ylab = \"Total Climbers\",\n              xlab = \"Year\")",
    "id": "d05d08528d754480a970548518a4c800",
    "idx": 28,
    "time": "2021-01-21T03:20:00.284Z",
    "type": "execution"
   },
   {
    "id": "d05d08528d754480a970548518a4c800",
    "time": "2021-01-21T03:20:02.247Z",
    "type": "completion"
   },
   {
    "code": "countryTop10 = queryToDataframe(\"\"\"\nSELECT COUNT(*) AS count, country\nFROM user\nGROUP BY country\nORDER BY count DESC\nLIMIT 10\n\"\"\")",
    "id": "017e25a77966450d80758f5ed2c94837",
    "idx": 33,
    "time": "2021-01-21T03:23:27.232Z",
    "type": "execution"
   },
   {
    "id": "017e25a77966450d80758f5ed2c94837",
    "time": "2021-01-21T03:23:27.435Z",
    "type": "completion"
   },
   {
    "code": "countryTop10",
    "id": "e64c2fcec4fa4764847c0185ea436100",
    "idx": 34,
    "time": "2021-01-21T03:23:33.471Z",
    "type": "execution"
   },
   {
    "id": "e64c2fcec4fa4764847c0185ea436100",
    "time": "2021-01-21T03:23:34.475Z",
    "type": "completion"
   },
   {
    "code": "queryToDataframe(\"\"\"\nSELECT AVG(weight) AS avg_weight, \n       AVG(height) AS avg_height\nFROM user\n\"\"\")",
    "id": "62f56017b1834404844198ff0d65fe0e",
    "idx": 34,
    "time": "2021-01-21T03:27:53.395Z",
    "type": "execution"
   },
   {
    "id": "62f56017b1834404844198ff0d65fe0e",
    "time": "2021-01-21T03:27:53.653Z",
    "type": "completion"
   },
   {
    "code": "queryToDataframe(\"\"\"\nSELECT AVG(weight) AS avg_weight, \n       AVG(height) AS avg_height,\n       CASE WHEN sex = 0 THEN 'male'\n         WHEN sex = 1 THEN 'female'\n         ELSE 'NA'\n    END AS sex\nFROM user\nGROUPBY sex\n\"\"\")",
    "id": "62f56017b1834404844198ff0d65fe0e",
    "idx": 34,
    "time": "2021-01-21T03:28:32.970Z",
    "type": "execution"
   },
   {
    "id": "62f56017b1834404844198ff0d65fe0e",
    "time": "2021-01-21T03:28:33.605Z",
    "type": "completion"
   },
   {
    "code": "queryToDataframe(\"\"\"\nSELECT AVG(weight) AS avg_weight, \n       AVG(height) AS avg_height\nFROM user\nGROUPBY sex\n\"\"\")",
    "id": "62f56017b1834404844198ff0d65fe0e",
    "idx": 34,
    "time": "2021-01-21T03:29:46.300Z",
    "type": "execution"
   },
   {
    "id": "62f56017b1834404844198ff0d65fe0e",
    "time": "2021-01-21T03:29:46.666Z",
    "type": "completion"
   },
   {
    "code": "queryToDataframe(\"\"\"\nSELECT AVG(weight) AS avg_weight, \n       AVG(height) AS avg_height\nFROM user\nGROUP BY sex\n\"\"\")",
    "id": "62f56017b1834404844198ff0d65fe0e",
    "idx": 34,
    "time": "2021-01-21T03:30:33.913Z",
    "type": "execution"
   },
   {
    "id": "62f56017b1834404844198ff0d65fe0e",
    "time": "2021-01-21T03:30:34.782Z",
    "type": "completion"
   },
   {
    "code": "queryToDataframe(\"\"\"\nSELECT AVG(weight) AS avg_weight, \n       AVG(height) AS avg_height,\n       CASE WHEN sex = 0 THEN 'male'\n         WHEN sex = 1 THEN 'female'\n         ELSE 'NA'\n    END AS sex\nFROM user\nGROUP BY sex\n\"\"\")",
    "id": "62f56017b1834404844198ff0d65fe0e",
    "idx": 34,
    "time": "2021-01-21T03:30:41.112Z",
    "type": "execution"
   },
   {
    "id": "62f56017b1834404844198ff0d65fe0e",
    "time": "2021-01-21T03:30:41.785Z",
    "type": "completion"
   },
   {
    "code": "queryToDataframe(\"\"\"\nSELECT AVG(weight) AS avg_weight, \n       AVG(height) AS avg_height,\n       CASE WHEN sex = 0 THEN 'male'\n         WHEN sex = 1 THEN 'female'\n         ELSE 'NA'\n    END AS sex\nFROM user\nWHERE sex != 'NA'\nGROUP BY sex\n\"\"\")",
    "id": "62f56017b1834404844198ff0d65fe0e",
    "idx": 34,
    "time": "2021-01-21T03:31:12.769Z",
    "type": "execution"
   },
   {
    "id": "62f56017b1834404844198ff0d65fe0e",
    "time": "2021-01-21T03:31:13.806Z",
    "type": "completion"
   },
   {
    "code": "queryToDataframe(\"\"\"\nSELECT AVG(weight) AS avg_weight, \n       AVG(height) AS avg_height,\n       CASE WHEN sex = 0 THEN 'male'\n         WHEN sex = 1 THEN 'female'\n         ELSE 'NA'\n    END AS sex\nFROM user\nWHERE sex != 2\nGROUP BY sex\n\"\"\")",
    "id": "62f56017b1834404844198ff0d65fe0e",
    "idx": 34,
    "time": "2021-01-21T03:31:25.030Z",
    "type": "execution"
   },
   {
    "id": "62f56017b1834404844198ff0d65fe0e",
    "time": "2021-01-21T03:31:25.804Z",
    "type": "completion"
   },
   {
    "code": "queryToDataframe(\"\"\"\nSELECT AVG(weight) AS avg_weight, \n       AVG(height) AS avg_height,\n       CASE WHEN sex = 0 THEN 'male'\n         WHEN sex = 1 THEN 'female'\n         ELSE 'NA'\n    END AS sex\nFROM user\nWHERE sex IN('male','female')\nGROUP BY sex\n\"\"\")",
    "id": "62f56017b1834404844198ff0d65fe0e",
    "idx": 34,
    "time": "2021-01-21T03:32:10.742Z",
    "type": "execution"
   },
   {
    "id": "62f56017b1834404844198ff0d65fe0e",
    "time": "2021-01-21T03:32:10.972Z",
    "type": "completion"
   },
   {
    "code": "queryToDataframe(\"\"\"\nSELECT AVG(weight) AS avg_weight, \n       AVG(height) AS avg_height,\n       CASE WHEN sex = 0 THEN 'male'\n         WHEN sex = 1 THEN 'female'\n         ELSE 'NA'\n    END AS sex\nFROM user\nWHERE sex != 'NA'\nGROUP BY sex\n\"\"\")",
    "id": "62f56017b1834404844198ff0d65fe0e",
    "idx": 34,
    "time": "2021-01-21T03:33:05.721Z",
    "type": "execution"
   },
   {
    "id": "62f56017b1834404844198ff0d65fe0e",
    "time": "2021-01-21T03:33:06.618Z",
    "type": "completion"
   },
   {
    "code": "queryToDataframe(\"\"\"\nSELECT AVG(weight) AS avg_weight, \n       AVG(height) AS avg_height,\n       CASE WHEN sex = 0 THEN 'male'\n         WHEN sex = 1 THEN 'female'\n    END AS sex\nFROM user\nGROUP BY sex\n\"\"\")",
    "id": "62f56017b1834404844198ff0d65fe0e",
    "idx": 34,
    "time": "2021-01-21T03:33:29.909Z",
    "type": "execution"
   },
   {
    "id": "62f56017b1834404844198ff0d65fe0e",
    "time": "2021-01-21T03:33:30.885Z",
    "type": "completion"
   },
   {
    "code": "queryToDataframe(\"\"\"\nSELECT AVG(weight) AS avg_weight, \n       AVG(height) AS avg_height,\n       CASE WHEN sex = 0 THEN 'male'\n         WHEN sex = 1 THEN 'female'\n    END AS sex\nFROM user\nGROUP BY sex\nWHERE sex != 'None'\n\"\"\")",
    "id": "62f56017b1834404844198ff0d65fe0e",
    "idx": 34,
    "time": "2021-01-21T03:33:43.364Z",
    "type": "execution"
   },
   {
    "id": "62f56017b1834404844198ff0d65fe0e",
    "time": "2021-01-21T03:33:43.797Z",
    "type": "completion"
   },
   {
    "code": "queryToDataframe(\"\"\"\nSELECT AVG(weight) AS avg_weight, \n       AVG(height) AS avg_height,\n       CASE WHEN sex = 0 THEN 'male'\n         WHEN sex = 1 THEN 'female'\n    END AS sex\nFROM user\nGROUP BY sex\nWHERE sex != 2\n\"\"\")",
    "id": "62f56017b1834404844198ff0d65fe0e",
    "idx": 34,
    "time": "2021-01-21T03:33:47.121Z",
    "type": "execution"
   },
   {
    "id": "62f56017b1834404844198ff0d65fe0e",
    "time": "2021-01-21T03:33:47.804Z",
    "type": "completion"
   },
   {
    "code": "queryToDataframe(\"\"\"\nSELECT AVG(weight) AS avg_weight, \n       AVG(height) AS avg_height,\n       CASE WHEN sex = 0 THEN 'male'\n         WHEN sex = 1 THEN 'female'\n    END AS sex\nFROM user\nWHERE sex != 2\nGROUP BY sex\n\"\"\")",
    "id": "62f56017b1834404844198ff0d65fe0e",
    "idx": 34,
    "time": "2021-01-21T03:33:53.894Z",
    "type": "execution"
   },
   {
    "id": "62f56017b1834404844198ff0d65fe0e",
    "time": "2021-01-21T03:33:54.849Z",
    "type": "completion"
   },
   {
    "code": "queryToDataframe(\"\"\"\nSELECT AVG(weight) AS avg_weight, \n       AVG(height) AS avg_height,\n       CASE WHEN sex = 0 THEN 'male'\n         WHEN sex = 1 THEN 'female'\n    END AS sex\nFROM user\nWHERE sex = 'male'\nGROUP BY sex\n\"\"\")",
    "id": "62f56017b1834404844198ff0d65fe0e",
    "idx": 34,
    "time": "2021-01-21T03:34:04.626Z",
    "type": "execution"
   },
   {
    "id": "62f56017b1834404844198ff0d65fe0e",
    "time": "2021-01-21T03:34:04.885Z",
    "type": "completion"
   },
   {
    "code": "queryToDataframe(\"\"\"\nSELECT AVG(weight) AS avg_weight, \n       AVG(height) AS avg_height,\n       CASE WHEN sex = 0 THEN 'male'\n         WHEN sex = 1 THEN 'female'\n    END AS sex\nFROM user\nGROUP BY sex\n\"\"\")",
    "id": "62f56017b1834404844198ff0d65fe0e",
    "idx": 34,
    "time": "2021-01-21T03:34:09.666Z",
    "type": "execution"
   },
   {
    "id": "62f56017b1834404844198ff0d65fe0e",
    "time": "2021-01-21T03:34:09.851Z",
    "type": "completion"
   },
   {
    "code": "weight_average = queryToDataframe(\"\"\"\nSELECT AVG(weight) AS avg_weight, \n       AVG(height) AS avg_height,\n       CASE WHEN sex = 0 THEN 'male'\n            WHEN sex = 1 THEN 'female'\n            ELSE 'NA'\n    END AS sex\nFROM user\nGROUP BY sex\n\"\"\")",
    "id": "62f56017b1834404844198ff0d65fe0e",
    "idx": 34,
    "time": "2021-01-21T03:35:08.076Z",
    "type": "execution"
   },
   {
    "id": "62f56017b1834404844198ff0d65fe0e",
    "time": "2021-01-21T03:35:08.889Z",
    "type": "completion"
   },
   {
    "code": "weight_average",
    "id": "1e9493dafa9241a58e14fa4a0e984628",
    "idx": 35,
    "time": "2021-01-21T03:35:13.137Z",
    "type": "execution"
   },
   {
    "id": "1e9493dafa9241a58e14fa4a0e984628",
    "time": "2021-01-21T03:35:13.908Z",
    "type": "completion"
   },
   {
    "code": "queryToDataframe(\"\"\"\nSELECT COUNT(*) AS count,\n       AVG(weight) AS avg_weight, \n       AVG(height) AS avg_height,\n       CASE WHEN sex = 0 THEN 'male'\n            WHEN sex = 1 THEN 'female'\n            ELSE 'NA'\n    END AS sex\nFROM user\nGROUP BY sex\n\"\"\")",
    "id": "2665929f7ad14ab3874195db79897ad7",
    "idx": 36,
    "time": "2021-01-21T03:36:28.320Z",
    "type": "execution"
   },
   {
    "id": "2665929f7ad14ab3874195db79897ad7",
    "time": "2021-01-21T03:36:29.006Z",
    "type": "completion"
   },
   {
    "code": "queryToDataframe(\"\"\"\nSELECT id, user_id, grade_id, method_id, climb_type, year \nFROM ascent\nLIMIT 20\n\"\"\")",
    "id": "3411fe2047194f55b5f130a71af95ae4",
    "idx": 47,
    "time": "2021-01-21T03:41:47.012Z",
    "type": "execution"
   },
   {
    "id": "3411fe2047194f55b5f130a71af95ae4",
    "time": "2021-01-21T03:41:47.127Z",
    "type": "completion"
   },
   {
    "code": "queryToDataframe(\"\"\"\nSELECT id, user_id, grade_id, method_id, climb_type, year \nFROM ascent a\nLEFT JOIN grade g\n    ON a.grade_id = m.id\n    \nLIMIT 20\n\"\"\")",
    "id": "3411fe2047194f55b5f130a71af95ae4",
    "idx": 47,
    "time": "2021-01-21T03:43:26.990Z",
    "type": "execution"
   },
   {
    "id": "3411fe2047194f55b5f130a71af95ae4",
    "time": "2021-01-21T03:43:27.193Z",
    "type": "completion"
   },
   {
    "code": "queryToDataframe(\"\"\"\nSELECT id, user_id, grade_id, method_id, climb_type, year \nFROM ascent a\nLEFT JOIN grade g\n    ON a.grade_id = g.id\n    \nLIMIT 20\n\"\"\")",
    "id": "3411fe2047194f55b5f130a71af95ae4",
    "idx": 47,
    "time": "2021-01-21T03:44:14.566Z",
    "type": "execution"
   },
   {
    "id": "3411fe2047194f55b5f130a71af95ae4",
    "time": "2021-01-21T03:44:15.294Z",
    "type": "completion"
   },
   {
    "code": "queryToDataframe(\"\"\"\nSELECT id, user_id, grade_id, method_id, climb_type, year \nFROM ascent a\nLEFT JOIN grade\n    ON a.grade_id = grade.id\n    \nLIMIT 20\n\"\"\")",
    "id": "3411fe2047194f55b5f130a71af95ae4",
    "idx": 47,
    "time": "2021-01-21T03:44:52.908Z",
    "type": "execution"
   },
   {
    "id": "3411fe2047194f55b5f130a71af95ae4",
    "time": "2021-01-21T03:44:53.275Z",
    "type": "completion"
   },
   {
    "code": "column_info_dfs[\"grades\"].columns",
    "id": "aed37da60bb64eec97cacdac703c3ef6",
    "idx": 48,
    "time": "2021-01-21T03:50:31.334Z",
    "type": "execution"
   },
   {
    "id": "aed37da60bb64eec97cacdac703c3ef6",
    "time": "2021-01-21T03:50:31.503Z",
    "type": "completion"
   },
   {
    "code": "column_info_dfs[\"grade\"].columns",
    "id": "aed37da60bb64eec97cacdac703c3ef6",
    "idx": 48,
    "time": "2021-01-21T03:50:49.096Z",
    "type": "execution"
   },
   {
    "id": "aed37da60bb64eec97cacdac703c3ef6",
    "time": "2021-01-21T03:50:49.529Z",
    "type": "completion"
   },
   {
    "code": "column_info_dfs[\"grade\"]",
    "id": "aed37da60bb64eec97cacdac703c3ef6",
    "idx": 48,
    "time": "2021-01-21T03:50:55.934Z",
    "type": "execution"
   },
   {
    "id": "aed37da60bb64eec97cacdac703c3ef6",
    "time": "2021-01-21T03:50:56.517Z",
    "type": "completion"
   },
   {
    "code": "column_info_dfs[\"grade\"][\"Column\"]",
    "id": "aed37da60bb64eec97cacdac703c3ef6",
    "idx": 48,
    "time": "2021-01-21T03:51:02.921Z",
    "type": "execution"
   },
   {
    "id": "aed37da60bb64eec97cacdac703c3ef6",
    "time": "2021-01-21T03:51:03.505Z",
    "type": "completion"
   },
   {
    "code": "queryToDataframe(\"\"\"\nSELECT id, user_id, grade_id, method_id, climb_type, year , fra_routes, fra_boulders, \nFROM ascent, grade\nWHERE ascent.grade_id = grade.id\nORDER BY RANDOM()\nLIMIT 20\n\"\"\")",
    "id": "3411fe2047194f55b5f130a71af95ae4",
    "idx": 47,
    "time": "2021-01-21T03:51:30.797Z",
    "type": "execution"
   },
   {
    "id": "3411fe2047194f55b5f130a71af95ae4",
    "time": "2021-01-21T03:51:31.525Z",
    "type": "completion"
   },
   {
    "code": "queryToDataframe(\"\"\"\nSELECT a.id, a.user_id, a.grade_id, a.method_id, a.climb_type, a.year , \ng.fra_routes, g.fra_boulders \nFROM ascent a, grade g\nWHERE a.grade_id = g.id\nORDER BY RANDOM()\nLIMIT 20\n\"\"\")",
    "id": "3411fe2047194f55b5f130a71af95ae4",
    "idx": 47,
    "time": "2021-01-21T03:52:48.443Z",
    "type": "execution"
   },
   {
    "id": "3411fe2047194f55b5f130a71af95ae4",
    "time": "2021-01-21T03:52:50.134Z",
    "type": "completion"
   },
   {
    "code": "queryToDataframe(\"\"\"\nSELECT \n    a.id, a.user_id, a.grade_id, a.method_id, a.climb_type, a.year, \n    g.fra_routes, g.fra_boulders \nFROM ascent a, grade g\nWHERE a.grade_id = g.id\nORDER BY RANDOM()\nLIMIT 100\n\"\"\")",
    "id": "3411fe2047194f55b5f130a71af95ae4",
    "idx": 47,
    "time": "2021-01-21T03:53:30.230Z",
    "type": "execution"
   },
   {
    "id": "3411fe2047194f55b5f130a71af95ae4",
    "time": "2021-01-21T03:53:32.022Z",
    "type": "completion"
   },
   {
    "code": "queryToDataframe(\"\"\"SELECT * FROM method\"\"\")",
    "id": "def396b98bd04d43a7ba044dc0cbaa6c",
    "idx": 54,
    "time": "2021-01-21T04:10:03.139Z",
    "type": "execution"
   },
   {
    "id": "def396b98bd04d43a7ba044dc0cbaa6c",
    "time": "2021-01-21T04:10:03.354Z",
    "type": "completion"
   },
   {
    "code": "queryToDataframe(\"\"\"\nSELECT \n    a.id, a.user_id, a.grade_id, a.method_id, a.climb_type AS bouldering, a.year, \n    g.fra_routes, g.fra_boulders \nFROM ascent a, grade g\nWHERE a.grade_id = g.id\nORDER BY RANDOM()\nLIMIT 100\n\"\"\")",
    "id": "3411fe2047194f55b5f130a71af95ae4",
    "idx": 47,
    "time": "2021-01-21T04:12:56.345Z",
    "type": "execution"
   },
   {
    "id": "3411fe2047194f55b5f130a71af95ae4",
    "time": "2021-01-21T04:12:57.837Z",
    "type": "completion"
   },
   {
    "code": "queryToDataframe(\"\"\"\nSELECT \n    a.id, a.user_id, a.grade_id, a.method_id, a.climb_type AS bouldering, a.year, \n    g.fra_routes AS grade \nFROM ascent a, grade g\nWHERE a.grade_id = g.id\nORDER BY RANDOM()\nLIMIT 100\n\"\"\")",
    "id": "3411fe2047194f55b5f130a71af95ae4",
    "idx": 47,
    "time": "2021-01-21T04:15:11.056Z",
    "type": "execution"
   },
   {
    "id": "3411fe2047194f55b5f130a71af95ae4",
    "time": "2021-01-21T04:15:13.095Z",
    "type": "completion"
   },
   {
    "code": "queryToDataframe(\"\"\"\nSELECT \n    a.id, a.user_id, a.grade_id, a.method_id, a.climb_type AS bouldering, a.year, \n    g.fra_routes AS grade \nFROM ascent a, grade g\nWHERE a.grade_id = g.id\nGROUP BY user_id\nORDER BY RANDOM()\nLIMIT 100\n\"\"\")",
    "id": "3411fe2047194f55b5f130a71af95ae4",
    "idx": 47,
    "time": "2021-01-21T04:16:27.826Z",
    "type": "execution"
   },
   {
    "id": "3411fe2047194f55b5f130a71af95ae4",
    "time": "2021-01-21T04:16:32.328Z",
    "type": "completion"
   },
   {
    "code": "queryToDataframe(\"\"\"\nSELECT \n    a.id, a.user_id, a.grade_id, a.method_id, a.climb_type AS bouldering, a.year, \n    g.fra_routes AS grade \nFROM ascent a, grade g\nWHERE a.grade_id = g.id\nGROUP BY user_id\nLIMIT 100\n\"\"\")",
    "id": "3411fe2047194f55b5f130a71af95ae4",
    "idx": 47,
    "time": "2021-01-21T04:17:04.795Z",
    "type": "execution"
   },
   {
    "id": "3411fe2047194f55b5f130a71af95ae4",
    "time": "2021-01-21T04:17:08.494Z",
    "type": "completion"
   },
   {
    "code": "queryToDataframe(\"\"\"\nSELECT \n    MAX(a.grade_id), a.climb_type AS bouldering, a.year, \n    g.fra_routes AS grade \nFROM ascent a, grade g\nWHERE a.grade_id = g.id\nGROUP BY user_id, bouldering, year\nLIMIT 100\n\"\"\")",
    "id": "3411fe2047194f55b5f130a71af95ae4",
    "idx": 47,
    "time": "2021-01-21T04:20:19.898Z",
    "type": "execution"
   },
   {
    "code": "import sqlite3\nimport pandas as pd\nimport numpy as np\nimport matplotlib.pyplot as plt",
    "id": "672e04a4c68f407c9014110351943251",
    "idx": 2,
    "time": "2021-01-21T17:17:50.534Z",
    "type": "execution"
   },
   {
    "code": "#Make a connection\ncon = sqlite3.connect('database.sqlite')\n\n#Make a cursor instance\nc = con.cursor()",
    "id": "f98bd7f22bf348eabd1a07bd28a10c66",
    "idx": 4,
    "time": "2021-01-21T17:17:50.842Z",
    "type": "execution"
   },
   {
    "code": "#Look at all of the tables within the sqlite databes\ndef table_names():\n    query = \"\"\"\n    SELECT NAME \n    FROM SQLITE_MASTER \n    WHERE type= 'table';\n    \"\"\"\n    c.execute(query)\n    \n    tables = []\n    for row in c.fetchall():\n        tables.append(row[0])\n    \n    return tables",
    "id": "e8f2a68775a840ebb11eadccb26afaf2",
    "idx": 6,
    "time": "2021-01-21T17:17:51.161Z",
    "type": "execution"
   },
   {
    "code": "all_tables = table_names()\n\nfor table in all_tables:\n    print(table)",
    "id": "a960fe0133724ea5b3faceb26f44267a",
    "idx": 7,
    "time": "2021-01-21T17:17:51.288Z",
    "type": "execution"
   },
   {
    "id": "672e04a4c68f407c9014110351943251",
    "time": "2021-01-21T17:17:51.352Z",
    "type": "completion"
   },
   {
    "id": "f98bd7f22bf348eabd1a07bd28a10c66",
    "time": "2021-01-21T17:17:51.371Z",
    "type": "completion"
   },
   {
    "id": "e8f2a68775a840ebb11eadccb26afaf2",
    "time": "2021-01-21T17:17:51.374Z",
    "type": "completion"
   },
   {
    "id": "a960fe0133724ea5b3faceb26f44267a",
    "time": "2021-01-21T17:17:51.382Z",
    "type": "completion"
   },
   {
    "code": "def col_info():\n    #Get table names\n    tables = table_names()\n    \n    #Initialize dataframes for each table\n    dfs = {}\n\n    for table in tables:\n        #d[table] = pd.DataFrame()\n        \n        query = f\"\"\"\n        PRAGMA table_info({table})\n        \"\"\"\n        c.execute(query)\n        \n        Column = []\n        Type = []\n        Not_Null = []\n        Primary_Key = []\n        \n        for row in c:\n            Column.append(row[1])\n            Type.append(row[2])\n            if row[3]:\n                Not_Null.append(\"YES\")\n            else:\n                Not_Null.append(\"NO\")\n            if row[5]:\n                Primary_Key.append(\"YES\")\n            else:\n                Primary_Key.append(\"\")\n            \n        dfs[table] = pd.DataFrame({\"Column\" : Column,\n                          \"Type\" : Type,\n                          \"Not_Null\" : Not_Null,\n                          \"Primary_Key\" : Primary_Key})\n    return dfs ",
    "id": "fbe7efac7477440c831f2c85701ee0ec",
    "idx": 9,
    "time": "2021-01-21T17:17:51.810Z",
    "type": "execution"
   },
   {
    "id": "fbe7efac7477440c831f2c85701ee0ec",
    "time": "2021-01-21T17:17:51.872Z",
    "type": "completion"
   },
   {
    "code": "column_info_dfs = col_info()",
    "id": "ab76ee17bc214c8b8529c8e9f55958e6",
    "idx": 10,
    "time": "2021-01-21T17:17:51.985Z",
    "type": "execution"
   },
   {
    "id": "ab76ee17bc214c8b8529c8e9f55958e6",
    "time": "2021-01-21T17:17:52.059Z",
    "type": "completion"
   },
   {
    "code": "column_info_dfs[\"user\"]",
    "id": "f12044c43acd48cb8b0cb97169b02903",
    "idx": 11,
    "time": "2021-01-21T17:17:52.414Z",
    "type": "execution"
   },
   {
    "id": "f12044c43acd48cb8b0cb97169b02903",
    "time": "2021-01-21T17:17:52.505Z",
    "type": "completion"
   },
   {
    "code": "column_info_dfs[\"method\"]",
    "id": "bedaf6e57b424183ba2a75d5cc949b6a",
    "idx": 12,
    "time": "2021-01-21T17:17:52.798Z",
    "type": "execution"
   },
   {
    "id": "bedaf6e57b424183ba2a75d5cc949b6a",
    "time": "2021-01-21T17:17:52.883Z",
    "type": "completion"
   },
   {
    "code": "column_info_dfs[\"grade\"]",
    "id": "5168ba3caa834d428da8eef32f82217d",
    "idx": 13,
    "time": "2021-01-21T17:17:52.954Z",
    "type": "execution"
   },
   {
    "id": "5168ba3caa834d428da8eef32f82217d",
    "time": "2021-01-21T17:17:53.040Z",
    "type": "completion"
   },
   {
    "code": "column_info_dfs[\"ascent\"]",
    "id": "fb630cb0bc544a99a7cb6c8d929e2a60",
    "idx": 14,
    "time": "2021-01-21T17:17:53.109Z",
    "type": "execution"
   },
   {
    "id": "fb630cb0bc544a99a7cb6c8d929e2a60",
    "time": "2021-01-21T17:17:53.204Z",
    "type": "completion"
   },
   {
    "code": "def countRows():\n    #Get table names\n    tables = table_names()\n    \n    for table in tables:\n        query = f\"\"\"\n        SELECT COUNT(id)\n        FROM {table}\n        \"\"\"\n        count = c.execute(query).fetchall()[0][0]\n        print(f\"{table} table:  {count} rows\")\n        ",
    "id": "1d8ac79de033463d80cb4c83e1571ad4",
    "idx": 16,
    "time": "2021-01-21T17:17:53.404Z",
    "type": "execution"
   },
   {
    "id": "1d8ac79de033463d80cb4c83e1571ad4",
    "time": "2021-01-21T17:17:53.471Z",
    "type": "completion"
   },
   {
    "code": "countRows()",
    "id": "19dbb0364c944aa283edf98a2ff01315",
    "idx": 17,
    "time": "2021-01-21T17:17:54.079Z",
    "type": "execution"
   },
   {
    "id": "19dbb0364c944aa283edf98a2ff01315",
    "time": "2021-01-21T17:17:56.233Z",
    "type": "completion"
   },
   {
    "code": "def queryToDataframe(query):\n    \"\"\"\n    Takes a sql query.\n    Returns a dataframe with column names and records.\n    \"\"\"\n    sql = c.execute(query)\n    colnames = sql.description\n    numcols = len(colnames)\n    \n    cols = []\n    for col in range(numcols):\n        cols.append(colnames[col][0])\n    \n    rows = sql.fetchall()\n    \n    df = pd.DataFrame(rows, columns = cols)\n    return df",
    "id": "2ce5a5f6b8cd4f4995aa8937514cff0b",
    "idx": 20,
    "time": "2021-01-21T17:17:58.959Z",
    "type": "execution"
   },
   {
    "id": "2ce5a5f6b8cd4f4995aa8937514cff0b",
    "time": "2021-01-21T17:17:59.023Z",
    "type": "completion"
   },
   {
    "code": "# Get count of all users who started in a given year\n\n",
    "id": "a3ca289276ef4a6687d81f2b34f5f77f",
    "idx": 21,
    "time": "2021-01-21T17:18:00.289Z",
    "type": "execution"
   },
   {
    "id": "a3ca289276ef4a6687d81f2b34f5f77f",
    "time": "2021-01-21T17:18:00.356Z",
    "type": "completion"
   },
   {
    "code": "start_year_count_all = queryToDataframe(\"\"\"\nSELECT COUNT(started) AS total, started AS year\nFROM user\nWHERE year BETWEEN 1920 AND 2017\nGROUP BY(year)\nORDER BY year DESC\n\"\"\")",
    "id": "21a42835798748b29a8a1dacec422ff5",
    "idx": 22,
    "time": "2021-01-21T17:18:00.647Z",
    "type": "execution"
   },
   {
    "id": "21a42835798748b29a8a1dacec422ff5",
    "time": "2021-01-21T17:18:00.799Z",
    "type": "completion"
   },
   {
    "code": "start_year_count_all[start_year_count_all[\"year\"] < 1950]",
    "id": "95acca14c6c64c94813eb4547e5c5a34",
    "idx": 23,
    "time": "2021-01-21T17:18:01.052Z",
    "type": "execution"
   },
   {
    "id": "95acca14c6c64c94813eb4547e5c5a34",
    "time": "2021-01-21T17:18:01.147Z",
    "type": "completion"
   },
   {
    "code": "queryToDataframe(\"\"\"\nWITH t AS\n    (\n    SELECT COUNT(started) AS total, started AS year\n    FROM user\n    WHERE year BETWEEN 1960 AND 2017\n    GROUP BY(year)\n    ),\nf AS\n    (\n    SELECT COUNT(started) AS female, started AS year\n    FROM user\n    WHERE year BETWEEN 1960 AND 2017\n        AND sex = 1\n    GROUP BY(year)\n    ),\nm AS\n    (\n    SELECT COUNT(started) AS male, started AS year\n    FROM user\n    WHERE year BETWEEN 1960 AND 2017\n        AND sex = 0\n    GROUP BY(year)\n    )\nSELECT f.year, t.total, f.female, m.male \nFROM t\nLEFT JOIN f\n    ON t.year = f.year\nLEFT JOIN m\n    ON t.year = m.year\n\"\"\"",
    "id": "8950fc09992946b6af09a8cb96467083",
    "idx": 26,
    "time": "2021-01-21T17:19:27.795Z",
    "type": "execution"
   },
   {
    "id": "8950fc09992946b6af09a8cb96467083",
    "time": "2021-01-21T17:19:27.883Z",
    "type": "completion"
   },
   {
    "code": "queryToDataframe(\"\"\"\nWITH t AS\n    (\n    SELECT COUNT(started) AS total, started AS year\n    FROM user\n    WHERE year BETWEEN 1960 AND 2017\n    GROUP BY(year)\n    ),\nf AS\n    (\n    SELECT COUNT(started) AS female, started AS year\n    FROM user\n    WHERE year BETWEEN 1960 AND 2017\n        AND sex = 1\n    GROUP BY(year)\n    ),\nm AS\n    (\n    SELECT COUNT(started) AS male, started AS year\n    FROM user\n    WHERE year BETWEEN 1960 AND 2017\n        AND sex = 0\n    GROUP BY(year)\n    )\nSELECT f.year, t.total, f.female, m.male \nFROM t\nLEFT JOIN f\n    ON t.year = f.year\nLEFT JOIN m\n    ON t.year = m.year\n\"\"\")",
    "id": "8950fc09992946b6af09a8cb96467083",
    "idx": 26,
    "time": "2021-01-21T17:20:04.648Z",
    "type": "execution"
   },
   {
    "id": "8950fc09992946b6af09a8cb96467083",
    "time": "2021-01-21T17:20:04.791Z",
    "type": "completion"
   },
   {
    "code": "queryToDataframe(\"\"\"\nWITH t AS\n    (\n    SELECT COUNT(started) AS total, started AS year\n    FROM user\n    WHERE year BETWEEN 1960 AND 2017\n    GROUP BY(year)\n    ),\nf AS\n    (\n    SELECT COUNT(started) AS female, started AS year\n    FROM user\n    WHERE year BETWEEN 1960 AND 2017\n        AND sex = 1\n    GROUP BY(year)\n    ),\nm AS\n    (\n    SELECT COUNT(started) AS male, started AS year\n    FROM user\n    WHERE year BETWEEN 1960 AND 2017\n        AND sex = 0\n    GROUP BY(year)\n    )\nSELECT t.year, t.total, f.female, m.male \nFROM t\nLEFT JOIN f\n    ON t.year = f.year\nLEFT JOIN m\n    ON t.year = m.year\n\"\"\")",
    "id": "8950fc09992946b6af09a8cb96467083",
    "idx": 26,
    "time": "2021-01-21T17:20:40.899Z",
    "type": "execution"
   },
   {
    "id": "8950fc09992946b6af09a8cb96467083",
    "time": "2021-01-21T17:20:41.043Z",
    "type": "completion"
   },
   {
    "code": "queryToDataframe(\"\"\"\nWITH t AS\n    (\n    SELECT COUNT(started) AS total, started AS year\n    FROM user\n    WHERE year BETWEEN 1960 AND 2017\n    GROUP BY(year)\n    ),\nf AS\n    (\n    SELECT COUNT(started) AS female, started AS year\n    FROM user\n    WHERE year BETWEEN 1960 AND 2017\n        AND sex = 1\n    GROUP BY(year)\n    ),\nm AS\n    (\n    SELECT COUNT(started) AS male, started AS year\n    FROM user\n    WHERE year BETWEEN 1960 AND 2017\n        AND sex = 0\n    GROUP BY(year)\n    )\nSELECT t.year, t.total, m.male, ISNULL(f.female, 0)\nFROM t\nLEFT JOIN f\n    ON t.year = f.year\nLEFT JOIN m\n    ON t.year = m.year\n\"\"\")",
    "id": "8950fc09992946b6af09a8cb96467083",
    "idx": 26,
    "time": "2021-01-21T17:26:17.455Z",
    "type": "execution"
   },
   {
    "id": "8950fc09992946b6af09a8cb96467083",
    "time": "2021-01-21T17:26:17.623Z",
    "type": "completion"
   },
   {
    "code": "queryToDataframe(\"\"\"\nWITH t AS\n    (\n    SELECT COUNT(started) AS total, started AS year\n    FROM user\n    WHERE year BETWEEN 1960 AND 2017\n    GROUP BY(year)\n    ),\nf AS\n    (\n    SELECT COUNT(started) AS female, started AS year\n    FROM user\n    WHERE year BETWEEN 1960 AND 2017\n        AND sex = 1\n    GROUP BY(year)\n    ),\nm AS\n    (\n    SELECT COUNT(started) AS male, started AS year\n    FROM user\n    WHERE year BETWEEN 1960 AND 2017\n        AND sex = 0\n    GROUP BY(year)\n    )\nSELECT t.year, t.total, m.male, ISNULL(f.female, 0)\nFROM t\nLEFT JOIN f\n    ON t.year = f.year\nLEFT JOIN m\n    ON t.year = m.year\n\"\"\")",
    "id": "8950fc09992946b6af09a8cb96467083",
    "idx": 26,
    "time": "2021-01-21T17:28:01.961Z",
    "type": "execution"
   },
   {
    "id": "8950fc09992946b6af09a8cb96467083",
    "time": "2021-01-21T17:28:02.140Z",
    "type": "completion"
   },
   {
    "code": "queryToDataframe(\"\"\"\nWITH t AS\n    (\n    SELECT COUNT(started) AS total, started AS year\n    FROM user\n    WHERE year BETWEEN 1960 AND 2017\n    GROUP BY(year)\n    ),\nf AS\n    (\n    SELECT COUNT(started) AS female, started AS year\n    FROM user\n    WHERE year BETWEEN 1960 AND 2017\n        AND sex = 1\n    GROUP BY(year)\n    ),\nm AS\n    (\n    SELECT COUNT(started) AS male, started AS year\n    FROM user\n    WHERE year BETWEEN 1960 AND 2017\n        AND sex = 0\n    GROUP BY(year)\n    )\nSELECT t.year, t.total, m.male, IFNULL(f.female, 0)\nFROM t\nLEFT JOIN f\n    ON t.year = f.year\nLEFT JOIN m\n    ON t.year = m.year\n\"\"\")",
    "id": "8950fc09992946b6af09a8cb96467083",
    "idx": 26,
    "time": "2021-01-21T17:28:13.640Z",
    "type": "execution"
   },
   {
    "id": "8950fc09992946b6af09a8cb96467083",
    "time": "2021-01-21T17:28:13.864Z",
    "type": "completion"
   },
   {
    "code": "queryToDataframe(\"\"\"\nWITH t AS\n    (\n    SELECT COUNT(started) AS total, started AS year\n    FROM user\n    WHERE year BETWEEN 1960 AND 2017\n    GROUP BY(year)\n    ),\nf AS\n    (\n    SELECT COUNT(started) AS female, started AS year\n    FROM user\n    WHERE year BETWEEN 1960 AND 2017\n        AND sex = 1\n    GROUP BY(year)\n    ),\nm AS\n    (\n    SELECT COUNT(started) AS male, started AS year\n    FROM user\n    WHERE year BETWEEN 1960 AND 2017\n        AND sex = 0\n    GROUP BY(year)\n    )\nSELECT t.year, t.total, m.male, IFNULL(f.female, 0) AS female\nFROM t\nLEFT JOIN f\n    ON t.year = f.year\nLEFT JOIN m\n    ON t.year = m.year\n\"\"\")",
    "id": "8950fc09992946b6af09a8cb96467083",
    "idx": 26,
    "time": "2021-01-21T17:28:36.345Z",
    "type": "execution"
   },
   {
    "id": "8950fc09992946b6af09a8cb96467083",
    "time": "2021-01-21T17:28:36.552Z",
    "type": "completion"
   },
   {
    "code": "year_count_segmented = queryToDataframe(\"\"\"\nWITH t AS\n    (\n    SELECT COUNT(started) AS total, started AS year\n    FROM user\n    WHERE year BETWEEN 1960 AND 2017\n    GROUP BY(year)\n    ),\nf AS\n    (\n    SELECT COUNT(started) AS female, started AS year\n    FROM user\n    WHERE year BETWEEN 1960 AND 2017\n        AND sex = 1\n    GROUP BY(year)\n    ),\nm AS\n    (\n    SELECT COUNT(started) AS male, started AS year\n    FROM user\n    WHERE year BETWEEN 1960 AND 2017\n        AND sex = 0\n    GROUP BY(year)\n    )\nSELECT t.year, t.total, m.male, IFNULL(f.female, 0) AS female\nFROM t\nLEFT JOIN f\n    ON t.year = f.year\nLEFT JOIN m\n    ON t.year = m.year\n\"\"\")",
    "id": "62b3fa97a2744c3e819a5a98d063a16a",
    "idx": 24,
    "time": "2021-01-21T17:29:26.810Z",
    "type": "execution"
   },
   {
    "id": "62b3fa97a2744c3e819a5a98d063a16a",
    "time": "2021-01-21T17:29:26.928Z",
    "type": "completion"
   },
   {
    "code": "year_count_segmented",
    "id": "54718345c0684289aecdd846b5f62141",
    "idx": 25,
    "time": "2021-01-21T17:29:27.399Z",
    "type": "execution"
   },
   {
    "id": "54718345c0684289aecdd846b5f62141",
    "time": "2021-01-21T17:29:27.577Z",
    "type": "completion"
   },
   {
    "code": "def write_csv(df, path, filename):\n    \"\"\"\n    Takes a dataframe, path, and filename.\n    Returns a written csv.\n    Checks if the csv is already written, and if the path is correct.\n    \"\"\"\n    file = os.path.join(path, filename)\n\n    if os.path.exists(path):\n        if os.path.exists(file):\n            print(f\"The csv {filename} already exists.\")\n        else:\n            pd.DataFrame.to_csv(df, file)\n    else:\n        print(f\"The path {path} does not exist.\")",
    "id": "9138abcf408d4004a11ae96372e9ccb5",
    "idx": 26,
    "time": "2021-01-21T17:37:01.178Z",
    "type": "execution"
   },
   {
    "id": "9138abcf408d4004a11ae96372e9ccb5",
    "time": "2021-01-21T17:37:01.290Z",
    "type": "completion"
   },
   {
    "code": "write_csv(year_count_segmented, \"clean_data\", \"popularity_growth.csv\")",
    "id": "042f321d8553493b83c1fc76d1785409",
    "idx": 27,
    "time": "2021-01-21T17:39:48.313Z",
    "type": "execution"
   },
   {
    "id": "042f321d8553493b83c1fc76d1785409",
    "time": "2021-01-21T17:39:48.519Z",
    "type": "completion"
   },
   {
    "code": "import sqlite3\nimport pandas as pd\nimport numpy as np\nimport matplotlib.pyplot as plt\nimport os",
    "id": "672e04a4c68f407c9014110351943251",
    "idx": 2,
    "time": "2021-01-21T17:39:56.117Z",
    "type": "execution"
   },
   {
    "id": "672e04a4c68f407c9014110351943251",
    "time": "2021-01-21T17:39:56.309Z",
    "type": "completion"
   },
   {
    "code": "def write_csv(df, path, filename):\n    \"\"\"\n    Takes a dataframe, path, and filename.\n    Returns a written csv.\n    Checks if the csv is already written, and if the path is correct.\n    \"\"\"\n    file = os.path.join(path, filename)\n\n    if os.path.exists(path):\n        if os.path.exists(file):\n            print(f\"The csv {filename} already exists.\")\n        else:\n            pd.DataFrame.to_csv(df, file)\n    else:\n        print(f\"The path {path} does not exist.\")",
    "id": "9138abcf408d4004a11ae96372e9ccb5",
    "idx": 26,
    "time": "2021-01-21T17:40:04.354Z",
    "type": "execution"
   },
   {
    "id": "9138abcf408d4004a11ae96372e9ccb5",
    "time": "2021-01-21T17:40:04.456Z",
    "type": "completion"
   },
   {
    "code": "write_csv(year_count_segmented, \"clean_data\", \"popularity_growth.csv\")",
    "id": "042f321d8553493b83c1fc76d1785409",
    "idx": 27,
    "time": "2021-01-21T17:40:04.893Z",
    "type": "execution"
   },
   {
    "id": "042f321d8553493b83c1fc76d1785409",
    "time": "2021-01-21T17:40:05.055Z",
    "type": "completion"
   }
  ],
  "kernelspec": {
   "display_name": "Python 3",
   "language": "python",
   "name": "python3"
  },
  "language_info": {
   "codemirror_mode": {
    "name": "ipython",
    "version": 3
   },
   "file_extension": ".py",
   "mimetype": "text/x-python",
   "name": "python",
   "nbconvert_exporter": "python",
   "pygments_lexer": "ipython3",
   "version": "3.8.6"
  }
 },
 "nbformat": 4,
 "nbformat_minor": 2
}
