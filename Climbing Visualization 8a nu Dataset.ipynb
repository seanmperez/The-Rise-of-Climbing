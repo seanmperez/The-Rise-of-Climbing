{
 "cells": [
  {
   "cell_type": "markdown",
   "metadata": {},
   "source": [
    "# Visualizing Climbing Data from 8a.nu using SQL and Tableau\n",
    "\n"
   ]
  },
  {
   "cell_type": "markdown",
   "metadata": {},
   "source": [
    "### Introduction\n",
    "Climbing has transformed from an off-the-beaten-path lifestyle, to a competitive sport being featured in the 2021 olympics. Unlike a lot of other popular sports such as basketball and football, data is sparse when it comes to climbing!\n",
    "\n",
    "\n",
    "### The Data\n",
    "Luckily, kaggle has a great dataset of users from the world's largest rock climbing logbook, 8a.nu. The dataset was collected on 9/13/2017 and can be found on kaggle https://www.kaggle.com/dcohen21/8anu-climbing-logbook. The data is held in a sqlite database. \n",
    "\n",
    "### Jargon Alert!\n",
    "Climbers (myself included) love jargon. In case you are not familiar with climbing, here are a few terms to lookout for!\n",
    "\n",
    "1. **Bouldering** - Climbing a smaller rock a.k.a. \"boulder\" without ropes. Typically short, requiring power.\n",
    "2. **Route** - Climbing a longer mountain-side \"route\" using a rope. Typically long, requiring endurance.\n",
    "3. **Send or Ascent** - Succesfully climbing to the top of a route or boulder.\n",
    "4. **Grade** - This describes the difficulty of a climb. Grading a route or boulder can be subjective. On top of that, there are separate grading systems for routes and boulders. AND on top of that, there are different US and European grading systems! See https://rockandice.com/how-to-climb/climbing-grades-explained/ for more details on this complex system!"
   ]
  },
  {
   "cell_type": "code",
   "execution_count": 2,
   "metadata": {},
   "outputs": [],
   "source": [
    "import sqlite3\n",
    "import pandas as pd\n",
    "import numpy as np\n",
    "import matplotlib.pyplot as plt\n",
    "import os"
   ]
  },
  {
   "cell_type": "markdown",
   "metadata": {},
   "source": [
    "## Understanding the sql data schema"
   ]
  },
  {
   "cell_type": "code",
   "execution_count": 3,
   "metadata": {},
   "outputs": [],
   "source": [
    "#Make a connection\n",
    "con = sqlite3.connect('database.sqlite')\n",
    "\n",
    "#Make a cursor instance\n",
    "c = con.cursor()"
   ]
  },
  {
   "cell_type": "markdown",
   "metadata": {},
   "source": [
    "How many tables are in the sql database and what are their names?"
   ]
  },
  {
   "cell_type": "code",
   "execution_count": 4,
   "metadata": {
    "scrolled": true
   },
   "outputs": [],
   "source": [
    "#Look at all of the tables within the sqlite databes\n",
    "def table_names():\n",
    "    query = \"\"\"\n",
    "    SELECT NAME \n",
    "    FROM SQLITE_MASTER \n",
    "    WHERE type= 'table';\n",
    "    \"\"\"\n",
    "    c.execute(query)\n",
    "    \n",
    "    tables = []\n",
    "    for row in c.fetchall():\n",
    "        tables.append(row[0])\n",
    "    \n",
    "    return tables"
   ]
  },
  {
   "cell_type": "code",
   "execution_count": 5,
   "metadata": {},
   "outputs": [
    {
     "name": "stdout",
     "output_type": "stream",
     "text": [
      "user\n",
      "method\n",
      "grade\n",
      "ascent\n"
     ]
    }
   ],
   "source": [
    "all_tables = table_names()\n",
    "\n",
    "for table in all_tables:\n",
    "    print(table)"
   ]
  },
  {
   "cell_type": "code",
   "execution_count": 6,
   "metadata": {},
   "outputs": [],
   "source": [
    "def col_info():\n",
    "    #Get table names\n",
    "    tables = table_names()\n",
    "    \n",
    "    #Initialize dataframes for each table\n",
    "    dfs = {}\n",
    "\n",
    "    for table in tables:\n",
    "        #d[table] = pd.DataFrame()\n",
    "        \n",
    "        query = f\"\"\"\n",
    "        PRAGMA table_info({table})\n",
    "        \"\"\"\n",
    "        c.execute(query)\n",
    "        \n",
    "        Column = []\n",
    "        Type = []\n",
    "        Not_Null = []\n",
    "        Primary_Key = []\n",
    "        \n",
    "        for row in c:\n",
    "            Column.append(row[1])\n",
    "            Type.append(row[2])\n",
    "            if row[3]:\n",
    "                Not_Null.append(\"YES\")\n",
    "            else:\n",
    "                Not_Null.append(\"NO\")\n",
    "            if row[5]:\n",
    "                Primary_Key.append(\"YES\")\n",
    "            else:\n",
    "                Primary_Key.append(\"\")\n",
    "            \n",
    "        dfs[table] = pd.DataFrame({\"Column\" : Column,\n",
    "                          \"Type\" : Type,\n",
    "                          \"Not_Null\" : Not_Null,\n",
    "                          \"Primary_Key\" : Primary_Key})\n",
    "    return dfs "
   ]
  },
  {
   "cell_type": "code",
   "execution_count": 7,
   "metadata": {},
   "outputs": [],
   "source": [
    "column_info_dfs = col_info()"
   ]
  },
  {
   "cell_type": "code",
   "execution_count": 8,
   "metadata": {},
   "outputs": [
    {
     "data": {
      "text/html": [
       "<div>\n",
       "<style scoped>\n",
       "    .dataframe tbody tr th:only-of-type {\n",
       "        vertical-align: middle;\n",
       "    }\n",
       "\n",
       "    .dataframe tbody tr th {\n",
       "        vertical-align: top;\n",
       "    }\n",
       "\n",
       "    .dataframe thead th {\n",
       "        text-align: right;\n",
       "    }\n",
       "</style>\n",
       "<table border=\"1\" class=\"dataframe\">\n",
       "  <thead>\n",
       "    <tr style=\"text-align: right;\">\n",
       "      <th></th>\n",
       "      <th>Column</th>\n",
       "      <th>Type</th>\n",
       "      <th>Not_Null</th>\n",
       "      <th>Primary_Key</th>\n",
       "    </tr>\n",
       "  </thead>\n",
       "  <tbody>\n",
       "    <tr>\n",
       "      <th>0</th>\n",
       "      <td>id</td>\n",
       "      <td>INTEGER</td>\n",
       "      <td>YES</td>\n",
       "      <td>YES</td>\n",
       "    </tr>\n",
       "    <tr>\n",
       "      <th>1</th>\n",
       "      <td>first_name</td>\n",
       "      <td>VARCHAR</td>\n",
       "      <td>NO</td>\n",
       "      <td></td>\n",
       "    </tr>\n",
       "    <tr>\n",
       "      <th>2</th>\n",
       "      <td>last_name</td>\n",
       "      <td>VARCHAR</td>\n",
       "      <td>NO</td>\n",
       "      <td></td>\n",
       "    </tr>\n",
       "    <tr>\n",
       "      <th>3</th>\n",
       "      <td>city</td>\n",
       "      <td>VARCHAR</td>\n",
       "      <td>NO</td>\n",
       "      <td></td>\n",
       "    </tr>\n",
       "    <tr>\n",
       "      <th>4</th>\n",
       "      <td>country</td>\n",
       "      <td>VARCHAR</td>\n",
       "      <td>NO</td>\n",
       "      <td></td>\n",
       "    </tr>\n",
       "    <tr>\n",
       "      <th>5</th>\n",
       "      <td>sex</td>\n",
       "      <td>INTEGER</td>\n",
       "      <td>NO</td>\n",
       "      <td></td>\n",
       "    </tr>\n",
       "    <tr>\n",
       "      <th>6</th>\n",
       "      <td>height</td>\n",
       "      <td>INTEGER</td>\n",
       "      <td>NO</td>\n",
       "      <td></td>\n",
       "    </tr>\n",
       "    <tr>\n",
       "      <th>7</th>\n",
       "      <td>weight</td>\n",
       "      <td>INTEGER</td>\n",
       "      <td>NO</td>\n",
       "      <td></td>\n",
       "    </tr>\n",
       "    <tr>\n",
       "      <th>8</th>\n",
       "      <td>started</td>\n",
       "      <td>INTEGER</td>\n",
       "      <td>NO</td>\n",
       "      <td></td>\n",
       "    </tr>\n",
       "    <tr>\n",
       "      <th>9</th>\n",
       "      <td>competitions</td>\n",
       "      <td>VARCHAR</td>\n",
       "      <td>NO</td>\n",
       "      <td></td>\n",
       "    </tr>\n",
       "    <tr>\n",
       "      <th>10</th>\n",
       "      <td>occupation</td>\n",
       "      <td>VARCHAR</td>\n",
       "      <td>NO</td>\n",
       "      <td></td>\n",
       "    </tr>\n",
       "    <tr>\n",
       "      <th>11</th>\n",
       "      <td>sponsor1</td>\n",
       "      <td>VARCHAR</td>\n",
       "      <td>NO</td>\n",
       "      <td></td>\n",
       "    </tr>\n",
       "    <tr>\n",
       "      <th>12</th>\n",
       "      <td>sponsor2</td>\n",
       "      <td>VARCHAR</td>\n",
       "      <td>NO</td>\n",
       "      <td></td>\n",
       "    </tr>\n",
       "    <tr>\n",
       "      <th>13</th>\n",
       "      <td>sponsor3</td>\n",
       "      <td>VARCHAR</td>\n",
       "      <td>NO</td>\n",
       "      <td></td>\n",
       "    </tr>\n",
       "    <tr>\n",
       "      <th>14</th>\n",
       "      <td>best_area</td>\n",
       "      <td>VARCHAR</td>\n",
       "      <td>NO</td>\n",
       "      <td></td>\n",
       "    </tr>\n",
       "    <tr>\n",
       "      <th>15</th>\n",
       "      <td>worst_area</td>\n",
       "      <td>VARCHAR</td>\n",
       "      <td>NO</td>\n",
       "      <td></td>\n",
       "    </tr>\n",
       "    <tr>\n",
       "      <th>16</th>\n",
       "      <td>guide_area</td>\n",
       "      <td>VARCHAR</td>\n",
       "      <td>NO</td>\n",
       "      <td></td>\n",
       "    </tr>\n",
       "    <tr>\n",
       "      <th>17</th>\n",
       "      <td>interests</td>\n",
       "      <td>VARCHAR</td>\n",
       "      <td>NO</td>\n",
       "      <td></td>\n",
       "    </tr>\n",
       "    <tr>\n",
       "      <th>18</th>\n",
       "      <td>birth</td>\n",
       "      <td>DATE</td>\n",
       "      <td>NO</td>\n",
       "      <td></td>\n",
       "    </tr>\n",
       "    <tr>\n",
       "      <th>19</th>\n",
       "      <td>presentation</td>\n",
       "      <td>VARCHAR</td>\n",
       "      <td>NO</td>\n",
       "      <td></td>\n",
       "    </tr>\n",
       "    <tr>\n",
       "      <th>20</th>\n",
       "      <td>deactivated</td>\n",
       "      <td>INTEGER</td>\n",
       "      <td>NO</td>\n",
       "      <td></td>\n",
       "    </tr>\n",
       "    <tr>\n",
       "      <th>21</th>\n",
       "      <td>anonymous</td>\n",
       "      <td>INTEGER</td>\n",
       "      <td>NO</td>\n",
       "      <td></td>\n",
       "    </tr>\n",
       "  </tbody>\n",
       "</table>\n",
       "</div>"
      ],
      "text/plain": [
       "          Column     Type Not_Null Primary_Key\n",
       "0             id  INTEGER      YES         YES\n",
       "1     first_name  VARCHAR       NO            \n",
       "2      last_name  VARCHAR       NO            \n",
       "3           city  VARCHAR       NO            \n",
       "4        country  VARCHAR       NO            \n",
       "5            sex  INTEGER       NO            \n",
       "6         height  INTEGER       NO            \n",
       "7         weight  INTEGER       NO            \n",
       "8        started  INTEGER       NO            \n",
       "9   competitions  VARCHAR       NO            \n",
       "10    occupation  VARCHAR       NO            \n",
       "11      sponsor1  VARCHAR       NO            \n",
       "12      sponsor2  VARCHAR       NO            \n",
       "13      sponsor3  VARCHAR       NO            \n",
       "14     best_area  VARCHAR       NO            \n",
       "15    worst_area  VARCHAR       NO            \n",
       "16    guide_area  VARCHAR       NO            \n",
       "17     interests  VARCHAR       NO            \n",
       "18         birth     DATE       NO            \n",
       "19  presentation  VARCHAR       NO            \n",
       "20   deactivated  INTEGER       NO            \n",
       "21     anonymous  INTEGER       NO            "
      ]
     },
     "execution_count": 8,
     "metadata": {},
     "output_type": "execute_result"
    }
   ],
   "source": [
    "column_info_dfs[\"user\"]"
   ]
  },
  {
   "cell_type": "code",
   "execution_count": 9,
   "metadata": {
    "scrolled": true
   },
   "outputs": [
    {
     "data": {
      "text/html": [
       "<div>\n",
       "<style scoped>\n",
       "    .dataframe tbody tr th:only-of-type {\n",
       "        vertical-align: middle;\n",
       "    }\n",
       "\n",
       "    .dataframe tbody tr th {\n",
       "        vertical-align: top;\n",
       "    }\n",
       "\n",
       "    .dataframe thead th {\n",
       "        text-align: right;\n",
       "    }\n",
       "</style>\n",
       "<table border=\"1\" class=\"dataframe\">\n",
       "  <thead>\n",
       "    <tr style=\"text-align: right;\">\n",
       "      <th></th>\n",
       "      <th>Column</th>\n",
       "      <th>Type</th>\n",
       "      <th>Not_Null</th>\n",
       "      <th>Primary_Key</th>\n",
       "    </tr>\n",
       "  </thead>\n",
       "  <tbody>\n",
       "    <tr>\n",
       "      <th>0</th>\n",
       "      <td>id</td>\n",
       "      <td>INTEGER</td>\n",
       "      <td>YES</td>\n",
       "      <td>YES</td>\n",
       "    </tr>\n",
       "    <tr>\n",
       "      <th>1</th>\n",
       "      <td>score</td>\n",
       "      <td>INTEGER</td>\n",
       "      <td>NO</td>\n",
       "      <td></td>\n",
       "    </tr>\n",
       "    <tr>\n",
       "      <th>2</th>\n",
       "      <td>shorthand</td>\n",
       "      <td>VARCHAR</td>\n",
       "      <td>NO</td>\n",
       "      <td></td>\n",
       "    </tr>\n",
       "    <tr>\n",
       "      <th>3</th>\n",
       "      <td>name</td>\n",
       "      <td>VARCHAR</td>\n",
       "      <td>NO</td>\n",
       "      <td></td>\n",
       "    </tr>\n",
       "  </tbody>\n",
       "</table>\n",
       "</div>"
      ],
      "text/plain": [
       "      Column     Type Not_Null Primary_Key\n",
       "0         id  INTEGER      YES         YES\n",
       "1      score  INTEGER       NO            \n",
       "2  shorthand  VARCHAR       NO            \n",
       "3       name  VARCHAR       NO            "
      ]
     },
     "execution_count": 9,
     "metadata": {},
     "output_type": "execute_result"
    }
   ],
   "source": [
    "column_info_dfs[\"method\"]"
   ]
  },
  {
   "cell_type": "code",
   "execution_count": 10,
   "metadata": {},
   "outputs": [
    {
     "data": {
      "text/html": [
       "<div>\n",
       "<style scoped>\n",
       "    .dataframe tbody tr th:only-of-type {\n",
       "        vertical-align: middle;\n",
       "    }\n",
       "\n",
       "    .dataframe tbody tr th {\n",
       "        vertical-align: top;\n",
       "    }\n",
       "\n",
       "    .dataframe thead th {\n",
       "        text-align: right;\n",
       "    }\n",
       "</style>\n",
       "<table border=\"1\" class=\"dataframe\">\n",
       "  <thead>\n",
       "    <tr style=\"text-align: right;\">\n",
       "      <th></th>\n",
       "      <th>Column</th>\n",
       "      <th>Type</th>\n",
       "      <th>Not_Null</th>\n",
       "      <th>Primary_Key</th>\n",
       "    </tr>\n",
       "  </thead>\n",
       "  <tbody>\n",
       "    <tr>\n",
       "      <th>0</th>\n",
       "      <td>id</td>\n",
       "      <td>INTEGER</td>\n",
       "      <td>YES</td>\n",
       "      <td>YES</td>\n",
       "    </tr>\n",
       "    <tr>\n",
       "      <th>1</th>\n",
       "      <td>score</td>\n",
       "      <td>INTEGER</td>\n",
       "      <td>NO</td>\n",
       "      <td></td>\n",
       "    </tr>\n",
       "    <tr>\n",
       "      <th>2</th>\n",
       "      <td>fra_routes</td>\n",
       "      <td>VARCHAR</td>\n",
       "      <td>NO</td>\n",
       "      <td></td>\n",
       "    </tr>\n",
       "    <tr>\n",
       "      <th>3</th>\n",
       "      <td>fra_routes_input</td>\n",
       "      <td>BOOLEAN</td>\n",
       "      <td>NO</td>\n",
       "      <td></td>\n",
       "    </tr>\n",
       "    <tr>\n",
       "      <th>4</th>\n",
       "      <td>fra_routes_selector</td>\n",
       "      <td>BOOLEAN</td>\n",
       "      <td>NO</td>\n",
       "      <td></td>\n",
       "    </tr>\n",
       "    <tr>\n",
       "      <th>5</th>\n",
       "      <td>fra_boulders</td>\n",
       "      <td>VARCHAR</td>\n",
       "      <td>NO</td>\n",
       "      <td></td>\n",
       "    </tr>\n",
       "    <tr>\n",
       "      <th>6</th>\n",
       "      <td>fra_boulders_input</td>\n",
       "      <td>BOOLEAN</td>\n",
       "      <td>NO</td>\n",
       "      <td></td>\n",
       "    </tr>\n",
       "    <tr>\n",
       "      <th>7</th>\n",
       "      <td>fra_boulders_selector</td>\n",
       "      <td>BOOLEAN</td>\n",
       "      <td>NO</td>\n",
       "      <td></td>\n",
       "    </tr>\n",
       "    <tr>\n",
       "      <th>8</th>\n",
       "      <td>usa_routes</td>\n",
       "      <td>VARCHAR</td>\n",
       "      <td>NO</td>\n",
       "      <td></td>\n",
       "    </tr>\n",
       "    <tr>\n",
       "      <th>9</th>\n",
       "      <td>usa_routes_input</td>\n",
       "      <td>BOOLEAN</td>\n",
       "      <td>NO</td>\n",
       "      <td></td>\n",
       "    </tr>\n",
       "    <tr>\n",
       "      <th>10</th>\n",
       "      <td>usa_routes_selector</td>\n",
       "      <td>BOOLEAN</td>\n",
       "      <td>NO</td>\n",
       "      <td></td>\n",
       "    </tr>\n",
       "    <tr>\n",
       "      <th>11</th>\n",
       "      <td>usa_boulders</td>\n",
       "      <td>VARCHAR</td>\n",
       "      <td>NO</td>\n",
       "      <td></td>\n",
       "    </tr>\n",
       "    <tr>\n",
       "      <th>12</th>\n",
       "      <td>usa_boulders_input</td>\n",
       "      <td>BOOLEAN</td>\n",
       "      <td>NO</td>\n",
       "      <td></td>\n",
       "    </tr>\n",
       "    <tr>\n",
       "      <th>13</th>\n",
       "      <td>usa_boulders_selector</td>\n",
       "      <td>BOOLEAN</td>\n",
       "      <td>NO</td>\n",
       "      <td></td>\n",
       "    </tr>\n",
       "  </tbody>\n",
       "</table>\n",
       "</div>"
      ],
      "text/plain": [
       "                   Column     Type Not_Null Primary_Key\n",
       "0                      id  INTEGER      YES         YES\n",
       "1                   score  INTEGER       NO            \n",
       "2              fra_routes  VARCHAR       NO            \n",
       "3        fra_routes_input  BOOLEAN       NO            \n",
       "4     fra_routes_selector  BOOLEAN       NO            \n",
       "5            fra_boulders  VARCHAR       NO            \n",
       "6      fra_boulders_input  BOOLEAN       NO            \n",
       "7   fra_boulders_selector  BOOLEAN       NO            \n",
       "8              usa_routes  VARCHAR       NO            \n",
       "9        usa_routes_input  BOOLEAN       NO            \n",
       "10    usa_routes_selector  BOOLEAN       NO            \n",
       "11           usa_boulders  VARCHAR       NO            \n",
       "12     usa_boulders_input  BOOLEAN       NO            \n",
       "13  usa_boulders_selector  BOOLEAN       NO            "
      ]
     },
     "execution_count": 10,
     "metadata": {},
     "output_type": "execute_result"
    }
   ],
   "source": [
    "column_info_dfs[\"grade\"]"
   ]
  },
  {
   "cell_type": "code",
   "execution_count": 11,
   "metadata": {},
   "outputs": [
    {
     "data": {
      "text/html": [
       "<div>\n",
       "<style scoped>\n",
       "    .dataframe tbody tr th:only-of-type {\n",
       "        vertical-align: middle;\n",
       "    }\n",
       "\n",
       "    .dataframe tbody tr th {\n",
       "        vertical-align: top;\n",
       "    }\n",
       "\n",
       "    .dataframe thead th {\n",
       "        text-align: right;\n",
       "    }\n",
       "</style>\n",
       "<table border=\"1\" class=\"dataframe\">\n",
       "  <thead>\n",
       "    <tr style=\"text-align: right;\">\n",
       "      <th></th>\n",
       "      <th>Column</th>\n",
       "      <th>Type</th>\n",
       "      <th>Not_Null</th>\n",
       "      <th>Primary_Key</th>\n",
       "    </tr>\n",
       "  </thead>\n",
       "  <tbody>\n",
       "    <tr>\n",
       "      <th>0</th>\n",
       "      <td>id</td>\n",
       "      <td>INTEGER</td>\n",
       "      <td>YES</td>\n",
       "      <td>YES</td>\n",
       "    </tr>\n",
       "    <tr>\n",
       "      <th>1</th>\n",
       "      <td>user_id</td>\n",
       "      <td>INTEGER</td>\n",
       "      <td>NO</td>\n",
       "      <td></td>\n",
       "    </tr>\n",
       "    <tr>\n",
       "      <th>2</th>\n",
       "      <td>grade_id</td>\n",
       "      <td>INTEGER</td>\n",
       "      <td>NO</td>\n",
       "      <td></td>\n",
       "    </tr>\n",
       "    <tr>\n",
       "      <th>3</th>\n",
       "      <td>notes</td>\n",
       "      <td>VARCHAR</td>\n",
       "      <td>NO</td>\n",
       "      <td></td>\n",
       "    </tr>\n",
       "    <tr>\n",
       "      <th>4</th>\n",
       "      <td>raw_notes</td>\n",
       "      <td>INTEGER</td>\n",
       "      <td>NO</td>\n",
       "      <td></td>\n",
       "    </tr>\n",
       "    <tr>\n",
       "      <th>5</th>\n",
       "      <td>method_id</td>\n",
       "      <td>INTEGER</td>\n",
       "      <td>NO</td>\n",
       "      <td></td>\n",
       "    </tr>\n",
       "    <tr>\n",
       "      <th>6</th>\n",
       "      <td>climb_type</td>\n",
       "      <td>INTEGER</td>\n",
       "      <td>NO</td>\n",
       "      <td></td>\n",
       "    </tr>\n",
       "    <tr>\n",
       "      <th>7</th>\n",
       "      <td>total_score</td>\n",
       "      <td>INTEGER</td>\n",
       "      <td>NO</td>\n",
       "      <td></td>\n",
       "    </tr>\n",
       "    <tr>\n",
       "      <th>8</th>\n",
       "      <td>date</td>\n",
       "      <td>INTEGER</td>\n",
       "      <td>NO</td>\n",
       "      <td></td>\n",
       "    </tr>\n",
       "    <tr>\n",
       "      <th>9</th>\n",
       "      <td>year</td>\n",
       "      <td>INTEGER</td>\n",
       "      <td>NO</td>\n",
       "      <td></td>\n",
       "    </tr>\n",
       "    <tr>\n",
       "      <th>10</th>\n",
       "      <td>last_year</td>\n",
       "      <td>BOOLEAN</td>\n",
       "      <td>NO</td>\n",
       "      <td></td>\n",
       "    </tr>\n",
       "    <tr>\n",
       "      <th>11</th>\n",
       "      <td>rec_date</td>\n",
       "      <td>INTEGER</td>\n",
       "      <td>NO</td>\n",
       "      <td></td>\n",
       "    </tr>\n",
       "    <tr>\n",
       "      <th>12</th>\n",
       "      <td>project_ascent_date</td>\n",
       "      <td>INTEGER</td>\n",
       "      <td>NO</td>\n",
       "      <td></td>\n",
       "    </tr>\n",
       "    <tr>\n",
       "      <th>13</th>\n",
       "      <td>name</td>\n",
       "      <td>VARCHAR</td>\n",
       "      <td>NO</td>\n",
       "      <td></td>\n",
       "    </tr>\n",
       "    <tr>\n",
       "      <th>14</th>\n",
       "      <td>crag_id</td>\n",
       "      <td>INTEGER</td>\n",
       "      <td>NO</td>\n",
       "      <td></td>\n",
       "    </tr>\n",
       "    <tr>\n",
       "      <th>15</th>\n",
       "      <td>crag</td>\n",
       "      <td>VARCHAR</td>\n",
       "      <td>NO</td>\n",
       "      <td></td>\n",
       "    </tr>\n",
       "    <tr>\n",
       "      <th>16</th>\n",
       "      <td>sector_id</td>\n",
       "      <td>INTEGER</td>\n",
       "      <td>NO</td>\n",
       "      <td></td>\n",
       "    </tr>\n",
       "    <tr>\n",
       "      <th>17</th>\n",
       "      <td>sector</td>\n",
       "      <td>VARCHAR</td>\n",
       "      <td>NO</td>\n",
       "      <td></td>\n",
       "    </tr>\n",
       "    <tr>\n",
       "      <th>18</th>\n",
       "      <td>country</td>\n",
       "      <td>VARCHAR</td>\n",
       "      <td>NO</td>\n",
       "      <td></td>\n",
       "    </tr>\n",
       "    <tr>\n",
       "      <th>19</th>\n",
       "      <td>comment</td>\n",
       "      <td>VARCHAR</td>\n",
       "      <td>NO</td>\n",
       "      <td></td>\n",
       "    </tr>\n",
       "    <tr>\n",
       "      <th>20</th>\n",
       "      <td>rating</td>\n",
       "      <td>INTEGER</td>\n",
       "      <td>NO</td>\n",
       "      <td></td>\n",
       "    </tr>\n",
       "    <tr>\n",
       "      <th>21</th>\n",
       "      <td>description</td>\n",
       "      <td>VARCHAR</td>\n",
       "      <td>NO</td>\n",
       "      <td></td>\n",
       "    </tr>\n",
       "    <tr>\n",
       "      <th>22</th>\n",
       "      <td>yellow_id</td>\n",
       "      <td>INTEGER</td>\n",
       "      <td>NO</td>\n",
       "      <td></td>\n",
       "    </tr>\n",
       "    <tr>\n",
       "      <th>23</th>\n",
       "      <td>climb_try</td>\n",
       "      <td>BOOLEAN</td>\n",
       "      <td>NO</td>\n",
       "      <td></td>\n",
       "    </tr>\n",
       "    <tr>\n",
       "      <th>24</th>\n",
       "      <td>repeat</td>\n",
       "      <td>BOOLEAN</td>\n",
       "      <td>NO</td>\n",
       "      <td></td>\n",
       "    </tr>\n",
       "    <tr>\n",
       "      <th>25</th>\n",
       "      <td>exclude_from_ranking</td>\n",
       "      <td>BOOLEAN</td>\n",
       "      <td>NO</td>\n",
       "      <td></td>\n",
       "    </tr>\n",
       "    <tr>\n",
       "      <th>26</th>\n",
       "      <td>user_recommended</td>\n",
       "      <td>BOOLEAN</td>\n",
       "      <td>NO</td>\n",
       "      <td></td>\n",
       "    </tr>\n",
       "    <tr>\n",
       "      <th>27</th>\n",
       "      <td>chipped</td>\n",
       "      <td>BOOLEAN</td>\n",
       "      <td>NO</td>\n",
       "      <td></td>\n",
       "    </tr>\n",
       "  </tbody>\n",
       "</table>\n",
       "</div>"
      ],
      "text/plain": [
       "                  Column     Type Not_Null Primary_Key\n",
       "0                     id  INTEGER      YES         YES\n",
       "1                user_id  INTEGER       NO            \n",
       "2               grade_id  INTEGER       NO            \n",
       "3                  notes  VARCHAR       NO            \n",
       "4              raw_notes  INTEGER       NO            \n",
       "5              method_id  INTEGER       NO            \n",
       "6             climb_type  INTEGER       NO            \n",
       "7            total_score  INTEGER       NO            \n",
       "8                   date  INTEGER       NO            \n",
       "9                   year  INTEGER       NO            \n",
       "10             last_year  BOOLEAN       NO            \n",
       "11              rec_date  INTEGER       NO            \n",
       "12   project_ascent_date  INTEGER       NO            \n",
       "13                  name  VARCHAR       NO            \n",
       "14               crag_id  INTEGER       NO            \n",
       "15                  crag  VARCHAR       NO            \n",
       "16             sector_id  INTEGER       NO            \n",
       "17                sector  VARCHAR       NO            \n",
       "18               country  VARCHAR       NO            \n",
       "19               comment  VARCHAR       NO            \n",
       "20                rating  INTEGER       NO            \n",
       "21           description  VARCHAR       NO            \n",
       "22             yellow_id  INTEGER       NO            \n",
       "23             climb_try  BOOLEAN       NO            \n",
       "24                repeat  BOOLEAN       NO            \n",
       "25  exclude_from_ranking  BOOLEAN       NO            \n",
       "26      user_recommended  BOOLEAN       NO            \n",
       "27               chipped  BOOLEAN       NO            "
      ]
     },
     "execution_count": 11,
     "metadata": {},
     "output_type": "execute_result"
    }
   ],
   "source": [
    "column_info_dfs[\"ascent\"]"
   ]
  },
  {
   "cell_type": "code",
   "execution_count": 12,
   "metadata": {},
   "outputs": [],
   "source": [
    "def countRows():\n",
    "    #Get table names\n",
    "    tables = table_names()\n",
    "    \n",
    "    for table in tables:\n",
    "        query = f\"\"\"\n",
    "        SELECT COUNT(id)\n",
    "        FROM {table}\n",
    "        \"\"\"\n",
    "        count = c.execute(query).fetchall()[0][0]\n",
    "        print(f\"{table} table:  {count} rows\")\n",
    "        "
   ]
  },
  {
   "cell_type": "code",
   "execution_count": 13,
   "metadata": {},
   "outputs": [
    {
     "name": "stdout",
     "output_type": "stream",
     "text": [
      "user table:  62593 rows\n",
      "method table:  5 rows\n",
      "grade table:  83 rows\n",
      "ascent table:  4111877 rows\n"
     ]
    }
   ],
   "source": [
    "countRows()"
   ]
  },
  {
   "cell_type": "markdown",
   "metadata": {},
   "source": [
    "### Tables Summary\n",
    "\n",
    "There are 4 tables:\n",
    "\n",
    "1. **user** - Individual user info such as *sex*, *climbing year start*, *location*, *height*, and *weight*.\n",
    "<br>\n",
    "\n",
    "2. **method** - Lookup table to regarding the climb method *likley not needed in this analysis*.\n",
    "<br>\n",
    "\n",
    "3. **grade** - Lookup table describing grades. Can be joined to the ascent table for verbose grade details. \n",
    "<br>\n",
    "\n",
    "4. **ascent** - Individual \"send\" table. Includes the user_id and grade_id which can be joined to the user and grade table respectively.\n",
    "\n",
    "The largest tables is the **ascent table** with more than 4 million rows. The user table is the second largest around 63,000 rows. \n",
    "\n",
    "<br>\n",
    "<br>\n",
    "\n",
    "### Questions\n",
    "\n",
    "With the database sorted out, we can now form questions that can be answered with metrics derived from the tables.\n",
    "\n",
    "1. **What yearly trends do we see in the popularity of climbing? How do these trends differ among men and women?**\n",
    "\n",
    "\n",
    "2. **Who is the average climber?**\n",
    "\n",
    "\n",
    "3. **Are climbers improving over time?**\n",
    "    - Average grade per year\n",
    "    - Max grade per year\n",
    "    - Segment by boulders and routes\n"
   ]
  },
  {
   "cell_type": "code",
   "execution_count": 25,
   "metadata": {},
   "outputs": [],
   "source": [
    "def queryToDataframe(query, connection = con):\n",
    "    \"\"\"\n",
    "    Takes a sql query, and a connection.\n",
    "    Returns a dataframe.\n",
    "    \"\"\"\n",
    "    df = pd.read_sql(query, connection)\n",
    "    return df"
   ]
  },
  {
   "cell_type": "markdown",
   "metadata": {},
   "source": [
    "#### 1. *What yearly trends do we see in the popularity of climbing? How do these trends differ among men and women?*\n",
    "\n",
    "We can answer this question with the user table and querying:\n",
    "1. Number of climbers that started each year.\n",
    "2. Segment these users by sex."
   ]
  },
  {
   "cell_type": "code",
   "execution_count": 15,
   "metadata": {},
   "outputs": [],
   "source": [
    "year_count_segmented = queryToDataframe(\"\"\"\n",
    "WITH t AS\n",
    "    (\n",
    "    SELECT COUNT(started) AS total, started AS year\n",
    "    FROM user\n",
    "    WHERE year BETWEEN 1960 AND 2017\n",
    "    GROUP BY(year)\n",
    "    ),\n",
    "f AS\n",
    "    (\n",
    "    SELECT COUNT(started) AS female, started AS year\n",
    "    FROM user\n",
    "    WHERE year BETWEEN 1960 AND 2017\n",
    "        AND sex = 1\n",
    "    GROUP BY(year)\n",
    "    ),\n",
    "m AS\n",
    "    (\n",
    "    SELECT COUNT(started) AS male, started AS year\n",
    "    FROM user\n",
    "    WHERE year BETWEEN 1960 AND 2017\n",
    "        AND sex = 0\n",
    "    GROUP BY(year)\n",
    "    )\n",
    "SELECT t.year, t.total, m.male, IFNULL(f.female, 0) AS female\n",
    "FROM t\n",
    "LEFT JOIN f\n",
    "    ON t.year = f.year\n",
    "LEFT JOIN m\n",
    "    ON t.year = m.year\n",
    "\"\"\")"
   ]
  },
  {
   "cell_type": "code",
   "execution_count": 16,
   "metadata": {},
   "outputs": [
    {
     "data": {
      "text/html": [
       "<div>\n",
       "<style scoped>\n",
       "    .dataframe tbody tr th:only-of-type {\n",
       "        vertical-align: middle;\n",
       "    }\n",
       "\n",
       "    .dataframe tbody tr th {\n",
       "        vertical-align: top;\n",
       "    }\n",
       "\n",
       "    .dataframe thead th {\n",
       "        text-align: right;\n",
       "    }\n",
       "</style>\n",
       "<table border=\"1\" class=\"dataframe\">\n",
       "  <thead>\n",
       "    <tr style=\"text-align: right;\">\n",
       "      <th></th>\n",
       "      <th>year</th>\n",
       "      <th>total</th>\n",
       "      <th>male</th>\n",
       "      <th>female</th>\n",
       "    </tr>\n",
       "  </thead>\n",
       "  <tbody>\n",
       "    <tr>\n",
       "      <th>52</th>\n",
       "      <td>2013</td>\n",
       "      <td>1034</td>\n",
       "      <td>829</td>\n",
       "      <td>205</td>\n",
       "    </tr>\n",
       "    <tr>\n",
       "      <th>53</th>\n",
       "      <td>2014</td>\n",
       "      <td>747</td>\n",
       "      <td>600</td>\n",
       "      <td>147</td>\n",
       "    </tr>\n",
       "    <tr>\n",
       "      <th>54</th>\n",
       "      <td>2015</td>\n",
       "      <td>538</td>\n",
       "      <td>417</td>\n",
       "      <td>121</td>\n",
       "    </tr>\n",
       "    <tr>\n",
       "      <th>55</th>\n",
       "      <td>2016</td>\n",
       "      <td>285</td>\n",
       "      <td>228</td>\n",
       "      <td>57</td>\n",
       "    </tr>\n",
       "    <tr>\n",
       "      <th>56</th>\n",
       "      <td>2017</td>\n",
       "      <td>58</td>\n",
       "      <td>42</td>\n",
       "      <td>16</td>\n",
       "    </tr>\n",
       "  </tbody>\n",
       "</table>\n",
       "</div>"
      ],
      "text/plain": [
       "    year  total  male  female\n",
       "52  2013   1034   829     205\n",
       "53  2014    747   600     147\n",
       "54  2015    538   417     121\n",
       "55  2016    285   228      57\n",
       "56  2017     58    42      16"
      ]
     },
     "execution_count": 16,
     "metadata": {},
     "output_type": "execute_result"
    }
   ],
   "source": [
    "year_count_segmented.tail()"
   ]
  },
  {
   "cell_type": "code",
   "execution_count": 17,
   "metadata": {},
   "outputs": [],
   "source": [
    "def write_csv(df, path, filename):\n",
    "    \"\"\"\n",
    "    Takes a dataframe, path, and filename.\n",
    "    Returns a written csv.\n",
    "    Checks if the csv is already written, and if the path is correct.\n",
    "    \"\"\"\n",
    "    file = os.path.join(path, filename)\n",
    "\n",
    "    if os.path.exists(path):\n",
    "        if os.path.exists(file):\n",
    "            print(f\"The csv {filename} already exists.\")\n",
    "        else:\n",
    "            pd.DataFrame.to_csv(df, file)\n",
    "    else:\n",
    "        print(f\"The path {path} does not exist.\")"
   ]
  },
  {
   "cell_type": "code",
   "execution_count": 18,
   "metadata": {},
   "outputs": [
    {
     "name": "stdout",
     "output_type": "stream",
     "text": [
      "The csv popularity_growth.csv already exists.\n"
     ]
    }
   ],
   "source": [
    "write_csv(year_count_segmented, \"clean_data\", \"popularity_growth.csv\")"
   ]
  },
  {
   "cell_type": "code",
   "execution_count": 19,
   "metadata": {},
   "outputs": [],
   "source": [
    "def multiLinePlot(df, x, time = False, title = \"\", ylab = \"\", xlab = \"\"):\n",
    "    if time:\n",
    "        xvar = pd.to_datetime(df[x], format = '%Y').dt.year\n",
    "        xvar = df[x]\n",
    "        \n",
    "    yvars = df.drop(columns = x)\n",
    "    ycols = yvars.columns.values\n",
    "    \n",
    "    for col in ycols:\n",
    "        plt.plot(xvar, df[col], label = col)\n",
    "    \n",
    "    plt.legend()\n",
    "    \n",
    "    plt.title(title)\n",
    "    plt.xlabel(xlab)\n",
    "    plt.ylabel(ylab)"
   ]
  },
  {
   "cell_type": "code",
   "execution_count": 20,
   "metadata": {},
   "outputs": [
    {
     "data": {
      "image/png": "[encoded data removed]",
      "text/plain": [
       "<Figure size 432x288 with 1 Axes>"
      ]
     },
     "metadata": {
      "needs_background": "light"
     },
     "output_type": "display_data"
    }
   ],
   "source": [
    "multiLinePlot(df = year_count_segmented, \n",
    "              x = \"year\", \n",
    "              time = True, \n",
    "              title = \"Popularity of Climbing Over Time (Starting Date)\",\n",
    "              ylab = \"Total Climbers\",\n",
    "              xlab = \"Year\")"
   ]
  },
  {
   "cell_type": "markdown",
   "metadata": {},
   "source": [
    "Climbing popularity starts climbing exponentially (pun intended) from around the year 1990 for men, and around the year 2000 for women.\n",
    "\n",
    "<br> The growth of female climbers is slow than among male climbers, and has a slight lag.\n",
    "\n",
    "<br>\n",
    "There is an unexplained peak in the year 2000 which may be an artifact of the database. Another important note is that the users of 8a.nu are likely outdoor climbers. Given the experience needed to outdoor climb, we likely would not see many registered users who started climbing around when this database was published (2017) since they would be either indoor climbers, or refrain from signing up."
   ]
  },
  {
   "cell_type": "markdown",
   "metadata": {},
   "source": [
    "#### 2. *Who is the average climber?*\n",
    "\n",
    "Several metrics can describe the *average* / *most typical* climber in the 8a.nu dataset including:\n",
    "\n",
    "1. Ratio of male vs female\n",
    "2. Average height\n",
    "3. Average weight\n",
    "4. Most common occupation\n",
    "5. Most common location\n",
    "6. Average grade climbed\n",
    "7. Max grade climbed"
   ]
  },
  {
   "cell_type": "code",
   "execution_count": 21,
   "metadata": {},
   "outputs": [],
   "source": [
    "sex_ratio = queryToDataframe(\"\"\"\n",
    "SELECT COUNT(*) AS count, \n",
    "    CASE WHEN sex = 0 THEN 'male'\n",
    "         WHEN sex = 1 THEN 'female'\n",
    "         ELSE 'NA'\n",
    "    END AS sex\n",
    "FROM user\n",
    "GROUP BY sex\n",
    "ORDER BY count DESC\n",
    "\"\"\")"
   ]
  },
  {
   "cell_type": "code",
   "execution_count": 22,
   "metadata": {},
   "outputs": [
    {
     "data": {
      "text/html": [
       "<div>\n",
       "<style scoped>\n",
       "    .dataframe tbody tr th:only-of-type {\n",
       "        vertical-align: middle;\n",
       "    }\n",
       "\n",
       "    .dataframe tbody tr th {\n",
       "        vertical-align: top;\n",
       "    }\n",
       "\n",
       "    .dataframe thead th {\n",
       "        text-align: right;\n",
       "    }\n",
       "</style>\n",
       "<table border=\"1\" class=\"dataframe\">\n",
       "  <thead>\n",
       "    <tr style=\"text-align: right;\">\n",
       "      <th></th>\n",
       "      <th>count</th>\n",
       "      <th>sex</th>\n",
       "    </tr>\n",
       "  </thead>\n",
       "  <tbody>\n",
       "    <tr>\n",
       "      <th>0</th>\n",
       "      <td>53898</td>\n",
       "      <td>male</td>\n",
       "    </tr>\n",
       "    <tr>\n",
       "      <th>1</th>\n",
       "      <td>8691</td>\n",
       "      <td>female</td>\n",
       "    </tr>\n",
       "    <tr>\n",
       "      <th>2</th>\n",
       "      <td>4</td>\n",
       "      <td>NA</td>\n",
       "    </tr>\n",
       "  </tbody>\n",
       "</table>\n",
       "</div>"
      ],
      "text/plain": [
       "   count     sex\n",
       "0  53898    male\n",
       "1   8691  female\n",
       "2      4      NA"
      ]
     },
     "execution_count": 22,
     "metadata": {},
     "output_type": "execute_result"
    }
   ],
   "source": [
    "sex_ratio"
   ]
  },
  {
   "cell_type": "code",
   "execution_count": 62,
   "metadata": {},
   "outputs": [],
   "source": [
    "# Get average weight and height\n",
    "# Get most common country and occupation\n",
    "weight_height_country_job = queryToDataframe(\"\"\"\n",
    "WITH c AS \n",
    "    (SELECT COUNT(*) AS count, country\n",
    "     FROM user\n",
    "     GROUP BY country\n",
    "     ORDER BY count DESC\n",
    "     LIMIT 1),\n",
    "    \n",
    "    wh AS\n",
    "    (SELECT AVG(weight) AS avg_weight, \n",
    "        AVG(height) AS avg_height\n",
    "     FROM user),\n",
    "    \n",
    "    j AS\n",
    "    (SELECT COUNT(*) AS count, LOWER(occupation) AS job \n",
    "     FROM user\n",
    "     WHERE job IS NOT NULL\n",
    "         AND job != ''\n",
    "     GROUP BY job\n",
    "     ORDER BY count DESC\n",
    "     LIMIT 1)\n",
    "     \n",
    "SELECT c.country, wh.avg_weight, wh.avg_height, j.job\n",
    "FROM c, wh, j\n",
    "\"\"\")"
   ]
  },
  {
   "cell_type": "code",
   "execution_count": 63,
   "metadata": {},
   "outputs": [
    {
     "data": {
      "text/html": [
       "<div>\n",
       "<style scoped>\n",
       "    .dataframe tbody tr th:only-of-type {\n",
       "        vertical-align: middle;\n",
       "    }\n",
       "\n",
       "    .dataframe tbody tr th {\n",
       "        vertical-align: top;\n",
       "    }\n",
       "\n",
       "    .dataframe thead th {\n",
       "        text-align: right;\n",
       "    }\n",
       "</style>\n",
       "<table border=\"1\" class=\"dataframe\">\n",
       "  <thead>\n",
       "    <tr style=\"text-align: right;\">\n",
       "      <th></th>\n",
       "      <th>country</th>\n",
       "      <th>avg_weight</th>\n",
       "      <th>avg_height</th>\n",
       "      <th>job</th>\n",
       "    </tr>\n",
       "  </thead>\n",
       "  <tbody>\n",
       "    <tr>\n",
       "      <th>0</th>\n",
       "      <td>USA</td>\n",
       "      <td>33.121899</td>\n",
       "      <td>83.884204</td>\n",
       "      <td>student</td>\n",
       "    </tr>\n",
       "  </tbody>\n",
       "</table>\n",
       "</div>"
      ],
      "text/plain": [
       "  country  avg_weight  avg_height      job\n",
       "0     USA   33.121899   83.884204  student"
      ]
     },
     "execution_count": 63,
     "metadata": {},
     "output_type": "execute_result"
    }
   ],
   "source": [
    "weight_height_country_job"
   ]
  },
  {
   "cell_type": "code",
   "execution_count": 81,
   "metadata": {},
   "outputs": [
    {
     "data": {
      "text/html": [
       "<div>\n",
       "<style scoped>\n",
       "    .dataframe tbody tr th:only-of-type {\n",
       "        vertical-align: middle;\n",
       "    }\n",
       "\n",
       "    .dataframe tbody tr th {\n",
       "        vertical-align: top;\n",
       "    }\n",
       "\n",
       "    .dataframe thead th {\n",
       "        text-align: right;\n",
       "    }\n",
       "</style>\n",
       "<table border=\"1\" class=\"dataframe\">\n",
       "  <thead>\n",
       "    <tr style=\"text-align: right;\">\n",
       "      <th></th>\n",
       "      <th>grade_id</th>\n",
       "      <th>climb</th>\n",
       "      <th>fra_routes</th>\n",
       "      <th>fra_boulders</th>\n",
       "      <th>usa_routes</th>\n",
       "      <th>usa_boulders</th>\n",
       "      <th>id</th>\n",
       "    </tr>\n",
       "  </thead>\n",
       "  <tbody>\n",
       "    <tr>\n",
       "      <th>0</th>\n",
       "      <td>47</td>\n",
       "      <td>boulder</td>\n",
       "      <td>6c+/7a</td>\n",
       "      <td>6C+/7A</td>\n",
       "      <td>5.11c</td>\n",
       "      <td></td>\n",
       "      <td>47</td>\n",
       "    </tr>\n",
       "    <tr>\n",
       "      <th>1</th>\n",
       "      <td>47</td>\n",
       "      <td>route</td>\n",
       "      <td>6c+/7a</td>\n",
       "      <td>6C+/7A</td>\n",
       "      <td>5.11c</td>\n",
       "      <td></td>\n",
       "      <td>47</td>\n",
       "    </tr>\n",
       "  </tbody>\n",
       "</table>\n",
       "</div>"
      ],
      "text/plain": [
       "   grade_id    climb fra_routes fra_boulders usa_routes usa_boulders  id\n",
       "0        47  boulder     6c+/7a       6C+/7A      5.11c               47\n",
       "1        47    route     6c+/7a       6C+/7A      5.11c               47"
      ]
     },
     "execution_count": 81,
     "metadata": {},
     "output_type": "execute_result"
    }
   ],
   "source": [
    "queryToDataframe(\"\"\"\n",
    "WITH a AS \n",
    "    (SELECT CAST(ROUND(AVG(grade_id)) AS int) AS grade_id,\n",
    "    CASE WHEN climb_type = 0 THEN 'route'\n",
    "         WHEN climb_type = 1 THEN 'boulder'\n",
    "         ELSE 'NA'\n",
    "    END AS climb \n",
    "    FROM ascent\n",
    "    GROUP BY climb),\n",
    "    g AS\n",
    "    (SELECT fra_routes, fra_boulders, usa_routes,usa_boulders, id\n",
    "    FROM grade)\n",
    "\n",
    "SELECT *\n",
    "FROM a\n",
    "LEFT JOIN g\n",
    "    ON a.grade_id = g.id\n",
    "\"\"\")\n",
    "\n",
    "# The grade table lacks a value for the US boulder score which translate roughly to V6"
   ]
  },
  {
   "cell_type": "code",
   "execution_count": 82,
   "metadata": {},
   "outputs": [
    {
     "data": {
      "text/html": [
       "<div>\n",
       "<style scoped>\n",
       "    .dataframe tbody tr th:only-of-type {\n",
       "        vertical-align: middle;\n",
       "    }\n",
       "\n",
       "    .dataframe tbody tr th {\n",
       "        vertical-align: top;\n",
       "    }\n",
       "\n",
       "    .dataframe thead th {\n",
       "        text-align: right;\n",
       "    }\n",
       "</style>\n",
       "<table border=\"1\" class=\"dataframe\">\n",
       "  <thead>\n",
       "    <tr style=\"text-align: right;\">\n",
       "      <th></th>\n",
       "      <th>id</th>\n",
       "      <th>score</th>\n",
       "      <th>fra_routes</th>\n",
       "      <th>fra_routes_input</th>\n",
       "      <th>fra_routes_selector</th>\n",
       "      <th>fra_boulders</th>\n",
       "      <th>fra_boulders_input</th>\n",
       "      <th>fra_boulders_selector</th>\n",
       "      <th>usa_routes</th>\n",
       "      <th>usa_routes_input</th>\n",
       "      <th>usa_routes_selector</th>\n",
       "      <th>usa_boulders</th>\n",
       "      <th>usa_boulders_input</th>\n",
       "      <th>usa_boulders_selector</th>\n",
       "    </tr>\n",
       "  </thead>\n",
       "  <tbody>\n",
       "    <tr>\n",
       "      <th>0</th>\n",
       "      <td>86</td>\n",
       "      <td>1575</td>\n",
       "      <td>9c+/10a</td>\n",
       "      <td>0</td>\n",
       "      <td>0</td>\n",
       "      <td>9C+/10A</td>\n",
       "      <td>0</td>\n",
       "      <td>0</td>\n",
       "      <td></td>\n",
       "      <td>0</td>\n",
       "      <td>0</td>\n",
       "      <td></td>\n",
       "      <td>0</td>\n",
       "      <td>0</td>\n",
       "    </tr>\n",
       "    <tr>\n",
       "      <th>1</th>\n",
       "      <td>85</td>\n",
       "      <td>1550</td>\n",
       "      <td>9c+</td>\n",
       "      <td>0</td>\n",
       "      <td>0</td>\n",
       "      <td>9C+</td>\n",
       "      <td>0</td>\n",
       "      <td>0</td>\n",
       "      <td></td>\n",
       "      <td>0</td>\n",
       "      <td>0</td>\n",
       "      <td></td>\n",
       "      <td>0</td>\n",
       "      <td>0</td>\n",
       "    </tr>\n",
       "    <tr>\n",
       "      <th>2</th>\n",
       "      <td>84</td>\n",
       "      <td>1525</td>\n",
       "      <td>9c/+</td>\n",
       "      <td>0</td>\n",
       "      <td>0</td>\n",
       "      <td>9C/+</td>\n",
       "      <td>0</td>\n",
       "      <td>0</td>\n",
       "      <td></td>\n",
       "      <td>0</td>\n",
       "      <td>0</td>\n",
       "      <td></td>\n",
       "      <td>0</td>\n",
       "      <td>0</td>\n",
       "    </tr>\n",
       "    <tr>\n",
       "      <th>3</th>\n",
       "      <td>83</td>\n",
       "      <td>1500</td>\n",
       "      <td>9c</td>\n",
       "      <td>0</td>\n",
       "      <td>0</td>\n",
       "      <td>9C</td>\n",
       "      <td>0</td>\n",
       "      <td>0</td>\n",
       "      <td></td>\n",
       "      <td>0</td>\n",
       "      <td>0</td>\n",
       "      <td></td>\n",
       "      <td>0</td>\n",
       "      <td>0</td>\n",
       "    </tr>\n",
       "    <tr>\n",
       "      <th>4</th>\n",
       "      <td>82</td>\n",
       "      <td>1475</td>\n",
       "      <td>9b+/9c</td>\n",
       "      <td>0</td>\n",
       "      <td>0</td>\n",
       "      <td>9B+/9C</td>\n",
       "      <td>0</td>\n",
       "      <td>0</td>\n",
       "      <td></td>\n",
       "      <td>0</td>\n",
       "      <td>0</td>\n",
       "      <td></td>\n",
       "      <td>0</td>\n",
       "      <td>0</td>\n",
       "    </tr>\n",
       "    <tr>\n",
       "      <th>5</th>\n",
       "      <td>81</td>\n",
       "      <td>1450</td>\n",
       "      <td>9b+</td>\n",
       "      <td>1</td>\n",
       "      <td>1</td>\n",
       "      <td>9B+</td>\n",
       "      <td>0</td>\n",
       "      <td>0</td>\n",
       "      <td>5.15c</td>\n",
       "      <td>1</td>\n",
       "      <td>1</td>\n",
       "      <td>V20</td>\n",
       "      <td>0</td>\n",
       "      <td>0</td>\n",
       "    </tr>\n",
       "    <tr>\n",
       "      <th>6</th>\n",
       "      <td>80</td>\n",
       "      <td>1425</td>\n",
       "      <td>9b/+</td>\n",
       "      <td>1</td>\n",
       "      <td>0</td>\n",
       "      <td>9B/+</td>\n",
       "      <td>0</td>\n",
       "      <td>0</td>\n",
       "      <td>5.15b/c</td>\n",
       "      <td>1</td>\n",
       "      <td>0</td>\n",
       "      <td>V19/20</td>\n",
       "      <td>0</td>\n",
       "      <td>0</td>\n",
       "    </tr>\n",
       "    <tr>\n",
       "      <th>7</th>\n",
       "      <td>79</td>\n",
       "      <td>1400</td>\n",
       "      <td>9b</td>\n",
       "      <td>1</td>\n",
       "      <td>0</td>\n",
       "      <td>9B</td>\n",
       "      <td>0</td>\n",
       "      <td>0</td>\n",
       "      <td>5.15b</td>\n",
       "      <td>1</td>\n",
       "      <td>0</td>\n",
       "      <td>V19</td>\n",
       "      <td>0</td>\n",
       "      <td>0</td>\n",
       "    </tr>\n",
       "    <tr>\n",
       "      <th>8</th>\n",
       "      <td>78</td>\n",
       "      <td>1375</td>\n",
       "      <td>9a+/9b</td>\n",
       "      <td>1</td>\n",
       "      <td>0</td>\n",
       "      <td>9A+/9B</td>\n",
       "      <td>0</td>\n",
       "      <td>0</td>\n",
       "      <td>5.15a/b</td>\n",
       "      <td>1</td>\n",
       "      <td>0</td>\n",
       "      <td>V18/19</td>\n",
       "      <td>0</td>\n",
       "      <td>0</td>\n",
       "    </tr>\n",
       "    <tr>\n",
       "      <th>9</th>\n",
       "      <td>77</td>\n",
       "      <td>1350</td>\n",
       "      <td>9a+</td>\n",
       "      <td>1</td>\n",
       "      <td>0</td>\n",
       "      <td>9A+</td>\n",
       "      <td>0</td>\n",
       "      <td>0</td>\n",
       "      <td>5.15a</td>\n",
       "      <td>1</td>\n",
       "      <td>1</td>\n",
       "      <td>V18</td>\n",
       "      <td>0</td>\n",
       "      <td>0</td>\n",
       "    </tr>\n",
       "    <tr>\n",
       "      <th>10</th>\n",
       "      <td>76</td>\n",
       "      <td>1325</td>\n",
       "      <td>9a/+</td>\n",
       "      <td>1</td>\n",
       "      <td>0</td>\n",
       "      <td>9A/+</td>\n",
       "      <td>0</td>\n",
       "      <td>0</td>\n",
       "      <td>5.14d/.15a</td>\n",
       "      <td>1</td>\n",
       "      <td>0</td>\n",
       "      <td>V17/18</td>\n",
       "      <td>0</td>\n",
       "      <td>0</td>\n",
       "    </tr>\n",
       "    <tr>\n",
       "      <th>11</th>\n",
       "      <td>75</td>\n",
       "      <td>1300</td>\n",
       "      <td>9a</td>\n",
       "      <td>1</td>\n",
       "      <td>1</td>\n",
       "      <td>9A</td>\n",
       "      <td>1</td>\n",
       "      <td>1</td>\n",
       "      <td>5.14d</td>\n",
       "      <td>1</td>\n",
       "      <td>0</td>\n",
       "      <td>V17</td>\n",
       "      <td>1</td>\n",
       "      <td>1</td>\n",
       "    </tr>\n",
       "    <tr>\n",
       "      <th>12</th>\n",
       "      <td>73</td>\n",
       "      <td>1275</td>\n",
       "      <td>8c+/9a</td>\n",
       "      <td>1</td>\n",
       "      <td>0</td>\n",
       "      <td>8C+/9A</td>\n",
       "      <td>1</td>\n",
       "      <td>0</td>\n",
       "      <td>5.14c/d</td>\n",
       "      <td>1</td>\n",
       "      <td>0</td>\n",
       "      <td>V16/17</td>\n",
       "      <td>1</td>\n",
       "      <td>0</td>\n",
       "    </tr>\n",
       "    <tr>\n",
       "      <th>13</th>\n",
       "      <td>72</td>\n",
       "      <td>1250</td>\n",
       "      <td>8c+</td>\n",
       "      <td>1</td>\n",
       "      <td>0</td>\n",
       "      <td>8C+</td>\n",
       "      <td>1</td>\n",
       "      <td>0</td>\n",
       "      <td>5.14c</td>\n",
       "      <td>1</td>\n",
       "      <td>0</td>\n",
       "      <td>V16</td>\n",
       "      <td>1</td>\n",
       "      <td>0</td>\n",
       "    </tr>\n",
       "    <tr>\n",
       "      <th>14</th>\n",
       "      <td>71</td>\n",
       "      <td>1225</td>\n",
       "      <td>8c/+</td>\n",
       "      <td>1</td>\n",
       "      <td>0</td>\n",
       "      <td>8C/+</td>\n",
       "      <td>1</td>\n",
       "      <td>0</td>\n",
       "      <td>5.14b/c</td>\n",
       "      <td>1</td>\n",
       "      <td>0</td>\n",
       "      <td>V15/16</td>\n",
       "      <td>1</td>\n",
       "      <td>0</td>\n",
       "    </tr>\n",
       "    <tr>\n",
       "      <th>15</th>\n",
       "      <td>70</td>\n",
       "      <td>1200</td>\n",
       "      <td>8c</td>\n",
       "      <td>1</td>\n",
       "      <td>1</td>\n",
       "      <td>8C</td>\n",
       "      <td>1</td>\n",
       "      <td>1</td>\n",
       "      <td>5.14b</td>\n",
       "      <td>1</td>\n",
       "      <td>0</td>\n",
       "      <td>V15</td>\n",
       "      <td>1</td>\n",
       "      <td>1</td>\n",
       "    </tr>\n",
       "    <tr>\n",
       "      <th>16</th>\n",
       "      <td>69</td>\n",
       "      <td>1175</td>\n",
       "      <td>8b+/8c</td>\n",
       "      <td>0</td>\n",
       "      <td>0</td>\n",
       "      <td>8B+/8C</td>\n",
       "      <td>0</td>\n",
       "      <td>0</td>\n",
       "      <td></td>\n",
       "      <td>0</td>\n",
       "      <td>0</td>\n",
       "      <td></td>\n",
       "      <td>0</td>\n",
       "      <td>0</td>\n",
       "    </tr>\n",
       "    <tr>\n",
       "      <th>17</th>\n",
       "      <td>68</td>\n",
       "      <td>1150</td>\n",
       "      <td>8b+</td>\n",
       "      <td>1</td>\n",
       "      <td>0</td>\n",
       "      <td>8B+</td>\n",
       "      <td>1</td>\n",
       "      <td>0</td>\n",
       "      <td>5.14a</td>\n",
       "      <td>1</td>\n",
       "      <td>1</td>\n",
       "      <td>V14</td>\n",
       "      <td>1</td>\n",
       "      <td>0</td>\n",
       "    </tr>\n",
       "    <tr>\n",
       "      <th>18</th>\n",
       "      <td>67</td>\n",
       "      <td>1125</td>\n",
       "      <td>8b/+</td>\n",
       "      <td>0</td>\n",
       "      <td>0</td>\n",
       "      <td>8B/+</td>\n",
       "      <td>0</td>\n",
       "      <td>0</td>\n",
       "      <td></td>\n",
       "      <td>0</td>\n",
       "      <td>0</td>\n",
       "      <td></td>\n",
       "      <td>0</td>\n",
       "      <td>0</td>\n",
       "    </tr>\n",
       "    <tr>\n",
       "      <th>19</th>\n",
       "      <td>66</td>\n",
       "      <td>1100</td>\n",
       "      <td>8b</td>\n",
       "      <td>1</td>\n",
       "      <td>1</td>\n",
       "      <td>8B</td>\n",
       "      <td>1</td>\n",
       "      <td>1</td>\n",
       "      <td>5.13d</td>\n",
       "      <td>1</td>\n",
       "      <td>0</td>\n",
       "      <td>V13</td>\n",
       "      <td>1</td>\n",
       "      <td>1</td>\n",
       "    </tr>\n",
       "    <tr>\n",
       "      <th>20</th>\n",
       "      <td>65</td>\n",
       "      <td>1075</td>\n",
       "      <td>8a+/8b</td>\n",
       "      <td>0</td>\n",
       "      <td>0</td>\n",
       "      <td>8A+/8B</td>\n",
       "      <td>0</td>\n",
       "      <td>0</td>\n",
       "      <td></td>\n",
       "      <td>0</td>\n",
       "      <td>0</td>\n",
       "      <td></td>\n",
       "      <td>0</td>\n",
       "      <td>0</td>\n",
       "    </tr>\n",
       "    <tr>\n",
       "      <th>21</th>\n",
       "      <td>64</td>\n",
       "      <td>1050</td>\n",
       "      <td>8a+</td>\n",
       "      <td>1</td>\n",
       "      <td>0</td>\n",
       "      <td>8A+</td>\n",
       "      <td>1</td>\n",
       "      <td>0</td>\n",
       "      <td>5.13c</td>\n",
       "      <td>1</td>\n",
       "      <td>1</td>\n",
       "      <td>V12</td>\n",
       "      <td>1</td>\n",
       "      <td>0</td>\n",
       "    </tr>\n",
       "    <tr>\n",
       "      <th>22</th>\n",
       "      <td>63</td>\n",
       "      <td>1025</td>\n",
       "      <td>8a/+</td>\n",
       "      <td>0</td>\n",
       "      <td>0</td>\n",
       "      <td>8A/+</td>\n",
       "      <td>0</td>\n",
       "      <td>0</td>\n",
       "      <td></td>\n",
       "      <td>0</td>\n",
       "      <td>0</td>\n",
       "      <td></td>\n",
       "      <td>0</td>\n",
       "      <td>0</td>\n",
       "    </tr>\n",
       "    <tr>\n",
       "      <th>23</th>\n",
       "      <td>62</td>\n",
       "      <td>1000</td>\n",
       "      <td>8a</td>\n",
       "      <td>1</td>\n",
       "      <td>1</td>\n",
       "      <td>8A</td>\n",
       "      <td>1</td>\n",
       "      <td>1</td>\n",
       "      <td>5.13b</td>\n",
       "      <td>1</td>\n",
       "      <td>0</td>\n",
       "      <td>V11</td>\n",
       "      <td>1</td>\n",
       "      <td>1</td>\n",
       "    </tr>\n",
       "    <tr>\n",
       "      <th>24</th>\n",
       "      <td>60</td>\n",
       "      <td>975</td>\n",
       "      <td>7c+/8a</td>\n",
       "      <td>0</td>\n",
       "      <td>0</td>\n",
       "      <td>7C+/8A</td>\n",
       "      <td>0</td>\n",
       "      <td>0</td>\n",
       "      <td></td>\n",
       "      <td>0</td>\n",
       "      <td>0</td>\n",
       "      <td></td>\n",
       "      <td>0</td>\n",
       "      <td>0</td>\n",
       "    </tr>\n",
       "    <tr>\n",
       "      <th>25</th>\n",
       "      <td>59</td>\n",
       "      <td>950</td>\n",
       "      <td>7c+</td>\n",
       "      <td>1</td>\n",
       "      <td>0</td>\n",
       "      <td>7C+</td>\n",
       "      <td>1</td>\n",
       "      <td>0</td>\n",
       "      <td>5.13a</td>\n",
       "      <td>1</td>\n",
       "      <td>1</td>\n",
       "      <td>V10</td>\n",
       "      <td>1</td>\n",
       "      <td>0</td>\n",
       "    </tr>\n",
       "    <tr>\n",
       "      <th>26</th>\n",
       "      <td>58</td>\n",
       "      <td>925</td>\n",
       "      <td>7c/+</td>\n",
       "      <td>0</td>\n",
       "      <td>0</td>\n",
       "      <td>7C/+</td>\n",
       "      <td>0</td>\n",
       "      <td>0</td>\n",
       "      <td></td>\n",
       "      <td>0</td>\n",
       "      <td>0</td>\n",
       "      <td></td>\n",
       "      <td>0</td>\n",
       "      <td>0</td>\n",
       "    </tr>\n",
       "    <tr>\n",
       "      <th>27</th>\n",
       "      <td>57</td>\n",
       "      <td>900</td>\n",
       "      <td>7c</td>\n",
       "      <td>1</td>\n",
       "      <td>1</td>\n",
       "      <td>7C</td>\n",
       "      <td>1</td>\n",
       "      <td>1</td>\n",
       "      <td>5.12d</td>\n",
       "      <td>1</td>\n",
       "      <td>0</td>\n",
       "      <td>V9</td>\n",
       "      <td>1</td>\n",
       "      <td>1</td>\n",
       "    </tr>\n",
       "    <tr>\n",
       "      <th>28</th>\n",
       "      <td>56</td>\n",
       "      <td>875</td>\n",
       "      <td>7b+/7c</td>\n",
       "      <td>0</td>\n",
       "      <td>0</td>\n",
       "      <td>7B+/7C</td>\n",
       "      <td>0</td>\n",
       "      <td>0</td>\n",
       "      <td></td>\n",
       "      <td>0</td>\n",
       "      <td>0</td>\n",
       "      <td></td>\n",
       "      <td>0</td>\n",
       "      <td>0</td>\n",
       "    </tr>\n",
       "    <tr>\n",
       "      <th>29</th>\n",
       "      <td>55</td>\n",
       "      <td>850</td>\n",
       "      <td>7b+</td>\n",
       "      <td>1</td>\n",
       "      <td>0</td>\n",
       "      <td>7B+</td>\n",
       "      <td>1</td>\n",
       "      <td>0</td>\n",
       "      <td>5.12c</td>\n",
       "      <td>1</td>\n",
       "      <td>1</td>\n",
       "      <td>V8/9</td>\n",
       "      <td>1</td>\n",
       "      <td>0</td>\n",
       "    </tr>\n",
       "    <tr>\n",
       "      <th>30</th>\n",
       "      <td>54</td>\n",
       "      <td>825</td>\n",
       "      <td>7b/+</td>\n",
       "      <td>0</td>\n",
       "      <td>0</td>\n",
       "      <td>7B/+</td>\n",
       "      <td>0</td>\n",
       "      <td>0</td>\n",
       "      <td></td>\n",
       "      <td>0</td>\n",
       "      <td>0</td>\n",
       "      <td></td>\n",
       "      <td>0</td>\n",
       "      <td>0</td>\n",
       "    </tr>\n",
       "    <tr>\n",
       "      <th>31</th>\n",
       "      <td>53</td>\n",
       "      <td>800</td>\n",
       "      <td>7b</td>\n",
       "      <td>1</td>\n",
       "      <td>1</td>\n",
       "      <td>7B</td>\n",
       "      <td>1</td>\n",
       "      <td>1</td>\n",
       "      <td>5.12b</td>\n",
       "      <td>1</td>\n",
       "      <td>0</td>\n",
       "      <td>V8</td>\n",
       "      <td>1</td>\n",
       "      <td>1</td>\n",
       "    </tr>\n",
       "    <tr>\n",
       "      <th>32</th>\n",
       "      <td>52</td>\n",
       "      <td>775</td>\n",
       "      <td>7a+/7b</td>\n",
       "      <td>0</td>\n",
       "      <td>0</td>\n",
       "      <td>7A+/7B</td>\n",
       "      <td>0</td>\n",
       "      <td>0</td>\n",
       "      <td></td>\n",
       "      <td>0</td>\n",
       "      <td>0</td>\n",
       "      <td></td>\n",
       "      <td>0</td>\n",
       "      <td>0</td>\n",
       "    </tr>\n",
       "    <tr>\n",
       "      <th>33</th>\n",
       "      <td>51</td>\n",
       "      <td>750</td>\n",
       "      <td>7a+</td>\n",
       "      <td>1</td>\n",
       "      <td>0</td>\n",
       "      <td>7A+</td>\n",
       "      <td>1</td>\n",
       "      <td>0</td>\n",
       "      <td>5.12a</td>\n",
       "      <td>1</td>\n",
       "      <td>1</td>\n",
       "      <td>V7</td>\n",
       "      <td>1</td>\n",
       "      <td>1</td>\n",
       "    </tr>\n",
       "    <tr>\n",
       "      <th>34</th>\n",
       "      <td>50</td>\n",
       "      <td>725</td>\n",
       "      <td>7a/+</td>\n",
       "      <td>0</td>\n",
       "      <td>0</td>\n",
       "      <td>7A/+</td>\n",
       "      <td>0</td>\n",
       "      <td>0</td>\n",
       "      <td></td>\n",
       "      <td>0</td>\n",
       "      <td>0</td>\n",
       "      <td></td>\n",
       "      <td>0</td>\n",
       "      <td>0</td>\n",
       "    </tr>\n",
       "    <tr>\n",
       "      <th>35</th>\n",
       "      <td>49</td>\n",
       "      <td>700</td>\n",
       "      <td>7a</td>\n",
       "      <td>1</td>\n",
       "      <td>1</td>\n",
       "      <td>7A</td>\n",
       "      <td>1</td>\n",
       "      <td>1</td>\n",
       "      <td>5.11d</td>\n",
       "      <td>1</td>\n",
       "      <td>0</td>\n",
       "      <td>V6</td>\n",
       "      <td>1</td>\n",
       "      <td>1</td>\n",
       "    </tr>\n",
       "    <tr>\n",
       "      <th>36</th>\n",
       "      <td>47</td>\n",
       "      <td>675</td>\n",
       "      <td>6c+/7a</td>\n",
       "      <td>0</td>\n",
       "      <td>0</td>\n",
       "      <td>6C+/7A</td>\n",
       "      <td>0</td>\n",
       "      <td>0</td>\n",
       "      <td>5.11c</td>\n",
       "      <td>0</td>\n",
       "      <td>0</td>\n",
       "      <td></td>\n",
       "      <td>0</td>\n",
       "      <td>0</td>\n",
       "    </tr>\n",
       "    <tr>\n",
       "      <th>37</th>\n",
       "      <td>46</td>\n",
       "      <td>650</td>\n",
       "      <td>6c+</td>\n",
       "      <td>1</td>\n",
       "      <td>0</td>\n",
       "      <td>6C+</td>\n",
       "      <td>1</td>\n",
       "      <td>0</td>\n",
       "      <td>5.11b</td>\n",
       "      <td>0</td>\n",
       "      <td>0</td>\n",
       "      <td>V5/V6</td>\n",
       "      <td>1</td>\n",
       "      <td>0</td>\n",
       "    </tr>\n",
       "    <tr>\n",
       "      <th>38</th>\n",
       "      <td>45</td>\n",
       "      <td>625</td>\n",
       "      <td>6c/+</td>\n",
       "      <td>0</td>\n",
       "      <td>0</td>\n",
       "      <td>6C/+</td>\n",
       "      <td>0</td>\n",
       "      <td>0</td>\n",
       "      <td>5.11b</td>\n",
       "      <td>1</td>\n",
       "      <td>0</td>\n",
       "      <td>V5</td>\n",
       "      <td>0</td>\n",
       "      <td>0</td>\n",
       "    </tr>\n",
       "    <tr>\n",
       "      <th>39</th>\n",
       "      <td>44</td>\n",
       "      <td>600</td>\n",
       "      <td>6c</td>\n",
       "      <td>1</td>\n",
       "      <td>1</td>\n",
       "      <td>6C</td>\n",
       "      <td>1</td>\n",
       "      <td>1</td>\n",
       "      <td>5.11a</td>\n",
       "      <td>0</td>\n",
       "      <td>0</td>\n",
       "      <td>V5</td>\n",
       "      <td>1</td>\n",
       "      <td>1</td>\n",
       "    </tr>\n",
       "    <tr>\n",
       "      <th>40</th>\n",
       "      <td>43</td>\n",
       "      <td>575</td>\n",
       "      <td>6b+/6c</td>\n",
       "      <td>0</td>\n",
       "      <td>0</td>\n",
       "      <td>6B+/6C</td>\n",
       "      <td>0</td>\n",
       "      <td>0</td>\n",
       "      <td>5.11a</td>\n",
       "      <td>1</td>\n",
       "      <td>1</td>\n",
       "      <td>V4/V5</td>\n",
       "      <td>0</td>\n",
       "      <td>0</td>\n",
       "    </tr>\n",
       "    <tr>\n",
       "      <th>41</th>\n",
       "      <td>42</td>\n",
       "      <td>550</td>\n",
       "      <td>6b+</td>\n",
       "      <td>1</td>\n",
       "      <td>0</td>\n",
       "      <td>6B+</td>\n",
       "      <td>1</td>\n",
       "      <td>0</td>\n",
       "      <td>5.10d</td>\n",
       "      <td>1</td>\n",
       "      <td>0</td>\n",
       "      <td>V4/V5</td>\n",
       "      <td>1</td>\n",
       "      <td>0</td>\n",
       "    </tr>\n",
       "    <tr>\n",
       "      <th>42</th>\n",
       "      <td>41</td>\n",
       "      <td>525</td>\n",
       "      <td>6b/+</td>\n",
       "      <td>0</td>\n",
       "      <td>0</td>\n",
       "      <td>6B/+</td>\n",
       "      <td>0</td>\n",
       "      <td>0</td>\n",
       "      <td></td>\n",
       "      <td>0</td>\n",
       "      <td>0</td>\n",
       "      <td></td>\n",
       "      <td>0</td>\n",
       "      <td>0</td>\n",
       "    </tr>\n",
       "    <tr>\n",
       "      <th>43</th>\n",
       "      <td>40</td>\n",
       "      <td>500</td>\n",
       "      <td>6b</td>\n",
       "      <td>1</td>\n",
       "      <td>1</td>\n",
       "      <td>6B</td>\n",
       "      <td>1</td>\n",
       "      <td>1</td>\n",
       "      <td>5.10c</td>\n",
       "      <td>1</td>\n",
       "      <td>1</td>\n",
       "      <td>V4</td>\n",
       "      <td>1</td>\n",
       "      <td>1</td>\n",
       "    </tr>\n",
       "    <tr>\n",
       "      <th>44</th>\n",
       "      <td>39</td>\n",
       "      <td>475</td>\n",
       "      <td>6a+/6b</td>\n",
       "      <td>0</td>\n",
       "      <td>0</td>\n",
       "      <td>6A+/6B</td>\n",
       "      <td>0</td>\n",
       "      <td>0</td>\n",
       "      <td></td>\n",
       "      <td>0</td>\n",
       "      <td>0</td>\n",
       "      <td></td>\n",
       "      <td>0</td>\n",
       "      <td>0</td>\n",
       "    </tr>\n",
       "    <tr>\n",
       "      <th>45</th>\n",
       "      <td>38</td>\n",
       "      <td>450</td>\n",
       "      <td>6a+</td>\n",
       "      <td>1</td>\n",
       "      <td>0</td>\n",
       "      <td>6A+</td>\n",
       "      <td>1</td>\n",
       "      <td>0</td>\n",
       "      <td>5.10b</td>\n",
       "      <td>1</td>\n",
       "      <td>0</td>\n",
       "      <td>V3/4</td>\n",
       "      <td>1</td>\n",
       "      <td>0</td>\n",
       "    </tr>\n",
       "    <tr>\n",
       "      <th>46</th>\n",
       "      <td>37</td>\n",
       "      <td>425</td>\n",
       "      <td>6a/+</td>\n",
       "      <td>0</td>\n",
       "      <td>0</td>\n",
       "      <td>6A/+</td>\n",
       "      <td>0</td>\n",
       "      <td>0</td>\n",
       "      <td></td>\n",
       "      <td>0</td>\n",
       "      <td>0</td>\n",
       "      <td></td>\n",
       "      <td>0</td>\n",
       "      <td>0</td>\n",
       "    </tr>\n",
       "    <tr>\n",
       "      <th>47</th>\n",
       "      <td>36</td>\n",
       "      <td>400</td>\n",
       "      <td>6a</td>\n",
       "      <td>1</td>\n",
       "      <td>1</td>\n",
       "      <td>6A</td>\n",
       "      <td>1</td>\n",
       "      <td>1</td>\n",
       "      <td>5.10a</td>\n",
       "      <td>1</td>\n",
       "      <td>1</td>\n",
       "      <td>V3</td>\n",
       "      <td>1</td>\n",
       "      <td>1</td>\n",
       "    </tr>\n",
       "    <tr>\n",
       "      <th>48</th>\n",
       "      <td>35</td>\n",
       "      <td>400</td>\n",
       "      <td>6</td>\n",
       "      <td>0</td>\n",
       "      <td>0</td>\n",
       "      <td>6</td>\n",
       "      <td>0</td>\n",
       "      <td>0</td>\n",
       "      <td></td>\n",
       "      <td>0</td>\n",
       "      <td>0</td>\n",
       "      <td></td>\n",
       "      <td>0</td>\n",
       "      <td>0</td>\n",
       "    </tr>\n",
       "    <tr>\n",
       "      <th>49</th>\n",
       "      <td>34</td>\n",
       "      <td>375</td>\n",
       "      <td>5c+</td>\n",
       "      <td>1</td>\n",
       "      <td>0</td>\n",
       "      <td>5C+</td>\n",
       "      <td>1</td>\n",
       "      <td>0</td>\n",
       "      <td>5.9</td>\n",
       "      <td>1</td>\n",
       "      <td>0</td>\n",
       "      <td>V2</td>\n",
       "      <td>0</td>\n",
       "      <td>0</td>\n",
       "    </tr>\n",
       "  </tbody>\n",
       "</table>\n",
       "</div>"
      ],
      "text/plain": [
       "    id  score fra_routes  fra_routes_input  fra_routes_selector fra_boulders  \\\n",
       "0   86   1575    9c+/10a                 0                    0      9C+/10A   \n",
       "1   85   1550        9c+                 0                    0          9C+   \n",
       "2   84   1525       9c/+                 0                    0         9C/+   \n",
       "3   83   1500         9c                 0                    0           9C   \n",
       "4   82   1475     9b+/9c                 0                    0       9B+/9C   \n",
       "5   81   1450        9b+                 1                    1          9B+   \n",
       "6   80   1425       9b/+                 1                    0         9B/+   \n",
       "7   79   1400         9b                 1                    0           9B   \n",
       "8   78   1375     9a+/9b                 1                    0       9A+/9B   \n",
       "9   77   1350        9a+                 1                    0          9A+   \n",
       "10  76   1325       9a/+                 1                    0         9A/+   \n",
       "11  75   1300         9a                 1                    1           9A   \n",
       "12  73   1275     8c+/9a                 1                    0       8C+/9A   \n",
       "13  72   1250        8c+                 1                    0          8C+   \n",
       "14  71   1225       8c/+                 1                    0         8C/+   \n",
       "15  70   1200         8c                 1                    1           8C   \n",
       "16  69   1175     8b+/8c                 0                    0       8B+/8C   \n",
       "17  68   1150        8b+                 1                    0          8B+   \n",
       "18  67   1125       8b/+                 0                    0         8B/+   \n",
       "19  66   1100         8b                 1                    1           8B   \n",
       "20  65   1075     8a+/8b                 0                    0       8A+/8B   \n",
       "21  64   1050        8a+                 1                    0          8A+   \n",
       "22  63   1025       8a/+                 0                    0         8A/+   \n",
       "23  62   1000         8a                 1                    1           8A   \n",
       "24  60    975     7c+/8a                 0                    0       7C+/8A   \n",
       "25  59    950        7c+                 1                    0          7C+   \n",
       "26  58    925       7c/+                 0                    0         7C/+   \n",
       "27  57    900         7c                 1                    1           7C   \n",
       "28  56    875     7b+/7c                 0                    0       7B+/7C   \n",
       "29  55    850        7b+                 1                    0          7B+   \n",
       "30  54    825       7b/+                 0                    0         7B/+   \n",
       "31  53    800         7b                 1                    1           7B   \n",
       "32  52    775     7a+/7b                 0                    0       7A+/7B   \n",
       "33  51    750        7a+                 1                    0          7A+   \n",
       "34  50    725       7a/+                 0                    0         7A/+   \n",
       "35  49    700         7a                 1                    1           7A   \n",
       "36  47    675     6c+/7a                 0                    0       6C+/7A   \n",
       "37  46    650        6c+                 1                    0          6C+   \n",
       "38  45    625       6c/+                 0                    0         6C/+   \n",
       "39  44    600         6c                 1                    1           6C   \n",
       "40  43    575     6b+/6c                 0                    0       6B+/6C   \n",
       "41  42    550        6b+                 1                    0          6B+   \n",
       "42  41    525       6b/+                 0                    0         6B/+   \n",
       "43  40    500         6b                 1                    1           6B   \n",
       "44  39    475     6a+/6b                 0                    0       6A+/6B   \n",
       "45  38    450        6a+                 1                    0          6A+   \n",
       "46  37    425       6a/+                 0                    0         6A/+   \n",
       "47  36    400         6a                 1                    1           6A   \n",
       "48  35    400          6                 0                    0            6   \n",
       "49  34    375        5c+                 1                    0          5C+   \n",
       "\n",
       "    fra_boulders_input  fra_boulders_selector  usa_routes  usa_routes_input  \\\n",
       "0                    0                      0                             0   \n",
       "1                    0                      0                             0   \n",
       "2                    0                      0                             0   \n",
       "3                    0                      0                             0   \n",
       "4                    0                      0                             0   \n",
       "5                    0                      0       5.15c                 1   \n",
       "6                    0                      0     5.15b/c                 1   \n",
       "7                    0                      0       5.15b                 1   \n",
       "8                    0                      0     5.15a/b                 1   \n",
       "9                    0                      0       5.15a                 1   \n",
       "10                   0                      0  5.14d/.15a                 1   \n",
       "11                   1                      1       5.14d                 1   \n",
       "12                   1                      0     5.14c/d                 1   \n",
       "13                   1                      0       5.14c                 1   \n",
       "14                   1                      0     5.14b/c                 1   \n",
       "15                   1                      1       5.14b                 1   \n",
       "16                   0                      0                             0   \n",
       "17                   1                      0       5.14a                 1   \n",
       "18                   0                      0                             0   \n",
       "19                   1                      1       5.13d                 1   \n",
       "20                   0                      0                             0   \n",
       "21                   1                      0       5.13c                 1   \n",
       "22                   0                      0                             0   \n",
       "23                   1                      1       5.13b                 1   \n",
       "24                   0                      0                             0   \n",
       "25                   1                      0       5.13a                 1   \n",
       "26                   0                      0                             0   \n",
       "27                   1                      1       5.12d                 1   \n",
       "28                   0                      0                             0   \n",
       "29                   1                      0       5.12c                 1   \n",
       "30                   0                      0                             0   \n",
       "31                   1                      1       5.12b                 1   \n",
       "32                   0                      0                             0   \n",
       "33                   1                      0       5.12a                 1   \n",
       "34                   0                      0                             0   \n",
       "35                   1                      1       5.11d                 1   \n",
       "36                   0                      0       5.11c                 0   \n",
       "37                   1                      0       5.11b                 0   \n",
       "38                   0                      0       5.11b                 1   \n",
       "39                   1                      1       5.11a                 0   \n",
       "40                   0                      0       5.11a                 1   \n",
       "41                   1                      0       5.10d                 1   \n",
       "42                   0                      0                             0   \n",
       "43                   1                      1       5.10c                 1   \n",
       "44                   0                      0                             0   \n",
       "45                   1                      0       5.10b                 1   \n",
       "46                   0                      0                             0   \n",
       "47                   1                      1       5.10a                 1   \n",
       "48                   0                      0                             0   \n",
       "49                   1                      0         5.9                 1   \n",
       "\n",
       "    usa_routes_selector usa_boulders  usa_boulders_input  \\\n",
       "0                     0                                0   \n",
       "1                     0                                0   \n",
       "2                     0                                0   \n",
       "3                     0                                0   \n",
       "4                     0                                0   \n",
       "5                     1          V20                   0   \n",
       "6                     0       V19/20                   0   \n",
       "7                     0          V19                   0   \n",
       "8                     0       V18/19                   0   \n",
       "9                     1          V18                   0   \n",
       "10                    0       V17/18                   0   \n",
       "11                    0          V17                   1   \n",
       "12                    0       V16/17                   1   \n",
       "13                    0          V16                   1   \n",
       "14                    0       V15/16                   1   \n",
       "15                    0          V15                   1   \n",
       "16                    0                                0   \n",
       "17                    1          V14                   1   \n",
       "18                    0                                0   \n",
       "19                    0          V13                   1   \n",
       "20                    0                                0   \n",
       "21                    1          V12                   1   \n",
       "22                    0                                0   \n",
       "23                    0          V11                   1   \n",
       "24                    0                                0   \n",
       "25                    1          V10                   1   \n",
       "26                    0                                0   \n",
       "27                    0           V9                   1   \n",
       "28                    0                                0   \n",
       "29                    1         V8/9                   1   \n",
       "30                    0                                0   \n",
       "31                    0           V8                   1   \n",
       "32                    0                                0   \n",
       "33                    1           V7                   1   \n",
       "34                    0                                0   \n",
       "35                    0           V6                   1   \n",
       "36                    0                                0   \n",
       "37                    0        V5/V6                   1   \n",
       "38                    0           V5                   0   \n",
       "39                    0           V5                   1   \n",
       "40                    1        V4/V5                   0   \n",
       "41                    0        V4/V5                   1   \n",
       "42                    0                                0   \n",
       "43                    1           V4                   1   \n",
       "44                    0                                0   \n",
       "45                    0         V3/4                   1   \n",
       "46                    0                                0   \n",
       "47                    1           V3                   1   \n",
       "48                    0                                0   \n",
       "49                    0           V2                   0   \n",
       "\n",
       "    usa_boulders_selector  \n",
       "0                       0  \n",
       "1                       0  \n",
       "2                       0  \n",
       "3                       0  \n",
       "4                       0  \n",
       "5                       0  \n",
       "6                       0  \n",
       "7                       0  \n",
       "8                       0  \n",
       "9                       0  \n",
       "10                      0  \n",
       "11                      1  \n",
       "12                      0  \n",
       "13                      0  \n",
       "14                      0  \n",
       "15                      1  \n",
       "16                      0  \n",
       "17                      0  \n",
       "18                      0  \n",
       "19                      1  \n",
       "20                      0  \n",
       "21                      0  \n",
       "22                      0  \n",
       "23                      1  \n",
       "24                      0  \n",
       "25                      0  \n",
       "26                      0  \n",
       "27                      1  \n",
       "28                      0  \n",
       "29                      0  \n",
       "30                      0  \n",
       "31                      1  \n",
       "32                      0  \n",
       "33                      1  \n",
       "34                      0  \n",
       "35                      1  \n",
       "36                      0  \n",
       "37                      0  \n",
       "38                      0  \n",
       "39                      1  \n",
       "40                      0  \n",
       "41                      0  \n",
       "42                      0  \n",
       "43                      1  \n",
       "44                      0  \n",
       "45                      0  \n",
       "46                      0  \n",
       "47                      1  \n",
       "48                      0  \n",
       "49                      0  "
      ]
     },
     "execution_count": 82,
     "metadata": {},
     "output_type": "execute_result"
    }
   ],
   "source": [
    "queryToDataframe(\"\"\"\n",
    "SELECT *\n",
    "FROM grade\n",
    "ORDER BY id DESC\n",
    "LIMIT 50\n",
    "\"\"\")"
   ]
  },
  {
   "cell_type": "code",
   "execution_count": 71,
   "metadata": {},
   "outputs": [
    {
     "data": {
      "text/html": [
       "<div>\n",
       "<style scoped>\n",
       "    .dataframe tbody tr th:only-of-type {\n",
       "        vertical-align: middle;\n",
       "    }\n",
       "\n",
       "    .dataframe tbody tr th {\n",
       "        vertical-align: top;\n",
       "    }\n",
       "\n",
       "    .dataframe thead th {\n",
       "        text-align: right;\n",
       "    }\n",
       "</style>\n",
       "<table border=\"1\" class=\"dataframe\">\n",
       "  <thead>\n",
       "    <tr style=\"text-align: right;\">\n",
       "      <th></th>\n",
       "      <th>id</th>\n",
       "      <th>grade_id</th>\n",
       "      <th>user_id</th>\n",
       "    </tr>\n",
       "  </thead>\n",
       "  <tbody>\n",
       "    <tr>\n",
       "      <th>0</th>\n",
       "      <td>2</td>\n",
       "      <td>36</td>\n",
       "      <td>1</td>\n",
       "    </tr>\n",
       "    <tr>\n",
       "      <th>1</th>\n",
       "      <td>3</td>\n",
       "      <td>36</td>\n",
       "      <td>1</td>\n",
       "    </tr>\n",
       "    <tr>\n",
       "      <th>2</th>\n",
       "      <td>4</td>\n",
       "      <td>36</td>\n",
       "      <td>1</td>\n",
       "    </tr>\n",
       "    <tr>\n",
       "      <th>3</th>\n",
       "      <td>5</td>\n",
       "      <td>36</td>\n",
       "      <td>1</td>\n",
       "    </tr>\n",
       "    <tr>\n",
       "      <th>4</th>\n",
       "      <td>6</td>\n",
       "      <td>36</td>\n",
       "      <td>1</td>\n",
       "    </tr>\n",
       "  </tbody>\n",
       "</table>\n",
       "</div>"
      ],
      "text/plain": [
       "   id  grade_id  user_id\n",
       "0   2        36        1\n",
       "1   3        36        1\n",
       "2   4        36        1\n",
       "3   5        36        1\n",
       "4   6        36        1"
      ]
     },
     "execution_count": 71,
     "metadata": {},
     "output_type": "execute_result"
    }
   ],
   "source": [
    "queryToDataframe(\"\"\"\n",
    "SELECT id, grade_id, user_id\n",
    "FROM ascent\n",
    "LIMIT 5\n",
    "\n",
    "\"\"\")"
   ]
  },
  {
   "cell_type": "code",
   "execution_count": 72,
   "metadata": {},
   "outputs": [
    {
     "data": {
      "text/html": [
       "<div>\n",
       "<style scoped>\n",
       "    .dataframe tbody tr th:only-of-type {\n",
       "        vertical-align: middle;\n",
       "    }\n",
       "\n",
       "    .dataframe tbody tr th {\n",
       "        vertical-align: top;\n",
       "    }\n",
       "\n",
       "    .dataframe thead th {\n",
       "        text-align: right;\n",
       "    }\n",
       "</style>\n",
       "<table border=\"1\" class=\"dataframe\">\n",
       "  <thead>\n",
       "    <tr style=\"text-align: right;\">\n",
       "      <th></th>\n",
       "      <th>grade_id</th>\n",
       "      <th>user_id</th>\n",
       "      <th>fra_boulders</th>\n",
       "    </tr>\n",
       "  </thead>\n",
       "  <tbody>\n",
       "    <tr>\n",
       "      <th>0</th>\n",
       "      <td>36</td>\n",
       "      <td>1</td>\n",
       "      <td>6A</td>\n",
       "    </tr>\n",
       "    <tr>\n",
       "      <th>1</th>\n",
       "      <td>36</td>\n",
       "      <td>1</td>\n",
       "      <td>6A</td>\n",
       "    </tr>\n",
       "    <tr>\n",
       "      <th>2</th>\n",
       "      <td>36</td>\n",
       "      <td>1</td>\n",
       "      <td>6A</td>\n",
       "    </tr>\n",
       "    <tr>\n",
       "      <th>3</th>\n",
       "      <td>36</td>\n",
       "      <td>1</td>\n",
       "      <td>6A</td>\n",
       "    </tr>\n",
       "    <tr>\n",
       "      <th>4</th>\n",
       "      <td>36</td>\n",
       "      <td>1</td>\n",
       "      <td>6A</td>\n",
       "    </tr>\n",
       "  </tbody>\n",
       "</table>\n",
       "</div>"
      ],
      "text/plain": [
       "   grade_id  user_id fra_boulders\n",
       "0        36        1           6A\n",
       "1        36        1           6A\n",
       "2        36        1           6A\n",
       "3        36        1           6A\n",
       "4        36        1           6A"
      ]
     },
     "execution_count": 72,
     "metadata": {},
     "output_type": "execute_result"
    }
   ],
   "source": [
    "queryToDataframe(\"\"\"\n",
    "SELECT a.grade_id, a.user_id, g.fra_boulders\n",
    "FROM ascent AS a\n",
    "LEFT JOIN grade AS g\n",
    "    ON a.grade_id = g.id\n",
    "LIMIT 5\n",
    "\"\"\")"
   ]
  },
  {
   "cell_type": "code",
   "execution_count": null,
   "metadata": {},
   "outputs": [],
   "source": []
  },
  {
   "cell_type": "code",
   "execution_count": null,
   "metadata": {},
   "outputs": [],
   "source": []
  },
  {
   "cell_type": "code",
   "execution_count": 23,
   "metadata": {},
   "outputs": [],
   "source": [
    "countryTop10 = queryToDataframe(\"\"\"\n",
    "SELECT COUNT(*) AS count, country\n",
    "FROM user\n",
    "GROUP BY country\n",
    "ORDER BY count DESC\n",
    "LIMIT 100\n",
    "\"\"\")"
   ]
  },
  {
   "cell_type": "code",
   "execution_count": 132,
   "metadata": {
    "scrolled": true
   },
   "outputs": [
    {
     "data": {
      "text/html": [
       "<div>\n",
       "<style scoped>\n",
       "    .dataframe tbody tr th:only-of-type {\n",
       "        vertical-align: middle;\n",
       "    }\n",
       "\n",
       "    .dataframe tbody tr th {\n",
       "        vertical-align: top;\n",
       "    }\n",
       "\n",
       "    .dataframe thead th {\n",
       "        text-align: right;\n",
       "    }\n",
       "</style>\n",
       "<table border=\"1\" class=\"dataframe\">\n",
       "  <thead>\n",
       "    <tr style=\"text-align: right;\">\n",
       "      <th></th>\n",
       "      <th>count</th>\n",
       "      <th>country</th>\n",
       "    </tr>\n",
       "  </thead>\n",
       "  <tbody>\n",
       "    <tr>\n",
       "      <th>0</th>\n",
       "      <td>11861</td>\n",
       "      <td>USA</td>\n",
       "    </tr>\n",
       "    <tr>\n",
       "      <th>1</th>\n",
       "      <td>6905</td>\n",
       "      <td>ESP</td>\n",
       "    </tr>\n",
       "    <tr>\n",
       "      <th>2</th>\n",
       "      <td>3712</td>\n",
       "      <td>DEU</td>\n",
       "    </tr>\n",
       "    <tr>\n",
       "      <th>3</th>\n",
       "      <td>3629</td>\n",
       "      <td>SWE</td>\n",
       "    </tr>\n",
       "    <tr>\n",
       "      <th>4</th>\n",
       "      <td>3590</td>\n",
       "      <td>ITA</td>\n",
       "    </tr>\n",
       "    <tr>\n",
       "      <th>5</th>\n",
       "      <td>3326</td>\n",
       "      <td>FRA</td>\n",
       "    </tr>\n",
       "    <tr>\n",
       "      <th>6</th>\n",
       "      <td>3303</td>\n",
       "      <td>POL</td>\n",
       "    </tr>\n",
       "    <tr>\n",
       "      <th>7</th>\n",
       "      <td>2660</td>\n",
       "      <td>GBR</td>\n",
       "    </tr>\n",
       "    <tr>\n",
       "      <th>8</th>\n",
       "      <td>2062</td>\n",
       "      <td>BRA</td>\n",
       "    </tr>\n",
       "    <tr>\n",
       "      <th>9</th>\n",
       "      <td>1928</td>\n",
       "      <td>AUT</td>\n",
       "    </tr>\n",
       "  </tbody>\n",
       "</table>\n",
       "</div>"
      ],
      "text/plain": [
       "   count country\n",
       "0  11861     USA\n",
       "1   6905     ESP\n",
       "2   3712     DEU\n",
       "3   3629     SWE\n",
       "4   3590     ITA\n",
       "5   3326     FRA\n",
       "6   3303     POL\n",
       "7   2660     GBR\n",
       "8   2062     BRA\n",
       "9   1928     AUT"
      ]
     },
     "execution_count": 132,
     "metadata": {},
     "output_type": "execute_result"
    }
   ],
   "source": [
    "countryTop10"
   ]
  },
  {
   "cell_type": "code",
   "execution_count": 1,
   "metadata": {},
   "outputs": [
    {
     "ename": "NameError",
     "evalue": "name 'queryToDataframe' is not defined",
     "output_type": "error",
     "traceback": [
      "\u001b[0;31m---------------------------------------------------------------------------\u001b[0m",
      "\u001b[0;31mNameError\u001b[0m                                 Traceback (most recent call last)",
      "\u001b[0;32m<ipython-input-1-ffee423d3dfe>\u001b[0m in \u001b[0;36m<module>\u001b[0;34m\u001b[0m\n\u001b[0;32m----> 1\u001b[0;31m weight_height_average = queryToDataframe(\"\"\"\n\u001b[0m\u001b[1;32m      2\u001b[0m \u001b[0mSELECT\u001b[0m \u001b[0mAVG\u001b[0m\u001b[0;34m(\u001b[0m\u001b[0mweight\u001b[0m\u001b[0;34m)\u001b[0m \u001b[0mAS\u001b[0m \u001b[0mavg_weight\u001b[0m\u001b[0;34m,\u001b[0m\u001b[0;34m\u001b[0m\u001b[0;34m\u001b[0m\u001b[0m\n\u001b[1;32m      3\u001b[0m        \u001b[0mAVG\u001b[0m\u001b[0;34m(\u001b[0m\u001b[0mheight\u001b[0m\u001b[0;34m)\u001b[0m \u001b[0mAS\u001b[0m \u001b[0mavg_height\u001b[0m\u001b[0;34m\u001b[0m\u001b[0;34m\u001b[0m\u001b[0m\n\u001b[1;32m      4\u001b[0m \u001b[0mFROM\u001b[0m \u001b[0muser\u001b[0m\u001b[0;34m\u001b[0m\u001b[0;34m\u001b[0m\u001b[0m\n\u001b[1;32m      5\u001b[0m \"\"\")\n",
      "\u001b[0;31mNameError\u001b[0m: name 'queryToDataframe' is not defined"
     ]
    }
   ],
   "source": [
    "weight_height_average = queryToDataframe(\"\"\"\n",
    "SELECT AVG(weight) AS avg_weight, \n",
    "       AVG(height) AS avg_height\n",
    "FROM user\n",
    "\"\"\")"
   ]
  },
  {
   "cell_type": "code",
   "execution_count": 27,
   "metadata": {},
   "outputs": [
    {
     "data": {
      "text/html": [
       "<div>\n",
       "<style scoped>\n",
       "    .dataframe tbody tr th:only-of-type {\n",
       "        vertical-align: middle;\n",
       "    }\n",
       "\n",
       "    .dataframe tbody tr th {\n",
       "        vertical-align: top;\n",
       "    }\n",
       "\n",
       "    .dataframe thead th {\n",
       "        text-align: right;\n",
       "    }\n",
       "</style>\n",
       "<table border=\"1\" class=\"dataframe\">\n",
       "  <thead>\n",
       "    <tr style=\"text-align: right;\">\n",
       "      <th></th>\n",
       "      <th>avg_weight</th>\n",
       "      <th>avg_height</th>\n",
       "      <th>max_country</th>\n",
       "    </tr>\n",
       "  </thead>\n",
       "  <tbody>\n",
       "    <tr>\n",
       "      <th>0</th>\n",
       "      <td>33.121899</td>\n",
       "      <td>83.884204</td>\n",
       "      <td>none</td>\n",
       "    </tr>\n",
       "  </tbody>\n",
       "</table>\n",
       "</div>"
      ],
      "text/plain": [
       "   avg_weight  avg_height max_country\n",
       "0   33.121899   83.884204        none"
      ]
     },
     "execution_count": 27,
     "metadata": {},
     "output_type": "execute_result"
    }
   ],
   "source": [
    "weight_height_average"
   ]
  },
  {
   "cell_type": "code",
   "execution_count": null,
   "metadata": {},
   "outputs": [],
   "source": []
  },
  {
   "cell_type": "code",
   "execution_count": null,
   "metadata": {},
   "outputs": [],
   "source": []
  },
  {
   "cell_type": "code",
   "execution_count": null,
   "metadata": {},
   "outputs": [],
   "source": []
  },
  {
   "cell_type": "code",
   "execution_count": null,
   "metadata": {},
   "outputs": [],
   "source": []
  },
  {
   "cell_type": "code",
   "execution_count": null,
   "metadata": {},
   "outputs": [],
   "source": []
  },
  {
   "cell_type": "code",
   "execution_count": 148,
   "metadata": {},
   "outputs": [],
   "source": [
    "weight_average = queryToDataframe(\"\"\"\n",
    "SELECT AVG(weight) AS avg_weight, \n",
    "       AVG(height) AS avg_height,\n",
    "       CASE WHEN sex = 0 THEN 'male'\n",
    "            WHEN sex = 1 THEN 'female'\n",
    "            ELSE 'NA'\n",
    "    END AS sex\n",
    "FROM user\n",
    "GROUP BY sex\n",
    "\"\"\")"
   ]
  },
  {
   "cell_type": "code",
   "execution_count": 149,
   "metadata": {},
   "outputs": [
    {
     "data": {
      "text/html": [
       "<div>\n",
       "<style scoped>\n",
       "    .dataframe tbody tr th:only-of-type {\n",
       "        vertical-align: middle;\n",
       "    }\n",
       "\n",
       "    .dataframe tbody tr th {\n",
       "        vertical-align: top;\n",
       "    }\n",
       "\n",
       "    .dataframe thead th {\n",
       "        text-align: right;\n",
       "    }\n",
       "</style>\n",
       "<table border=\"1\" class=\"dataframe\">\n",
       "  <thead>\n",
       "    <tr style=\"text-align: right;\">\n",
       "      <th></th>\n",
       "      <th>avg_weight</th>\n",
       "      <th>avg_height</th>\n",
       "      <th>sex</th>\n",
       "    </tr>\n",
       "  </thead>\n",
       "  <tbody>\n",
       "    <tr>\n",
       "      <th>0</th>\n",
       "      <td>34.961297</td>\n",
       "      <td>85.152065</td>\n",
       "      <td>male</td>\n",
       "    </tr>\n",
       "    <tr>\n",
       "      <th>1</th>\n",
       "      <td>21.729951</td>\n",
       "      <td>76.043263</td>\n",
       "      <td>female</td>\n",
       "    </tr>\n",
       "    <tr>\n",
       "      <th>2</th>\n",
       "      <td>0.000000</td>\n",
       "      <td>36.500000</td>\n",
       "      <td>NA</td>\n",
       "    </tr>\n",
       "  </tbody>\n",
       "</table>\n",
       "</div>"
      ],
      "text/plain": [
       "   avg_weight  avg_height     sex\n",
       "0   34.961297   85.152065    male\n",
       "1   21.729951   76.043263  female\n",
       "2    0.000000   36.500000      NA"
      ]
     },
     "execution_count": 149,
     "metadata": {},
     "output_type": "execute_result"
    }
   ],
   "source": [
    "weight_average"
   ]
  },
  {
   "cell_type": "code",
   "execution_count": 150,
   "metadata": {},
   "outputs": [
    {
     "data": {
      "text/html": [
       "<div>\n",
       "<style scoped>\n",
       "    .dataframe tbody tr th:only-of-type {\n",
       "        vertical-align: middle;\n",
       "    }\n",
       "\n",
       "    .dataframe tbody tr th {\n",
       "        vertical-align: top;\n",
       "    }\n",
       "\n",
       "    .dataframe thead th {\n",
       "        text-align: right;\n",
       "    }\n",
       "</style>\n",
       "<table border=\"1\" class=\"dataframe\">\n",
       "  <thead>\n",
       "    <tr style=\"text-align: right;\">\n",
       "      <th></th>\n",
       "      <th>count</th>\n",
       "      <th>avg_weight</th>\n",
       "      <th>avg_height</th>\n",
       "      <th>sex</th>\n",
       "    </tr>\n",
       "  </thead>\n",
       "  <tbody>\n",
       "    <tr>\n",
       "      <th>0</th>\n",
       "      <td>53898</td>\n",
       "      <td>34.961297</td>\n",
       "      <td>85.152065</td>\n",
       "      <td>male</td>\n",
       "    </tr>\n",
       "    <tr>\n",
       "      <th>1</th>\n",
       "      <td>8691</td>\n",
       "      <td>21.729951</td>\n",
       "      <td>76.043263</td>\n",
       "      <td>female</td>\n",
       "    </tr>\n",
       "    <tr>\n",
       "      <th>2</th>\n",
       "      <td>4</td>\n",
       "      <td>0.000000</td>\n",
       "      <td>36.500000</td>\n",
       "      <td>NA</td>\n",
       "    </tr>\n",
       "  </tbody>\n",
       "</table>\n",
       "</div>"
      ],
      "text/plain": [
       "   count  avg_weight  avg_height     sex\n",
       "0  53898   34.961297   85.152065    male\n",
       "1   8691   21.729951   76.043263  female\n",
       "2      4    0.000000   36.500000      NA"
      ]
     },
     "execution_count": 150,
     "metadata": {},
     "output_type": "execute_result"
    }
   ],
   "source": [
    "queryToDataframe(\"\"\"\n",
    "SELECT COUNT(*) AS count,\n",
    "       AVG(weight) AS avg_weight, \n",
    "       AVG(height) AS avg_height,\n",
    "       CASE WHEN sex = 0 THEN 'male'\n",
    "            WHEN sex = 1 THEN 'female'\n",
    "            ELSE 'NA'\n",
    "    END AS sex\n",
    "FROM user\n",
    "GROUP BY sex\n",
    "\"\"\")"
   ]
  },
  {
   "cell_type": "code",
   "execution_count": null,
   "metadata": {},
   "outputs": [],
   "source": [
    "queryToDataframe(\"\"\"\n",
    "SELECT COUNT(*) \n",
    "FROM ascent\n",
    "WHERE \n",
    "\"\"\")"
   ]
  },
  {
   "cell_type": "code",
   "execution_count": null,
   "metadata": {},
   "outputs": [],
   "source": []
  },
  {
   "cell_type": "code",
   "execution_count": null,
   "metadata": {},
   "outputs": [],
   "source": []
  },
  {
   "cell_type": "code",
   "execution_count": null,
   "metadata": {},
   "outputs": [],
   "source": []
  },
  {
   "cell_type": "code",
   "execution_count": null,
   "metadata": {},
   "outputs": [],
   "source": []
  },
  {
   "cell_type": "code",
   "execution_count": null,
   "metadata": {},
   "outputs": [],
   "source": []
  },
  {
   "cell_type": "code",
   "execution_count": null,
   "metadata": {},
   "outputs": [],
   "source": []
  },
  {
   "cell_type": "code",
   "execution_count": null,
   "metadata": {},
   "outputs": [],
   "source": []
  },
  {
   "cell_type": "code",
   "execution_count": null,
   "metadata": {},
   "outputs": [],
   "source": []
  },
  {
   "cell_type": "markdown",
   "metadata": {},
   "source": [
    "In order to look at the routes people are climbing, we first need to segment the types of climbs people are doing including:\n",
    "\n",
    "1. Bouldering\n",
    "2. Routes"
   ]
  },
  {
   "cell_type": "code",
   "execution_count": 48,
   "metadata": {},
   "outputs": [
    {
     "data": {
      "text/html": [
       "<div>\n",
       "<style scoped>\n",
       "    .dataframe tbody tr th:only-of-type {\n",
       "        vertical-align: middle;\n",
       "    }\n",
       "\n",
       "    .dataframe tbody tr th {\n",
       "        vertical-align: top;\n",
       "    }\n",
       "\n",
       "    .dataframe thead th {\n",
       "        text-align: right;\n",
       "    }\n",
       "</style>\n",
       "<table border=\"1\" class=\"dataframe\">\n",
       "  <thead>\n",
       "    <tr style=\"text-align: right;\">\n",
       "      <th></th>\n",
       "      <th>count</th>\n",
       "    </tr>\n",
       "  </thead>\n",
       "  <tbody>\n",
       "    <tr>\n",
       "      <th>0</th>\n",
       "      <td>2875675</td>\n",
       "    </tr>\n",
       "    <tr>\n",
       "      <th>1</th>\n",
       "      <td>1236202</td>\n",
       "    </tr>\n",
       "  </tbody>\n",
       "</table>\n",
       "</div>"
      ],
      "text/plain": [
       "     count\n",
       "0  2875675\n",
       "1  1236202"
      ]
     },
     "execution_count": 48,
     "metadata": {},
     "output_type": "execute_result"
    }
   ],
   "source": [
    "# Count how many ascents are boulders vs routes\n",
    "queryToDataframe(\"\"\"\n",
    "SELECT COUNT(*) AS count\n",
    "FROM ascent\n",
    "GROUP BY climb_type\n",
    "\"\"\")"
   ]
  },
  {
   "cell_type": "code",
   "execution_count": 42,
   "metadata": {},
   "outputs": [
    {
     "data": {
      "text/html": [
       "<div>\n",
       "<style scoped>\n",
       "    .dataframe tbody tr th:only-of-type {\n",
       "        vertical-align: middle;\n",
       "    }\n",
       "\n",
       "    .dataframe tbody tr th {\n",
       "        vertical-align: top;\n",
       "    }\n",
       "\n",
       "    .dataframe thead th {\n",
       "        text-align: right;\n",
       "    }\n",
       "</style>\n",
       "<table border=\"1\" class=\"dataframe\">\n",
       "  <thead>\n",
       "    <tr style=\"text-align: right;\">\n",
       "      <th></th>\n",
       "      <th>MAX(a.grade_id)</th>\n",
       "      <th>bouldering</th>\n",
       "      <th>year</th>\n",
       "      <th>grade</th>\n",
       "    </tr>\n",
       "  </thead>\n",
       "  <tbody>\n",
       "    <tr>\n",
       "      <th>0</th>\n",
       "      <td>49</td>\n",
       "      <td>0</td>\n",
       "      <td>1998</td>\n",
       "      <td>7a</td>\n",
       "    </tr>\n",
       "    <tr>\n",
       "      <th>1</th>\n",
       "      <td>55</td>\n",
       "      <td>0</td>\n",
       "      <td>1999</td>\n",
       "      <td>7b+</td>\n",
       "    </tr>\n",
       "    <tr>\n",
       "      <th>2</th>\n",
       "      <td>57</td>\n",
       "      <td>0</td>\n",
       "      <td>2000</td>\n",
       "      <td>7c</td>\n",
       "    </tr>\n",
       "    <tr>\n",
       "      <th>3</th>\n",
       "      <td>62</td>\n",
       "      <td>0</td>\n",
       "      <td>2001</td>\n",
       "      <td>8a</td>\n",
       "    </tr>\n",
       "    <tr>\n",
       "      <th>4</th>\n",
       "      <td>53</td>\n",
       "      <td>0</td>\n",
       "      <td>2002</td>\n",
       "      <td>7b</td>\n",
       "    </tr>\n",
       "    <tr>\n",
       "      <th>...</th>\n",
       "      <td>...</td>\n",
       "      <td>...</td>\n",
       "      <td>...</td>\n",
       "      <td>...</td>\n",
       "    </tr>\n",
       "    <tr>\n",
       "      <th>95</th>\n",
       "      <td>62</td>\n",
       "      <td>1</td>\n",
       "      <td>2003</td>\n",
       "      <td>8a</td>\n",
       "    </tr>\n",
       "    <tr>\n",
       "      <th>96</th>\n",
       "      <td>59</td>\n",
       "      <td>1</td>\n",
       "      <td>2004</td>\n",
       "      <td>7c+</td>\n",
       "    </tr>\n",
       "    <tr>\n",
       "      <th>97</th>\n",
       "      <td>62</td>\n",
       "      <td>1</td>\n",
       "      <td>2005</td>\n",
       "      <td>8a</td>\n",
       "    </tr>\n",
       "    <tr>\n",
       "      <th>98</th>\n",
       "      <td>59</td>\n",
       "      <td>1</td>\n",
       "      <td>2006</td>\n",
       "      <td>7c+</td>\n",
       "    </tr>\n",
       "    <tr>\n",
       "      <th>99</th>\n",
       "      <td>59</td>\n",
       "      <td>1</td>\n",
       "      <td>2007</td>\n",
       "      <td>7c+</td>\n",
       "    </tr>\n",
       "  </tbody>\n",
       "</table>\n",
       "<p>100 rows × 4 columns</p>\n",
       "</div>"
      ],
      "text/plain": [
       "    MAX(a.grade_id)  bouldering  year grade\n",
       "0                49           0  1998    7a\n",
       "1                55           0  1999   7b+\n",
       "2                57           0  2000    7c\n",
       "3                62           0  2001    8a\n",
       "4                53           0  2002    7b\n",
       "..              ...         ...   ...   ...\n",
       "95               62           1  2003    8a\n",
       "96               59           1  2004   7c+\n",
       "97               62           1  2005    8a\n",
       "98               59           1  2006   7c+\n",
       "99               59           1  2007   7c+\n",
       "\n",
       "[100 rows x 4 columns]"
      ]
     },
     "execution_count": 42,
     "metadata": {},
     "output_type": "execute_result"
    }
   ],
   "source": [
    "queryToDataframe(\"\"\"\n",
    "SELECT \n",
    "    MAX(a.grade_id), a.climb_type AS bouldering, a.year, \n",
    "    g.fra_routes AS grade \n",
    "FROM ascent a, grade g\n",
    "WHERE a.grade_id = g.id\n",
    "GROUP BY user_id, bouldering, year\n",
    "LIMIT 100\n",
    "\"\"\")"
   ]
  },
  {
   "cell_type": "code",
   "execution_count": 158,
   "metadata": {},
   "outputs": [
    {
     "data": {
      "text/plain": [
       "0                        id\n",
       "1                     score\n",
       "2                fra_routes\n",
       "3          fra_routes_input\n",
       "4       fra_routes_selector\n",
       "5              fra_boulders\n",
       "6        fra_boulders_input\n",
       "7     fra_boulders_selector\n",
       "8                usa_routes\n",
       "9          usa_routes_input\n",
       "10      usa_routes_selector\n",
       "11             usa_boulders\n",
       "12       usa_boulders_input\n",
       "13    usa_boulders_selector\n",
       "Name: Column, dtype: object"
      ]
     },
     "execution_count": 158,
     "metadata": {},
     "output_type": "execute_result"
    }
   ],
   "source": [
    "column_info_dfs[\"grade\"][\"Column\"]"
   ]
  },
  {
   "cell_type": "code",
   "execution_count": 43,
   "metadata": {},
   "outputs": [
    {
     "data": {
      "text/html": [
       "<div>\n",
       "<style scoped>\n",
       "    .dataframe tbody tr th:only-of-type {\n",
       "        vertical-align: middle;\n",
       "    }\n",
       "\n",
       "    .dataframe tbody tr th {\n",
       "        vertical-align: top;\n",
       "    }\n",
       "\n",
       "    .dataframe thead th {\n",
       "        text-align: right;\n",
       "    }\n",
       "</style>\n",
       "<table border=\"1\" class=\"dataframe\">\n",
       "  <thead>\n",
       "    <tr style=\"text-align: right;\">\n",
       "      <th></th>\n",
       "      <th>first_name</th>\n",
       "      <th>sex</th>\n",
       "    </tr>\n",
       "  </thead>\n",
       "  <tbody>\n",
       "    <tr>\n",
       "      <th>0</th>\n",
       "      <td>Simeon</td>\n",
       "      <td>0</td>\n",
       "    </tr>\n",
       "    <tr>\n",
       "      <th>1</th>\n",
       "      <td>User</td>\n",
       "      <td>0</td>\n",
       "    </tr>\n",
       "    <tr>\n",
       "      <th>2</th>\n",
       "      <td>Ivan</td>\n",
       "      <td>0</td>\n",
       "    </tr>\n",
       "    <tr>\n",
       "      <th>3</th>\n",
       "      <td>Alfredo Polo</td>\n",
       "      <td>0</td>\n",
       "    </tr>\n",
       "    <tr>\n",
       "      <th>4</th>\n",
       "      <td>Mike</td>\n",
       "      <td>0</td>\n",
       "    </tr>\n",
       "    <tr>\n",
       "      <th>5</th>\n",
       "      <td>Protax</td>\n",
       "      <td>0</td>\n",
       "    </tr>\n",
       "    <tr>\n",
       "      <th>6</th>\n",
       "      <td>Leon</td>\n",
       "      <td>0</td>\n",
       "    </tr>\n",
       "    <tr>\n",
       "      <th>7</th>\n",
       "      <td>Natalia</td>\n",
       "      <td>1</td>\n",
       "    </tr>\n",
       "    <tr>\n",
       "      <th>8</th>\n",
       "      <td>Ronald</td>\n",
       "      <td>0</td>\n",
       "    </tr>\n",
       "    <tr>\n",
       "      <th>9</th>\n",
       "      <td>george</td>\n",
       "      <td>0</td>\n",
       "    </tr>\n",
       "    <tr>\n",
       "      <th>10</th>\n",
       "      <td>Teddy</td>\n",
       "      <td>0</td>\n",
       "    </tr>\n",
       "    <tr>\n",
       "      <th>11</th>\n",
       "      <td>Dusan</td>\n",
       "      <td>0</td>\n",
       "    </tr>\n",
       "    <tr>\n",
       "      <th>12</th>\n",
       "      <td>Simen</td>\n",
       "      <td>0</td>\n",
       "    </tr>\n",
       "    <tr>\n",
       "      <th>13</th>\n",
       "      <td>Taylor</td>\n",
       "      <td>0</td>\n",
       "    </tr>\n",
       "    <tr>\n",
       "      <th>14</th>\n",
       "      <td>Sergio</td>\n",
       "      <td>0</td>\n",
       "    </tr>\n",
       "    <tr>\n",
       "      <th>15</th>\n",
       "      <td>Deivid</td>\n",
       "      <td>0</td>\n",
       "    </tr>\n",
       "    <tr>\n",
       "      <th>16</th>\n",
       "      <td>?</td>\n",
       "      <td>0</td>\n",
       "    </tr>\n",
       "    <tr>\n",
       "      <th>17</th>\n",
       "      <td>Chema</td>\n",
       "      <td>0</td>\n",
       "    </tr>\n",
       "    <tr>\n",
       "      <th>18</th>\n",
       "      <td>Isaac</td>\n",
       "      <td>0</td>\n",
       "    </tr>\n",
       "    <tr>\n",
       "      <th>19</th>\n",
       "      <td>Fabrizio</td>\n",
       "      <td>0</td>\n",
       "    </tr>\n",
       "  </tbody>\n",
       "</table>\n",
       "</div>"
      ],
      "text/plain": [
       "      first_name  sex\n",
       "0         Simeon    0\n",
       "1           User    0\n",
       "2           Ivan    0\n",
       "3   Alfredo Polo    0\n",
       "4           Mike    0\n",
       "5         Protax    0\n",
       "6           Leon    0\n",
       "7        Natalia    1\n",
       "8         Ronald    0\n",
       "9         george    0\n",
       "10         Teddy    0\n",
       "11         Dusan    0\n",
       "12         Simen    0\n",
       "13        Taylor    0\n",
       "14        Sergio    0\n",
       "15        Deivid    0\n",
       "16             ?    0\n",
       "17         Chema    0\n",
       "18         Isaac    0\n",
       "19      Fabrizio    0"
      ]
     },
     "execution_count": 43,
     "metadata": {},
     "output_type": "execute_result"
    }
   ],
   "source": [
    "queryToDataframe(\"\"\"\n",
    "SELECT first_name, sex\n",
    "FROM user\n",
    "ORDER BY RANDOM()\n",
    "LIMIT 20\n",
    "\"\"\")"
   ]
  },
  {
   "cell_type": "code",
   "execution_count": null,
   "metadata": {},
   "outputs": [],
   "source": []
  },
  {
   "cell_type": "code",
   "execution_count": null,
   "metadata": {},
   "outputs": [],
   "source": []
  },
  {
   "cell_type": "code",
   "execution_count": null,
   "metadata": {},
   "outputs": [],
   "source": []
  }
 ],
 "metadata": {
  "history": [
   {
    "code": "#Look at all of the tables within the sqlite databes\ndef db_names(): \n    c.execute(\"SELECT NAME FROM SQLITE_MASTER WHERE type= 'table';\")\n    for row in c.fetchall():\n        print(row)#[0])\n    \ndb_names()\n    \n#There are 4 tables 1) User 2) Method 3) Grade 4) Ascent",
    "id": "34a76614916f4d788b73dbfc4c80a2c6",
    "idx": 4,
    "time": "2021-01-17T21:34:31.299Z",
    "type": "execution"
   },
   {
    "id": "34a76614916f4d788b73dbfc4c80a2c6",
    "time": "2021-01-17T21:34:31.443Z",
    "type": "completion"
   },
   {
    "code": "import sqlite3\nimport pandas as pd\nimport matplotlib.pyplot as plt",
    "id": "779c8404e6ce45eb82e00e9c28cc9ca0",
    "idx": 1,
    "time": "2021-01-17T21:34:39.531Z",
    "type": "execution"
   },
   {
    "code": "#Make a connection\ncon = sqlite3.connect('database.sqlite')\n\n#Make a cursor instance\nc = con.cursor()",
    "id": "24443add292d4eac8eadfb5f9299bbe8",
    "idx": 3,
    "time": "2021-01-17T21:34:40.109Z",
    "type": "execution"
   },
   {
    "code": "#Look at all of the tables within the sqlite databes\ndef db_names(): \n    c.execute(\"SELECT NAME FROM SQLITE_MASTER WHERE type= 'table';\")\n    for row in c.fetchall():\n        print(row)#[0])\n    \ndb_names()\n    \n#There are 4 tables 1) User 2) Method 3) Grade 4) Ascent",
    "id": "34a76614916f4d788b73dbfc4c80a2c6",
    "idx": 4,
    "time": "2021-01-17T21:34:40.575Z",
    "type": "execution"
   },
   {
    "id": "779c8404e6ce45eb82e00e9c28cc9ca0",
    "time": "2021-01-17T21:34:43.041Z",
    "type": "completion"
   },
   {
    "id": "24443add292d4eac8eadfb5f9299bbe8",
    "time": "2021-01-17T21:34:43.043Z",
    "type": "completion"
   },
   {
    "id": "34a76614916f4d788b73dbfc4c80a2c6",
    "time": "2021-01-17T21:34:43.045Z",
    "type": "completion"
   },
   {
    "code": "#Look at all of the tables within the sqlite databes\ndef db_names():\n    query = \"\"\"\n    SELECT NAME \n    FROM SQLITE_MASTER \n    WHERE type= 'table';\n    \"\"\"\n    c.execute(query)\n    for row in c.fetchall():\n        print(row)\n    \ndb_names()\n    \n#There are 4 tables 1) User 2) Method 3) Grade 4) Ascent",
    "id": "34a76614916f4d788b73dbfc4c80a2c6",
    "idx": 5,
    "time": "2021-01-17T21:40:04.108Z",
    "type": "execution"
   },
   {
    "id": "34a76614916f4d788b73dbfc4c80a2c6",
    "time": "2021-01-17T21:40:04.176Z",
    "type": "completion"
   },
   {
    "code": "#Look at all of the tables within the sqlite databes\ndef db_names():\n    query = \"\"\"\n    SELECT NAME \n    FROM SQLITE_MASTER \n    WHERE type= 'table';\n    \"\"\"\n    c.execute(query)\n    for row in c.fetchall():\n        print(row)\n    \ndb_names()",
    "id": "34a76614916f4d788b73dbfc4c80a2c6",
    "idx": 5,
    "time": "2021-01-17T21:40:13.096Z",
    "type": "execution"
   },
   {
    "id": "34a76614916f4d788b73dbfc4c80a2c6",
    "time": "2021-01-17T21:40:13.171Z",
    "type": "completion"
   },
   {
    "code": "def headers():\n    headers = [i[0] for i in cursor.description]\n    print(headers)",
    "id": "bcb7a92df9ac4366beb5895f3fa35840",
    "idx": 7,
    "time": "2021-01-17T21:44:36.082Z",
    "type": "execution"
   },
   {
    "id": "bcb7a92df9ac4366beb5895f3fa35840",
    "time": "2021-01-17T21:44:36.148Z",
    "type": "completion"
   },
   {
    "code": "#Look at all of the tables within the sqlite databes\ndef db_names():\n    query = \"\"\"\n    SELECT NAME \n    FROM SQLITE_MASTER \n    WHERE type= 'table';\n    \"\"\"\n    c.execute(query)\n    for row in c.fetchall():\n        print(row)\n    headers = [i[0] for i in c.description]\n    print(headers)\n    \ndb_names()",
    "id": "34a76614916f4d788b73dbfc4c80a2c6",
    "idx": 5,
    "time": "2021-01-17T21:44:59.861Z",
    "type": "execution"
   },
   {
    "id": "34a76614916f4d788b73dbfc4c80a2c6",
    "time": "2021-01-17T21:44:59.924Z",
    "type": "completion"
   },
   {
    "code": "def headers():\n    headers = [i[0] for i in c.description]\n    print(headers)",
    "id": "bcb7a92df9ac4366beb5895f3fa35840",
    "idx": 7,
    "time": "2021-01-17T21:45:40.207Z",
    "type": "execution"
   },
   {
    "id": "bcb7a92df9ac4366beb5895f3fa35840",
    "time": "2021-01-17T21:45:40.276Z",
    "type": "completion"
   },
   {
    "code": "def headers():\n    headers = [i[0] for i in c.description]\n    return print(headers)",
    "id": "bcb7a92df9ac4366beb5895f3fa35840",
    "idx": 7,
    "time": "2021-01-17T21:45:45.336Z",
    "type": "execution"
   },
   {
    "id": "bcb7a92df9ac4366beb5895f3fa35840",
    "time": "2021-01-17T21:45:45.398Z",
    "type": "completion"
   },
   {
    "code": "headers()",
    "id": "ffa00f1449d74700956c63e19c1a774c",
    "idx": 8,
    "time": "2021-01-17T21:45:48.551Z",
    "type": "execution"
   },
   {
    "id": "ffa00f1449d74700956c63e19c1a774c",
    "time": "2021-01-17T21:45:48.613Z",
    "type": "completion"
   },
   {
    "code": "#Look at all of the tables within the sqlite databes\ndef db_names():\n    query = \"\"\"\n    SELECT NAME \n    FROM SQLITE_MASTER \n    WHERE type= 'table';\n    \"\"\"\n    c.execute(query)\n    for row in c.fetchall():\n        print(row[0])\n    \ndb_names()",
    "id": "34a76614916f4d788b73dbfc4c80a2c6",
    "idx": 5,
    "time": "2021-01-17T21:47:19.186Z",
    "type": "execution"
   },
   {
    "id": "34a76614916f4d788b73dbfc4c80a2c6",
    "time": "2021-01-17T21:47:19.297Z",
    "type": "completion"
   },
   {
    "code": "#Look at all of the tables within the sqlite databes\ndef db_names():\n    query = \"\"\"\n    SELECT NAME \n    FROM SQLITE_MASTER \n    WHERE type= 'table';\n    \"\"\"\n    c.execute(query)\n    \n    tables = []\n    for row in c.fetchall():\n        tables.append(row[0])\n    \n    return tables\n    \ndb_names()",
    "id": "34a76614916f4d788b73dbfc4c80a2c6",
    "idx": 5,
    "time": "2021-01-17T21:49:27.797Z",
    "type": "execution"
   },
   {
    "id": "34a76614916f4d788b73dbfc4c80a2c6",
    "time": "2021-01-17T21:49:27.892Z",
    "type": "completion"
   },
   {
    "code": "#Look at all of the tables within the sqlite databes\ndef table_names():\n    query = \"\"\"\n    SELECT NAME \n    FROM SQLITE_MASTER \n    WHERE type= 'table';\n    \"\"\"\n    c.execute(query)\n    \n    tables = []\n    for row in c.fetchall():\n        tables.append(row[0])\n    \n    return tables\n    \ntable_names()",
    "id": "34a76614916f4d788b73dbfc4c80a2c6",
    "idx": 5,
    "time": "2021-01-17T21:50:38.174Z",
    "type": "execution"
   },
   {
    "id": "34a76614916f4d788b73dbfc4c80a2c6",
    "time": "2021-01-17T21:50:38.241Z",
    "type": "completion"
   },
   {
    "code": "c.execute(\"\"\"PRAGMA table_info(user)\"\"\")",
    "id": "ffa00f1449d74700956c63e19c1a774c",
    "idx": 8,
    "time": "2021-01-17T21:51:56.520Z",
    "type": "execution"
   },
   {
    "id": "ffa00f1449d74700956c63e19c1a774c",
    "time": "2021-01-17T21:51:56.582Z",
    "type": "completion"
   },
   {
    "code": "for i in c.execute(\"\"\"PRAGMA table_info(user)\"\"\"):\n    print i",
    "id": "ffa00f1449d74700956c63e19c1a774c",
    "idx": 8,
    "time": "2021-01-17T21:52:17.626Z",
    "type": "execution"
   },
   {
    "id": "ffa00f1449d74700956c63e19c1a774c",
    "time": "2021-01-17T21:52:17.705Z",
    "type": "completion"
   },
   {
    "code": "for i in c.execute(\"\"\"PRAGMA table_info(user)\"\"\"):\n    print(i)",
    "id": "ffa00f1449d74700956c63e19c1a774c",
    "idx": 8,
    "time": "2021-01-17T21:52:23.475Z",
    "type": "execution"
   },
   {
    "id": "ffa00f1449d74700956c63e19c1a774c",
    "time": "2021-01-17T21:52:23.540Z",
    "type": "completion"
   },
   {
    "code": "if 0:\n    print()",
    "id": "c4ad5f04b3f74bb283d40f45ff38e10f",
    "idx": 9,
    "time": "2021-01-17T22:05:52.063Z",
    "type": "execution"
   },
   {
    "id": "c4ad5f04b3f74bb283d40f45ff38e10f",
    "time": "2021-01-17T22:05:52.130Z",
    "type": "completion"
   },
   {
    "code": "if 0:\n    print(\"True\")",
    "id": "c4ad5f04b3f74bb283d40f45ff38e10f",
    "idx": 9,
    "time": "2021-01-17T22:05:56.621Z",
    "type": "execution"
   },
   {
    "id": "c4ad5f04b3f74bb283d40f45ff38e10f",
    "time": "2021-01-17T22:05:56.700Z",
    "type": "completion"
   },
   {
    "code": "if 1:\n    print(\"True\")",
    "id": "c4ad5f04b3f74bb283d40f45ff38e10f",
    "idx": 9,
    "time": "2021-01-17T22:06:00.458Z",
    "type": "execution"
   },
   {
    "id": "c4ad5f04b3f74bb283d40f45ff38e10f",
    "time": "2021-01-17T22:06:00.538Z",
    "type": "completion"
   },
   {
    "code": "a = [1,2,3]\nb = [1,3,3]\n\npd.DataFrame(a,b)",
    "id": "c4ad5f04b3f74bb283d40f45ff38e10f",
    "idx": 9,
    "time": "2021-01-17T22:09:04.128Z",
    "type": "execution"
   },
   {
    "id": "c4ad5f04b3f74bb283d40f45ff38e10f",
    "time": "2021-01-17T22:09:04.232Z",
    "type": "completion"
   },
   {
    "code": "a = [1,2,3]\nb = [1,3,3]\n\npd.DataFrame(a,b,a)",
    "id": "c4ad5f04b3f74bb283d40f45ff38e10f",
    "idx": 9,
    "time": "2021-01-17T22:09:20.360Z",
    "type": "execution"
   },
   {
    "id": "c4ad5f04b3f74bb283d40f45ff38e10f",
    "time": "2021-01-17T22:09:20.538Z",
    "type": "completion"
   },
   {
    "code": "a = [1,2,3]\nb = [1,3,3]\n\npd.DataFrame(a,b)",
    "id": "c4ad5f04b3f74bb283d40f45ff38e10f",
    "idx": 9,
    "time": "2021-01-17T22:09:24.514Z",
    "type": "execution"
   },
   {
    "id": "c4ad5f04b3f74bb283d40f45ff38e10f",
    "time": "2021-01-17T22:09:24.603Z",
    "type": "completion"
   },
   {
    "code": "a = [1,2,3]\nb = [1,3,3]\n\npd.DataFrame({{a}: a,\n              {b}: b})",
    "id": "c4ad5f04b3f74bb283d40f45ff38e10f",
    "idx": 9,
    "time": "2021-01-17T22:09:58.690Z",
    "type": "execution"
   },
   {
    "id": "c4ad5f04b3f74bb283d40f45ff38e10f",
    "time": "2021-01-17T22:09:58.754Z",
    "type": "completion"
   },
   {
    "code": "a = [1,2,3]\nb = [1,3,3]\n\npd.DataFrame({f\"{a}\": a,\n              f\"{b}\": b})",
    "id": "c4ad5f04b3f74bb283d40f45ff38e10f",
    "idx": 9,
    "time": "2021-01-17T22:10:56.135Z",
    "type": "execution"
   },
   {
    "id": "c4ad5f04b3f74bb283d40f45ff38e10f",
    "time": "2021-01-17T22:10:56.211Z",
    "type": "completion"
   },
   {
    "code": "a = [1,2,3]\nb = [1,3,3]\n\npd.DataFrame({eval(a)\": a,\n              eval(b): b})",
    "id": "c4ad5f04b3f74bb283d40f45ff38e10f",
    "idx": 9,
    "time": "2021-01-17T22:12:02.081Z",
    "type": "execution"
   },
   {
    "id": "c4ad5f04b3f74bb283d40f45ff38e10f",
    "time": "2021-01-17T22:12:02.146Z",
    "type": "completion"
   },
   {
    "code": "a = [1,2,3]\nb = [1,3,3]\n\npd.DataFrame({eval(a): a,\n              eval(b): b})",
    "id": "c4ad5f04b3f74bb283d40f45ff38e10f",
    "idx": 9,
    "time": "2021-01-17T22:12:06.289Z",
    "type": "execution"
   },
   {
    "id": "c4ad5f04b3f74bb283d40f45ff38e10f",
    "time": "2021-01-17T22:12:06.354Z",
    "type": "completion"
   },
   {
    "code": "#Look at all of the tables within the sqlite databes\ndef table_names():\n    query = \"\"\"\n    SELECT NAME \n    FROM SQLITE_MASTER \n    WHERE type= 'table';\n    \"\"\"\n    c.execute(query)\n    \n    tables = []\n    for row in c.fetchall():\n        tables.append(row[0])\n    \n    return tables\n    \ntable_names()",
    "id": "34a76614916f4d788b73dbfc4c80a2c6",
    "idx": 5,
    "time": "2021-01-17T22:14:54.929Z",
    "type": "execution"
   },
   {
    "id": "34a76614916f4d788b73dbfc4c80a2c6",
    "time": "2021-01-17T22:14:54.995Z",
    "type": "completion"
   },
   {
    "code": "def col_names():\n    tables = table_names()\n    \n    for table in tables:\n        print(f\"{table} table contains the following columns:\")\n        print(\".............\")\n        \n        query = f\"\"\"\n        PRAGMA table_info({table})\n        \"\"\"\n        c.execute(query)\n        \n        Column = []\n        Type = []\n        Not_Null = []\n        Primary_Key = []\n        \n        for row in c:\n            Column.append(row[1])\n            Type.append(row[2])\n            Not_Null.append(row[3])\n            if row[0]:\n                Primary_Key.append(\"YES\")\n            else:\n                Primary_Key.append(\"NO\")\n            \n            df = pd.DataFrame({\"Column\" = Column,\n                              \"Type\" = Type,\n                              \"Not_Null\" = Not_Null,\n                              \"Primary_Key\" = Primary_Key})\n            return df",
    "id": "bcb7a92df9ac4366beb5895f3fa35840",
    "idx": 7,
    "time": "2021-01-17T22:15:28.610Z",
    "type": "execution"
   },
   {
    "id": "bcb7a92df9ac4366beb5895f3fa35840",
    "time": "2021-01-17T22:15:28.671Z",
    "type": "completion"
   },
   {
    "code": "def col_names():\n    tables = table_names()\n    \n    for table in tables:\n        print(f\"{table} table contains the following columns:\")\n        print(\".............\")\n        \n        query = f\"\"\"\n        PRAGMA table_info({table})\n        \"\"\"\n        c.execute(query)\n        \n        Column = []\n        Type = []\n        Not_Null = []\n        Primary_Key = []\n        \n        for row in c:\n            Column.append(row[1])\n            Type.append(row[2])\n            Not_Null.append(row[3])\n            if row[0]:\n                Primary_Key.append(\"YES\")\n            else:\n                Primary_Key.append(\"NO\")\n            \n            df = pd.DataFrame({\"Column\" : Column,\n                              \"Type\" : Type,\n                              \"Not_Null\" :\" Not_Null,\n                              \"Primary_Key\" : Primary_Key})\n            return df",
    "id": "bcb7a92df9ac4366beb5895f3fa35840",
    "idx": 7,
    "time": "2021-01-17T22:15:51.786Z",
    "type": "execution"
   },
   {
    "id": "bcb7a92df9ac4366beb5895f3fa35840",
    "time": "2021-01-17T22:15:51.852Z",
    "type": "completion"
   },
   {
    "code": "def col_names():\n    tables = table_names()\n    \n    for table in tables:\n        print(f\"{table} table contains the following columns:\")\n        print(\".............\")\n        \n        query = f\"\"\"\n        PRAGMA table_info({table})\n        \"\"\"\n        c.execute(query)\n        \n        Column = []\n        Type = []\n        Not_Null = []\n        Primary_Key = []\n        \n        for row in c:\n            Column.append(row[1])\n            Type.append(row[2])\n            Not_Null.append(row[3])\n            if row[0]:\n                Primary_Key.append(\"YES\")\n            else:\n                Primary_Key.append(\"NO\")\n            \n            df = pd.DataFrame({\"Column\" : Column,\n                              \"Type\" : Type,\n                              \"Not_Null\" : Not_Null,\n                              \"Primary_Key\" : Primary_Key})\n            return df",
    "id": "bcb7a92df9ac4366beb5895f3fa35840",
    "idx": 7,
    "time": "2021-01-17T22:16:00.090Z",
    "type": "execution"
   },
   {
    "id": "bcb7a92df9ac4366beb5895f3fa35840",
    "time": "2021-01-17T22:16:00.156Z",
    "type": "completion"
   },
   {
    "code": "col_names()",
    "id": "ffa00f1449d74700956c63e19c1a774c",
    "idx": 8,
    "time": "2021-01-17T22:16:05.330Z",
    "type": "execution"
   },
   {
    "id": "ffa00f1449d74700956c63e19c1a774c",
    "time": "2021-01-17T22:16:05.424Z",
    "type": "completion"
   },
   {
    "code": "def col_names():\n    tables = table_names()\n    \n    for table in tables:\n        print(f\"{table} table contains the following columns:\")\n        print(\".............\")\n        \n        query = f\"\"\"\n        PRAGMA table_info({table})\n        \"\"\"\n        c.execute(query)\n        \n        Column = []\n        Type = []\n        Not_Null = []\n        Primary_Key = []\n        \n        for row in c:\n            Column.append(row[1])\n            Type.append(row[2])\n            Not_Null.append(row[3])\n            if row[0]:\n                Primary_Key.append(\"YES\")\n            else:\n                Primary_Key.append(\"NO\")\n            \n        df = pd.DataFrame({\"Column\" : Column,\n                          \"Type\" : Type,\n                          \"Not_Null\" : Not_Null,\n                          \"Primary_Key\" : Primary_Key})\n        return df",
    "id": "bcb7a92df9ac4366beb5895f3fa35840",
    "idx": 7,
    "time": "2021-01-17T22:16:51.100Z",
    "type": "execution"
   },
   {
    "id": "bcb7a92df9ac4366beb5895f3fa35840",
    "time": "2021-01-17T22:16:51.163Z",
    "type": "completion"
   },
   {
    "code": "col_names()",
    "id": "ffa00f1449d74700956c63e19c1a774c",
    "idx": 8,
    "time": "2021-01-17T22:16:51.534Z",
    "type": "execution"
   },
   {
    "id": "ffa00f1449d74700956c63e19c1a774c",
    "time": "2021-01-17T22:16:51.649Z",
    "type": "completion"
   },
   {
    "code": "def col_names():\n    tables = table_names()\n    \n    for table in tables:\n        #print(f\"{table} table contains the following columns:\")\n        #print(\".............\")\n        \n        query = f\"\"\"\n        PRAGMA table_info({table})\n        \"\"\"\n        c.execute(query)\n        \n        Column = []\n        Type = []\n        Not_Null = []\n        Primary_Key = []\n        \n        for row in c:\n            Column.append(row[1])\n            Type.append(row[2])\n            Not_Null.append(row[3])\n            if row[0]:\n                Primary_Key.append(\"YES\")\n            else:\n                Primary_Key.append(\"NO\")\n            \n        df = pd.DataFrame({\"Column\" : Column,\n                          \"Type\" : Type,\n                          \"Not_Null\" : Not_Null,\n                          \"Primary_Key\" : Primary_Key})\n        return df",
    "id": "bcb7a92df9ac4366beb5895f3fa35840",
    "idx": 7,
    "time": "2021-01-17T22:19:53.822Z",
    "type": "execution"
   },
   {
    "id": "bcb7a92df9ac4366beb5895f3fa35840",
    "time": "2021-01-17T22:19:53.880Z",
    "type": "completion"
   },
   {
    "code": "user, method, grade, ascent = col_names()",
    "id": "ffa00f1449d74700956c63e19c1a774c",
    "idx": 8,
    "time": "2021-01-17T22:20:06.478Z",
    "type": "execution"
   },
   {
    "id": "ffa00f1449d74700956c63e19c1a774c",
    "time": "2021-01-17T22:20:06.547Z",
    "type": "completion"
   },
   {
    "code": "user",
    "id": "cbf570503a3a4adca612234db923691d",
    "idx": 9,
    "time": "2021-01-17T22:20:10.853Z",
    "type": "execution"
   },
   {
    "id": "cbf570503a3a4adca612234db923691d",
    "time": "2021-01-17T22:20:10.914Z",
    "type": "completion"
   },
   {
    "code": "def col_names():\n    #Get table names\n    tables = table_names()\n    \n    #Initialize dataframes for each table\n    dfs = {}\n\n    for table in tables:\n        #d[table] = pd.DataFrame()\n        \n        query = f\"\"\"\n        PRAGMA table_info({table})\n        \"\"\"\n        c.execute(query)\n        \n        Column = []\n        Type = []\n        Not_Null = []\n        Primary_Key = []\n        \n        for row in c:\n            Column.append(row[1])\n            Type.append(row[2])\n            Not_Null.append(row[3])\n            if row[0]:\n                Primary_Key.append(\"YES\")\n            else:\n                Primary_Key.append(\"NO\")\n            \n        df[table] = pd.DataFrame({\"Column\" : Column,\n                          \"Type\" : Type,\n                          \"Not_Null\" : Not_Null,\n                          \"Primary_Key\" : Primary_Key})\n    return dfs ",
    "id": "bcb7a92df9ac4366beb5895f3fa35840",
    "idx": 7,
    "time": "2021-01-17T22:25:51.796Z",
    "type": "execution"
   },
   {
    "id": "bcb7a92df9ac4366beb5895f3fa35840",
    "time": "2021-01-17T22:25:51.865Z",
    "type": "completion"
   },
   {
    "code": "user, method, grade, ascent = col_names()",
    "id": "ffa00f1449d74700956c63e19c1a774c",
    "idx": 8,
    "time": "2021-01-17T22:25:53.239Z",
    "type": "execution"
   },
   {
    "id": "ffa00f1449d74700956c63e19c1a774c",
    "time": "2021-01-17T22:25:53.319Z",
    "type": "completion"
   },
   {
    "code": "def col_names():\n    #Get table names\n    tables = table_names()\n    \n    #Initialize dataframes for each table\n    dfs = {}\n\n    for table in tables:\n        #d[table] = pd.DataFrame()\n        \n        query = f\"\"\"\n        PRAGMA table_info({table})\n        \"\"\"\n        c.execute(query)\n        \n        Column = []\n        Type = []\n        Not_Null = []\n        Primary_Key = []\n        \n        for row in c:\n            Column.append(row[1])\n            Type.append(row[2])\n            Not_Null.append(row[3])\n            if row[0]:\n                Primary_Key.append(\"YES\")\n            else:\n                Primary_Key.append(\"NO\")\n            \n        dfs[table] = pd.DataFrame({\"Column\" : Column,\n                          \"Type\" : Type,\n                          \"Not_Null\" : Not_Null,\n                          \"Primary_Key\" : Primary_Key})\n    return dfs ",
    "id": "bcb7a92df9ac4366beb5895f3fa35840",
    "idx": 7,
    "time": "2021-01-17T22:26:05.684Z",
    "type": "execution"
   },
   {
    "id": "bcb7a92df9ac4366beb5895f3fa35840",
    "time": "2021-01-17T22:26:05.769Z",
    "type": "completion"
   },
   {
    "code": "user, method, grade, ascent = col_names()",
    "id": "ffa00f1449d74700956c63e19c1a774c",
    "idx": 8,
    "time": "2021-01-17T22:26:06.222Z",
    "type": "execution"
   },
   {
    "id": "ffa00f1449d74700956c63e19c1a774c",
    "time": "2021-01-17T22:26:06.294Z",
    "type": "completion"
   },
   {
    "code": "user",
    "id": "cbf570503a3a4adca612234db923691d",
    "idx": 9,
    "time": "2021-01-17T22:26:07.392Z",
    "type": "execution"
   },
   {
    "id": "cbf570503a3a4adca612234db923691d",
    "time": "2021-01-17T22:26:07.474Z",
    "type": "completion"
   },
   {
    "code": "col_names()",
    "id": "ffa00f1449d74700956c63e19c1a774c",
    "idx": 8,
    "time": "2021-01-17T22:26:15.628Z",
    "type": "execution"
   },
   {
    "id": "ffa00f1449d74700956c63e19c1a774c",
    "time": "2021-01-17T22:26:15.730Z",
    "type": "completion"
   },
   {
    "code": "col_names()[0]",
    "id": "ffa00f1449d74700956c63e19c1a774c",
    "idx": 8,
    "time": "2021-01-17T22:26:37.588Z",
    "type": "execution"
   },
   {
    "id": "ffa00f1449d74700956c63e19c1a774c",
    "time": "2021-01-17T22:26:37.674Z",
    "type": "completion"
   },
   {
    "code": "col_names()",
    "id": "ffa00f1449d74700956c63e19c1a774c",
    "idx": 8,
    "time": "2021-01-17T22:26:42.178Z",
    "type": "execution"
   },
   {
    "id": "ffa00f1449d74700956c63e19c1a774c",
    "time": "2021-01-17T22:26:42.265Z",
    "type": "completion"
   },
   {
    "code": "col_names(\"user\")",
    "id": "ffa00f1449d74700956c63e19c1a774c",
    "idx": 8,
    "time": "2021-01-17T22:26:59.211Z",
    "type": "execution"
   },
   {
    "id": "ffa00f1449d74700956c63e19c1a774c",
    "time": "2021-01-17T22:26:59.273Z",
    "type": "completion"
   },
   {
    "code": "col_names()[\"user\"]",
    "id": "ffa00f1449d74700956c63e19c1a774c",
    "idx": 8,
    "time": "2021-01-17T22:27:23.667Z",
    "type": "execution"
   },
   {
    "id": "ffa00f1449d74700956c63e19c1a774c",
    "time": "2021-01-17T22:27:24.033Z",
    "type": "completion"
   },
   {
    "code": "def col_info():\n    #Get table names\n    tables = table_names()\n    \n    #Initialize dataframes for each table\n    dfs = {}\n\n    for table in tables:\n        #d[table] = pd.DataFrame()\n        \n        query = f\"\"\"\n        PRAGMA table_info({table})\n        \"\"\"\n        c.execute(query)\n        \n        Column = []\n        Type = []\n        Not_Null = []\n        Primary_Key = []\n        \n        for row in c:\n            Column.append(row[1])\n            Type.append(row[2])\n            Not_Null.append(row[3])\n            if row[0]:\n                Primary_Key.append(\"YES\")\n            else:\n                Primary_Key.append(\"NO\")\n            \n        dfs[table] = pd.DataFrame({\"Column\" : Column,\n                          \"Type\" : Type,\n                          \"Not_Null\" : Not_Null,\n                          \"Primary_Key\" : Primary_Key})\n    return dfs ",
    "id": "bcb7a92df9ac4366beb5895f3fa35840",
    "idx": 7,
    "time": "2021-01-17T22:27:40.406Z",
    "type": "execution"
   },
   {
    "id": "bcb7a92df9ac4366beb5895f3fa35840",
    "time": "2021-01-17T22:27:40.465Z",
    "type": "completion"
   },
   {
    "code": "columninfo = column_info()",
    "id": "ffa00f1449d74700956c63e19c1a774c",
    "idx": 8,
    "time": "2021-01-17T22:28:13.006Z",
    "type": "execution"
   },
   {
    "id": "ffa00f1449d74700956c63e19c1a774c",
    "time": "2021-01-17T22:28:13.080Z",
    "type": "completion"
   },
   {
    "code": "columninfo = col_info()",
    "id": "ffa00f1449d74700956c63e19c1a774c",
    "idx": 8,
    "time": "2021-01-17T22:28:21.423Z",
    "type": "execution"
   },
   {
    "id": "ffa00f1449d74700956c63e19c1a774c",
    "time": "2021-01-17T22:28:21.495Z",
    "type": "completion"
   },
   {
    "code": "columninfo[\"user\"]",
    "id": "cbf570503a3a4adca612234db923691d",
    "idx": 9,
    "time": "2021-01-17T22:28:33.912Z",
    "type": "execution"
   },
   {
    "id": "cbf570503a3a4adca612234db923691d",
    "time": "2021-01-17T22:28:33.981Z",
    "type": "completion"
   },
   {
    "code": "column_info_ds = col_info()",
    "id": "ffa00f1449d74700956c63e19c1a774c",
    "idx": 8,
    "time": "2021-01-17T22:47:01.847Z",
    "type": "execution"
   },
   {
    "id": "ffa00f1449d74700956c63e19c1a774c",
    "time": "2021-01-17T22:47:01.924Z",
    "type": "completion"
   },
   {
    "code": "column_info_dfs = col_info()",
    "id": "ffa00f1449d74700956c63e19c1a774c",
    "idx": 8,
    "time": "2021-01-17T22:47:12.152Z",
    "type": "execution"
   },
   {
    "id": "ffa00f1449d74700956c63e19c1a774c",
    "time": "2021-01-17T22:47:12.230Z",
    "type": "completion"
   },
   {
    "code": "def col_info():\n    #Get table names\n    tables = table_names()\n    \n    #Initialize dataframes for each table\n    dfs = {}\n\n    for table in tables:\n        #d[table] = pd.DataFrame()\n        \n        query = f\"\"\"\n        PRAGMA table_info({table})\n        \"\"\"\n        c.execute(query)\n        \n        Column = []\n        Type = []\n        Not_Null = []\n        Primary_Key = []\n        \n        for row in c:\n            Column.append(row[1])\n            Type.append(row[2])\n            Not_Null.append(row[3])\n            if row[4]:\n                Primary_Key.append(\"YES\")\n            else:\n                Primary_Key.append(\"NO\")\n            \n        dfs[table] = pd.DataFrame({\"Column\" : Column,\n                          \"Type\" : Type,\n                          \"Not_Null\" : Not_Null,\n                          \"Primary_Key\" : Primary_Key})\n    return dfs ",
    "id": "bcb7a92df9ac4366beb5895f3fa35840",
    "idx": 7,
    "time": "2021-01-17T22:49:18.784Z",
    "type": "execution"
   },
   {
    "id": "bcb7a92df9ac4366beb5895f3fa35840",
    "time": "2021-01-17T22:49:18.855Z",
    "type": "completion"
   },
   {
    "code": "column_info_dfs = col_info()",
    "id": "ffa00f1449d74700956c63e19c1a774c",
    "idx": 8,
    "time": "2021-01-17T22:49:19.141Z",
    "type": "execution"
   },
   {
    "id": "ffa00f1449d74700956c63e19c1a774c",
    "time": "2021-01-17T22:49:19.216Z",
    "type": "completion"
   },
   {
    "code": "for i in column_info_dfs:\n    ",
    "id": "cbf570503a3a4adca612234db923691d",
    "idx": 9,
    "time": "2021-01-17T22:49:20.764Z",
    "type": "execution"
   },
   {
    "id": "cbf570503a3a4adca612234db923691d",
    "time": "2021-01-17T22:49:20.822Z",
    "type": "completion"
   },
   {
    "code": "for i in column_info_dfs:\n    column_info_dfs[i]",
    "id": "cbf570503a3a4adca612234db923691d",
    "idx": 9,
    "time": "2021-01-17T22:49:31.451Z",
    "type": "execution"
   },
   {
    "id": "cbf570503a3a4adca612234db923691d",
    "time": "2021-01-17T22:49:31.508Z",
    "type": "completion"
   },
   {
    "code": "for key in column_info_dfs.keys():\n    column_info_dfs[key]",
    "id": "cbf570503a3a4adca612234db923691d",
    "idx": 9,
    "time": "2021-01-17T22:49:55.954Z",
    "type": "execution"
   },
   {
    "id": "cbf570503a3a4adca612234db923691d",
    "time": "2021-01-17T22:49:56.013Z",
    "type": "completion"
   },
   {
    "code": "column_info_dfs.keys()",
    "id": "b8c50729a07a41749ef19e1b35b7614f",
    "idx": 9,
    "time": "2021-01-17T22:50:31.120Z",
    "type": "execution"
   },
   {
    "id": "b8c50729a07a41749ef19e1b35b7614f",
    "time": "2021-01-17T22:50:31.198Z",
    "type": "completion"
   },
   {
    "code": "column_info_dfs.keys()[1]",
    "id": "b8c50729a07a41749ef19e1b35b7614f",
    "idx": 9,
    "time": "2021-01-17T22:50:54.003Z",
    "type": "execution"
   },
   {
    "id": "b8c50729a07a41749ef19e1b35b7614f",
    "time": "2021-01-17T22:50:54.070Z",
    "type": "completion"
   },
   {
    "code": "column_info_dfs.keys()",
    "id": "b8c50729a07a41749ef19e1b35b7614f",
    "idx": 9,
    "time": "2021-01-17T22:50:57.761Z",
    "type": "execution"
   },
   {
    "id": "b8c50729a07a41749ef19e1b35b7614f",
    "time": "2021-01-17T22:50:57.818Z",
    "type": "completion"
   },
   {
    "code": "column_info_dfs.keys().values",
    "id": "b8c50729a07a41749ef19e1b35b7614f",
    "idx": 9,
    "time": "2021-01-17T22:51:02.352Z",
    "type": "execution"
   },
   {
    "id": "b8c50729a07a41749ef19e1b35b7614f",
    "time": "2021-01-17T22:51:02.428Z",
    "type": "completion"
   },
   {
    "code": "for key in list(column_info_dfs.keys()):\n    column_info_dfs[key]",
    "id": "cbf570503a3a4adca612234db923691d",
    "idx": 10,
    "time": "2021-01-17T22:52:01.079Z",
    "type": "execution"
   },
   {
    "id": "cbf570503a3a4adca612234db923691d",
    "time": "2021-01-17T22:52:01.143Z",
    "type": "completion"
   },
   {
    "code": "for key in list(column_info_dfs.keys()):\n    print(key)",
    "id": "cbf570503a3a4adca612234db923691d",
    "idx": 10,
    "time": "2021-01-17T22:52:13.157Z",
    "type": "execution"
   },
   {
    "id": "cbf570503a3a4adca612234db923691d",
    "time": "2021-01-17T22:52:13.234Z",
    "type": "completion"
   },
   {
    "code": "column_info_dfs[\"user\"]",
    "id": "b8c50729a07a41749ef19e1b35b7614f",
    "idx": 10,
    "time": "2021-01-17T22:52:50.218Z",
    "type": "execution"
   },
   {
    "id": "b8c50729a07a41749ef19e1b35b7614f",
    "time": "2021-01-17T22:52:50.290Z",
    "type": "completion"
   },
   {
    "code": "column_info_dfs[\"method\"]",
    "id": "cbf570503a3a4adca612234db923691d",
    "idx": 11,
    "time": "2021-01-17T22:53:38.007Z",
    "type": "execution"
   },
   {
    "id": "cbf570503a3a4adca612234db923691d",
    "time": "2021-01-17T22:53:38.081Z",
    "type": "completion"
   },
   {
    "code": "column_info_dfs[\"grade\"]",
    "id": "ca307523d81c48ec8a6a9744531ec7a2",
    "idx": 12,
    "time": "2021-01-17T22:53:40.259Z",
    "type": "execution"
   },
   {
    "id": "ca307523d81c48ec8a6a9744531ec7a2",
    "time": "2021-01-17T22:53:40.323Z",
    "type": "completion"
   },
   {
    "code": "columns_info_dfs[\"ascent\"]",
    "id": "cd78c8c534424e0d8c19ed7de84fe4cc",
    "idx": 13,
    "time": "2021-01-17T22:53:43.428Z",
    "type": "execution"
   },
   {
    "id": "cd78c8c534424e0d8c19ed7de84fe4cc",
    "time": "2021-01-17T22:53:43.491Z",
    "type": "completion"
   },
   {
    "code": "column_info_dfs[\"grade\"]",
    "id": "ca307523d81c48ec8a6a9744531ec7a2",
    "idx": 12,
    "time": "2021-01-17T22:53:54.276Z",
    "type": "execution"
   },
   {
    "id": "ca307523d81c48ec8a6a9744531ec7a2",
    "time": "2021-01-17T22:53:54.348Z",
    "type": "completion"
   },
   {
    "code": "def col_info():\n    #Get table names\n    tables = table_names()\n    \n    #Initialize dataframes for each table\n    dfs = {}\n\n    for table in tables:\n        #d[table] = pd.DataFrame()\n        \n        query = f\"\"\"\n        PRAGMA table_info({table})\n        \"\"\"\n        c.execute(query)\n        \n        Column = []\n        Type = []\n        Not_Null = []\n        Primary_Key = []\n        \n        for row in c:\n            Column.append(row[1])\n            Type.append(row[2])\n            Not_Null.append(row[3])\n            if row[5]:\n                Primary_Key.append(\"YES\")\n            else:\n                Primary_Key.append(\"NO\")\n            \n        dfs[table] = pd.DataFrame({\"Column\" : Column,\n                          \"Type\" : Type,\n                          \"Not_Null\" : Not_Null,\n                          \"Primary_Key\" : Primary_Key})\n    return dfs ",
    "id": "bcb7a92df9ac4366beb5895f3fa35840",
    "idx": 7,
    "time": "2021-01-17T22:54:30.052Z",
    "type": "execution"
   },
   {
    "id": "bcb7a92df9ac4366beb5895f3fa35840",
    "time": "2021-01-17T22:54:30.107Z",
    "type": "completion"
   },
   {
    "code": "column_info_dfs = col_info()",
    "id": "ffa00f1449d74700956c63e19c1a774c",
    "idx": 8,
    "time": "2021-01-17T22:54:30.410Z",
    "type": "execution"
   },
   {
    "id": "ffa00f1449d74700956c63e19c1a774c",
    "time": "2021-01-17T22:54:30.528Z",
    "type": "completion"
   },
   {
    "code": "column_info_dfs[\"user\"]",
    "id": "b8c50729a07a41749ef19e1b35b7614f",
    "idx": 10,
    "time": "2021-01-17T22:54:31.446Z",
    "type": "execution"
   },
   {
    "id": "b8c50729a07a41749ef19e1b35b7614f",
    "time": "2021-01-17T22:54:31.523Z",
    "type": "completion"
   },
   {
    "code": "column_info_dfs[\"method\"]",
    "id": "cbf570503a3a4adca612234db923691d",
    "idx": 11,
    "time": "2021-01-17T22:54:34.346Z",
    "type": "execution"
   },
   {
    "id": "cbf570503a3a4adca612234db923691d",
    "time": "2021-01-17T22:54:34.413Z",
    "type": "completion"
   },
   {
    "code": "column_info_dfs[\"grade\"]",
    "id": "ca307523d81c48ec8a6a9744531ec7a2",
    "idx": 12,
    "time": "2021-01-17T22:54:36.172Z",
    "type": "execution"
   },
   {
    "id": "ca307523d81c48ec8a6a9744531ec7a2",
    "time": "2021-01-17T22:54:36.270Z",
    "type": "completion"
   },
   {
    "code": "def col_info():\n    #Get table names\n    tables = table_names()\n    \n    #Initialize dataframes for each table\n    dfs = {}\n\n    for table in tables:\n        #d[table] = pd.DataFrame()\n        \n        query = f\"\"\"\n        PRAGMA table_info({table})\n        \"\"\"\n        c.execute(query)\n        \n        Column = []\n        Type = []\n        Not_Null = []\n        Primary_Key = []\n        \n        for row in c:\n            Column.append(row[1])\n            Type.append(row[2])\n            if row[3]:\n                Not_Null.append(\"YES\")\n            else:\n                Not_Null.append(\"NO\")\n            if row[5]:\n                Primary_Key.append(\"YES\")\n            else:\n                Primary_Key.append(\"\")\n            \n        dfs[table] = pd.DataFrame({\"Column\" : Column,\n                          \"Type\" : Type,\n                          \"Not_Null\" : Not_Null,\n                          \"Primary_Key\" : Primary_Key})\n    return dfs ",
    "id": "bcb7a92df9ac4366beb5895f3fa35840",
    "idx": 7,
    "time": "2021-01-17T22:55:51.503Z",
    "type": "execution"
   },
   {
    "id": "bcb7a92df9ac4366beb5895f3fa35840",
    "time": "2021-01-17T22:55:51.575Z",
    "type": "completion"
   },
   {
    "code": "column_info_dfs = col_info()",
    "id": "ffa00f1449d74700956c63e19c1a774c",
    "idx": 8,
    "time": "2021-01-17T22:55:52.062Z",
    "type": "execution"
   },
   {
    "id": "ffa00f1449d74700956c63e19c1a774c",
    "time": "2021-01-17T22:55:52.158Z",
    "type": "completion"
   },
   {
    "code": "column_info_dfs[\"user\"]",
    "id": "b8c50729a07a41749ef19e1b35b7614f",
    "idx": 10,
    "time": "2021-01-17T22:55:52.966Z",
    "type": "execution"
   },
   {
    "id": "b8c50729a07a41749ef19e1b35b7614f",
    "time": "2021-01-17T22:55:53.070Z",
    "type": "completion"
   },
   {
    "code": "column_info_dfs[\"method\"]",
    "id": "cbf570503a3a4adca612234db923691d",
    "idx": 11,
    "time": "2021-01-17T22:55:57.372Z",
    "type": "execution"
   },
   {
    "id": "cbf570503a3a4adca612234db923691d",
    "time": "2021-01-17T22:55:57.440Z",
    "type": "completion"
   },
   {
    "code": "column_info_dfs[\"grade\"]",
    "id": "ca307523d81c48ec8a6a9744531ec7a2",
    "idx": 12,
    "time": "2021-01-17T22:55:59.739Z",
    "type": "execution"
   },
   {
    "id": "ca307523d81c48ec8a6a9744531ec7a2",
    "time": "2021-01-17T22:55:59.812Z",
    "type": "completion"
   },
   {
    "code": "columns_info_dfs[\"ascent\"]",
    "id": "cd78c8c534424e0d8c19ed7de84fe4cc",
    "idx": 13,
    "time": "2021-01-17T22:56:07.995Z",
    "type": "execution"
   },
   {
    "id": "cd78c8c534424e0d8c19ed7de84fe4cc",
    "time": "2021-01-17T22:56:08.078Z",
    "type": "completion"
   },
   {
    "code": "columns_info_dfs.keys()",
    "id": "c4ad5f04b3f74bb283d40f45ff38e10f",
    "idx": 14,
    "time": "2021-01-17T22:56:27.864Z",
    "type": "execution"
   },
   {
    "id": "c4ad5f04b3f74bb283d40f45ff38e10f",
    "time": "2021-01-17T22:56:27.941Z",
    "type": "completion"
   },
   {
    "code": "column_info_dfs[\"ascent\"]",
    "id": "cd78c8c534424e0d8c19ed7de84fe4cc",
    "idx": 13,
    "time": "2021-01-17T22:56:34.543Z",
    "type": "execution"
   },
   {
    "id": "cd78c8c534424e0d8c19ed7de84fe4cc",
    "time": "2021-01-17T22:56:34.632Z",
    "type": "completion"
   },
   {
    "code": "c.execute(\"\"\"SELECT first_name FROM user LIMIT 5;\"\"\")",
    "id": "a08376a5548545148cd3defc9451e746",
    "idx": 15,
    "time": "2021-01-17T23:01:58.775Z",
    "type": "execution"
   },
   {
    "id": "a08376a5548545148cd3defc9451e746",
    "time": "2021-01-17T23:01:58.847Z",
    "type": "completion"
   },
   {
    "code": "c.execute(\"\"\"SELECT first_name FROM user LIMIT 5;\"\"\").fetchall()",
    "id": "a08376a5548545148cd3defc9451e746",
    "idx": 15,
    "time": "2021-01-17T23:02:12.140Z",
    "type": "execution"
   },
   {
    "id": "a08376a5548545148cd3defc9451e746",
    "time": "2021-01-17T23:02:12.202Z",
    "type": "completion"
   },
   {
    "code": "c.execute(\"\"\"SELECT first_name FROM user LIMIT 10;\"\"\").fetchall()",
    "id": "a08376a5548545148cd3defc9451e746",
    "idx": 15,
    "time": "2021-01-17T23:02:27.530Z",
    "type": "execution"
   },
   {
    "id": "a08376a5548545148cd3defc9451e746",
    "time": "2021-01-17T23:02:27.594Z",
    "type": "completion"
   },
   {
    "code": "c.execute(\"\"\"SELECT id FROM user LIMIT 10;\"\"\").fetchall()",
    "id": "46be38dca2ec436e95e7a5a48dd324d3",
    "idx": 17,
    "time": "2021-01-17T23:11:01.174Z",
    "type": "execution"
   },
   {
    "id": "46be38dca2ec436e95e7a5a48dd324d3",
    "time": "2021-01-17T23:11:01.284Z",
    "type": "completion"
   },
   {
    "code": "c.execute(\"\"\"SELECT COUNT(rownum) FROM user\"\"\").fetchall()",
    "id": "46be38dca2ec436e95e7a5a48dd324d3",
    "idx": 17,
    "time": "2021-01-17T23:26:27.925Z",
    "type": "execution"
   },
   {
    "id": "46be38dca2ec436e95e7a5a48dd324d3",
    "time": "2021-01-17T23:26:28.006Z",
    "type": "completion"
   },
   {
    "code": "c.execute(\"\"\"SELECT COUNT(id) FROM user\"\"\").fetchall()",
    "id": "46be38dca2ec436e95e7a5a48dd324d3",
    "idx": 17,
    "time": "2021-01-17T23:27:01.699Z",
    "type": "execution"
   },
   {
    "id": "46be38dca2ec436e95e7a5a48dd324d3",
    "time": "2021-01-17T23:27:01.826Z",
    "type": "completion"
   },
   {
    "code": "c.execute(\"\"\"SELECT COUNT(id) FROM user\"\"\").fetchall()[1]",
    "id": "46be38dca2ec436e95e7a5a48dd324d3",
    "idx": 22,
    "time": "2021-01-17T23:32:19.810Z",
    "type": "execution"
   },
   {
    "id": "46be38dca2ec436e95e7a5a48dd324d3",
    "time": "2021-01-17T23:32:19.913Z",
    "type": "completion"
   },
   {
    "code": "c.execute(\"\"\"SELECT COUNT(id) FROM user\"\"\").fetchall()",
    "id": "46be38dca2ec436e95e7a5a48dd324d3",
    "idx": 22,
    "time": "2021-01-17T23:32:27.325Z",
    "type": "execution"
   },
   {
    "id": "46be38dca2ec436e95e7a5a48dd324d3",
    "time": "2021-01-17T23:32:27.425Z",
    "type": "completion"
   },
   {
    "code": "c.execute(\"\"\"SELECT COUNT(id) FROM user\"\"\").fetchall()[0]",
    "id": "46be38dca2ec436e95e7a5a48dd324d3",
    "idx": 22,
    "time": "2021-01-17T23:32:58.079Z",
    "type": "execution"
   },
   {
    "id": "46be38dca2ec436e95e7a5a48dd324d3",
    "time": "2021-01-17T23:32:58.179Z",
    "type": "completion"
   },
   {
    "code": "c.execute(\"\"\"SELECT COUNT(id) FROM user\"\"\").fetchall()[0][0]",
    "id": "46be38dca2ec436e95e7a5a48dd324d3",
    "idx": 22,
    "time": "2021-01-17T23:33:02.876Z",
    "type": "execution"
   },
   {
    "id": "46be38dca2ec436e95e7a5a48dd324d3",
    "time": "2021-01-17T23:33:02.977Z",
    "type": "completion"
   },
   {
    "code": "def countRows():\n    #Get table names\n    tables = table_names()\n    \n    for table in tables:\n        query = f\"\"\"\n        SELECT COUNT(id)\n        FROM {table}\n        \"\"\"\n        count = c.execute(query)[0][0]\n        print(f\"There are {count} rows in table {table}\")\n        ",
    "id": "f9d72c05cb5243f6812542f9bedafadf",
    "idx": 16,
    "time": "2021-01-17T23:33:47.179Z",
    "type": "execution"
   },
   {
    "id": "f9d72c05cb5243f6812542f9bedafadf",
    "time": "2021-01-17T23:33:47.234Z",
    "type": "completion"
   },
   {
    "code": "countRows()",
    "id": "74bcbb8e3ce44cd1b0d0a127f823acc7",
    "idx": 17,
    "time": "2021-01-17T23:33:54.110Z",
    "type": "execution"
   },
   {
    "id": "74bcbb8e3ce44cd1b0d0a127f823acc7",
    "time": "2021-01-17T23:33:54.200Z",
    "type": "completion"
   },
   {
    "code": "def countRows():\n    #Get table names\n    tables = table_names()\n    \n    for table in tables:\n        query = f\"\"\"\n        SELECT COUNT(id)\n        FROM {table}\n        \"\"\"\n        count = c.execute(query).fetchall()[0][0]\n        print(f\"There are {count} rows in table {table}\")\n        ",
    "id": "f9d72c05cb5243f6812542f9bedafadf",
    "idx": 16,
    "time": "2021-01-17T23:34:36.384Z",
    "type": "execution"
   },
   {
    "id": "f9d72c05cb5243f6812542f9bedafadf",
    "time": "2021-01-17T23:34:36.443Z",
    "type": "completion"
   },
   {
    "code": "countRows()",
    "id": "74bcbb8e3ce44cd1b0d0a127f823acc7",
    "idx": 17,
    "time": "2021-01-17T23:34:36.746Z",
    "type": "execution"
   },
   {
    "id": "74bcbb8e3ce44cd1b0d0a127f823acc7",
    "time": "2021-01-17T23:34:38.879Z",
    "type": "completion"
   },
   {
    "code": "def countRows():\n    #Get table names\n    tables = table_names()\n    \n    for table in tables:\n        query = f\"\"\"\n        SELECT COUNT(id)\n        FROM {table}\n        \"\"\"\n        count = c.execute(query).fetchall()[0][0]\n        print(f\"There are {count} rows in the {table} table\")\n        ",
    "id": "f9d72c05cb5243f6812542f9bedafadf",
    "idx": 16,
    "time": "2021-01-17T23:34:56.768Z",
    "type": "execution"
   },
   {
    "id": "f9d72c05cb5243f6812542f9bedafadf",
    "time": "2021-01-17T23:34:56.824Z",
    "type": "completion"
   },
   {
    "code": "countRows()",
    "id": "74bcbb8e3ce44cd1b0d0a127f823acc7",
    "idx": 17,
    "time": "2021-01-17T23:34:57.581Z",
    "type": "execution"
   },
   {
    "id": "74bcbb8e3ce44cd1b0d0a127f823acc7",
    "time": "2021-01-17T23:34:58.538Z",
    "type": "completion"
   },
   {
    "code": "def countRows():\n    #Get table names\n    tables = table_names()\n    \n    for table in tables:\n        query = f\"\"\"\n        SELECT COUNT(id)\n        FROM {table}\n        \"\"\"\n        count = c.execute(query).fetchall()[0][0]\n        print(f\"{table} table:  {count} rows\")\n        ",
    "id": "f9d72c05cb5243f6812542f9bedafadf",
    "idx": 16,
    "time": "2021-01-18T00:52:52.190Z",
    "type": "execution"
   },
   {
    "id": "f9d72c05cb5243f6812542f9bedafadf",
    "time": "2021-01-18T00:52:52.253Z",
    "type": "completion"
   },
   {
    "code": "countRows()",
    "id": "74bcbb8e3ce44cd1b0d0a127f823acc7",
    "idx": 17,
    "time": "2021-01-18T00:52:52.597Z",
    "type": "execution"
   },
   {
    "id": "74bcbb8e3ce44cd1b0d0a127f823acc7",
    "time": "2021-01-18T00:52:53.392Z",
    "type": "completion"
   },
   {
    "code": "c.execute(\"\"\"SELECT * FROM method LIMIT 5\"\"\").fetchall()",
    "id": "46be38dca2ec436e95e7a5a48dd324d3",
    "idx": 23,
    "time": "2021-01-18T00:56:08.123Z",
    "type": "execution"
   },
   {
    "id": "46be38dca2ec436e95e7a5a48dd324d3",
    "time": "2021-01-18T00:56:08.271Z",
    "type": "completion"
   },
   {
    "code": "c.execute(\"\"\"SELECT started FROM user LIMIT 5\"\"\").fetchall()",
    "id": "a05b788c4ee9490c97535cd8284cac10",
    "idx": 24,
    "time": "2021-01-18T00:57:17.084Z",
    "type": "execution"
   },
   {
    "id": "a05b788c4ee9490c97535cd8284cac10",
    "time": "2021-01-18T00:57:17.150Z",
    "type": "completion"
   },
   {
    "code": "all_tables = table_names()\n\nfor table,i in all_tables, np.arange(0,len(all_tables)):\n    print(f\"Table {i}: {table}\")",
    "id": "46836afe03d64626a3adab1169ca1c4a",
    "idx": 7,
    "time": "2021-01-18T18:15:52.361Z",
    "type": "execution"
   },
   {
    "id": "46836afe03d64626a3adab1169ca1c4a",
    "time": "2021-01-18T18:15:52.504Z",
    "type": "completion"
   },
   {
    "code": "#Look at all of the tables within the sqlite databes\ndef table_names():\n    query = \"\"\"\n    SELECT NAME \n    FROM SQLITE_MASTER \n    WHERE type= 'table';\n    \"\"\"\n    c.execute(query)\n    \n    tables = []\n    for row in c.fetchall():\n        tables.append(row[0])\n    \n    return tables",
    "id": "ee6691e155a8444b9a6ca9925920cf2c",
    "idx": 6,
    "time": "2021-01-18T18:15:56.863Z",
    "type": "execution"
   },
   {
    "id": "ee6691e155a8444b9a6ca9925920cf2c",
    "time": "2021-01-18T18:15:56.923Z",
    "type": "completion"
   },
   {
    "code": "all_tables = table_names()\n\nfor table,i in all_tables, np.arange(0,len(all_tables)):\n    print(f\"Table {i}: {table}\")",
    "id": "46836afe03d64626a3adab1169ca1c4a",
    "idx": 7,
    "time": "2021-01-18T18:15:57.607Z",
    "type": "execution"
   },
   {
    "id": "46836afe03d64626a3adab1169ca1c4a",
    "time": "2021-01-18T18:15:57.712Z",
    "type": "completion"
   },
   {
    "code": "import sqlite3\nimport pandas as pd\nimport matplotlib.pyplot as plt",
    "id": "8c87f16f235d480e8546ecff116c0878",
    "idx": 2,
    "time": "2021-01-18T18:17:08.707Z",
    "type": "execution"
   },
   {
    "id": "8c87f16f235d480e8546ecff116c0878",
    "time": "2021-01-18T18:17:09.415Z",
    "type": "completion"
   },
   {
    "code": "#Make a connection\ncon = sqlite3.connect('database.sqlite')\n\n#Make a cursor instance\nc = con.cursor()",
    "id": "c6668035e21440c684eb01d912d358b3",
    "idx": 4,
    "time": "2021-01-18T18:17:09.652Z",
    "type": "execution"
   },
   {
    "id": "c6668035e21440c684eb01d912d358b3",
    "time": "2021-01-18T18:17:09.734Z",
    "type": "completion"
   },
   {
    "code": "#Look at all of the tables within the sqlite databes\ndef table_names():\n    query = \"\"\"\n    SELECT NAME \n    FROM SQLITE_MASTER \n    WHERE type= 'table';\n    \"\"\"\n    c.execute(query)\n    \n    tables = []\n    for row in c.fetchall():\n        tables.append(row[0])\n    \n    return tables",
    "id": "ee6691e155a8444b9a6ca9925920cf2c",
    "idx": 6,
    "time": "2021-01-18T18:17:10.597Z",
    "type": "execution"
   },
   {
    "id": "ee6691e155a8444b9a6ca9925920cf2c",
    "time": "2021-01-18T18:17:10.676Z",
    "type": "completion"
   },
   {
    "code": "all_tables = table_names()\n\nfor table,i in all_tables, np.arange(0,len(all_tables)):\n    print(f\"Table {i}: {table}\")",
    "id": "46836afe03d64626a3adab1169ca1c4a",
    "idx": 7,
    "time": "2021-01-18T18:17:11.633Z",
    "type": "execution"
   },
   {
    "id": "46836afe03d64626a3adab1169ca1c4a",
    "time": "2021-01-18T18:17:11.738Z",
    "type": "completion"
   },
   {
    "code": "import sqlite3\nimport pandas as pd\nimport numpy as np\nimport matplotlib.pyplot as plt",
    "id": "8c87f16f235d480e8546ecff116c0878",
    "idx": 2,
    "time": "2021-01-18T18:17:23.309Z",
    "type": "execution"
   },
   {
    "id": "8c87f16f235d480e8546ecff116c0878",
    "time": "2021-01-18T18:17:23.363Z",
    "type": "completion"
   },
   {
    "code": "#Make a connection\ncon = sqlite3.connect('database.sqlite')\n\n#Make a cursor instance\nc = con.cursor()",
    "id": "c6668035e21440c684eb01d912d358b3",
    "idx": 4,
    "time": "2021-01-18T18:17:24.007Z",
    "type": "execution"
   },
   {
    "id": "c6668035e21440c684eb01d912d358b3",
    "time": "2021-01-18T18:17:24.077Z",
    "type": "completion"
   },
   {
    "code": "#Look at all of the tables within the sqlite databes\ndef table_names():\n    query = \"\"\"\n    SELECT NAME \n    FROM SQLITE_MASTER \n    WHERE type= 'table';\n    \"\"\"\n    c.execute(query)\n    \n    tables = []\n    for row in c.fetchall():\n        tables.append(row[0])\n    \n    return tables",
    "id": "ee6691e155a8444b9a6ca9925920cf2c",
    "idx": 6,
    "time": "2021-01-18T18:17:24.771Z",
    "type": "execution"
   },
   {
    "id": "ee6691e155a8444b9a6ca9925920cf2c",
    "time": "2021-01-18T18:17:24.845Z",
    "type": "completion"
   },
   {
    "code": "all_tables = table_names()\n\nfor table,i in all_tables, np.arange(0,len(all_tables)):\n    print(f\"Table {i}: {table}\")",
    "id": "46836afe03d64626a3adab1169ca1c4a",
    "idx": 7,
    "time": "2021-01-18T18:17:25.875Z",
    "type": "execution"
   },
   {
    "id": "46836afe03d64626a3adab1169ca1c4a",
    "time": "2021-01-18T18:17:25.955Z",
    "type": "completion"
   },
   {
    "code": "all_tables = table_names()\n\nfor table in all_tables:\n    print(table)",
    "id": "46836afe03d64626a3adab1169ca1c4a",
    "idx": 7,
    "time": "2021-01-18T18:18:27.307Z",
    "type": "execution"
   },
   {
    "id": "46836afe03d64626a3adab1169ca1c4a",
    "time": "2021-01-18T18:18:27.427Z",
    "type": "completion"
   },
   {
    "code": "def col_info():\n    #Get table names\n    tables = table_names()\n    \n    #Initialize dataframes for each table\n    dfs = {}\n\n    for table in tables:\n        #d[table] = pd.DataFrame()\n        \n        query = f\"\"\"\n        PRAGMA table_info({table})\n        \"\"\"\n        c.execute(query)\n        \n        Column = []\n        Type = []\n        Not_Null = []\n        Primary_Key = []\n        \n        for row in c:\n            Column.append(row[1])\n            Type.append(row[2])\n            if row[3]:\n                Not_Null.append(\"YES\")\n            else:\n                Not_Null.append(\"NO\")\n            if row[5]:\n                Primary_Key.append(\"YES\")\n            else:\n                Primary_Key.append(\"\")\n            \n        dfs[table] = pd.DataFrame({\"Column\" : Column,\n                          \"Type\" : Type,\n                          \"Not_Null\" : Not_Null,\n                          \"Primary_Key\" : Primary_Key})\n    return dfs ",
    "id": "e0106e6ac6fa45f1ae0630dca9976f53",
    "idx": 9,
    "time": "2021-01-18T18:19:11.513Z",
    "type": "execution"
   },
   {
    "id": "e0106e6ac6fa45f1ae0630dca9976f53",
    "time": "2021-01-18T18:19:11.577Z",
    "type": "completion"
   },
   {
    "code": "column_info_dfs = col_info()",
    "id": "cf581af22163415aa61d69d0303e5009",
    "idx": 10,
    "time": "2021-01-18T18:19:12.029Z",
    "type": "execution"
   },
   {
    "id": "cf581af22163415aa61d69d0303e5009",
    "time": "2021-01-18T18:19:12.110Z",
    "type": "completion"
   },
   {
    "code": "column_info_dfs[\"user\"]",
    "id": "931a43d1c3f444b6a3d87f563ef644f8",
    "idx": 12,
    "time": "2021-01-18T18:19:14.000Z",
    "type": "execution"
   },
   {
    "id": "931a43d1c3f444b6a3d87f563ef644f8",
    "time": "2021-01-18T18:19:14.124Z",
    "type": "completion"
   },
   {
    "code": "column_info_dfs[\"method\"]",
    "id": "28bc2870efb14326bee83683fd3007be",
    "idx": 13,
    "time": "2021-01-18T18:19:16.802Z",
    "type": "execution"
   },
   {
    "id": "28bc2870efb14326bee83683fd3007be",
    "time": "2021-01-18T18:19:16.880Z",
    "type": "completion"
   },
   {
    "code": "column_info_dfs[\"grade\"]",
    "id": "5fd3d71585ea49318c293391c5d343eb",
    "idx": 14,
    "time": "2021-01-18T18:19:17.928Z",
    "type": "execution"
   },
   {
    "id": "5fd3d71585ea49318c293391c5d343eb",
    "time": "2021-01-18T18:19:18.016Z",
    "type": "completion"
   },
   {
    "code": "column_info_dfs[\"ascent\"]",
    "id": "f5f717a50c4549a3a3e38abb488652e3",
    "idx": 15,
    "time": "2021-01-18T18:19:23.010Z",
    "type": "execution"
   },
   {
    "id": "f5f717a50c4549a3a3e38abb488652e3",
    "time": "2021-01-18T18:19:23.094Z",
    "type": "completion"
   },
   {
    "code": "def countRows():\n    #Get table names\n    tables = table_names()\n    \n    for table in tables:\n        query = f\"\"\"\n        SELECT COUNT(id)\n        FROM {table}\n        \"\"\"\n        count = c.execute(query).fetchall()[0][0]\n        print(f\"{table} table:  {count} rows\")\n        ",
    "id": "fedbeb1a5f44481184acf1f11abc9f58",
    "idx": 17,
    "time": "2021-01-18T18:20:50.267Z",
    "type": "execution"
   },
   {
    "id": "fedbeb1a5f44481184acf1f11abc9f58",
    "time": "2021-01-18T18:20:50.331Z",
    "type": "completion"
   },
   {
    "code": "countRows()",
    "id": "2655484886314084ac1c67da39893646",
    "idx": 18,
    "time": "2021-01-18T18:20:50.805Z",
    "type": "execution"
   },
   {
    "id": "2655484886314084ac1c67da39893646",
    "time": "2021-01-18T18:20:52.712Z",
    "type": "completion"
   },
   {
    "code": "c.execute(\"\"\"\nSELECT started \nFROM user\nGROUPBY started\nLIMIT 10;\n\"\"\").fetchall()",
    "id": "1dfae657339941e48690877122f46a24",
    "idx": 21,
    "time": "2021-01-18T20:04:05.547Z",
    "type": "execution"
   },
   {
    "id": "1dfae657339941e48690877122f46a24",
    "time": "2021-01-18T20:04:05.618Z",
    "type": "completion"
   },
   {
    "code": "c.execute(\"\"\"\nSELECT started \nFROM user\nGROUP BY started\nORDER BY RANDOM()\nLIMIT 10;\n\"\"\").fetchall()",
    "id": "1dfae657339941e48690877122f46a24",
    "idx": 21,
    "time": "2021-01-18T20:04:43.982Z",
    "type": "execution"
   },
   {
    "id": "1dfae657339941e48690877122f46a24",
    "time": "2021-01-18T20:04:44.144Z",
    "type": "completion"
   },
   {
    "code": "import sqlite3\nimport pandas as pd\nimport numpy as np\nimport matplotlib.pyplot as plt",
    "id": "c63f0392dcfc465288a7519769744736",
    "idx": 2,
    "time": "2021-01-19T05:48:12.500Z",
    "type": "execution"
   },
   {
    "code": "#Make a connection\ncon = sqlite3.connect('database.sqlite')\n\n#Make a cursor instance\nc = con.cursor()",
    "id": "b8f7c99fd512401790a221f649c9001f",
    "idx": 4,
    "time": "2021-01-19T05:48:12.841Z",
    "type": "execution"
   },
   {
    "id": "c63f0392dcfc465288a7519769744736",
    "time": "2021-01-19T05:48:13.165Z",
    "type": "completion"
   },
   {
    "id": "b8f7c99fd512401790a221f649c9001f",
    "time": "2021-01-19T05:48:13.168Z",
    "type": "completion"
   },
   {
    "code": "#Look at all of the tables within the sqlite databes\ndef table_names():\n    query = \"\"\"\n    SELECT NAME \n    FROM SQLITE_MASTER \n    WHERE type= 'table';\n    \"\"\"\n    c.execute(query)\n    \n    tables = []\n    for row in c.fetchall():\n        tables.append(row[0])\n    \n    return tables",
    "id": "fe88969809c2488789a8c8f023db223b",
    "idx": 6,
    "time": "2021-01-19T05:48:13.189Z",
    "type": "execution"
   },
   {
    "id": "fe88969809c2488789a8c8f023db223b",
    "time": "2021-01-19T05:48:13.272Z",
    "type": "completion"
   },
   {
    "code": "all_tables = table_names()\n\nfor table in all_tables:\n    print(table)",
    "id": "c96c42a293ae4422b36c7819a36ded9a",
    "idx": 7,
    "time": "2021-01-19T05:48:13.370Z",
    "type": "execution"
   },
   {
    "id": "c96c42a293ae4422b36c7819a36ded9a",
    "time": "2021-01-19T05:48:13.439Z",
    "type": "completion"
   },
   {
    "code": "def col_info():\n    #Get table names\n    tables = table_names()\n    \n    #Initialize dataframes for each table\n    dfs = {}\n\n    for table in tables:\n        #d[table] = pd.DataFrame()\n        \n        query = f\"\"\"\n        PRAGMA table_info({table})\n        \"\"\"\n        c.execute(query)\n        \n        Column = []\n        Type = []\n        Not_Null = []\n        Primary_Key = []\n        \n        for row in c:\n            Column.append(row[1])\n            Type.append(row[2])\n            if row[3]:\n                Not_Null.append(\"YES\")\n            else:\n                Not_Null.append(\"NO\")\n            if row[5]:\n                Primary_Key.append(\"YES\")\n            else:\n                Primary_Key.append(\"\")\n            \n        dfs[table] = pd.DataFrame({\"Column\" : Column,\n                          \"Type\" : Type,\n                          \"Not_Null\" : Not_Null,\n                          \"Primary_Key\" : Primary_Key})\n    return dfs ",
    "id": "aaa1b7fe63a44ae58771b57a06fc03e5",
    "idx": 9,
    "time": "2021-01-19T05:48:13.867Z",
    "type": "execution"
   },
   {
    "id": "aaa1b7fe63a44ae58771b57a06fc03e5",
    "time": "2021-01-19T05:48:13.937Z",
    "type": "completion"
   },
   {
    "code": "column_info_dfs = col_info()",
    "id": "f22da0a9752a4fb480bc936a268999ad",
    "idx": 10,
    "time": "2021-01-19T05:48:14.018Z",
    "type": "execution"
   },
   {
    "id": "f22da0a9752a4fb480bc936a268999ad",
    "time": "2021-01-19T05:48:14.108Z",
    "type": "completion"
   },
   {
    "code": "column_info_dfs[\"user\"]",
    "id": "3f7d169f9cdb49b383efabc397955d27",
    "idx": 12,
    "time": "2021-01-19T05:48:14.392Z",
    "type": "execution"
   },
   {
    "id": "3f7d169f9cdb49b383efabc397955d27",
    "time": "2021-01-19T05:48:14.510Z",
    "type": "completion"
   },
   {
    "code": "column_info_dfs[\"method\"]",
    "id": "da3f1282ef4144c090d35991f6e37e58",
    "idx": 13,
    "time": "2021-01-19T05:48:14.579Z",
    "type": "execution"
   },
   {
    "id": "da3f1282ef4144c090d35991f6e37e58",
    "time": "2021-01-19T05:48:14.644Z",
    "type": "completion"
   },
   {
    "code": "column_info_dfs[\"grade\"]",
    "id": "342bfdb37ee24e1a90f04eb4a0d19e0f",
    "idx": 14,
    "time": "2021-01-19T05:48:14.746Z",
    "type": "execution"
   },
   {
    "id": "342bfdb37ee24e1a90f04eb4a0d19e0f",
    "time": "2021-01-19T05:48:14.819Z",
    "type": "completion"
   },
   {
    "code": "column_info_dfs[\"ascent\"]",
    "id": "8ff89f420a6249578c95e8dc2db00539",
    "idx": 15,
    "time": "2021-01-19T05:48:14.951Z",
    "type": "execution"
   },
   {
    "id": "8ff89f420a6249578c95e8dc2db00539",
    "time": "2021-01-19T05:48:15.015Z",
    "type": "completion"
   },
   {
    "code": "def countRows():\n    #Get table names\n    tables = table_names()\n    \n    for table in tables:\n        query = f\"\"\"\n        SELECT COUNT(id)\n        FROM {table}\n        \"\"\"\n        count = c.execute(query).fetchall()[0][0]\n        print(f\"{table} table:  {count} rows\")\n        ",
    "id": "e55b32d9e8494a289116e539d697c639",
    "idx": 17,
    "time": "2021-01-19T05:48:15.307Z",
    "type": "execution"
   },
   {
    "id": "e55b32d9e8494a289116e539d697c639",
    "time": "2021-01-19T05:48:15.369Z",
    "type": "completion"
   },
   {
    "code": "countRows()",
    "id": "4d8b28a57e7a4ed38307e9bf76a502cf",
    "idx": 18,
    "time": "2021-01-19T05:48:16.114Z",
    "type": "execution"
   },
   {
    "id": "4d8b28a57e7a4ed38307e9bf76a502cf",
    "time": "2021-01-19T05:48:18.084Z",
    "type": "completion"
   },
   {
    "code": "# Get count of all users who started in a given year\n\nc.execute(\"\"\"\nSELECT COUNT(started), started \nFROM user\nGROUP BY started\nORDER BY started DESC\nLIMIT 10;\n\"\"\").fetchall()",
    "id": "ad8f421e7a1d4eec93812759024af2e4",
    "idx": 21,
    "time": "2021-01-19T05:50:03.277Z",
    "type": "execution"
   },
   {
    "id": "ad8f421e7a1d4eec93812759024af2e4",
    "time": "2021-01-19T05:50:03.546Z",
    "type": "completion"
   },
   {
    "code": "# Get count of all users who started in a given year\n\nc.execute(\"\"\"\nSELECT COUNT(started) AS count, started \nFROM user\nGROUP BY started\nORDER BY count DESC\nLIMIT 10;\n\"\"\").fetchall()",
    "id": "ad8f421e7a1d4eec93812759024af2e4",
    "idx": 21,
    "time": "2021-01-19T05:50:38.770Z",
    "type": "execution"
   },
   {
    "id": "ad8f421e7a1d4eec93812759024af2e4",
    "time": "2021-01-19T05:50:38.896Z",
    "type": "completion"
   },
   {
    "code": "import sqlite3\nimport pandas as pd\nimport numpy as np\nimport matplotlib.pyplot as plt",
    "id": "8ff9a4a699194538addff04bc0a8436b",
    "idx": 2,
    "time": "2021-01-19T18:28:04.763Z",
    "type": "execution"
   },
   {
    "id": "8ff9a4a699194538addff04bc0a8436b",
    "time": "2021-01-19T18:28:05.430Z",
    "type": "completion"
   },
   {
    "code": "#Make a connection\ncon = sqlite3.connect('database.sqlite')\n\n#Make a cursor instance\nc = con.cursor()",
    "id": "d59671926fb84299881fe34b51b313d6",
    "idx": 4,
    "time": "2021-01-19T18:28:05.547Z",
    "type": "execution"
   },
   {
    "id": "d59671926fb84299881fe34b51b313d6",
    "time": "2021-01-19T18:28:05.622Z",
    "type": "completion"
   },
   {
    "code": "c.execute(\"\"\"SELECT * FROM method LIMIT 5\"\"\").fetchmany()",
    "id": "262e64720421488d86259f92022e5854",
    "idx": 27,
    "time": "2021-01-19T18:28:20.396Z",
    "type": "execution"
   },
   {
    "id": "262e64720421488d86259f92022e5854",
    "time": "2021-01-19T18:28:20.463Z",
    "type": "completion"
   },
   {
    "code": "c.execute(\"\"\"SELECT * FROM method LIMIT 5\"\"\").fetchall()",
    "id": "5b11e3913608460e8d08ecabbba8b57c",
    "idx": 28,
    "time": "2021-01-19T18:28:36.508Z",
    "type": "execution"
   },
   {
    "id": "5b11e3913608460e8d08ecabbba8b57c",
    "time": "2021-01-19T18:28:36.571Z",
    "type": "completion"
   },
   {
    "code": "c.execute(\"\"\"SELECT started FROM user LIMIT 5\"\"\").description()",
    "id": "cf6aa51dcddd4097a2946f088b435384",
    "idx": 29,
    "time": "2021-01-19T18:29:33.317Z",
    "type": "execution"
   },
   {
    "id": "cf6aa51dcddd4097a2946f088b435384",
    "time": "2021-01-19T18:29:33.556Z",
    "type": "completion"
   },
   {
    "code": "c.execute(\"\"\"SELECT * FROM method LIMIT 5\"\"\").fetchall().description",
    "id": "5b11e3913608460e8d08ecabbba8b57c",
    "idx": 28,
    "time": "2021-01-19T18:29:48.337Z",
    "type": "execution"
   },
   {
    "id": "5b11e3913608460e8d08ecabbba8b57c",
    "time": "2021-01-19T18:29:48.423Z",
    "type": "completion"
   },
   {
    "code": "c.execute(\"\"\"SELECT * FROM method LIMIT 5\"\"\").description()",
    "id": "5b11e3913608460e8d08ecabbba8b57c",
    "idx": 28,
    "time": "2021-01-19T18:29:56.090Z",
    "type": "execution"
   },
   {
    "id": "5b11e3913608460e8d08ecabbba8b57c",
    "time": "2021-01-19T18:29:56.156Z",
    "type": "completion"
   },
   {
    "code": "c.execute(\"\"\"SELECT * FROM method LIMIT 5\"\"\").description",
    "id": "5b11e3913608460e8d08ecabbba8b57c",
    "idx": 28,
    "time": "2021-01-19T18:30:34.227Z",
    "type": "execution"
   },
   {
    "id": "5b11e3913608460e8d08ecabbba8b57c",
    "time": "2021-01-19T18:30:34.323Z",
    "type": "completion"
   },
   {
    "code": "# Get count of all users who started in a given year\n\nc.execute(\"\"\"\nSELECT COUNT(started) AS count, started \nFROM user\nGROUP BY started\nORDER BY count DESC\nLIMIT 10;\n\"\"\").fetchone()",
    "id": "6831acab309a458b9ac71bf03828cc41",
    "idx": 24,
    "time": "2021-01-19T18:48:14.923Z",
    "type": "execution"
   },
   {
    "id": "6831acab309a458b9ac71bf03828cc41",
    "time": "2021-01-19T18:48:15.025Z",
    "type": "completion"
   },
   {
    "code": "# Get count of all users who started in a given year\n\nlen(c.execute(\"\"\"\nSELECT COUNT(started) AS count, started \nFROM user\nGROUP BY started\nORDER BY count DESC\nLIMIT 10;\n\"\"\").fetchone())",
    "id": "6831acab309a458b9ac71bf03828cc41",
    "idx": 24,
    "time": "2021-01-19T18:48:24.720Z",
    "type": "execution"
   },
   {
    "id": "6831acab309a458b9ac71bf03828cc41",
    "time": "2021-01-19T18:48:24.842Z",
    "type": "completion"
   },
   {
    "code": "a = 5\nfor i in a:\n    print i",
    "id": "e9a996f168814c6482dc6af737fc1374",
    "idx": 22,
    "time": "2021-01-19T18:49:31.747Z",
    "type": "execution"
   },
   {
    "id": "e9a996f168814c6482dc6af737fc1374",
    "time": "2021-01-19T18:49:31.843Z",
    "type": "completion"
   },
   {
    "code": "a = 5\nfor i in a:\n    print(i)",
    "id": "e9a996f168814c6482dc6af737fc1374",
    "idx": 22,
    "time": "2021-01-19T18:49:37.708Z",
    "type": "execution"
   },
   {
    "id": "e9a996f168814c6482dc6af737fc1374",
    "time": "2021-01-19T18:49:37.777Z",
    "type": "completion"
   },
   {
    "code": "a = 5\nfor i in range(a):\n    print(i)",
    "id": "e9a996f168814c6482dc6af737fc1374",
    "idx": 22,
    "time": "2021-01-19T18:49:44.391Z",
    "type": "execution"
   },
   {
    "id": "e9a996f168814c6482dc6af737fc1374",
    "time": "2021-01-19T18:49:44.482Z",
    "type": "completion"
   },
   {
    "code": "c.execute(\"\"\"SELECT * FROM method LIMIT 5\"\"\").description[0]",
    "id": "5b11e3913608460e8d08ecabbba8b57c",
    "idx": 31,
    "time": "2021-01-19T18:51:42.155Z",
    "type": "execution"
   },
   {
    "id": "5b11e3913608460e8d08ecabbba8b57c",
    "time": "2021-01-19T18:51:42.253Z",
    "type": "completion"
   },
   {
    "code": "c.execute(\"\"\"SELECT * FROM method LIMIT 5\"\"\").description[0][1]",
    "id": "5b11e3913608460e8d08ecabbba8b57c",
    "idx": 31,
    "time": "2021-01-19T18:51:47.646Z",
    "type": "execution"
   },
   {
    "id": "5b11e3913608460e8d08ecabbba8b57c",
    "time": "2021-01-19T18:51:47.703Z",
    "type": "completion"
   },
   {
    "code": "c.execute(\"\"\"SELECT * FROM method LIMIT 5\"\"\").description[0]",
    "id": "5b11e3913608460e8d08ecabbba8b57c",
    "idx": 31,
    "time": "2021-01-19T18:51:51.199Z",
    "type": "execution"
   },
   {
    "id": "5b11e3913608460e8d08ecabbba8b57c",
    "time": "2021-01-19T18:51:51.262Z",
    "type": "completion"
   },
   {
    "code": "c.execute(\"\"\"SELECT * FROM method LIMIT 5\"\"\").description[0][[1]]",
    "id": "5b11e3913608460e8d08ecabbba8b57c",
    "idx": 31,
    "time": "2021-01-19T18:51:59.281Z",
    "type": "execution"
   },
   {
    "id": "5b11e3913608460e8d08ecabbba8b57c",
    "time": "2021-01-19T18:51:59.356Z",
    "type": "completion"
   },
   {
    "code": "c.execute(\"\"\"SELECT * FROM method LIMIT 5\"\"\").description[0]",
    "id": "5b11e3913608460e8d08ecabbba8b57c",
    "idx": 31,
    "time": "2021-01-19T18:52:02.790Z",
    "type": "execution"
   },
   {
    "id": "5b11e3913608460e8d08ecabbba8b57c",
    "time": "2021-01-19T18:52:02.876Z",
    "type": "completion"
   },
   {
    "code": "c.execute(\"\"\"SELECT * FROM method LIMIT 5\"\"\").description[0][0]",
    "id": "5b11e3913608460e8d08ecabbba8b57c",
    "idx": 31,
    "time": "2021-01-19T18:53:21.922Z",
    "type": "execution"
   },
   {
    "id": "5b11e3913608460e8d08ecabbba8b57c",
    "time": "2021-01-19T18:53:22.015Z",
    "type": "completion"
   },
   {
    "code": "queryToDataframe(c.execute(\"\"\"SELECT * FROM method LIMIT 5\"\"\"))",
    "id": "138e03902331428f8bb69569a5e149ef",
    "idx": 32,
    "time": "2021-01-19T18:55:29.567Z",
    "type": "execution"
   },
   {
    "id": "138e03902331428f8bb69569a5e149ef",
    "time": "2021-01-19T18:55:29.650Z",
    "type": "completion"
   },
   {
    "code": "def queryToDataframe(query):\n    \"\"\"\n    Takes a sql query.\n    Returns a dataframe with column names and records.\n    \"\"\"\n    colnames = query.description\n    \n    cols = []\n    for col in range(len(colnames)):\n        cols.append(colnames[col][0])\n    \n    #query.fetchall()\n    return cols",
    "id": "540daf83842647379a3c68b83bd55b3c",
    "idx": 21,
    "time": "2021-01-19T18:55:33.054Z",
    "type": "execution"
   },
   {
    "id": "540daf83842647379a3c68b83bd55b3c",
    "time": "2021-01-19T18:55:33.108Z",
    "type": "completion"
   },
   {
    "code": "queryToDataframe(c.execute(\"\"\"SELECT * FROM method LIMIT 5\"\"\"))",
    "id": "138e03902331428f8bb69569a5e149ef",
    "idx": 32,
    "time": "2021-01-19T18:55:38.005Z",
    "type": "execution"
   },
   {
    "id": "138e03902331428f8bb69569a5e149ef",
    "time": "2021-01-19T18:55:38.094Z",
    "type": "completion"
   },
   {
    "code": "c.execute(\"\"\"\nSELECT * FROM ascent  LIMIT 5\n\"\"\").fetchall()",
    "id": "4adc354af79f453a8ee92f816e27bec0",
    "idx": 26,
    "time": "2021-01-19T18:57:05.058Z",
    "type": "execution"
   },
   {
    "id": "4adc354af79f453a8ee92f816e27bec0",
    "time": "2021-01-19T18:57:05.123Z",
    "type": "completion"
   },
   {
    "code": "c.execute(\"\"\"\nSELECT * FROM method  LIMIT 5\n\"\"\").fetchall()",
    "id": "4adc354af79f453a8ee92f816e27bec0",
    "idx": 26,
    "time": "2021-01-19T18:57:12.145Z",
    "type": "execution"
   },
   {
    "id": "4adc354af79f453a8ee92f816e27bec0",
    "time": "2021-01-19T18:57:12.237Z",
    "type": "completion"
   },
   {
    "code": "pd.DataFrame(c.execute(\"\"\"\nSELECT * FROM method  LIMIT 5\n\"\"\").fetchall())",
    "id": "4adc354af79f453a8ee92f816e27bec0",
    "idx": 26,
    "time": "2021-01-19T18:57:49.631Z",
    "type": "execution"
   },
   {
    "id": "4adc354af79f453a8ee92f816e27bec0",
    "time": "2021-01-19T18:57:49.750Z",
    "type": "completion"
   },
   {
    "code": "def queryToDataframe(query):\n    \"\"\"\n    Takes a sql query.\n    Returns a dataframe with column names and records.\n    \"\"\"\n    colnames = query.description\n    numcols = len(colnames)\n    \n    cols = []\n    for col in range(numcols):\n        cols.append(colnames[col][0])\n    \n    rows = query.execute(query).fetchall()\n    \n    df = pd.DataFrame(rows, columns = cols)\n    return df",
    "id": "540daf83842647379a3c68b83bd55b3c",
    "idx": 21,
    "time": "2021-01-19T18:59:56.600Z",
    "type": "execution"
   },
   {
    "id": "540daf83842647379a3c68b83bd55b3c",
    "time": "2021-01-19T18:59:56.658Z",
    "type": "completion"
   },
   {
    "code": "queryToDataframe(\"\"\"\nSELECT * FROM method  LIMIT 5\n\"\"\")",
    "id": "4adc354af79f453a8ee92f816e27bec0",
    "idx": 26,
    "time": "2021-01-19T19:01:51.139Z",
    "type": "execution"
   },
   {
    "id": "4adc354af79f453a8ee92f816e27bec0",
    "time": "2021-01-19T19:01:51.250Z",
    "type": "completion"
   },
   {
    "code": "queryToDataframe(c.execute(\"\"\"\nSELECT * FROM method  LIMIT 5\n\"\"\"))",
    "id": "4adc354af79f453a8ee92f816e27bec0",
    "idx": 26,
    "time": "2021-01-19T19:02:23.302Z",
    "type": "execution"
   },
   {
    "id": "4adc354af79f453a8ee92f816e27bec0",
    "time": "2021-01-19T19:02:23.405Z",
    "type": "completion"
   },
   {
    "code": "def queryToDataframe(query):\n    \"\"\"\n    Takes a sql query.\n    Returns a dataframe with column names and records.\n    \"\"\"\n    colnames = query.description\n    numcols = len(colnames)\n    \n    cols = []\n    for col in range(numcols):\n        cols.append(colnames[col][0])\n    \n    rows = query.fetchall()\n    \n    df = pd.DataFrame(rows, columns = cols)\n    return df",
    "id": "540daf83842647379a3c68b83bd55b3c",
    "idx": 21,
    "time": "2021-01-19T19:02:43.103Z",
    "type": "execution"
   },
   {
    "id": "540daf83842647379a3c68b83bd55b3c",
    "time": "2021-01-19T19:02:43.163Z",
    "type": "completion"
   },
   {
    "code": "queryToDataframe(\"\"\"\nSELECT * FROM method  LIMIT 5\n\"\"\")",
    "id": "4adc354af79f453a8ee92f816e27bec0",
    "idx": 26,
    "time": "2021-01-19T19:02:56.087Z",
    "type": "execution"
   },
   {
    "id": "4adc354af79f453a8ee92f816e27bec0",
    "time": "2021-01-19T19:02:56.157Z",
    "type": "completion"
   },
   {
    "code": "import sqlite3\nimport pandas as pd\nimport numpy as np\nimport matplotlib.pyplot as plt",
    "id": "559ae0eed80847e68780ba401781e336",
    "idx": 2,
    "time": "2021-01-19T20:59:11.232Z",
    "type": "execution"
   },
   {
    "code": "#Make a connection\ncon = sqlite3.connect('database.sqlite')\n\n#Make a cursor instance\nc = con.cursor()",
    "id": "9b49cac7fbf44ab4abab65791939bbd9",
    "idx": 4,
    "time": "2021-01-19T20:59:11.814Z",
    "type": "execution"
   },
   {
    "id": "559ae0eed80847e68780ba401781e336",
    "time": "2021-01-19T20:59:11.950Z",
    "type": "completion"
   },
   {
    "id": "9b49cac7fbf44ab4abab65791939bbd9",
    "time": "2021-01-19T20:59:11.952Z",
    "type": "completion"
   },
   {
    "code": "#Look at all of the tables within the sqlite databes\ndef table_names():\n    query = \"\"\"\n    SELECT NAME \n    FROM SQLITE_MASTER \n    WHERE type= 'table';\n    \"\"\"\n    c.execute(query)\n    \n    tables = []\n    for row in c.fetchall():\n        tables.append(row[0])\n    \n    return tables",
    "id": "3ab248e71e3d4f009d98de0388d67b2b",
    "idx": 6,
    "time": "2021-01-19T20:59:12.757Z",
    "type": "execution"
   },
   {
    "id": "3ab248e71e3d4f009d98de0388d67b2b",
    "time": "2021-01-19T20:59:12.813Z",
    "type": "completion"
   },
   {
    "code": "all_tables = table_names()\n\nfor table in all_tables:\n    print(table)",
    "id": "3d1daffb1a7c45af8fb0dc30e199af03",
    "idx": 7,
    "time": "2021-01-19T20:59:13.121Z",
    "type": "execution"
   },
   {
    "id": "3d1daffb1a7c45af8fb0dc30e199af03",
    "time": "2021-01-19T20:59:13.209Z",
    "type": "completion"
   },
   {
    "code": "def col_info():\n    #Get table names\n    tables = table_names()\n    \n    #Initialize dataframes for each table\n    dfs = {}\n\n    for table in tables:\n        #d[table] = pd.DataFrame()\n        \n        query = f\"\"\"\n        PRAGMA table_info({table})\n        \"\"\"\n        c.execute(query)\n        \n        Column = []\n        Type = []\n        Not_Null = []\n        Primary_Key = []\n        \n        for row in c:\n            Column.append(row[1])\n            Type.append(row[2])\n            if row[3]:\n                Not_Null.append(\"YES\")\n            else:\n                Not_Null.append(\"NO\")\n            if row[5]:\n                Primary_Key.append(\"YES\")\n            else:\n                Primary_Key.append(\"\")\n            \n        dfs[table] = pd.DataFrame({\"Column\" : Column,\n                          \"Type\" : Type,\n                          \"Not_Null\" : Not_Null,\n                          \"Primary_Key\" : Primary_Key})\n    return dfs ",
    "id": "2c93132de0304a90a98f5b224fa29ac4",
    "idx": 9,
    "time": "2021-01-19T20:59:13.548Z",
    "type": "execution"
   },
   {
    "id": "2c93132de0304a90a98f5b224fa29ac4",
    "time": "2021-01-19T20:59:13.606Z",
    "type": "completion"
   },
   {
    "code": "column_info_dfs = col_info()",
    "id": "1a090bb85cb54c8c82c5c1002aeb2d95",
    "idx": 10,
    "time": "2021-01-19T20:59:13.773Z",
    "type": "execution"
   },
   {
    "id": "1a090bb85cb54c8c82c5c1002aeb2d95",
    "time": "2021-01-19T20:59:13.850Z",
    "type": "completion"
   },
   {
    "code": "column_info_dfs[\"user\"]",
    "id": "8df43d3d87ec43a8885ef8b3bfefabd0",
    "idx": 12,
    "time": "2021-01-19T20:59:14.248Z",
    "type": "execution"
   },
   {
    "id": "8df43d3d87ec43a8885ef8b3bfefabd0",
    "time": "2021-01-19T20:59:14.359Z",
    "type": "completion"
   },
   {
    "code": "column_info_dfs[\"method\"]",
    "id": "7492d3f512454c5e8d72d0be5db333b4",
    "idx": 13,
    "time": "2021-01-19T20:59:14.493Z",
    "type": "execution"
   },
   {
    "id": "7492d3f512454c5e8d72d0be5db333b4",
    "time": "2021-01-19T20:59:14.592Z",
    "type": "completion"
   },
   {
    "code": "column_info_dfs[\"grade\"]",
    "id": "e924ceafee894931a379520b248733a5",
    "idx": 14,
    "time": "2021-01-19T20:59:14.785Z",
    "type": "execution"
   },
   {
    "id": "e924ceafee894931a379520b248733a5",
    "time": "2021-01-19T20:59:14.853Z",
    "type": "completion"
   },
   {
    "code": "column_info_dfs[\"ascent\"]",
    "id": "53c702ddef2c4c9e8b16c863d38768c6",
    "idx": 15,
    "time": "2021-01-19T20:59:15.076Z",
    "type": "execution"
   },
   {
    "id": "53c702ddef2c4c9e8b16c863d38768c6",
    "time": "2021-01-19T20:59:15.149Z",
    "type": "completion"
   },
   {
    "code": "def countRows():\n    #Get table names\n    tables = table_names()\n    \n    for table in tables:\n        query = f\"\"\"\n        SELECT COUNT(id)\n        FROM {table}\n        \"\"\"\n        count = c.execute(query).fetchall()[0][0]\n        print(f\"{table} table:  {count} rows\")\n        ",
    "id": "5215ed043dc1407c889d7e6288f3ee8a",
    "idx": 17,
    "time": "2021-01-19T20:59:15.931Z",
    "type": "execution"
   },
   {
    "id": "5215ed043dc1407c889d7e6288f3ee8a",
    "time": "2021-01-19T20:59:16.074Z",
    "type": "completion"
   },
   {
    "code": "countRows()",
    "id": "dbb0e095d4994e24b78e6837445838e1",
    "idx": 18,
    "time": "2021-01-19T20:59:16.720Z",
    "type": "execution"
   },
   {
    "id": "dbb0e095d4994e24b78e6837445838e1",
    "time": "2021-01-19T20:59:19.019Z",
    "type": "completion"
   },
   {
    "code": "def queryToDataframe(query):\n    \"\"\"\n    Takes a sql query.\n    Returns a dataframe with column names and records.\n    \"\"\"\n    colnames = query.description\n    numcols = len(colnames)\n    \n    cols = []\n    for col in range(numcols):\n        cols.append(colnames[col][0])\n    \n    rows = query.fetchall()\n    \n    df = pd.DataFrame(rows, columns = cols)\n    return df",
    "id": "03d2c7ded7d841148ae98773c905cf0c",
    "idx": 21,
    "time": "2021-01-19T20:59:21.177Z",
    "type": "execution"
   },
   {
    "id": "03d2c7ded7d841148ae98773c905cf0c",
    "time": "2021-01-19T20:59:21.238Z",
    "type": "completion"
   },
   {
    "code": "queryToDataframe(c.execute(\"\"\"\nSELECT * FROM method  LIMIT 5\n\"\"\"))",
    "id": "517024a30af34bbdb808903970a9f32c",
    "idx": 25,
    "time": "2021-01-19T21:00:18.629Z",
    "type": "execution"
   },
   {
    "id": "517024a30af34bbdb808903970a9f32c",
    "time": "2021-01-19T21:00:18.781Z",
    "type": "completion"
   },
   {
    "code": "import sqlite3\nimport pandas as pd\nimport numpy as np\nimport matplotlib.pyplot as plt",
    "id": "4b1e54fd3e4945b88c09b6da0e344e79",
    "idx": 2,
    "time": "2021-01-20T23:50:57.052Z",
    "type": "execution"
   },
   {
    "code": "#Make a connection\ncon = sqlite3.connect('database.sqlite')\n\n#Make a cursor instance\nc = con.cursor()",
    "id": "d16d18a7d96f4421ae2fadb1aa3fec1b",
    "idx": 4,
    "time": "2021-01-20T23:50:58.013Z",
    "type": "execution"
   },
   {
    "id": "4b1e54fd3e4945b88c09b6da0e344e79",
    "time": "2021-01-20T23:50:58.038Z",
    "type": "completion"
   },
   {
    "id": "d16d18a7d96f4421ae2fadb1aa3fec1b",
    "time": "2021-01-20T23:50:58.074Z",
    "type": "completion"
   },
   {
    "code": "#Look at all of the tables within the sqlite databes\ndef table_names():\n    query = \"\"\"\n    SELECT NAME \n    FROM SQLITE_MASTER \n    WHERE type= 'table';\n    \"\"\"\n    c.execute(query)\n    \n    tables = []\n    for row in c.fetchall():\n        tables.append(row[0])\n    \n    return tables",
    "id": "223de227ca89413c85995c59e583fc41",
    "idx": 6,
    "time": "2021-01-20T23:50:59.636Z",
    "type": "execution"
   },
   {
    "id": "223de227ca89413c85995c59e583fc41",
    "time": "2021-01-20T23:50:59.695Z",
    "type": "completion"
   },
   {
    "code": "all_tables = table_names()\n\nfor table in all_tables:\n    print(table)",
    "id": "0787981a2bbb43ad8b0a501bec10119f",
    "idx": 7,
    "time": "2021-01-20T23:51:00.441Z",
    "type": "execution"
   },
   {
    "id": "0787981a2bbb43ad8b0a501bec10119f",
    "time": "2021-01-20T23:51:00.506Z",
    "type": "completion"
   },
   {
    "code": "def col_info():\n    #Get table names\n    tables = table_names()\n    \n    #Initialize dataframes for each table\n    dfs = {}\n\n    for table in tables:\n        #d[table] = pd.DataFrame()\n        \n        query = f\"\"\"\n        PRAGMA table_info({table})\n        \"\"\"\n        c.execute(query)\n        \n        Column = []\n        Type = []\n        Not_Null = []\n        Primary_Key = []\n        \n        for row in c:\n            Column.append(row[1])\n            Type.append(row[2])\n            if row[3]:\n                Not_Null.append(\"YES\")\n            else:\n                Not_Null.append(\"NO\")\n            if row[5]:\n                Primary_Key.append(\"YES\")\n            else:\n                Primary_Key.append(\"\")\n            \n        dfs[table] = pd.DataFrame({\"Column\" : Column,\n                          \"Type\" : Type,\n                          \"Not_Null\" : Not_Null,\n                          \"Primary_Key\" : Primary_Key})\n    return dfs ",
    "id": "a3ebaa238840496c9610f830f0d339fe",
    "idx": 9,
    "time": "2021-01-20T23:51:27.329Z",
    "type": "execution"
   },
   {
    "id": "a3ebaa238840496c9610f830f0d339fe",
    "time": "2021-01-20T23:51:27.391Z",
    "type": "completion"
   },
   {
    "code": "column_info_dfs = col_info()",
    "id": "1a127c080bbe455395ea4c8b4f448b0d",
    "idx": 10,
    "time": "2021-01-20T23:51:28.164Z",
    "type": "execution"
   },
   {
    "id": "1a127c080bbe455395ea4c8b4f448b0d",
    "time": "2021-01-20T23:51:28.239Z",
    "type": "completion"
   },
   {
    "code": "column_info_dfs[\"user\"]",
    "id": "4654a73fc5e94a48a1d27c89912bb68b",
    "idx": 12,
    "time": "2021-01-20T23:51:31.255Z",
    "type": "execution"
   },
   {
    "id": "4654a73fc5e94a48a1d27c89912bb68b",
    "time": "2021-01-20T23:51:31.328Z",
    "type": "completion"
   },
   {
    "code": "column_info_dfs[\"method\"]",
    "id": "71a39d6c2d9f4cb1ae90ede6aedf4c73",
    "idx": 13,
    "time": "2021-01-20T23:53:22.959Z",
    "type": "execution"
   },
   {
    "id": "71a39d6c2d9f4cb1ae90ede6aedf4c73",
    "time": "2021-01-20T23:53:23.068Z",
    "type": "completion"
   },
   {
    "code": "column_info_dfs[\"grade\"]",
    "id": "d1db4b5261ca46eb8dcd7ae2e4c27417",
    "idx": 14,
    "time": "2021-01-20T23:53:57.811Z",
    "type": "execution"
   },
   {
    "id": "d1db4b5261ca46eb8dcd7ae2e4c27417",
    "time": "2021-01-20T23:53:57.879Z",
    "type": "completion"
   },
   {
    "code": "column_info_dfs[\"ascent\"]",
    "id": "32c61ebca71845758428fd8489f714e8",
    "idx": 15,
    "time": "2021-01-20T23:54:53.275Z",
    "type": "execution"
   },
   {
    "id": "32c61ebca71845758428fd8489f714e8",
    "time": "2021-01-20T23:54:53.406Z",
    "type": "completion"
   },
   {
    "code": "def countRows():\n    #Get table names\n    tables = table_names()\n    \n    for table in tables:\n        query = f\"\"\"\n        SELECT COUNT(id)\n        FROM {table}\n        \"\"\"\n        count = c.execute(query).fetchall()[0][0]\n        print(f\"{table} table:  {count} rows\")\n        ",
    "id": "d9c799acf4aa4fa69a953d869f85ae10",
    "idx": 17,
    "time": "2021-01-20T23:54:56.809Z",
    "type": "execution"
   },
   {
    "id": "d9c799acf4aa4fa69a953d869f85ae10",
    "time": "2021-01-20T23:54:56.862Z",
    "type": "completion"
   },
   {
    "code": "countRows()",
    "id": "e9cebbf4f5da4369960140a0f6b4d340",
    "idx": 18,
    "time": "2021-01-20T23:54:58.091Z",
    "type": "execution"
   },
   {
    "id": "e9cebbf4f5da4369960140a0f6b4d340",
    "time": "2021-01-20T23:55:00.148Z",
    "type": "completion"
   },
   {
    "code": "countRows()",
    "id": "e9cebbf4f5da4369960140a0f6b4d340",
    "idx": 18,
    "time": "2021-01-20T23:55:57.478Z",
    "type": "execution"
   },
   {
    "id": "e9cebbf4f5da4369960140a0f6b4d340",
    "time": "2021-01-20T23:55:58.390Z",
    "type": "completion"
   },
   {
    "code": "queryToDataframe(c.execute(\"\"\"\nSELECT COUNT(year) AS count, year\nFROM user\nGROUBY(year)\n\"\"\"))",
    "id": "1c4254c32fa94563879043b53a7d5d2d",
    "idx": 25,
    "time": "2021-01-21T00:07:06.955Z",
    "type": "execution"
   },
   {
    "id": "1c4254c32fa94563879043b53a7d5d2d",
    "time": "2021-01-21T00:07:07.130Z",
    "type": "completion"
   },
   {
    "code": "def queryToDataframe(query):\n    \"\"\"\n    Takes a sql query.\n    Returns a dataframe with column names and records.\n    \"\"\"\n    colnames = query.description\n    numcols = len(colnames)\n    \n    cols = []\n    for col in range(numcols):\n        cols.append(colnames[col][0])\n    \n    rows = query.fetchall()\n    \n    df = pd.DataFrame(rows, columns = cols)\n    return df",
    "id": "8b57d314a23741639b96cd128db4f010",
    "idx": 21,
    "time": "2021-01-21T00:07:13.767Z",
    "type": "execution"
   },
   {
    "id": "8b57d314a23741639b96cd128db4f010",
    "time": "2021-01-21T00:07:13.822Z",
    "type": "completion"
   },
   {
    "code": "# Get count of all users who started in a given year\n\n",
    "id": "3d618f64ff1a42adae9371f6812a70a8",
    "idx": 23,
    "time": "2021-01-21T00:07:14.296Z",
    "type": "execution"
   },
   {
    "id": "3d618f64ff1a42adae9371f6812a70a8",
    "time": "2021-01-21T00:07:14.349Z",
    "type": "completion"
   },
   {
    "code": "# Most climbers did not input the year they started climbing.\n# Aside from that, it appears most climbers started in the 2000s. \n",
    "id": "90d5d36af6ce4c2287245e7d1bbf3614",
    "idx": 24,
    "time": "2021-01-21T00:07:14.678Z",
    "type": "execution"
   },
   {
    "id": "90d5d36af6ce4c2287245e7d1bbf3614",
    "time": "2021-01-21T00:07:14.735Z",
    "type": "completion"
   },
   {
    "code": "queryToDataframe(c.execute(\"\"\"\nSELECT COUNT(year) AS count, year\nFROM user\nGROUBY(year)\n\"\"\"))",
    "id": "1c4254c32fa94563879043b53a7d5d2d",
    "idx": 25,
    "time": "2021-01-21T00:07:15.446Z",
    "type": "execution"
   },
   {
    "id": "1c4254c32fa94563879043b53a7d5d2d",
    "time": "2021-01-21T00:07:15.578Z",
    "type": "completion"
   },
   {
    "code": "queryToDataframe(c.execute(\"\"\"\nSELECT COUNT(year) AS count, year\nFROM user\nGROUP BY(year)\n\"\"\"))",
    "id": "1c4254c32fa94563879043b53a7d5d2d",
    "idx": 25,
    "time": "2021-01-21T00:07:53.312Z",
    "type": "execution"
   },
   {
    "id": "1c4254c32fa94563879043b53a7d5d2d",
    "time": "2021-01-21T00:07:53.412Z",
    "type": "completion"
   },
   {
    "code": "queryToDataframe(c.execute(\"\"\"\nSELECT COUNT(start) AS count, start\nFROM user\nGROUP BY(start)\n\"\"\"))",
    "id": "1c4254c32fa94563879043b53a7d5d2d",
    "idx": 25,
    "time": "2021-01-21T00:08:18.084Z",
    "type": "execution"
   },
   {
    "id": "1c4254c32fa94563879043b53a7d5d2d",
    "time": "2021-01-21T00:08:18.181Z",
    "type": "completion"
   },
   {
    "code": "queryToDataframe(c.execute(\"\"\"\nSELECT COUNT(started) AS count, started\nFROM user\nGROUP BY(started)\n\"\"\"))",
    "id": "1c4254c32fa94563879043b53a7d5d2d",
    "idx": 25,
    "time": "2021-01-21T00:08:29.581Z",
    "type": "execution"
   },
   {
    "id": "1c4254c32fa94563879043b53a7d5d2d",
    "time": "2021-01-21T00:08:29.736Z",
    "type": "completion"
   },
   {
    "code": "queryToDataframe(c.execute(\"\"\"\nSELECT COUNT(started) AS count, started\nFROM user\nGROUP BY(started)\nORDER DESC(count)\n\"\"\"))",
    "id": "1c4254c32fa94563879043b53a7d5d2d",
    "idx": 25,
    "time": "2021-01-21T00:08:55.165Z",
    "type": "execution"
   },
   {
    "id": "1c4254c32fa94563879043b53a7d5d2d",
    "time": "2021-01-21T00:08:55.490Z",
    "type": "completion"
   },
   {
    "code": "queryToDataframe(c.execute(\"\"\"\nSELECT COUNT(started) AS count, started\nFROM user\nGROUP BY(started)\n\"\"\"))",
    "id": "1c4254c32fa94563879043b53a7d5d2d",
    "idx": 25,
    "time": "2021-01-21T00:09:05.583Z",
    "type": "execution"
   },
   {
    "id": "1c4254c32fa94563879043b53a7d5d2d",
    "time": "2021-01-21T00:09:05.703Z",
    "type": "completion"
   },
   {
    "code": "start_year_count = queryToDataframe(c.execute(\"\"\"\nSELECT COUNT(started) AS count, started\nFROM user\nGROUP BY(started)\n\"\"\"))",
    "id": "1c4254c32fa94563879043b53a7d5d2d",
    "idx": 25,
    "time": "2021-01-21T00:09:28.066Z",
    "type": "execution"
   },
   {
    "id": "1c4254c32fa94563879043b53a7d5d2d",
    "time": "2021-01-21T00:09:28.168Z",
    "type": "completion"
   },
   {
    "code": "start_year_count = queryToDataframe(c.execute(\"\"\"\nSELECT COUNT(started) AS count, started\nFROM user\nWHERE started BETWEEN 1920 AND 2017\nGROUP BY(started)\n\"\"\"))",
    "id": "1c4254c32fa94563879043b53a7d5d2d",
    "idx": 25,
    "time": "2021-01-21T00:11:08.547Z",
    "type": "execution"
   },
   {
    "id": "1c4254c32fa94563879043b53a7d5d2d",
    "time": "2021-01-21T00:11:08.634Z",
    "type": "completion"
   },
   {
    "code": "start_year_count",
    "id": "43a290b2571f4f8e8016135baa207539",
    "idx": 26,
    "time": "2021-01-21T00:11:10.031Z",
    "type": "execution"
   },
   {
    "id": "43a290b2571f4f8e8016135baa207539",
    "time": "2021-01-21T00:11:10.098Z",
    "type": "completion"
   },
   {
    "code": "start_year_count = queryToDataframe(c.execute(\"\"\"\nSELECT COUNT(started) AS count, started\nFROM user\nWHERE started BETWEEN 1920 AND 2017\nGROUP BY(started)\nORDER BY started DESC\n\"\"\"))",
    "id": "1c4254c32fa94563879043b53a7d5d2d",
    "idx": 25,
    "time": "2021-01-21T00:11:36.447Z",
    "type": "execution"
   },
   {
    "id": "1c4254c32fa94563879043b53a7d5d2d",
    "time": "2021-01-21T00:11:36.544Z",
    "type": "completion"
   },
   {
    "code": "start_year_count",
    "id": "43a290b2571f4f8e8016135baa207539",
    "idx": 26,
    "time": "2021-01-21T00:11:36.873Z",
    "type": "execution"
   },
   {
    "id": "43a290b2571f4f8e8016135baa207539",
    "time": "2021-01-21T00:11:36.935Z",
    "type": "completion"
   },
   {
    "code": "start_year_count.plot()",
    "id": "43a290b2571f4f8e8016135baa207539",
    "idx": 24,
    "time": "2021-01-21T00:18:36.481Z",
    "type": "execution"
   },
   {
    "id": "43a290b2571f4f8e8016135baa207539",
    "time": "2021-01-21T00:18:36.867Z",
    "type": "completion"
   },
   {
    "code": "start_year_count",
    "id": "43a290b2571f4f8e8016135baa207539",
    "idx": 24,
    "time": "2021-01-21T00:18:55.381Z",
    "type": "execution"
   },
   {
    "id": "43a290b2571f4f8e8016135baa207539",
    "time": "2021-01-21T00:18:55.449Z",
    "type": "completion"
   },
   {
    "code": "queryToDataframe(c.execute(\"\"\"\nSELECT *\nFROM grade\nLIMIT 5\n\"\"\"))",
    "id": "10598f1812114a1c8d48b55bcf4c0df8",
    "idx": 24,
    "time": "2021-01-21T00:24:01.243Z",
    "type": "execution"
   },
   {
    "id": "10598f1812114a1c8d48b55bcf4c0df8",
    "time": "2021-01-21T00:24:01.323Z",
    "type": "completion"
   },
   {
    "code": "queryToDataframe(c.execute(\"\"\"\nSELECT *\nFROM grade\nLIMIT 10\n\"\"\"))",
    "id": "10598f1812114a1c8d48b55bcf4c0df8",
    "idx": 24,
    "time": "2021-01-21T00:24:12.183Z",
    "type": "execution"
   },
   {
    "id": "10598f1812114a1c8d48b55bcf4c0df8",
    "time": "2021-01-21T00:24:12.258Z",
    "type": "completion"
   },
   {
    "code": "start_year_count = queryToDataframe(c.execute(\"\"\"\nSELECT COUNT(started) AS count, started AS year\nFROM user\nWHERE started BETWEEN 1920 AND 2017\nGROUP BY(started)\nORDER BY started DESC\n\"\"\"))",
    "id": "1c4254c32fa94563879043b53a7d5d2d",
    "idx": 22,
    "time": "2021-01-21T00:25:47.612Z",
    "type": "execution"
   },
   {
    "id": "1c4254c32fa94563879043b53a7d5d2d",
    "time": "2021-01-21T00:25:47.705Z",
    "type": "completion"
   },
   {
    "code": "start_year_count",
    "id": "43a290b2571f4f8e8016135baa207539",
    "idx": 23,
    "time": "2021-01-21T00:25:48.527Z",
    "type": "execution"
   },
   {
    "id": "43a290b2571f4f8e8016135baa207539",
    "time": "2021-01-21T00:25:48.593Z",
    "type": "completion"
   },
   {
    "code": "start_year_count = queryToDataframe(c.execute(\"\"\"\nSELECT COUNT(started) AS total, started AS year\nFROM user\nWHERE started BETWEEN 1920 AND 2017\nGROUP BY(started)\nORDER BY started DESC\n\"\"\"))",
    "id": "1c4254c32fa94563879043b53a7d5d2d",
    "idx": 22,
    "time": "2021-01-21T00:26:01.535Z",
    "type": "execution"
   },
   {
    "id": "1c4254c32fa94563879043b53a7d5d2d",
    "time": "2021-01-21T00:26:01.624Z",
    "type": "completion"
   },
   {
    "code": "start_year_count",
    "id": "43a290b2571f4f8e8016135baa207539",
    "idx": 23,
    "time": "2021-01-21T00:26:01.985Z",
    "type": "execution"
   },
   {
    "id": "43a290b2571f4f8e8016135baa207539",
    "time": "2021-01-21T00:26:02.046Z",
    "type": "completion"
   },
   {
    "code": "start_year_count = queryToDataframe(c.execute(\"\"\"\nSELECT COUNT(started) AS total, started AS year\nFROM user\nWHERE year BETWEEN 1920 AND 2017\nGROUP BY(year)\nORDER BY year DESC\n\"\"\"))",
    "id": "1c4254c32fa94563879043b53a7d5d2d",
    "idx": 22,
    "time": "2021-01-21T00:32:14.362Z",
    "type": "execution"
   },
   {
    "id": "1c4254c32fa94563879043b53a7d5d2d",
    "time": "2021-01-21T00:32:14.493Z",
    "type": "completion"
   },
   {
    "code": "start_year_count",
    "id": "43a290b2571f4f8e8016135baa207539",
    "idx": 23,
    "time": "2021-01-21T00:32:14.722Z",
    "type": "execution"
   },
   {
    "id": "43a290b2571f4f8e8016135baa207539",
    "time": "2021-01-21T00:32:14.837Z",
    "type": "completion"
   },
   {
    "code": "queryToDataframe(c.execute(\"\"\"\nSELECT name,sex\nFROM user\nLIMIT 10\n\"\"\"))",
    "id": "10598f1812114a1c8d48b55bcf4c0df8",
    "idx": 24,
    "time": "2021-01-21T00:35:49.947Z",
    "type": "execution"
   },
   {
    "id": "10598f1812114a1c8d48b55bcf4c0df8",
    "time": "2021-01-21T00:35:50.069Z",
    "type": "completion"
   },
   {
    "code": "queryToDataframe(c.execute(\"\"\"\nSELECT first_name, sex\nFROM user\nLIMIT 10\n\"\"\"))",
    "id": "10598f1812114a1c8d48b55bcf4c0df8",
    "idx": 24,
    "time": "2021-01-21T00:36:00.628Z",
    "type": "execution"
   },
   {
    "id": "10598f1812114a1c8d48b55bcf4c0df8",
    "time": "2021-01-21T00:36:00.701Z",
    "type": "completion"
   },
   {
    "code": "queryToDataframe(c.execute(\"\"\"\nSELECT first_name, sex\nFROM user\nLIMIT 20\n\"\"\"))",
    "id": "10598f1812114a1c8d48b55bcf4c0df8",
    "idx": 24,
    "time": "2021-01-21T00:36:10.843Z",
    "type": "execution"
   },
   {
    "id": "10598f1812114a1c8d48b55bcf4c0df8",
    "time": "2021-01-21T00:36:10.950Z",
    "type": "completion"
   },
   {
    "code": "queryToDataframe(c.execute(\"\"\"\nSELECT first_name, sex\nORDER BY RANDOM()\nFROM user\nLIMIT 20\n\"\"\"))",
    "id": "10598f1812114a1c8d48b55bcf4c0df8",
    "idx": 24,
    "time": "2021-01-21T00:36:30.465Z",
    "type": "execution"
   },
   {
    "id": "10598f1812114a1c8d48b55bcf4c0df8",
    "time": "2021-01-21T00:36:30.568Z",
    "type": "completion"
   },
   {
    "code": "queryToDataframe(c.execute(\"\"\"\nSELECT first_name, sex\nFROM user\nORDER BY RANDOM()\nLIMIT 20\n\"\"\"))",
    "id": "10598f1812114a1c8d48b55bcf4c0df8",
    "idx": 24,
    "time": "2021-01-21T00:36:38.765Z",
    "type": "execution"
   },
   {
    "id": "10598f1812114a1c8d48b55bcf4c0df8",
    "time": "2021-01-21T00:36:38.911Z",
    "type": "completion"
   },
   {
    "code": "start_year_count = queryToDataframe(c.execute(\"\"\"\nWITH all AS \n(\nSELECT COUNT(started) AS total, started AS year\nFROM user\nWHERE year BETWEEN 1920 AND 2017\nGROUP BY(year)\nORDER BY year DESC\n),\n\nWITH female AS\n(\nSELECT COUNT(started) AS female, started AS year\nFROM user\nWHERE sex = '1'\n    AND year BETWEEN 1920 AND 2017\nGROUP BY(year)\nORDER BY year DESC\n)\n\nSELECT year, total\nFROM all\nINNER JOIN all.year = female.year\n\"\"\"))",
    "id": "1c4254c32fa94563879043b53a7d5d2d",
    "idx": 22,
    "time": "2021-01-21T00:44:38.494Z",
    "type": "execution"
   },
   {
    "id": "1c4254c32fa94563879043b53a7d5d2d",
    "time": "2021-01-21T00:44:38.594Z",
    "type": "completion"
   },
   {
    "code": "start_year_count_all = queryToDataframe(c.execute(\"\"\"\nSELECT COUNT(started) AS total, started AS year\nFROM user\nWHERE year BETWEEN 1920 AND 2017\nGROUP BY(year)\nORDER BY year DESC\n\"\"\"))",
    "id": "1c4254c32fa94563879043b53a7d5d2d",
    "idx": 22,
    "time": "2021-01-21T00:49:42.975Z",
    "type": "execution"
   },
   {
    "id": "1c4254c32fa94563879043b53a7d5d2d",
    "time": "2021-01-21T00:49:43.067Z",
    "type": "completion"
   },
   {
    "code": "start_year_count_all",
    "id": "a5ebbb6aa60a41db8d662c5c40717dff",
    "idx": 23,
    "time": "2021-01-21T00:49:54.825Z",
    "type": "execution"
   },
   {
    "id": "a5ebbb6aa60a41db8d662c5c40717dff",
    "time": "2021-01-21T00:49:54.946Z",
    "type": "completion"
   },
   {
    "code": "def queryToDataframe(query):\n    \"\"\"\n    Takes a sql query.\n    Returns a dataframe with column names and records.\n    \"\"\"\n    sql = c.execute(query)\n    colnames = sql.description\n    numcols = len(colnames)\n    \n    cols = []\n    for col in range(numcols):\n        cols.append(colnames[col][0])\n    \n    rows = sql.fetchall()\n    \n    df = pd.DataFrame(rows, columns = cols)\n    return df",
    "id": "8b57d314a23741639b96cd128db4f010",
    "idx": 20,
    "time": "2021-01-21T01:10:49.358Z",
    "type": "execution"
   },
   {
    "id": "8b57d314a23741639b96cd128db4f010",
    "time": "2021-01-21T01:10:49.430Z",
    "type": "completion"
   },
   {
    "code": "start_year_count_all = queryToDataframe(\"\"\"\nSELECT COUNT(started) AS total, started AS year\nFROM user\nWHERE year BETWEEN 1920 AND 2017\nGROUP BY(year)\nORDER BY year DESC\n\"\"\")",
    "id": "1c4254c32fa94563879043b53a7d5d2d",
    "idx": 22,
    "time": "2021-01-21T01:10:56.459Z",
    "type": "execution"
   },
   {
    "id": "1c4254c32fa94563879043b53a7d5d2d",
    "time": "2021-01-21T01:10:56.558Z",
    "type": "completion"
   },
   {
    "code": "start_year_count_all",
    "id": "a5ebbb6aa60a41db8d662c5c40717dff",
    "idx": 23,
    "time": "2021-01-21T01:10:58.079Z",
    "type": "execution"
   },
   {
    "id": "a5ebbb6aa60a41db8d662c5c40717dff",
    "time": "2021-01-21T01:10:58.161Z",
    "type": "completion"
   },
   {
    "code": "start_year_segmented = queryToDataframe(\"\"\"\nWITH t AS\n    (\n    SELECT COUNT(started) AS total, started AS year\n    FROM user\n    WHERE year BETWEEN 1920 AND 2017\n    GROUP BY(year)\n    )\nWITH f AS\n    (\n    SELECT COUNT(started) AS female, started AS year\n    FROM user\n    WHERE year BETWEEN 1920 AND 2017\n        AND sex = 1\n    GROUP BY(year)\n    )\n    \nWITH m AS\n    (\n    SELECT COUNT(started) AS male, started AS year\n    FROM user\n    WHERE year BETWEEN 1920 AND 2017\n        AND sex = 0\n    GROUP BY(year)\n    )\n\nSELECT year, total, female, male\nFROM \n    t\nINNER JOIN f ON f.year = t.year\nINNER JOIN m.year ON m.year = t.year\nORDER year DESC\n\"\"\")",
    "id": "9093f78a81894d06a3935641f0122f06",
    "idx": 24,
    "time": "2021-01-21T01:40:33.209Z",
    "type": "execution"
   },
   {
    "id": "9093f78a81894d06a3935641f0122f06",
    "time": "2021-01-21T01:40:33.330Z",
    "type": "completion"
   },
   {
    "code": "queryToDataframe(\"\"\"\nWITH t AS\n    (\n    SELECT COUNT(started) AS total, started AS year\n    FROM user\n    WHERE year BETWEEN 1920 AND 2017\n    GROUP BY(year)\n    )\nSELECT * t\n\"\"\"",
    "id": "b59103f0804046f68417ba24797bad20",
    "idx": 24,
    "time": "2021-01-21T01:46:03.629Z",
    "type": "execution"
   },
   {
    "id": "b59103f0804046f68417ba24797bad20",
    "time": "2021-01-21T01:46:03.690Z",
    "type": "completion"
   },
   {
    "code": "queryToDataframe(\"\"\"\nWITH t AS\n    (\n    SELECT COUNT(started) AS total, started AS year\n    FROM user\n    WHERE year BETWEEN 1920 AND 2017\n    GROUP BY(year)\n    )\nSELECT * t\n\"\"\")",
    "id": "b59103f0804046f68417ba24797bad20",
    "idx": 24,
    "time": "2021-01-21T01:46:09.805Z",
    "type": "execution"
   },
   {
    "id": "b59103f0804046f68417ba24797bad20",
    "time": "2021-01-21T01:46:09.919Z",
    "type": "completion"
   },
   {
    "code": "queryToDataframe(\"\"\"\nWITH t AS\n    (\n    SELECT * FROM method\n    )\nSELECT * FROM t\n\"\"\")",
    "id": "b59103f0804046f68417ba24797bad20",
    "idx": 24,
    "time": "2021-01-21T01:52:44.110Z",
    "type": "execution"
   },
   {
    "id": "b59103f0804046f68417ba24797bad20",
    "time": "2021-01-21T01:52:44.212Z",
    "type": "completion"
   },
   {
    "code": "queryToDataframe(\"\"\"\nWITH t AS\n    (\n    SELECT COUNT(started) AS total, started AS year\n    FROM user\n    WHERE year BETWEEN 1920 AND 2017\n    GROUP BY(year)\n    )\nWITH f AS\n    (\n    SELECT COUNT(started) AS female, started AS year\n    FROM user\n    WHERE year BETWEEN 1920 AND 2017\n        AND sex = 1\n    GROUP BY(year)\n    )\nSELECT * from f\n\"\"\")",
    "id": "b59103f0804046f68417ba24797bad20",
    "idx": 24,
    "time": "2021-01-21T01:54:46.568Z",
    "type": "execution"
   },
   {
    "id": "b59103f0804046f68417ba24797bad20",
    "time": "2021-01-21T01:54:46.653Z",
    "type": "completion"
   },
   {
    "code": "queryToDataframe(\"\"\"\nWITH t AS\n    (\n    SELECT COUNT(started) AS total, started AS year\n    FROM user\n    WHERE year BETWEEN 1920 AND 2017\n    GROUP BY(year)\n    ),\nWITH f AS\n    (\n    SELECT COUNT(started) AS female, started AS year\n    FROM user\n    WHERE year BETWEEN 1920 AND 2017\n        AND sex = 1\n    GROUP BY(year)\n    )\nSELECT * from f\n\"\"\")",
    "id": "b59103f0804046f68417ba24797bad20",
    "idx": 24,
    "time": "2021-01-21T01:55:02.556Z",
    "type": "execution"
   },
   {
    "id": "b59103f0804046f68417ba24797bad20",
    "time": "2021-01-21T01:55:02.665Z",
    "type": "completion"
   },
   {
    "code": "queryToDataframe(\"\"\"\nWITH t AS\n    (\n    SELECT COUNT(started) AS total, started AS year\n    FROM user\n    WHERE year BETWEEN 1920 AND 2017\n    GROUP BY(year)\n    ),\nWITH f AS\n    (\n    SELECT COUNT(started) AS female, started AS year\n    FROM user\n    WHERE year BETWEEN 1920 AND 2017\n        AND sex = 1\n    GROUP BY(year)\n    ),\nSELECT * from f\n\"\"\")",
    "id": "b59103f0804046f68417ba24797bad20",
    "idx": 24,
    "time": "2021-01-21T01:55:06.245Z",
    "type": "execution"
   },
   {
    "id": "b59103f0804046f68417ba24797bad20",
    "time": "2021-01-21T01:55:06.350Z",
    "type": "completion"
   },
   {
    "code": "queryToDataframe(\"\"\"\nWITH t AS\n    (\n    SELECT COUNT(started) AS total, started AS year\n    FROM user\n    WHERE year BETWEEN 1920 AND 2017\n    GROUP BY(year)\n    ),\nWITH f AS\n    (\n    SELECT COUNT(started) AS female, started AS year\n    FROM user\n    WHERE year BETWEEN 1920 AND 2017\n        AND sex = 1\n    GROUP BY(year)\n    )\nSELECT * from f\n\"\"\")",
    "id": "b59103f0804046f68417ba24797bad20",
    "idx": 24,
    "time": "2021-01-21T01:55:50.391Z",
    "type": "execution"
   },
   {
    "id": "b59103f0804046f68417ba24797bad20",
    "time": "2021-01-21T01:55:50.509Z",
    "type": "completion"
   },
   {
    "code": "queryToDataframe(\"\"\"\nWITH f AS\n    (\n    SELECT COUNT(started) AS female, started AS year\n    FROM user\n    WHERE year BETWEEN 1920 AND 2017\n        AND sex = 1\n    GROUP BY(year)\n    )\nSELECT * from f\n\"\"\")",
    "id": "b59103f0804046f68417ba24797bad20",
    "idx": 24,
    "time": "2021-01-21T01:56:03.487Z",
    "type": "execution"
   },
   {
    "id": "b59103f0804046f68417ba24797bad20",
    "time": "2021-01-21T01:56:03.631Z",
    "type": "completion"
   },
   {
    "code": "queryToDataframe(\"\"\"\nWITH t AS\n    (\n    SELECT COUNT(started) AS total, started AS year\n    FROM user\n    WHERE year BETWEEN 1920 AND 2017\n    GROUP BY(year)\n    ),\nWITH f AS\n    (\n    SELECT COUNT(started) AS female, started AS year\n    FROM user\n    WHERE year BETWEEN 1920 AND 2017\n        AND sex = 1\n    GROUP BY(year)\n    )\nSELECT * from t, f\n\"\"\")",
    "id": "b59103f0804046f68417ba24797bad20",
    "idx": 24,
    "time": "2021-01-21T01:57:55.809Z",
    "type": "execution"
   },
   {
    "id": "b59103f0804046f68417ba24797bad20",
    "time": "2021-01-21T01:57:55.893Z",
    "type": "completion"
   },
   {
    "code": "queryToDataframe(\"\"\"\nWITH t AS\n    (\n    SELECT COUNT(started) AS total, started AS year\n    FROM user\n    WHERE year BETWEEN 1920 AND 2017\n    GROUP BY(year)\n    ),\nWITH f AS\n    (\n    SELECT COUNT(started) AS female, started AS year\n    FROM user\n    WHERE year BETWEEN 1920 AND 2017\n        AND sex = 1\n    GROUP BY(year)\n    )\nSELECT * FROM t, f\nWHERE t.year = f.year\n\"\"\")",
    "id": "b59103f0804046f68417ba24797bad20",
    "idx": 24,
    "time": "2021-01-21T01:58:59.820Z",
    "type": "execution"
   },
   {
    "id": "b59103f0804046f68417ba24797bad20",
    "time": "2021-01-21T01:58:59.917Z",
    "type": "completion"
   },
   {
    "code": "queryToDataframe(\"\"\"\nWITH t AS\n    (\n    SELECT COUNT(started) AS total, started AS year\n    FROM user\n    WHERE year BETWEEN 1920 AND 2017\n    GROUP BY(year)\n    )\nSELECT * FROM t\n\"\"\")",
    "id": "05c499590e3d41798d499f66245ca456",
    "idx": 24,
    "time": "2021-01-21T01:59:35.731Z",
    "type": "execution"
   },
   {
    "id": "05c499590e3d41798d499f66245ca456",
    "time": "2021-01-21T01:59:35.872Z",
    "type": "completion"
   },
   {
    "code": "queryToDataframe(\"\"\"\nWITH t AS\n    (\n    SELECT COUNT(started) AS total, started AS year\n    FROM user\n    WHERE year BETWEEN 1920 AND 2017\n    GROUP BY(year)\n    ),\nf AS\n    (\n    SELECT COUNT(started) AS female, started AS year\n    FROM user\n    WHERE year BETWEEN 1920 AND 2017\n        AND sex = 1\n    GROUP BY(year)\n    )\nSELECT * FROM t, f\nWHERE t.year = f.year\n\"\"\")",
    "id": "b59103f0804046f68417ba24797bad20",
    "idx": 25,
    "time": "2021-01-21T02:00:08.851Z",
    "type": "execution"
   },
   {
    "id": "b59103f0804046f68417ba24797bad20",
    "time": "2021-01-21T02:00:08.970Z",
    "type": "completion"
   },
   {
    "code": "queryToDataframe(\"\"\"\nWITH t AS\n    (\n    SELECT COUNT(started) AS total, started AS year\n    FROM user\n    WHERE year BETWEEN 1920 AND 2017\n    GROUP BY(year)\n    ),\nf AS\n    (\n    SELECT COUNT(started) AS female, started AS year\n    FROM user\n    WHERE year BETWEEN 1920 AND 2017\n        AND sex = 1\n    GROUP BY(year)\n    )\nSELECT year, total, female FROM t, f\nWHERE t.year = f.year\n\"\"\")",
    "id": "b59103f0804046f68417ba24797bad20",
    "idx": 25,
    "time": "2021-01-21T02:00:52.057Z",
    "type": "execution"
   },
   {
    "id": "b59103f0804046f68417ba24797bad20",
    "time": "2021-01-21T02:00:52.134Z",
    "type": "completion"
   },
   {
    "code": "queryToDataframe(\"\"\"\nWITH t AS\n    (\n    SELECT COUNT(started) AS total, started AS year\n    FROM user\n    WHERE year BETWEEN 1920 AND 2017\n    GROUP BY(year)\n    ),\nf AS\n    (\n    SELECT COUNT(started) AS female, started AS year\n    FROM user\n    WHERE year BETWEEN 1920 AND 2017\n        AND sex = 1\n    GROUP BY(year)\n    )\nSELECT f.year, total, female FROM t, f\nWHERE t.year = f.year\n\"\"\")",
    "id": "b59103f0804046f68417ba24797bad20",
    "idx": 25,
    "time": "2021-01-21T02:00:56.866Z",
    "type": "execution"
   },
   {
    "id": "b59103f0804046f68417ba24797bad20",
    "time": "2021-01-21T02:00:56.985Z",
    "type": "completion"
   },
   {
    "code": "queryToDataframe(\"\"\"\nWITH t AS\n    (\n    SELECT COUNT(started) AS total, started AS year\n    FROM user\n    WHERE year BETWEEN 1920 AND 2017\n    GROUP BY(year)\n    ),\nf AS\n    (\n    SELECT COUNT(started) AS female, started AS year\n    FROM user\n    WHERE year BETWEEN 1920 AND 2017\n        AND sex = 1\n    GROUP BY(year)\n    )\nSELECT f.year, t.total, f.female FROM t, f\nWHERE t.year = f.year\n\"\"\")",
    "id": "b59103f0804046f68417ba24797bad20",
    "idx": 25,
    "time": "2021-01-21T02:01:05.599Z",
    "type": "execution"
   },
   {
    "id": "b59103f0804046f68417ba24797bad20",
    "time": "2021-01-21T02:01:05.761Z",
    "type": "completion"
   },
   {
    "code": "queryToDataframe(\"\"\"\nWITH t AS\n    (\n    SELECT COUNT(started) AS total, started AS year\n    FROM user\n    WHERE year BETWEEN 1920 AND 2017\n    GROUP BY(year)\n    ),\nf AS\n    (\n    SELECT COUNT(started) AS female, started AS year\n    FROM user\n    WHERE year BETWEEN 1920 AND 2017\n        AND sex = 1\n    GROUP BY(year)\n    ),\nm AS\n    (\n    SELECT COUNT(started) AS MALE, started AS year\n    FROM user\n    WHERE year BETWEEN 1920 AND 2017\n        AND sex = 0\n    GROUP BY(year)\n    )\nSELECT f.year, t.total, f.female, m.male \nFROM t, f, m\nWHERE t.year = f.year\n\"\"\")",
    "id": "b59103f0804046f68417ba24797bad20",
    "idx": 25,
    "time": "2021-01-21T02:02:21.605Z",
    "type": "execution"
   },
   {
    "id": "b59103f0804046f68417ba24797bad20",
    "time": "2021-01-21T02:02:21.793Z",
    "type": "completion"
   },
   {
    "code": "queryToDataframe(\"\"\"\nWITH t AS\n    (\n    SELECT COUNT(started) AS total, started AS year\n    FROM user\n    WHERE year BETWEEN 1920 AND 2017\n    GROUP BY(year)\n    ),\nf AS\n    (\n    SELECT COUNT(started) AS female, started AS year\n    FROM user\n    WHERE year BETWEEN 1920 AND 2017\n        AND sex = 1\n    GROUP BY(year)\n    ),\nm AS\n    (\n    SELECT COUNT(started) AS male, started AS year\n    FROM user\n    WHERE year BETWEEN 1920 AND 2017\n        AND sex = 0\n    GROUP BY(year)\n    )\nSELECT f.year, t.total, f.female, m.male \nFROM t, f, m\nWHERE t.year = f.year\n\"\"\")",
    "id": "b59103f0804046f68417ba24797bad20",
    "idx": 25,
    "time": "2021-01-21T02:02:46.714Z",
    "type": "execution"
   },
   {
    "id": "b59103f0804046f68417ba24797bad20",
    "time": "2021-01-21T02:02:46.904Z",
    "type": "completion"
   },
   {
    "code": "queryToDataframe(\"\"\"\nWITH t AS\n    (\n    SELECT COUNT(started) AS total, started AS year\n    FROM user\n    WHERE year BETWEEN 1920 AND 2017\n    GROUP BY(year)\n    ),\nf AS\n    (\n    SELECT COUNT(started) AS female, started AS year\n    FROM user\n    WHERE year BETWEEN 1920 AND 2017\n        AND sex = 1\n    GROUP BY(year)\n    ),\nm AS\n    (\n    SELECT COUNT(started) AS male, started AS year\n    FROM user\n    WHERE year BETWEEN 1920 AND 2017\n        AND sex = 0\n    GROUP BY(year)\n    )\nSELECT f.year, t.total, f.female, m.male \nFROM t, f, m\nWHERE t.year = f.year = m.year\n\"\"\")",
    "id": "b59103f0804046f68417ba24797bad20",
    "idx": 25,
    "time": "2021-01-21T02:03:17.516Z",
    "type": "execution"
   },
   {
    "id": "b59103f0804046f68417ba24797bad20",
    "time": "2021-01-21T02:03:17.700Z",
    "type": "completion"
   },
   {
    "code": "queryToDataframe(\"\"\"\nWITH t AS\n    (\n    SELECT COUNT(started) AS total, started AS year\n    FROM user\n    WHERE year BETWEEN 1920 AND 2017\n    GROUP BY(year)\n    ),\nf AS\n    (\n    SELECT COUNT(started) AS female, started AS year\n    FROM user\n    WHERE year BETWEEN 1920 AND 2017\n        AND sex = 1\n    GROUP BY(year)\n    ),\nm AS\n    (\n    SELECT COUNT(started) AS male, started AS year\n    FROM user\n    WHERE year BETWEEN 1920 AND 2017\n        AND sex = 0\n    GROUP BY(year)\n    )\nSELECT f.year, t.total, f.female, m.male \nFROM t, f, m\nWHERE t.year = f.year\n    AND t.year = m.year\n\"\"\")",
    "id": "b59103f0804046f68417ba24797bad20",
    "idx": 25,
    "time": "2021-01-21T02:03:27.887Z",
    "type": "execution"
   },
   {
    "id": "b59103f0804046f68417ba24797bad20",
    "time": "2021-01-21T02:03:28.023Z",
    "type": "completion"
   },
   {
    "code": "year_count_segmented = queryToDataframe(\"\"\"\nWITH t AS\n    (\n    SELECT COUNT(started) AS total, started AS year\n    FROM user\n    WHERE year BETWEEN 1920 AND 2017\n    GROUP BY(year)\n    ),\nf AS\n    (\n    SELECT COUNT(started) AS female, started AS year\n    FROM user\n    WHERE year BETWEEN 1920 AND 2017\n        AND sex = 1\n    GROUP BY(year)\n    ),\nm AS\n    (\n    SELECT COUNT(started) AS male, started AS year\n    FROM user\n    WHERE year BETWEEN 1920 AND 2017\n        AND sex = 0\n    GROUP BY(year)\n    )\nSELECT f.year, t.total, f.female, m.male \nFROM t, f, m\nWHERE t.year = f.year\n    AND t.year = m.year\n\"\"\")",
    "id": "b59103f0804046f68417ba24797bad20",
    "idx": 24,
    "time": "2021-01-21T02:04:40.498Z",
    "type": "execution"
   },
   {
    "id": "b59103f0804046f68417ba24797bad20",
    "time": "2021-01-21T02:04:40.614Z",
    "type": "completion"
   },
   {
    "code": "year_count_segmented",
    "id": "6469cfb1db544db4be7e6774a267681d",
    "idx": 25,
    "time": "2021-01-21T02:04:59.263Z",
    "type": "execution"
   },
   {
    "id": "6469cfb1db544db4be7e6774a267681d",
    "time": "2021-01-21T02:04:59.334Z",
    "type": "completion"
   },
   {
    "code": "start_year_count_all[start_year_count_all < 1950]",
    "id": "a5ebbb6aa60a41db8d662c5c40717dff",
    "idx": 23,
    "time": "2021-01-21T02:05:31.864Z",
    "type": "execution"
   },
   {
    "id": "a5ebbb6aa60a41db8d662c5c40717dff",
    "time": "2021-01-21T02:05:32.002Z",
    "type": "completion"
   },
   {
    "code": "start_year_count_all[start_year_count_all[\"year\"] < 1950]",
    "id": "a5ebbb6aa60a41db8d662c5c40717dff",
    "idx": 23,
    "time": "2021-01-21T02:05:57.537Z",
    "type": "execution"
   },
   {
    "id": "a5ebbb6aa60a41db8d662c5c40717dff",
    "time": "2021-01-21T02:05:57.622Z",
    "type": "completion"
   },
   {
    "code": "year_count_segmented = queryToDataframe(\"\"\"\nWITH t AS\n    (\n    SELECT COUNT(started) AS total, started AS year\n    FROM user\n    WHERE year BETWEEN 1960 AND 2017\n    GROUP BY(year)\n    ),\nf AS\n    (\n    SELECT COUNT(started) AS female, started AS year\n    FROM user\n    WHERE year BETWEEN 1960 AND 2017\n        AND sex = 1\n    GROUP BY(year)\n    ),\nm AS\n    (\n    SELECT COUNT(started) AS male, started AS year\n    FROM user\n    WHERE year BETWEEN 1960 AND 2017\n        AND sex = 0\n    GROUP BY(year)\n    )\nSELECT f.year, t.total, f.female, m.male \nFROM t, f, m\nWHERE t.year = f.year\n    AND t.year = m.year\n\"\"\")",
    "id": "b59103f0804046f68417ba24797bad20",
    "idx": 24,
    "time": "2021-01-21T02:06:25.438Z",
    "type": "execution"
   },
   {
    "id": "b59103f0804046f68417ba24797bad20",
    "time": "2021-01-21T02:06:25.562Z",
    "type": "completion"
   },
   {
    "code": "year_count_segmented",
    "id": "6469cfb1db544db4be7e6774a267681d",
    "idx": 25,
    "time": "2021-01-21T02:06:25.910Z",
    "type": "execution"
   },
   {
    "id": "6469cfb1db544db4be7e6774a267681d",
    "time": "2021-01-21T02:06:25.985Z",
    "type": "completion"
   },
   {
    "code": "queryToDataframe(c.execute(\"\"\"\nSELECT COUNT(*)\nFROM user\nWHERE sex = 0\n\"\"\"))",
    "id": "1d39c693cd3e443abb1347da43fa9a53",
    "idx": 27,
    "time": "2021-01-21T02:20:48.409Z",
    "type": "execution"
   },
   {
    "id": "1d39c693cd3e443abb1347da43fa9a53",
    "time": "2021-01-21T02:20:48.542Z",
    "type": "completion"
   },
   {
    "code": "queryToDataframe(c.execute(\"\"\"\nSELECT COUNT(*)\nFROM user\nWHERE sex == 0\n\"\"\"))",
    "id": "1d39c693cd3e443abb1347da43fa9a53",
    "idx": 27,
    "time": "2021-01-21T02:20:56.802Z",
    "type": "execution"
   },
   {
    "id": "1d39c693cd3e443abb1347da43fa9a53",
    "time": "2021-01-21T02:20:56.899Z",
    "type": "completion"
   },
   {
    "code": "queryToDataframe(c.execute(\"\"\"\nSELECT COUNT(*)\nFROM user\n\"\"\"))",
    "id": "1d39c693cd3e443abb1347da43fa9a53",
    "idx": 27,
    "time": "2021-01-21T02:21:33.456Z",
    "type": "execution"
   },
   {
    "id": "1d39c693cd3e443abb1347da43fa9a53",
    "time": "2021-01-21T02:21:33.582Z",
    "type": "completion"
   },
   {
    "code": "queryToDataframe(c.execute(\"\"\"\nSELECT COUNT()\nFROM user\n\"\"\"))",
    "id": "1d39c693cd3e443abb1347da43fa9a53",
    "idx": 27,
    "time": "2021-01-21T02:21:43.603Z",
    "type": "execution"
   },
   {
    "id": "1d39c693cd3e443abb1347da43fa9a53",
    "time": "2021-01-21T02:21:43.728Z",
    "type": "completion"
   },
   {
    "code": "queryToDataframe(c.execute(\"\"\"\nSELECT COUNT(id)\nFROM user\nWHERE sex = 0\n\"\"\"))",
    "id": "1d39c693cd3e443abb1347da43fa9a53",
    "idx": 27,
    "time": "2021-01-21T02:22:04.756Z",
    "type": "execution"
   },
   {
    "id": "1d39c693cd3e443abb1347da43fa9a53",
    "time": "2021-01-21T02:22:04.884Z",
    "type": "completion"
   },
   {
    "code": "queryToDataframe(\"\"\"\nSELECT COUNT(id)\nFROM user\nWHERE sex = 0\n\"\"\")",
    "id": "1d39c693cd3e443abb1347da43fa9a53",
    "idx": 27,
    "time": "2021-01-21T02:22:13.484Z",
    "type": "execution"
   },
   {
    "id": "1d39c693cd3e443abb1347da43fa9a53",
    "time": "2021-01-21T02:22:13.632Z",
    "type": "completion"
   },
   {
    "code": "queryToDataframe(\"\"\"\nSELECT COUNT(id WHERE sex = 0) AS male, COUNT(id WHERE sex=1) AS female\nFROM user\n\"\"\")",
    "id": "1d39c693cd3e443abb1347da43fa9a53",
    "idx": 27,
    "time": "2021-01-21T02:23:56.313Z",
    "type": "execution"
   },
   {
    "id": "1d39c693cd3e443abb1347da43fa9a53",
    "time": "2021-01-21T02:23:56.394Z",
    "type": "completion"
   },
   {
    "code": "queryToDataframe(\"\"\"\nWITH f AS \n    (\n    SELECT COUNT(*) AS male\n    WHERE sex = 0\n    ),\n    \n    m AS\n    (\n    SELECT COUNT(*) AS female\n    WHERE sex = 1\n    )\n    \nSELECT * \nFROM f,m\n\"\"\")",
    "id": "1d39c693cd3e443abb1347da43fa9a53",
    "idx": 27,
    "time": "2021-01-21T02:26:45.919Z",
    "type": "execution"
   },
   {
    "id": "1d39c693cd3e443abb1347da43fa9a53",
    "time": "2021-01-21T02:26:46.001Z",
    "type": "completion"
   },
   {
    "code": "queryToDataframe(\"\"\"\nWITH f AS \n    (\n    SELECT COUNT(*) AS male\n    FROM user\n    WHERE sex = 0\n    ),\n    \n    m AS\n    (\n    SELECT COUNT(*) AS female\n    FROM user\n    WHERE sex = 1\n    )\n    \nSELECT * \nFROM f,m\n\"\"\")",
    "id": "1d39c693cd3e443abb1347da43fa9a53",
    "idx": 27,
    "time": "2021-01-21T02:26:59.666Z",
    "type": "execution"
   },
   {
    "id": "1d39c693cd3e443abb1347da43fa9a53",
    "time": "2021-01-21T02:26:59.793Z",
    "type": "completion"
   },
   {
    "code": "sex_ratio = queryToDataframe(\"\"\"\nWITH f AS \n    (\n    SELECT COUNT(*) AS male\n    FROM user\n    WHERE sex = 0\n    ),\n    \n    m AS\n    (\n    SELECT COUNT(*) AS female\n    FROM user\n    WHERE sex = 1\n    )\n    \nSELECT * \nFROM f,m\n\"\"\")",
    "id": "1d39c693cd3e443abb1347da43fa9a53",
    "idx": 27,
    "time": "2021-01-21T02:28:17.245Z",
    "type": "execution"
   },
   {
    "id": "1d39c693cd3e443abb1347da43fa9a53",
    "time": "2021-01-21T02:28:17.344Z",
    "type": "completion"
   },
   {
    "code": "sex_ratio",
    "id": "8b627c2b284347848149caba22d679c5",
    "idx": 28,
    "time": "2021-01-21T02:28:32.524Z",
    "type": "execution"
   },
   {
    "id": "8b627c2b284347848149caba22d679c5",
    "time": "2021-01-21T02:28:32.630Z",
    "type": "completion"
   },
   {
    "code": "queryToDataframe(\"\"\"\nSELECT COUNT(*) AS count\nFROM user\nGROUP BY sex\n\"\"\")",
    "id": "017e25a77966450d80758f5ed2c94837",
    "idx": 29,
    "time": "2021-01-21T02:36:49.500Z",
    "type": "execution"
   },
   {
    "id": "017e25a77966450d80758f5ed2c94837",
    "time": "2021-01-21T02:36:49.651Z",
    "type": "completion"
   },
   {
    "code": "queryToDataframe(\"\"\"\nSELECT COUNT(*) AS count\nFROM user\nGROUP BY country\n\"\"\")",
    "id": "017e25a77966450d80758f5ed2c94837",
    "idx": 29,
    "time": "2021-01-21T02:40:01.898Z",
    "type": "execution"
   },
   {
    "id": "017e25a77966450d80758f5ed2c94837",
    "time": "2021-01-21T02:40:02.033Z",
    "type": "completion"
   },
   {
    "code": "queryToDataframe(\"\"\"\nSELECT COUNT(*) AS count, country\nFROM user\nGROUP BY country\n\"\"\")",
    "id": "017e25a77966450d80758f5ed2c94837",
    "idx": 29,
    "time": "2021-01-21T02:41:15.396Z",
    "type": "execution"
   },
   {
    "id": "017e25a77966450d80758f5ed2c94837",
    "time": "2021-01-21T02:41:15.520Z",
    "type": "completion"
   },
   {
    "code": "queryToDataframe(\"\"\"\nSELECT COUNT(*) AS count, country\nFROM user\nGROUP BY country\nORDER count DESC\n\"\"\")",
    "id": "017e25a77966450d80758f5ed2c94837",
    "idx": 29,
    "time": "2021-01-21T02:41:26.309Z",
    "type": "execution"
   },
   {
    "id": "017e25a77966450d80758f5ed2c94837",
    "time": "2021-01-21T02:41:26.582Z",
    "type": "completion"
   },
   {
    "code": "queryToDataframe(\"\"\"\nSELECT COUNT(*) AS count, country\nFROM user\nGROUP BY country\nORDER count DES\n\"\"\")",
    "id": "017e25a77966450d80758f5ed2c94837",
    "idx": 29,
    "time": "2021-01-21T02:41:32.654Z",
    "type": "execution"
   },
   {
    "id": "017e25a77966450d80758f5ed2c94837",
    "time": "2021-01-21T02:41:32.795Z",
    "type": "completion"
   },
   {
    "code": "queryToDataframe(\"\"\"\nSELECT COUNT(*) AS count, country\nFROM user\nGROUP BY country\nORDER BY count DES\n\"\"\")",
    "id": "017e25a77966450d80758f5ed2c94837",
    "idx": 29,
    "time": "2021-01-21T02:41:40.754Z",
    "type": "execution"
   },
   {
    "id": "017e25a77966450d80758f5ed2c94837",
    "time": "2021-01-21T02:41:41.845Z",
    "type": "completion"
   },
   {
    "code": "queryToDataframe(\"\"\"\nSELECT COUNT(*) AS count, country\nFROM user\nGROUP BY country\nORDER BY count DESC\n\"\"\")",
    "id": "017e25a77966450d80758f5ed2c94837",
    "idx": 29,
    "time": "2021-01-21T02:41:49.192Z",
    "type": "execution"
   },
   {
    "id": "017e25a77966450d80758f5ed2c94837",
    "time": "2021-01-21T02:41:49.959Z",
    "type": "completion"
   },
   {
    "code": "queryToDataframe(\"\"\"\nSELECT COUNT(*) AS count, \n    sex CASE WHEN 0 THEN 'male'\n             WHEN 1 THEN 'female'\n             ELSE 'NA'\nFROM user\nGROUP BY sex\nORDER BY count DESC\n\"\"\")",
    "id": "7cd4a5e836a3491b8191ddf3afad75b3",
    "idx": 29,
    "time": "2021-01-21T02:45:09.381Z",
    "type": "execution"
   },
   {
    "id": "7cd4a5e836a3491b8191ddf3afad75b3",
    "time": "2021-01-21T02:45:09.808Z",
    "type": "completion"
   },
   {
    "code": "queryToDataframe(\"\"\"\nSELECT COUNT(*) AS count, \n    CASE WHEN sex = 0 THEN 'male'\n         WHEN sex = 1 THEN 'female'\n         ELSE 'NA'\n    END AS sex\nFROM user\nGROUP BY sex\nORDER BY count DESC\n\"\"\")",
    "id": "7cd4a5e836a3491b8191ddf3afad75b3",
    "idx": 29,
    "time": "2021-01-21T02:48:47.944Z",
    "type": "execution"
   },
   {
    "id": "7cd4a5e836a3491b8191ddf3afad75b3",
    "time": "2021-01-21T02:48:49.047Z",
    "type": "completion"
   },
   {
    "code": "sex_ratio = queryToDataframe(\"\"\"\nSELECT COUNT(*) AS count, \n    CASE WHEN sex = 0 THEN 'male'\n         WHEN sex = 1 THEN 'female'\n         ELSE 'NA'\n    END AS sex\nFROM user\nGROUP BY sex\nORDER BY count DESC\n\"\"\")",
    "id": "1d39c693cd3e443abb1347da43fa9a53",
    "idx": 27,
    "time": "2021-01-21T02:49:15.484Z",
    "type": "execution"
   },
   {
    "code": "sex_ratio",
    "id": "8b627c2b284347848149caba22d679c5",
    "idx": 28,
    "time": "2021-01-21T02:49:15.746Z",
    "type": "execution"
   },
   {
    "id": "1d39c693cd3e443abb1347da43fa9a53",
    "time": "2021-01-21T02:49:16.011Z",
    "type": "completion"
   },
   {
    "id": "8b627c2b284347848149caba22d679c5",
    "time": "2021-01-21T02:49:16.029Z",
    "type": "completion"
   },
   {
    "code": "year_count_segmented.dtypes()",
    "id": "6469cfb1db544db4be7e6774a267681d",
    "idx": 25,
    "time": "2021-01-21T02:51:08.933Z",
    "type": "execution"
   },
   {
    "id": "6469cfb1db544db4be7e6774a267681d",
    "time": "2021-01-21T02:51:09.052Z",
    "type": "completion"
   },
   {
    "code": "year_count_segmented.dtypes",
    "id": "6469cfb1db544db4be7e6774a267681d",
    "idx": 25,
    "time": "2021-01-21T02:51:12.801Z",
    "type": "execution"
   },
   {
    "id": "6469cfb1db544db4be7e6774a267681d",
    "time": "2021-01-21T02:51:13.089Z",
    "type": "completion"
   },
   {
    "code": "year_count_segmented",
    "id": "6469cfb1db544db4be7e6774a267681d",
    "idx": 25,
    "time": "2021-01-21T02:51:17.345Z",
    "type": "execution"
   },
   {
    "id": "6469cfb1db544db4be7e6774a267681d",
    "time": "2021-01-21T02:51:18.067Z",
    "type": "completion"
   },
   {
    "code": "year_count_segmented.columns",
    "id": "fbd138fdb9ca40fd8cc82ca385be8323",
    "idx": 26,
    "time": "2021-01-21T02:58:06.694Z",
    "type": "execution"
   },
   {
    "id": "fbd138fdb9ca40fd8cc82ca385be8323",
    "time": "2021-01-21T02:58:07.350Z",
    "type": "completion"
   },
   {
    "code": "year_count_segmented.columns.values",
    "id": "fbd138fdb9ca40fd8cc82ca385be8323",
    "idx": 26,
    "time": "2021-01-21T02:58:10.473Z",
    "type": "execution"
   },
   {
    "id": "fbd138fdb9ca40fd8cc82ca385be8323",
    "time": "2021-01-21T02:58:10.693Z",
    "type": "completion"
   },
   {
    "code": "year_count_segmented.columns.values()",
    "id": "fbd138fdb9ca40fd8cc82ca385be8323",
    "idx": 26,
    "time": "2021-01-21T02:58:17.156Z",
    "type": "execution"
   },
   {
    "id": "fbd138fdb9ca40fd8cc82ca385be8323",
    "time": "2021-01-21T02:58:17.375Z",
    "type": "completion"
   },
   {
    "code": "year_count_segmented.columns.values",
    "id": "fbd138fdb9ca40fd8cc82ca385be8323",
    "idx": 26,
    "time": "2021-01-21T02:58:21.000Z",
    "type": "execution"
   },
   {
    "id": "fbd138fdb9ca40fd8cc82ca385be8323",
    "time": "2021-01-21T02:58:21.334Z",
    "type": "completion"
   },
   {
    "code": "year_count_segmented.columns.values[1]",
    "id": "fbd138fdb9ca40fd8cc82ca385be8323",
    "idx": 26,
    "time": "2021-01-21T02:58:23.906Z",
    "type": "execution"
   },
   {
    "id": "fbd138fdb9ca40fd8cc82ca385be8323",
    "time": "2021-01-21T02:58:24.343Z",
    "type": "completion"
   },
   {
    "code": "year_count_segmented[\"year\"].to_datetime",
    "id": "fbd138fdb9ca40fd8cc82ca385be8323",
    "idx": 26,
    "time": "2021-01-21T03:03:48.876Z",
    "type": "execution"
   },
   {
    "id": "fbd138fdb9ca40fd8cc82ca385be8323",
    "time": "2021-01-21T03:03:49.567Z",
    "type": "completion"
   },
   {
    "code": "pd.to_datetime(year_count_segmented[\"year\"])",
    "id": "fbd138fdb9ca40fd8cc82ca385be8323",
    "idx": 26,
    "time": "2021-01-21T03:04:54.405Z",
    "type": "execution"
   },
   {
    "id": "fbd138fdb9ca40fd8cc82ca385be8323",
    "time": "2021-01-21T03:04:54.622Z",
    "type": "completion"
   },
   {
    "code": "pd.to_datetime(year_count_segmented[\"year\"], format = '%Y')",
    "id": "fbd138fdb9ca40fd8cc82ca385be8323",
    "idx": 26,
    "time": "2021-01-21T03:05:31.500Z",
    "type": "execution"
   },
   {
    "id": "fbd138fdb9ca40fd8cc82ca385be8323",
    "time": "2021-01-21T03:05:31.632Z",
    "type": "completion"
   },
   {
    "code": "def multiLinePlot(df, x, time = False):\n    if time:\n        xvar = pd.to_datetime(df[x])\n    else:\n        xvar = df[x]\n        \n    yvars = df.drop(columns = x)\n    ycols = yvars.columns.values\n    \n    for col in ycols:\n        plt.plot(xvar, df[col])\n    \n    plt.legend()\n    return fig",
    "id": "12dab9ef95ff45c0a54abd55063278ec",
    "idx": 27,
    "time": "2021-01-21T03:10:00.402Z",
    "type": "execution"
   },
   {
    "id": "12dab9ef95ff45c0a54abd55063278ec",
    "time": "2021-01-21T03:10:00.836Z",
    "type": "completion"
   },
   {
    "code": "multiLinePlot(year_count_segmented, \"year\", time = True)",
    "id": "d05d08528d754480a970548518a4c800",
    "idx": 28,
    "time": "2021-01-21T03:10:34.963Z",
    "type": "execution"
   },
   {
    "id": "d05d08528d754480a970548518a4c800",
    "time": "2021-01-21T03:10:36.884Z",
    "type": "completion"
   },
   {
    "code": "def multiLinePlot(df, x, time = False):\n    if time:\n        xvar = pd.to_datetime(df[x])\n    else:\n        xvar = df[x]\n        \n    yvars = df.drop(columns = x)\n    ycols = yvars.columns.values\n    \n    for col in ycols:\n        plt.plot(xvar, df[col], label = col)\n    \n    plt.legend()\n    return fig",
    "id": "12dab9ef95ff45c0a54abd55063278ec",
    "idx": 27,
    "time": "2021-01-21T03:10:46.220Z",
    "type": "execution"
   },
   {
    "id": "12dab9ef95ff45c0a54abd55063278ec",
    "time": "2021-01-21T03:10:46.867Z",
    "type": "completion"
   },
   {
    "code": "multiLinePlot(year_count_segmented, \"year\", time = True)",
    "id": "d05d08528d754480a970548518a4c800",
    "idx": 28,
    "time": "2021-01-21T03:10:46.980Z",
    "type": "execution"
   },
   {
    "id": "d05d08528d754480a970548518a4c800",
    "time": "2021-01-21T03:10:48.850Z",
    "type": "completion"
   },
   {
    "code": "def multiLinePlot(df, x, time = False):\n    if time:\n        xvar = pd.to_datetime(df[x])\n    else:\n        xvar = df[x]\n        \n    yvars = df.drop(columns = x)\n    ycols = yvars.columns.values\n    \n    for col in ycols:\n        plt.plot(xvar, df[col], label = col)\n    \n    plt.legend()",
    "id": "12dab9ef95ff45c0a54abd55063278ec",
    "idx": 27,
    "time": "2021-01-21T03:11:15.922Z",
    "type": "execution"
   },
   {
    "id": "12dab9ef95ff45c0a54abd55063278ec",
    "time": "2021-01-21T03:11:16.889Z",
    "type": "completion"
   },
   {
    "code": "multiLinePlot(year_count_segmented, \"year\", time = True)",
    "id": "d05d08528d754480a970548518a4c800",
    "idx": 28,
    "time": "2021-01-21T03:11:23.476Z",
    "type": "execution"
   },
   {
    "id": "d05d08528d754480a970548518a4c800",
    "time": "2021-01-21T03:11:24.924Z",
    "type": "completion"
   },
   {
    "code": "def multiLinePlot(df, x, time = False, title = \"\", ylab = \"\", xlab = \"\"):\n    if time:\n        xvar = pd.to_datetime(df[x])\n    else:\n        xvar = df[x]\n        \n    yvars = df.drop(columns = x)\n    ycols = yvars.columns.values\n    \n    for col in ycols:\n        plt.plot(xvar, df[col], label = col)\n    \n    plt.legend()\n    \n    title = title",
    "id": "12dab9ef95ff45c0a54abd55063278ec",
    "idx": 27,
    "time": "2021-01-21T03:12:24.387Z",
    "type": "execution"
   },
   {
    "id": "12dab9ef95ff45c0a54abd55063278ec",
    "time": "2021-01-21T03:12:24.942Z",
    "type": "completion"
   },
   {
    "code": "def multiLinePlot(df, x, time = False, title = \"\", ylab = \"\", xlab = \"\"):\n    if time:\n        xvar = pd.to_datetime(df[x]).dt.year\n    else:\n        xvar = df[x]\n        \n    yvars = df.drop(columns = x)\n    ycols = yvars.columns.values\n    \n    for col in ycols:\n        plt.plot(xvar, df[col], label = col)\n    \n    plt.legend()\n    \n    plt.title(title)\n    plt.xlab(xlab)\n    plt.ylab(ylab)",
    "id": "12dab9ef95ff45c0a54abd55063278ec",
    "idx": 27,
    "time": "2021-01-21T03:15:52.757Z",
    "type": "execution"
   },
   {
    "id": "12dab9ef95ff45c0a54abd55063278ec",
    "time": "2021-01-21T03:15:53.056Z",
    "type": "completion"
   },
   {
    "code": "multiLinePlot(year_count_segmented, \"year\", time = True)",
    "id": "d05d08528d754480a970548518a4c800",
    "idx": 28,
    "time": "2021-01-21T03:15:55.122Z",
    "type": "execution"
   },
   {
    "id": "d05d08528d754480a970548518a4c800",
    "time": "2021-01-21T03:15:56.426Z",
    "type": "completion"
   },
   {
    "code": "def multiLinePlot(df, x, time = False, title = \"\", ylab = \"\", xlab = \"\"):\n    if time:\n        xvar = pd.to_datetime(df[x]).dt.year\n    else:\n        xvar = df[x]\n        \n    yvars = df.drop(columns = x)\n    ycols = yvars.columns.values\n    \n    for col in ycols:\n        plt.plot(xvar, df[col], label = col)\n    \n    plt.legend()\n    \n    plt.title(title)\n    plt.xlabel(xlab)\n    plt.ylabel(ylab)",
    "id": "12dab9ef95ff45c0a54abd55063278ec",
    "idx": 27,
    "time": "2021-01-21T03:16:04.100Z",
    "type": "execution"
   },
   {
    "code": "multiLinePlot(year_count_segmented, \"year\", time = True)",
    "id": "d05d08528d754480a970548518a4c800",
    "idx": 28,
    "time": "2021-01-21T03:16:04.583Z",
    "type": "execution"
   },
   {
    "id": "12dab9ef95ff45c0a54abd55063278ec",
    "time": "2021-01-21T03:16:05.063Z",
    "type": "completion"
   },
   {
    "id": "d05d08528d754480a970548518a4c800",
    "time": "2021-01-21T03:16:06.099Z",
    "type": "completion"
   },
   {
    "code": "pd.to_datetime(year_count_segmented[\"year\"]).dt.year",
    "id": "fbd138fdb9ca40fd8cc82ca385be8323",
    "idx": 26,
    "time": "2021-01-21T03:16:21.441Z",
    "type": "execution"
   },
   {
    "id": "fbd138fdb9ca40fd8cc82ca385be8323",
    "time": "2021-01-21T03:16:22.080Z",
    "type": "completion"
   },
   {
    "code": "pd.to_datetime(year_count_segmented[\"year\"], format = '%Y')",
    "id": "fbd138fdb9ca40fd8cc82ca385be8323",
    "idx": 26,
    "time": "2021-01-21T03:16:29.138Z",
    "type": "execution"
   },
   {
    "id": "fbd138fdb9ca40fd8cc82ca385be8323",
    "time": "2021-01-21T03:16:30.087Z",
    "type": "completion"
   },
   {
    "code": "pd.to_datetime(year_count_segmented[\"year\"])",
    "id": "fbd138fdb9ca40fd8cc82ca385be8323",
    "idx": 26,
    "time": "2021-01-21T03:16:45.586Z",
    "type": "execution"
   },
   {
    "id": "fbd138fdb9ca40fd8cc82ca385be8323",
    "time": "2021-01-21T03:16:46.143Z",
    "type": "completion"
   },
   {
    "code": "pd.to_datetime(year_count_segmented[\"year\"]).hear",
    "id": "fbd138fdb9ca40fd8cc82ca385be8323",
    "idx": 26,
    "time": "2021-01-21T03:16:49.592Z",
    "type": "execution"
   },
   {
    "id": "fbd138fdb9ca40fd8cc82ca385be8323",
    "time": "2021-01-21T03:16:50.146Z",
    "type": "completion"
   },
   {
    "code": "pd.to_datetime(year_count_segmented[\"year\"]).year",
    "id": "fbd138fdb9ca40fd8cc82ca385be8323",
    "idx": 26,
    "time": "2021-01-21T03:16:53.170Z",
    "type": "execution"
   },
   {
    "id": "fbd138fdb9ca40fd8cc82ca385be8323",
    "time": "2021-01-21T03:16:54.167Z",
    "type": "completion"
   },
   {
    "code": "pd.to_datetime(year_count_segmented[\"year\"]).dt.year",
    "id": "fbd138fdb9ca40fd8cc82ca385be8323",
    "idx": 26,
    "time": "2021-01-21T03:16:58.504Z",
    "type": "execution"
   },
   {
    "id": "fbd138fdb9ca40fd8cc82ca385be8323",
    "time": "2021-01-21T03:16:59.101Z",
    "type": "completion"
   },
   {
    "code": "pd.to_datetime(year_count_segmented[\"year\"])",
    "id": "fbd138fdb9ca40fd8cc82ca385be8323",
    "idx": 26,
    "time": "2021-01-21T03:17:29.983Z",
    "type": "execution"
   },
   {
    "id": "fbd138fdb9ca40fd8cc82ca385be8323",
    "time": "2021-01-21T03:17:30.139Z",
    "type": "completion"
   },
   {
    "code": "pd.to_datetime(year_count_segmented[\"year\"], format = '%Y').dt.year",
    "id": "fbd138fdb9ca40fd8cc82ca385be8323",
    "idx": 26,
    "time": "2021-01-21T03:17:51.264Z",
    "type": "execution"
   },
   {
    "id": "fbd138fdb9ca40fd8cc82ca385be8323",
    "time": "2021-01-21T03:17:52.150Z",
    "type": "completion"
   },
   {
    "code": "def multiLinePlot(df, x, time = False, title = \"\", ylab = \"\", xlab = \"\"):\n    if time:\n        xvar = pd.to_datetime(df[x], format = '%Y').dt.year\n        xvar = df[x]\n        \n    yvars = df.drop(columns = x)\n    ycols = yvars.columns.values\n    \n    for col in ycols:\n        plt.plot(xvar, df[col], label = col)\n    \n    plt.legend()\n    \n    plt.title(title)\n    plt.xlabel(xlab)\n    plt.ylabel(ylab)",
    "id": "12dab9ef95ff45c0a54abd55063278ec",
    "idx": 27,
    "time": "2021-01-21T03:18:06.552Z",
    "type": "execution"
   },
   {
    "code": "multiLinePlot(year_count_segmented, \"year\", time = True)",
    "id": "d05d08528d754480a970548518a4c800",
    "idx": 28,
    "time": "2021-01-21T03:18:07.037Z",
    "type": "execution"
   },
   {
    "id": "12dab9ef95ff45c0a54abd55063278ec",
    "time": "2021-01-21T03:18:07.203Z",
    "type": "completion"
   },
   {
    "id": "d05d08528d754480a970548518a4c800",
    "time": "2021-01-21T03:18:07.456Z",
    "type": "completion"
   },
   {
    "code": "multiLinePlot(df = year_count_segmented, \n              x = \"year\", \n              time = True, \n              title = \"Popularity of Climbing Over Time (Starting Date)\",\n              ylab = \"Total Climbers\",\n              xlab = \"Year\")",
    "id": "d05d08528d754480a970548518a4c800",
    "idx": 28,
    "time": "2021-01-21T03:20:00.284Z",
    "type": "execution"
   },
   {
    "id": "d05d08528d754480a970548518a4c800",
    "time": "2021-01-21T03:20:02.247Z",
    "type": "completion"
   },
   {
    "code": "countryTop10 = queryToDataframe(\"\"\"\nSELECT COUNT(*) AS count, country\nFROM user\nGROUP BY country\nORDER BY count DESC\nLIMIT 10\n\"\"\")",
    "id": "017e25a77966450d80758f5ed2c94837",
    "idx": 33,
    "time": "2021-01-21T03:23:27.232Z",
    "type": "execution"
   },
   {
    "id": "017e25a77966450d80758f5ed2c94837",
    "time": "2021-01-21T03:23:27.435Z",
    "type": "completion"
   },
   {
    "code": "countryTop10",
    "id": "e64c2fcec4fa4764847c0185ea436100",
    "idx": 34,
    "time": "2021-01-21T03:23:33.471Z",
    "type": "execution"
   },
   {
    "id": "e64c2fcec4fa4764847c0185ea436100",
    "time": "2021-01-21T03:23:34.475Z",
    "type": "completion"
   },
   {
    "code": "queryToDataframe(\"\"\"\nSELECT AVG(weight) AS avg_weight, \n       AVG(height) AS avg_height\nFROM user\n\"\"\")",
    "id": "62f56017b1834404844198ff0d65fe0e",
    "idx": 34,
    "time": "2021-01-21T03:27:53.395Z",
    "type": "execution"
   },
   {
    "id": "62f56017b1834404844198ff0d65fe0e",
    "time": "2021-01-21T03:27:53.653Z",
    "type": "completion"
   },
   {
    "code": "queryToDataframe(\"\"\"\nSELECT AVG(weight) AS avg_weight, \n       AVG(height) AS avg_height,\n       CASE WHEN sex = 0 THEN 'male'\n         WHEN sex = 1 THEN 'female'\n         ELSE 'NA'\n    END AS sex\nFROM user\nGROUPBY sex\n\"\"\")",
    "id": "62f56017b1834404844198ff0d65fe0e",
    "idx": 34,
    "time": "2021-01-21T03:28:32.970Z",
    "type": "execution"
   },
   {
    "id": "62f56017b1834404844198ff0d65fe0e",
    "time": "2021-01-21T03:28:33.605Z",
    "type": "completion"
   },
   {
    "code": "queryToDataframe(\"\"\"\nSELECT AVG(weight) AS avg_weight, \n       AVG(height) AS avg_height\nFROM user\nGROUPBY sex\n\"\"\")",
    "id": "62f56017b1834404844198ff0d65fe0e",
    "idx": 34,
    "time": "2021-01-21T03:29:46.300Z",
    "type": "execution"
   },
   {
    "id": "62f56017b1834404844198ff0d65fe0e",
    "time": "2021-01-21T03:29:46.666Z",
    "type": "completion"
   },
   {
    "code": "queryToDataframe(\"\"\"\nSELECT AVG(weight) AS avg_weight, \n       AVG(height) AS avg_height\nFROM user\nGROUP BY sex\n\"\"\")",
    "id": "62f56017b1834404844198ff0d65fe0e",
    "idx": 34,
    "time": "2021-01-21T03:30:33.913Z",
    "type": "execution"
   },
   {
    "id": "62f56017b1834404844198ff0d65fe0e",
    "time": "2021-01-21T03:30:34.782Z",
    "type": "completion"
   },
   {
    "code": "queryToDataframe(\"\"\"\nSELECT AVG(weight) AS avg_weight, \n       AVG(height) AS avg_height,\n       CASE WHEN sex = 0 THEN 'male'\n         WHEN sex = 1 THEN 'female'\n         ELSE 'NA'\n    END AS sex\nFROM user\nGROUP BY sex\n\"\"\")",
    "id": "62f56017b1834404844198ff0d65fe0e",
    "idx": 34,
    "time": "2021-01-21T03:30:41.112Z",
    "type": "execution"
   },
   {
    "id": "62f56017b1834404844198ff0d65fe0e",
    "time": "2021-01-21T03:30:41.785Z",
    "type": "completion"
   },
   {
    "code": "queryToDataframe(\"\"\"\nSELECT AVG(weight) AS avg_weight, \n       AVG(height) AS avg_height,\n       CASE WHEN sex = 0 THEN 'male'\n         WHEN sex = 1 THEN 'female'\n         ELSE 'NA'\n    END AS sex\nFROM user\nWHERE sex != 'NA'\nGROUP BY sex\n\"\"\")",
    "id": "62f56017b1834404844198ff0d65fe0e",
    "idx": 34,
    "time": "2021-01-21T03:31:12.769Z",
    "type": "execution"
   },
   {
    "id": "62f56017b1834404844198ff0d65fe0e",
    "time": "2021-01-21T03:31:13.806Z",
    "type": "completion"
   },
   {
    "code": "queryToDataframe(\"\"\"\nSELECT AVG(weight) AS avg_weight, \n       AVG(height) AS avg_height,\n       CASE WHEN sex = 0 THEN 'male'\n         WHEN sex = 1 THEN 'female'\n         ELSE 'NA'\n    END AS sex\nFROM user\nWHERE sex != 2\nGROUP BY sex\n\"\"\")",
    "id": "62f56017b1834404844198ff0d65fe0e",
    "idx": 34,
    "time": "2021-01-21T03:31:25.030Z",
    "type": "execution"
   },
   {
    "id": "62f56017b1834404844198ff0d65fe0e",
    "time": "2021-01-21T03:31:25.804Z",
    "type": "completion"
   },
   {
    "code": "queryToDataframe(\"\"\"\nSELECT AVG(weight) AS avg_weight, \n       AVG(height) AS avg_height,\n       CASE WHEN sex = 0 THEN 'male'\n         WHEN sex = 1 THEN 'female'\n         ELSE 'NA'\n    END AS sex\nFROM user\nWHERE sex IN('male','female')\nGROUP BY sex\n\"\"\")",
    "id": "62f56017b1834404844198ff0d65fe0e",
    "idx": 34,
    "time": "2021-01-21T03:32:10.742Z",
    "type": "execution"
   },
   {
    "id": "62f56017b1834404844198ff0d65fe0e",
    "time": "2021-01-21T03:32:10.972Z",
    "type": "completion"
   },
   {
    "code": "queryToDataframe(\"\"\"\nSELECT AVG(weight) AS avg_weight, \n       AVG(height) AS avg_height,\n       CASE WHEN sex = 0 THEN 'male'\n         WHEN sex = 1 THEN 'female'\n         ELSE 'NA'\n    END AS sex\nFROM user\nWHERE sex != 'NA'\nGROUP BY sex\n\"\"\")",
    "id": "62f56017b1834404844198ff0d65fe0e",
    "idx": 34,
    "time": "2021-01-21T03:33:05.721Z",
    "type": "execution"
   },
   {
    "id": "62f56017b1834404844198ff0d65fe0e",
    "time": "2021-01-21T03:33:06.618Z",
    "type": "completion"
   },
   {
    "code": "queryToDataframe(\"\"\"\nSELECT AVG(weight) AS avg_weight, \n       AVG(height) AS avg_height,\n       CASE WHEN sex = 0 THEN 'male'\n         WHEN sex = 1 THEN 'female'\n    END AS sex\nFROM user\nGROUP BY sex\n\"\"\")",
    "id": "62f56017b1834404844198ff0d65fe0e",
    "idx": 34,
    "time": "2021-01-21T03:33:29.909Z",
    "type": "execution"
   },
   {
    "id": "62f56017b1834404844198ff0d65fe0e",
    "time": "2021-01-21T03:33:30.885Z",
    "type": "completion"
   },
   {
    "code": "queryToDataframe(\"\"\"\nSELECT AVG(weight) AS avg_weight, \n       AVG(height) AS avg_height,\n       CASE WHEN sex = 0 THEN 'male'\n         WHEN sex = 1 THEN 'female'\n    END AS sex\nFROM user\nGROUP BY sex\nWHERE sex != 'None'\n\"\"\")",
    "id": "62f56017b1834404844198ff0d65fe0e",
    "idx": 34,
    "time": "2021-01-21T03:33:43.364Z",
    "type": "execution"
   },
   {
    "id": "62f56017b1834404844198ff0d65fe0e",
    "time": "2021-01-21T03:33:43.797Z",
    "type": "completion"
   },
   {
    "code": "queryToDataframe(\"\"\"\nSELECT AVG(weight) AS avg_weight, \n       AVG(height) AS avg_height,\n       CASE WHEN sex = 0 THEN 'male'\n         WHEN sex = 1 THEN 'female'\n    END AS sex\nFROM user\nGROUP BY sex\nWHERE sex != 2\n\"\"\")",
    "id": "62f56017b1834404844198ff0d65fe0e",
    "idx": 34,
    "time": "2021-01-21T03:33:47.121Z",
    "type": "execution"
   },
   {
    "id": "62f56017b1834404844198ff0d65fe0e",
    "time": "2021-01-21T03:33:47.804Z",
    "type": "completion"
   },
   {
    "code": "queryToDataframe(\"\"\"\nSELECT AVG(weight) AS avg_weight, \n       AVG(height) AS avg_height,\n       CASE WHEN sex = 0 THEN 'male'\n         WHEN sex = 1 THEN 'female'\n    END AS sex\nFROM user\nWHERE sex != 2\nGROUP BY sex\n\"\"\")",
    "id": "62f56017b1834404844198ff0d65fe0e",
    "idx": 34,
    "time": "2021-01-21T03:33:53.894Z",
    "type": "execution"
   },
   {
    "id": "62f56017b1834404844198ff0d65fe0e",
    "time": "2021-01-21T03:33:54.849Z",
    "type": "completion"
   },
   {
    "code": "queryToDataframe(\"\"\"\nSELECT AVG(weight) AS avg_weight, \n       AVG(height) AS avg_height,\n       CASE WHEN sex = 0 THEN 'male'\n         WHEN sex = 1 THEN 'female'\n    END AS sex\nFROM user\nWHERE sex = 'male'\nGROUP BY sex\n\"\"\")",
    "id": "62f56017b1834404844198ff0d65fe0e",
    "idx": 34,
    "time": "2021-01-21T03:34:04.626Z",
    "type": "execution"
   },
   {
    "id": "62f56017b1834404844198ff0d65fe0e",
    "time": "2021-01-21T03:34:04.885Z",
    "type": "completion"
   },
   {
    "code": "queryToDataframe(\"\"\"\nSELECT AVG(weight) AS avg_weight, \n       AVG(height) AS avg_height,\n       CASE WHEN sex = 0 THEN 'male'\n         WHEN sex = 1 THEN 'female'\n    END AS sex\nFROM user\nGROUP BY sex\n\"\"\")",
    "id": "62f56017b1834404844198ff0d65fe0e",
    "idx": 34,
    "time": "2021-01-21T03:34:09.666Z",
    "type": "execution"
   },
   {
    "id": "62f56017b1834404844198ff0d65fe0e",
    "time": "2021-01-21T03:34:09.851Z",
    "type": "completion"
   },
   {
    "code": "weight_average = queryToDataframe(\"\"\"\nSELECT AVG(weight) AS avg_weight, \n       AVG(height) AS avg_height,\n       CASE WHEN sex = 0 THEN 'male'\n            WHEN sex = 1 THEN 'female'\n            ELSE 'NA'\n    END AS sex\nFROM user\nGROUP BY sex\n\"\"\")",
    "id": "62f56017b1834404844198ff0d65fe0e",
    "idx": 34,
    "time": "2021-01-21T03:35:08.076Z",
    "type": "execution"
   },
   {
    "id": "62f56017b1834404844198ff0d65fe0e",
    "time": "2021-01-21T03:35:08.889Z",
    "type": "completion"
   },
   {
    "code": "weight_average",
    "id": "1e9493dafa9241a58e14fa4a0e984628",
    "idx": 35,
    "time": "2021-01-21T03:35:13.137Z",
    "type": "execution"
   },
   {
    "id": "1e9493dafa9241a58e14fa4a0e984628",
    "time": "2021-01-21T03:35:13.908Z",
    "type": "completion"
   },
   {
    "code": "queryToDataframe(\"\"\"\nSELECT COUNT(*) AS count,\n       AVG(weight) AS avg_weight, \n       AVG(height) AS avg_height,\n       CASE WHEN sex = 0 THEN 'male'\n            WHEN sex = 1 THEN 'female'\n            ELSE 'NA'\n    END AS sex\nFROM user\nGROUP BY sex\n\"\"\")",
    "id": "2665929f7ad14ab3874195db79897ad7",
    "idx": 36,
    "time": "2021-01-21T03:36:28.320Z",
    "type": "execution"
   },
   {
    "id": "2665929f7ad14ab3874195db79897ad7",
    "time": "2021-01-21T03:36:29.006Z",
    "type": "completion"
   },
   {
    "code": "queryToDataframe(\"\"\"\nSELECT id, user_id, grade_id, method_id, climb_type, year \nFROM ascent\nLIMIT 20\n\"\"\")",
    "id": "3411fe2047194f55b5f130a71af95ae4",
    "idx": 47,
    "time": "2021-01-21T03:41:47.012Z",
    "type": "execution"
   },
   {
    "id": "3411fe2047194f55b5f130a71af95ae4",
    "time": "2021-01-21T03:41:47.127Z",
    "type": "completion"
   },
   {
    "code": "queryToDataframe(\"\"\"\nSELECT id, user_id, grade_id, method_id, climb_type, year \nFROM ascent a\nLEFT JOIN grade g\n    ON a.grade_id = m.id\n    \nLIMIT 20\n\"\"\")",
    "id": "3411fe2047194f55b5f130a71af95ae4",
    "idx": 47,
    "time": "2021-01-21T03:43:26.990Z",
    "type": "execution"
   },
   {
    "id": "3411fe2047194f55b5f130a71af95ae4",
    "time": "2021-01-21T03:43:27.193Z",
    "type": "completion"
   },
   {
    "code": "queryToDataframe(\"\"\"\nSELECT id, user_id, grade_id, method_id, climb_type, year \nFROM ascent a\nLEFT JOIN grade g\n    ON a.grade_id = g.id\n    \nLIMIT 20\n\"\"\")",
    "id": "3411fe2047194f55b5f130a71af95ae4",
    "idx": 47,
    "time": "2021-01-21T03:44:14.566Z",
    "type": "execution"
   },
   {
    "id": "3411fe2047194f55b5f130a71af95ae4",
    "time": "2021-01-21T03:44:15.294Z",
    "type": "completion"
   },
   {
    "code": "queryToDataframe(\"\"\"\nSELECT id, user_id, grade_id, method_id, climb_type, year \nFROM ascent a\nLEFT JOIN grade\n    ON a.grade_id = grade.id\n    \nLIMIT 20\n\"\"\")",
    "id": "3411fe2047194f55b5f130a71af95ae4",
    "idx": 47,
    "time": "2021-01-21T03:44:52.908Z",
    "type": "execution"
   },
   {
    "id": "3411fe2047194f55b5f130a71af95ae4",
    "time": "2021-01-21T03:44:53.275Z",
    "type": "completion"
   },
   {
    "code": "column_info_dfs[\"grades\"].columns",
    "id": "aed37da60bb64eec97cacdac703c3ef6",
    "idx": 48,
    "time": "2021-01-21T03:50:31.334Z",
    "type": "execution"
   },
   {
    "id": "aed37da60bb64eec97cacdac703c3ef6",
    "time": "2021-01-21T03:50:31.503Z",
    "type": "completion"
   },
   {
    "code": "column_info_dfs[\"grade\"].columns",
    "id": "aed37da60bb64eec97cacdac703c3ef6",
    "idx": 48,
    "time": "2021-01-21T03:50:49.096Z",
    "type": "execution"
   },
   {
    "id": "aed37da60bb64eec97cacdac703c3ef6",
    "time": "2021-01-21T03:50:49.529Z",
    "type": "completion"
   },
   {
    "code": "column_info_dfs[\"grade\"]",
    "id": "aed37da60bb64eec97cacdac703c3ef6",
    "idx": 48,
    "time": "2021-01-21T03:50:55.934Z",
    "type": "execution"
   },
   {
    "id": "aed37da60bb64eec97cacdac703c3ef6",
    "time": "2021-01-21T03:50:56.517Z",
    "type": "completion"
   },
   {
    "code": "column_info_dfs[\"grade\"][\"Column\"]",
    "id": "aed37da60bb64eec97cacdac703c3ef6",
    "idx": 48,
    "time": "2021-01-21T03:51:02.921Z",
    "type": "execution"
   },
   {
    "id": "aed37da60bb64eec97cacdac703c3ef6",
    "time": "2021-01-21T03:51:03.505Z",
    "type": "completion"
   },
   {
    "code": "queryToDataframe(\"\"\"\nSELECT id, user_id, grade_id, method_id, climb_type, year , fra_routes, fra_boulders, \nFROM ascent, grade\nWHERE ascent.grade_id = grade.id\nORDER BY RANDOM()\nLIMIT 20\n\"\"\")",
    "id": "3411fe2047194f55b5f130a71af95ae4",
    "idx": 47,
    "time": "2021-01-21T03:51:30.797Z",
    "type": "execution"
   },
   {
    "id": "3411fe2047194f55b5f130a71af95ae4",
    "time": "2021-01-21T03:51:31.525Z",
    "type": "completion"
   },
   {
    "code": "queryToDataframe(\"\"\"\nSELECT a.id, a.user_id, a.grade_id, a.method_id, a.climb_type, a.year , \ng.fra_routes, g.fra_boulders \nFROM ascent a, grade g\nWHERE a.grade_id = g.id\nORDER BY RANDOM()\nLIMIT 20\n\"\"\")",
    "id": "3411fe2047194f55b5f130a71af95ae4",
    "idx": 47,
    "time": "2021-01-21T03:52:48.443Z",
    "type": "execution"
   },
   {
    "id": "3411fe2047194f55b5f130a71af95ae4",
    "time": "2021-01-21T03:52:50.134Z",
    "type": "completion"
   },
   {
    "code": "queryToDataframe(\"\"\"\nSELECT \n    a.id, a.user_id, a.grade_id, a.method_id, a.climb_type, a.year, \n    g.fra_routes, g.fra_boulders \nFROM ascent a, grade g\nWHERE a.grade_id = g.id\nORDER BY RANDOM()\nLIMIT 100\n\"\"\")",
    "id": "3411fe2047194f55b5f130a71af95ae4",
    "idx": 47,
    "time": "2021-01-21T03:53:30.230Z",
    "type": "execution"
   },
   {
    "id": "3411fe2047194f55b5f130a71af95ae4",
    "time": "2021-01-21T03:53:32.022Z",
    "type": "completion"
   },
   {
    "code": "queryToDataframe(\"\"\"SELECT * FROM method\"\"\")",
    "id": "def396b98bd04d43a7ba044dc0cbaa6c",
    "idx": 54,
    "time": "2021-01-21T04:10:03.139Z",
    "type": "execution"
   },
   {
    "id": "def396b98bd04d43a7ba044dc0cbaa6c",
    "time": "2021-01-21T04:10:03.354Z",
    "type": "completion"
   },
   {
    "code": "queryToDataframe(\"\"\"\nSELECT \n    a.id, a.user_id, a.grade_id, a.method_id, a.climb_type AS bouldering, a.year, \n    g.fra_routes, g.fra_boulders \nFROM ascent a, grade g\nWHERE a.grade_id = g.id\nORDER BY RANDOM()\nLIMIT 100\n\"\"\")",
    "id": "3411fe2047194f55b5f130a71af95ae4",
    "idx": 47,
    "time": "2021-01-21T04:12:56.345Z",
    "type": "execution"
   },
   {
    "id": "3411fe2047194f55b5f130a71af95ae4",
    "time": "2021-01-21T04:12:57.837Z",
    "type": "completion"
   },
   {
    "code": "queryToDataframe(\"\"\"\nSELECT \n    a.id, a.user_id, a.grade_id, a.method_id, a.climb_type AS bouldering, a.year, \n    g.fra_routes AS grade \nFROM ascent a, grade g\nWHERE a.grade_id = g.id\nORDER BY RANDOM()\nLIMIT 100\n\"\"\")",
    "id": "3411fe2047194f55b5f130a71af95ae4",
    "idx": 47,
    "time": "2021-01-21T04:15:11.056Z",
    "type": "execution"
   },
   {
    "id": "3411fe2047194f55b5f130a71af95ae4",
    "time": "2021-01-21T04:15:13.095Z",
    "type": "completion"
   },
   {
    "code": "queryToDataframe(\"\"\"\nSELECT \n    a.id, a.user_id, a.grade_id, a.method_id, a.climb_type AS bouldering, a.year, \n    g.fra_routes AS grade \nFROM ascent a, grade g\nWHERE a.grade_id = g.id\nGROUP BY user_id\nORDER BY RANDOM()\nLIMIT 100\n\"\"\")",
    "id": "3411fe2047194f55b5f130a71af95ae4",
    "idx": 47,
    "time": "2021-01-21T04:16:27.826Z",
    "type": "execution"
   },
   {
    "id": "3411fe2047194f55b5f130a71af95ae4",
    "time": "2021-01-21T04:16:32.328Z",
    "type": "completion"
   },
   {
    "code": "queryToDataframe(\"\"\"\nSELECT \n    a.id, a.user_id, a.grade_id, a.method_id, a.climb_type AS bouldering, a.year, \n    g.fra_routes AS grade \nFROM ascent a, grade g\nWHERE a.grade_id = g.id\nGROUP BY user_id\nLIMIT 100\n\"\"\")",
    "id": "3411fe2047194f55b5f130a71af95ae4",
    "idx": 47,
    "time": "2021-01-21T04:17:04.795Z",
    "type": "execution"
   },
   {
    "id": "3411fe2047194f55b5f130a71af95ae4",
    "time": "2021-01-21T04:17:08.494Z",
    "type": "completion"
   },
   {
    "code": "queryToDataframe(\"\"\"\nSELECT \n    MAX(a.grade_id), a.climb_type AS bouldering, a.year, \n    g.fra_routes AS grade \nFROM ascent a, grade g\nWHERE a.grade_id = g.id\nGROUP BY user_id, bouldering, year\nLIMIT 100\n\"\"\")",
    "id": "3411fe2047194f55b5f130a71af95ae4",
    "idx": 47,
    "time": "2021-01-21T04:20:19.898Z",
    "type": "execution"
   },
   {
    "code": "import sqlite3\nimport pandas as pd\nimport numpy as np\nimport matplotlib.pyplot as plt",
    "id": "672e04a4c68f407c9014110351943251",
    "idx": 2,
    "time": "2021-01-21T17:17:50.534Z",
    "type": "execution"
   },
   {
    "code": "#Make a connection\ncon = sqlite3.connect('database.sqlite')\n\n#Make a cursor instance\nc = con.cursor()",
    "id": "f98bd7f22bf348eabd1a07bd28a10c66",
    "idx": 4,
    "time": "2021-01-21T17:17:50.842Z",
    "type": "execution"
   },
   {
    "code": "#Look at all of the tables within the sqlite databes\ndef table_names():\n    query = \"\"\"\n    SELECT NAME \n    FROM SQLITE_MASTER \n    WHERE type= 'table';\n    \"\"\"\n    c.execute(query)\n    \n    tables = []\n    for row in c.fetchall():\n        tables.append(row[0])\n    \n    return tables",
    "id": "e8f2a68775a840ebb11eadccb26afaf2",
    "idx": 6,
    "time": "2021-01-21T17:17:51.161Z",
    "type": "execution"
   },
   {
    "code": "all_tables = table_names()\n\nfor table in all_tables:\n    print(table)",
    "id": "a960fe0133724ea5b3faceb26f44267a",
    "idx": 7,
    "time": "2021-01-21T17:17:51.288Z",
    "type": "execution"
   },
   {
    "id": "672e04a4c68f407c9014110351943251",
    "time": "2021-01-21T17:17:51.352Z",
    "type": "completion"
   },
   {
    "id": "f98bd7f22bf348eabd1a07bd28a10c66",
    "time": "2021-01-21T17:17:51.371Z",
    "type": "completion"
   },
   {
    "id": "e8f2a68775a840ebb11eadccb26afaf2",
    "time": "2021-01-21T17:17:51.374Z",
    "type": "completion"
   },
   {
    "id": "a960fe0133724ea5b3faceb26f44267a",
    "time": "2021-01-21T17:17:51.382Z",
    "type": "completion"
   },
   {
    "code": "def col_info():\n    #Get table names\n    tables = table_names()\n    \n    #Initialize dataframes for each table\n    dfs = {}\n\n    for table in tables:\n        #d[table] = pd.DataFrame()\n        \n        query = f\"\"\"\n        PRAGMA table_info({table})\n        \"\"\"\n        c.execute(query)\n        \n        Column = []\n        Type = []\n        Not_Null = []\n        Primary_Key = []\n        \n        for row in c:\n            Column.append(row[1])\n            Type.append(row[2])\n            if row[3]:\n                Not_Null.append(\"YES\")\n            else:\n                Not_Null.append(\"NO\")\n            if row[5]:\n                Primary_Key.append(\"YES\")\n            else:\n                Primary_Key.append(\"\")\n            \n        dfs[table] = pd.DataFrame({\"Column\" : Column,\n                          \"Type\" : Type,\n                          \"Not_Null\" : Not_Null,\n                          \"Primary_Key\" : Primary_Key})\n    return dfs ",
    "id": "fbe7efac7477440c831f2c85701ee0ec",
    "idx": 9,
    "time": "2021-01-21T17:17:51.810Z",
    "type": "execution"
   },
   {
    "id": "fbe7efac7477440c831f2c85701ee0ec",
    "time": "2021-01-21T17:17:51.872Z",
    "type": "completion"
   },
   {
    "code": "column_info_dfs = col_info()",
    "id": "ab76ee17bc214c8b8529c8e9f55958e6",
    "idx": 10,
    "time": "2021-01-21T17:17:51.985Z",
    "type": "execution"
   },
   {
    "id": "ab76ee17bc214c8b8529c8e9f55958e6",
    "time": "2021-01-21T17:17:52.059Z",
    "type": "completion"
   },
   {
    "code": "column_info_dfs[\"user\"]",
    "id": "f12044c43acd48cb8b0cb97169b02903",
    "idx": 11,
    "time": "2021-01-21T17:17:52.414Z",
    "type": "execution"
   },
   {
    "id": "f12044c43acd48cb8b0cb97169b02903",
    "time": "2021-01-21T17:17:52.505Z",
    "type": "completion"
   },
   {
    "code": "column_info_dfs[\"method\"]",
    "id": "bedaf6e57b424183ba2a75d5cc949b6a",
    "idx": 12,
    "time": "2021-01-21T17:17:52.798Z",
    "type": "execution"
   },
   {
    "id": "bedaf6e57b424183ba2a75d5cc949b6a",
    "time": "2021-01-21T17:17:52.883Z",
    "type": "completion"
   },
   {
    "code": "column_info_dfs[\"grade\"]",
    "id": "5168ba3caa834d428da8eef32f82217d",
    "idx": 13,
    "time": "2021-01-21T17:17:52.954Z",
    "type": "execution"
   },
   {
    "id": "5168ba3caa834d428da8eef32f82217d",
    "time": "2021-01-21T17:17:53.040Z",
    "type": "completion"
   },
   {
    "code": "column_info_dfs[\"ascent\"]",
    "id": "fb630cb0bc544a99a7cb6c8d929e2a60",
    "idx": 14,
    "time": "2021-01-21T17:17:53.109Z",
    "type": "execution"
   },
   {
    "id": "fb630cb0bc544a99a7cb6c8d929e2a60",
    "time": "2021-01-21T17:17:53.204Z",
    "type": "completion"
   },
   {
    "code": "def countRows():\n    #Get table names\n    tables = table_names()\n    \n    for table in tables:\n        query = f\"\"\"\n        SELECT COUNT(id)\n        FROM {table}\n        \"\"\"\n        count = c.execute(query).fetchall()[0][0]\n        print(f\"{table} table:  {count} rows\")\n        ",
    "id": "1d8ac79de033463d80cb4c83e1571ad4",
    "idx": 16,
    "time": "2021-01-21T17:17:53.404Z",
    "type": "execution"
   },
   {
    "id": "1d8ac79de033463d80cb4c83e1571ad4",
    "time": "2021-01-21T17:17:53.471Z",
    "type": "completion"
   },
   {
    "code": "countRows()",
    "id": "19dbb0364c944aa283edf98a2ff01315",
    "idx": 17,
    "time": "2021-01-21T17:17:54.079Z",
    "type": "execution"
   },
   {
    "id": "19dbb0364c944aa283edf98a2ff01315",
    "time": "2021-01-21T17:17:56.233Z",
    "type": "completion"
   },
   {
    "code": "def queryToDataframe(query):\n    \"\"\"\n    Takes a sql query.\n    Returns a dataframe with column names and records.\n    \"\"\"\n    sql = c.execute(query)\n    colnames = sql.description\n    numcols = len(colnames)\n    \n    cols = []\n    for col in range(numcols):\n        cols.append(colnames[col][0])\n    \n    rows = sql.fetchall()\n    \n    df = pd.DataFrame(rows, columns = cols)\n    return df",
    "id": "2ce5a5f6b8cd4f4995aa8937514cff0b",
    "idx": 20,
    "time": "2021-01-21T17:17:58.959Z",
    "type": "execution"
   },
   {
    "id": "2ce5a5f6b8cd4f4995aa8937514cff0b",
    "time": "2021-01-21T17:17:59.023Z",
    "type": "completion"
   },
   {
    "code": "# Get count of all users who started in a given year\n\n",
    "id": "a3ca289276ef4a6687d81f2b34f5f77f",
    "idx": 21,
    "time": "2021-01-21T17:18:00.289Z",
    "type": "execution"
   },
   {
    "id": "a3ca289276ef4a6687d81f2b34f5f77f",
    "time": "2021-01-21T17:18:00.356Z",
    "type": "completion"
   },
   {
    "code": "start_year_count_all = queryToDataframe(\"\"\"\nSELECT COUNT(started) AS total, started AS year\nFROM user\nWHERE year BETWEEN 1920 AND 2017\nGROUP BY(year)\nORDER BY year DESC\n\"\"\")",
    "id": "21a42835798748b29a8a1dacec422ff5",
    "idx": 22,
    "time": "2021-01-21T17:18:00.647Z",
    "type": "execution"
   },
   {
    "id": "21a42835798748b29a8a1dacec422ff5",
    "time": "2021-01-21T17:18:00.799Z",
    "type": "completion"
   },
   {
    "code": "start_year_count_all[start_year_count_all[\"year\"] < 1950]",
    "id": "95acca14c6c64c94813eb4547e5c5a34",
    "idx": 23,
    "time": "2021-01-21T17:18:01.052Z",
    "type": "execution"
   },
   {
    "id": "95acca14c6c64c94813eb4547e5c5a34",
    "time": "2021-01-21T17:18:01.147Z",
    "type": "completion"
   },
   {
    "code": "queryToDataframe(\"\"\"\nWITH t AS\n    (\n    SELECT COUNT(started) AS total, started AS year\n    FROM user\n    WHERE year BETWEEN 1960 AND 2017\n    GROUP BY(year)\n    ),\nf AS\n    (\n    SELECT COUNT(started) AS female, started AS year\n    FROM user\n    WHERE year BETWEEN 1960 AND 2017\n        AND sex = 1\n    GROUP BY(year)\n    ),\nm AS\n    (\n    SELECT COUNT(started) AS male, started AS year\n    FROM user\n    WHERE year BETWEEN 1960 AND 2017\n        AND sex = 0\n    GROUP BY(year)\n    )\nSELECT f.year, t.total, f.female, m.male \nFROM t\nLEFT JOIN f\n    ON t.year = f.year\nLEFT JOIN m\n    ON t.year = m.year\n\"\"\"",
    "id": "8950fc09992946b6af09a8cb96467083",
    "idx": 26,
    "time": "2021-01-21T17:19:27.795Z",
    "type": "execution"
   },
   {
    "id": "8950fc09992946b6af09a8cb96467083",
    "time": "2021-01-21T17:19:27.883Z",
    "type": "completion"
   },
   {
    "code": "queryToDataframe(\"\"\"\nWITH t AS\n    (\n    SELECT COUNT(started) AS total, started AS year\n    FROM user\n    WHERE year BETWEEN 1960 AND 2017\n    GROUP BY(year)\n    ),\nf AS\n    (\n    SELECT COUNT(started) AS female, started AS year\n    FROM user\n    WHERE year BETWEEN 1960 AND 2017\n        AND sex = 1\n    GROUP BY(year)\n    ),\nm AS\n    (\n    SELECT COUNT(started) AS male, started AS year\n    FROM user\n    WHERE year BETWEEN 1960 AND 2017\n        AND sex = 0\n    GROUP BY(year)\n    )\nSELECT f.year, t.total, f.female, m.male \nFROM t\nLEFT JOIN f\n    ON t.year = f.year\nLEFT JOIN m\n    ON t.year = m.year\n\"\"\")",
    "id": "8950fc09992946b6af09a8cb96467083",
    "idx": 26,
    "time": "2021-01-21T17:20:04.648Z",
    "type": "execution"
   },
   {
    "id": "8950fc09992946b6af09a8cb96467083",
    "time": "2021-01-21T17:20:04.791Z",
    "type": "completion"
   },
   {
    "code": "queryToDataframe(\"\"\"\nWITH t AS\n    (\n    SELECT COUNT(started) AS total, started AS year\n    FROM user\n    WHERE year BETWEEN 1960 AND 2017\n    GROUP BY(year)\n    ),\nf AS\n    (\n    SELECT COUNT(started) AS female, started AS year\n    FROM user\n    WHERE year BETWEEN 1960 AND 2017\n        AND sex = 1\n    GROUP BY(year)\n    ),\nm AS\n    (\n    SELECT COUNT(started) AS male, started AS year\n    FROM user\n    WHERE year BETWEEN 1960 AND 2017\n        AND sex = 0\n    GROUP BY(year)\n    )\nSELECT t.year, t.total, f.female, m.male \nFROM t\nLEFT JOIN f\n    ON t.year = f.year\nLEFT JOIN m\n    ON t.year = m.year\n\"\"\")",
    "id": "8950fc09992946b6af09a8cb96467083",
    "idx": 26,
    "time": "2021-01-21T17:20:40.899Z",
    "type": "execution"
   },
   {
    "id": "8950fc09992946b6af09a8cb96467083",
    "time": "2021-01-21T17:20:41.043Z",
    "type": "completion"
   },
   {
    "code": "queryToDataframe(\"\"\"\nWITH t AS\n    (\n    SELECT COUNT(started) AS total, started AS year\n    FROM user\n    WHERE year BETWEEN 1960 AND 2017\n    GROUP BY(year)\n    ),\nf AS\n    (\n    SELECT COUNT(started) AS female, started AS year\n    FROM user\n    WHERE year BETWEEN 1960 AND 2017\n        AND sex = 1\n    GROUP BY(year)\n    ),\nm AS\n    (\n    SELECT COUNT(started) AS male, started AS year\n    FROM user\n    WHERE year BETWEEN 1960 AND 2017\n        AND sex = 0\n    GROUP BY(year)\n    )\nSELECT t.year, t.total, m.male, ISNULL(f.female, 0)\nFROM t\nLEFT JOIN f\n    ON t.year = f.year\nLEFT JOIN m\n    ON t.year = m.year\n\"\"\")",
    "id": "8950fc09992946b6af09a8cb96467083",
    "idx": 26,
    "time": "2021-01-21T17:26:17.455Z",
    "type": "execution"
   },
   {
    "id": "8950fc09992946b6af09a8cb96467083",
    "time": "2021-01-21T17:26:17.623Z",
    "type": "completion"
   },
   {
    "code": "queryToDataframe(\"\"\"\nWITH t AS\n    (\n    SELECT COUNT(started) AS total, started AS year\n    FROM user\n    WHERE year BETWEEN 1960 AND 2017\n    GROUP BY(year)\n    ),\nf AS\n    (\n    SELECT COUNT(started) AS female, started AS year\n    FROM user\n    WHERE year BETWEEN 1960 AND 2017\n        AND sex = 1\n    GROUP BY(year)\n    ),\nm AS\n    (\n    SELECT COUNT(started) AS male, started AS year\n    FROM user\n    WHERE year BETWEEN 1960 AND 2017\n        AND sex = 0\n    GROUP BY(year)\n    )\nSELECT t.year, t.total, m.male, ISNULL(f.female, 0)\nFROM t\nLEFT JOIN f\n    ON t.year = f.year\nLEFT JOIN m\n    ON t.year = m.year\n\"\"\")",
    "id": "8950fc09992946b6af09a8cb96467083",
    "idx": 26,
    "time": "2021-01-21T17:28:01.961Z",
    "type": "execution"
   },
   {
    "id": "8950fc09992946b6af09a8cb96467083",
    "time": "2021-01-21T17:28:02.140Z",
    "type": "completion"
   },
   {
    "code": "queryToDataframe(\"\"\"\nWITH t AS\n    (\n    SELECT COUNT(started) AS total, started AS year\n    FROM user\n    WHERE year BETWEEN 1960 AND 2017\n    GROUP BY(year)\n    ),\nf AS\n    (\n    SELECT COUNT(started) AS female, started AS year\n    FROM user\n    WHERE year BETWEEN 1960 AND 2017\n        AND sex = 1\n    GROUP BY(year)\n    ),\nm AS\n    (\n    SELECT COUNT(started) AS male, started AS year\n    FROM user\n    WHERE year BETWEEN 1960 AND 2017\n        AND sex = 0\n    GROUP BY(year)\n    )\nSELECT t.year, t.total, m.male, IFNULL(f.female, 0)\nFROM t\nLEFT JOIN f\n    ON t.year = f.year\nLEFT JOIN m\n    ON t.year = m.year\n\"\"\")",
    "id": "8950fc09992946b6af09a8cb96467083",
    "idx": 26,
    "time": "2021-01-21T17:28:13.640Z",
    "type": "execution"
   },
   {
    "id": "8950fc09992946b6af09a8cb96467083",
    "time": "2021-01-21T17:28:13.864Z",
    "type": "completion"
   },
   {
    "code": "queryToDataframe(\"\"\"\nWITH t AS\n    (\n    SELECT COUNT(started) AS total, started AS year\n    FROM user\n    WHERE year BETWEEN 1960 AND 2017\n    GROUP BY(year)\n    ),\nf AS\n    (\n    SELECT COUNT(started) AS female, started AS year\n    FROM user\n    WHERE year BETWEEN 1960 AND 2017\n        AND sex = 1\n    GROUP BY(year)\n    ),\nm AS\n    (\n    SELECT COUNT(started) AS male, started AS year\n    FROM user\n    WHERE year BETWEEN 1960 AND 2017\n        AND sex = 0\n    GROUP BY(year)\n    )\nSELECT t.year, t.total, m.male, IFNULL(f.female, 0) AS female\nFROM t\nLEFT JOIN f\n    ON t.year = f.year\nLEFT JOIN m\n    ON t.year = m.year\n\"\"\")",
    "id": "8950fc09992946b6af09a8cb96467083",
    "idx": 26,
    "time": "2021-01-21T17:28:36.345Z",
    "type": "execution"
   },
   {
    "id": "8950fc09992946b6af09a8cb96467083",
    "time": "2021-01-21T17:28:36.552Z",
    "type": "completion"
   },
   {
    "code": "year_count_segmented = queryToDataframe(\"\"\"\nWITH t AS\n    (\n    SELECT COUNT(started) AS total, started AS year\n    FROM user\n    WHERE year BETWEEN 1960 AND 2017\n    GROUP BY(year)\n    ),\nf AS\n    (\n    SELECT COUNT(started) AS female, started AS year\n    FROM user\n    WHERE year BETWEEN 1960 AND 2017\n        AND sex = 1\n    GROUP BY(year)\n    ),\nm AS\n    (\n    SELECT COUNT(started) AS male, started AS year\n    FROM user\n    WHERE year BETWEEN 1960 AND 2017\n        AND sex = 0\n    GROUP BY(year)\n    )\nSELECT t.year, t.total, m.male, IFNULL(f.female, 0) AS female\nFROM t\nLEFT JOIN f\n    ON t.year = f.year\nLEFT JOIN m\n    ON t.year = m.year\n\"\"\")",
    "id": "62b3fa97a2744c3e819a5a98d063a16a",
    "idx": 24,
    "time": "2021-01-21T17:29:26.810Z",
    "type": "execution"
   },
   {
    "id": "62b3fa97a2744c3e819a5a98d063a16a",
    "time": "2021-01-21T17:29:26.928Z",
    "type": "completion"
   },
   {
    "code": "year_count_segmented",
    "id": "54718345c0684289aecdd846b5f62141",
    "idx": 25,
    "time": "2021-01-21T17:29:27.399Z",
    "type": "execution"
   },
   {
    "id": "54718345c0684289aecdd846b5f62141",
    "time": "2021-01-21T17:29:27.577Z",
    "type": "completion"
   },
   {
    "code": "def write_csv(df, path, filename):\n    \"\"\"\n    Takes a dataframe, path, and filename.\n    Returns a written csv.\n    Checks if the csv is already written, and if the path is correct.\n    \"\"\"\n    file = os.path.join(path, filename)\n\n    if os.path.exists(path):\n        if os.path.exists(file):\n            print(f\"The csv {filename} already exists.\")\n        else:\n            pd.DataFrame.to_csv(df, file)\n    else:\n        print(f\"The path {path} does not exist.\")",
    "id": "9138abcf408d4004a11ae96372e9ccb5",
    "idx": 26,
    "time": "2021-01-21T17:37:01.178Z",
    "type": "execution"
   },
   {
    "id": "9138abcf408d4004a11ae96372e9ccb5",
    "time": "2021-01-21T17:37:01.290Z",
    "type": "completion"
   },
   {
    "code": "write_csv(year_count_segmented, \"clean_data\", \"popularity_growth.csv\")",
    "id": "042f321d8553493b83c1fc76d1785409",
    "idx": 27,
    "time": "2021-01-21T17:39:48.313Z",
    "type": "execution"
   },
   {
    "id": "042f321d8553493b83c1fc76d1785409",
    "time": "2021-01-21T17:39:48.519Z",
    "type": "completion"
   },
   {
    "code": "import sqlite3\nimport pandas as pd\nimport numpy as np\nimport matplotlib.pyplot as plt\nimport os",
    "id": "672e04a4c68f407c9014110351943251",
    "idx": 2,
    "time": "2021-01-21T17:39:56.117Z",
    "type": "execution"
   },
   {
    "id": "672e04a4c68f407c9014110351943251",
    "time": "2021-01-21T17:39:56.309Z",
    "type": "completion"
   },
   {
    "code": "def write_csv(df, path, filename):\n    \"\"\"\n    Takes a dataframe, path, and filename.\n    Returns a written csv.\n    Checks if the csv is already written, and if the path is correct.\n    \"\"\"\n    file = os.path.join(path, filename)\n\n    if os.path.exists(path):\n        if os.path.exists(file):\n            print(f\"The csv {filename} already exists.\")\n        else:\n            pd.DataFrame.to_csv(df, file)\n    else:\n        print(f\"The path {path} does not exist.\")",
    "id": "9138abcf408d4004a11ae96372e9ccb5",
    "idx": 26,
    "time": "2021-01-21T17:40:04.354Z",
    "type": "execution"
   },
   {
    "id": "9138abcf408d4004a11ae96372e9ccb5",
    "time": "2021-01-21T17:40:04.456Z",
    "type": "completion"
   },
   {
    "code": "write_csv(year_count_segmented, \"clean_data\", \"popularity_growth.csv\")",
    "id": "042f321d8553493b83c1fc76d1785409",
    "idx": 27,
    "time": "2021-01-21T17:40:04.893Z",
    "type": "execution"
   },
   {
    "id": "042f321d8553493b83c1fc76d1785409",
    "time": "2021-01-21T17:40:05.055Z",
    "type": "completion"
   },
   {
    "code": "import sqlite3\nimport pandas as pd\nimport numpy as np\nimport matplotlib.pyplot as plt\nimport os",
    "id": "75d4b11212184cab84fddd1800f5360e",
    "idx": 2,
    "time": "2021-01-22T01:04:59.885Z",
    "type": "execution"
   },
   {
    "code": "#Make a connection\ncon = sqlite3.connect('database.sqlite')\n\n#Make a cursor instance\nc = con.cursor()",
    "id": "594dc8388c4f46ca9e40f530c536fe23",
    "idx": 4,
    "time": "2021-01-22T01:05:00.222Z",
    "type": "execution"
   },
   {
    "id": "75d4b11212184cab84fddd1800f5360e",
    "time": "2021-01-22T01:05:00.435Z",
    "type": "completion"
   },
   {
    "id": "594dc8388c4f46ca9e40f530c536fe23",
    "time": "2021-01-22T01:05:00.437Z",
    "type": "completion"
   },
   {
    "code": "#Look at all of the tables within the sqlite databes\ndef table_names():\n    query = \"\"\"\n    SELECT NAME \n    FROM SQLITE_MASTER \n    WHERE type= 'table';\n    \"\"\"\n    c.execute(query)\n    \n    tables = []\n    for row in c.fetchall():\n        tables.append(row[0])\n    \n    return tables",
    "id": "08f7fb2d585c4bb28f18f63041a6af21",
    "idx": 6,
    "time": "2021-01-22T01:05:01.054Z",
    "type": "execution"
   },
   {
    "id": "08f7fb2d585c4bb28f18f63041a6af21",
    "time": "2021-01-22T01:05:01.113Z",
    "type": "completion"
   },
   {
    "code": "all_tables = table_names()\n\nfor table in all_tables:\n    print(table)",
    "id": "54e84cfede5e4677b07607c12560527c",
    "idx": 7,
    "time": "2021-01-22T01:05:01.506Z",
    "type": "execution"
   },
   {
    "id": "54e84cfede5e4677b07607c12560527c",
    "time": "2021-01-22T01:05:01.567Z",
    "type": "completion"
   },
   {
    "code": "def col_info():\n    #Get table names\n    tables = table_names()\n    \n    #Initialize dataframes for each table\n    dfs = {}\n\n    for table in tables:\n        #d[table] = pd.DataFrame()\n        \n        query = f\"\"\"\n        PRAGMA table_info({table})\n        \"\"\"\n        c.execute(query)\n        \n        Column = []\n        Type = []\n        Not_Null = []\n        Primary_Key = []\n        \n        for row in c:\n            Column.append(row[1])\n            Type.append(row[2])\n            if row[3]:\n                Not_Null.append(\"YES\")\n            else:\n                Not_Null.append(\"NO\")\n            if row[5]:\n                Primary_Key.append(\"YES\")\n            else:\n                Primary_Key.append(\"\")\n            \n        dfs[table] = pd.DataFrame({\"Column\" : Column,\n                          \"Type\" : Type,\n                          \"Not_Null\" : Not_Null,\n                          \"Primary_Key\" : Primary_Key})\n    return dfs ",
    "id": "b38c8bbdbf2041ea8bb159d04260b841",
    "idx": 9,
    "time": "2021-01-22T01:05:03.011Z",
    "type": "execution"
   },
   {
    "id": "b38c8bbdbf2041ea8bb159d04260b841",
    "time": "2021-01-22T01:05:03.066Z",
    "type": "completion"
   },
   {
    "code": "column_info_dfs = col_info()",
    "id": "6a9abe8958b249fd93a7849f190b5296",
    "idx": 10,
    "time": "2021-01-22T01:05:04.745Z",
    "type": "execution"
   },
   {
    "id": "6a9abe8958b249fd93a7849f190b5296",
    "time": "2021-01-22T01:05:04.807Z",
    "type": "completion"
   },
   {
    "code": "column_info_dfs[\"user\"]",
    "id": "7ee9ebdf82fa456d81a7aa68f7bdfcd0",
    "idx": 11,
    "time": "2021-01-22T01:05:05.650Z",
    "type": "execution"
   },
   {
    "id": "7ee9ebdf82fa456d81a7aa68f7bdfcd0",
    "time": "2021-01-22T01:05:05.803Z",
    "type": "completion"
   },
   {
    "code": "column_info_dfs[\"method\"]",
    "id": "cc7bfbaf692340039a0ad5a94e31ebaf",
    "idx": 12,
    "time": "2021-01-22T01:05:05.983Z",
    "type": "execution"
   },
   {
    "id": "cc7bfbaf692340039a0ad5a94e31ebaf",
    "time": "2021-01-22T01:05:06.087Z",
    "type": "completion"
   },
   {
    "code": "def col_info():\n    #Get table names\n    tables = table_names()\n    \n    #Initialize dataframes for each table\n    dfs = {}\n\n    for table in tables:\n        #d[table] = pd.DataFrame()\n        \n        query = f\"\"\"\n        PRAGMA table_info({table})\n        \"\"\"\n        c.execute(query)\n        \n        Column = []\n        Type = []\n        Not_Null = []\n        Primary_Key = []\n        \n        for row in c:\n            Column.append(row[1])\n            Type.append(row[2])\n            if row[3]:\n                Not_Null.append(\"YES\")\n            else:\n                Not_Null.append(\"NO\")\n            if row[5]:\n                Primary_Key.append(\"YES\")\n            else:\n                Primary_Key.append(\"\")\n            \n        dfs[table] = pd.DataFrame({\"Column\" : Column,\n                          \"Type\" : Type,\n                          \"Not_Null\" : Not_Null,\n                          \"Primary_Key\" : Primary_Key})\n    return dfs ",
    "id": "b38c8bbdbf2041ea8bb159d04260b841",
    "idx": 9,
    "time": "2021-01-22T01:05:32.444Z",
    "type": "execution"
   },
   {
    "id": "b38c8bbdbf2041ea8bb159d04260b841",
    "time": "2021-01-22T01:05:32.502Z",
    "type": "completion"
   },
   {
    "code": "column_info_dfs = col_info()",
    "id": "6a9abe8958b249fd93a7849f190b5296",
    "idx": 10,
    "time": "2021-01-22T01:05:32.937Z",
    "type": "execution"
   },
   {
    "id": "6a9abe8958b249fd93a7849f190b5296",
    "time": "2021-01-22T01:05:32.992Z",
    "type": "completion"
   },
   {
    "code": "column_info_dfs[\"user\"]",
    "id": "7ee9ebdf82fa456d81a7aa68f7bdfcd0",
    "idx": 11,
    "time": "2021-01-22T01:05:34.130Z",
    "type": "execution"
   },
   {
    "id": "7ee9ebdf82fa456d81a7aa68f7bdfcd0",
    "time": "2021-01-22T01:05:34.189Z",
    "type": "completion"
   },
   {
    "code": "import sqlite3\nimport pandas as pd\nimport numpy as np\nimport matplotlib.pyplot as plt\nimport os",
    "id": "75d4b11212184cab84fddd1800f5360e",
    "idx": 2,
    "time": "2021-01-22T01:05:50.645Z",
    "type": "execution"
   },
   {
    "id": "75d4b11212184cab84fddd1800f5360e",
    "time": "2021-01-22T01:05:50.696Z",
    "type": "completion"
   },
   {
    "code": "#Make a connection\ncon = sqlite3.connect('database.sqlite')\n\n#Make a cursor instance\nc = con.cursor()",
    "id": "594dc8388c4f46ca9e40f530c536fe23",
    "idx": 4,
    "time": "2021-01-22T01:05:51.140Z",
    "type": "execution"
   },
   {
    "id": "594dc8388c4f46ca9e40f530c536fe23",
    "time": "2021-01-22T01:05:51.192Z",
    "type": "completion"
   },
   {
    "code": "#Look at all of the tables within the sqlite databes\ndef table_names():\n    query = \"\"\"\n    SELECT NAME \n    FROM SQLITE_MASTER \n    WHERE type= 'table';\n    \"\"\"\n    c.execute(query)\n    \n    tables = []\n    for row in c.fetchall():\n        tables.append(row[0])\n    \n    return tables",
    "id": "08f7fb2d585c4bb28f18f63041a6af21",
    "idx": 6,
    "time": "2021-01-22T01:05:52.289Z",
    "type": "execution"
   },
   {
    "id": "08f7fb2d585c4bb28f18f63041a6af21",
    "time": "2021-01-22T01:05:52.344Z",
    "type": "completion"
   },
   {
    "code": "all_tables = table_names()\n\nfor table in all_tables:\n    print(table)",
    "id": "54e84cfede5e4677b07607c12560527c",
    "idx": 7,
    "time": "2021-01-22T01:05:53.480Z",
    "type": "execution"
   },
   {
    "id": "54e84cfede5e4677b07607c12560527c",
    "time": "2021-01-22T01:05:53.536Z",
    "type": "completion"
   },
   {
    "code": "import sqlite3\nimport pandas as pd\nimport numpy as np\nimport matplotlib.pyplot as plt\nimport os",
    "id": "75d4b11212184cab84fddd1800f5360e",
    "idx": 2,
    "time": "2021-01-22T01:07:39.638Z",
    "type": "execution"
   },
   {
    "id": "75d4b11212184cab84fddd1800f5360e",
    "time": "2021-01-22T01:07:39.690Z",
    "type": "completion"
   },
   {
    "code": "#Make a connection\ncon = sqlite3.connect('database.sqlite')\n\n#Make a cursor instance\nc = con.cursor()",
    "id": "594dc8388c4f46ca9e40f530c536fe23",
    "idx": 4,
    "time": "2021-01-22T01:07:41.706Z",
    "type": "execution"
   },
   {
    "id": "594dc8388c4f46ca9e40f530c536fe23",
    "time": "2021-01-22T01:07:41.764Z",
    "type": "completion"
   },
   {
    "code": "#Look at all of the tables within the sqlite databes\ndef table_names():\n    query = \"\"\"\n    SELECT NAME \n    FROM SQLITE_MASTER \n    WHERE type= 'table';\n    \"\"\"\n    c.execute(query)\n    \n    tables = []\n    for row in c.fetchall():\n        tables.append(row[0])\n    \n    return tables",
    "id": "08f7fb2d585c4bb28f18f63041a6af21",
    "idx": 6,
    "time": "2021-01-22T01:07:44.632Z",
    "type": "execution"
   },
   {
    "id": "08f7fb2d585c4bb28f18f63041a6af21",
    "time": "2021-01-22T01:07:44.687Z",
    "type": "completion"
   },
   {
    "code": "all_tables = table_names()\n\nfor table in all_tables:\n    print(table)",
    "id": "54e84cfede5e4677b07607c12560527c",
    "idx": 7,
    "time": "2021-01-22T01:07:45.712Z",
    "type": "execution"
   },
   {
    "id": "54e84cfede5e4677b07607c12560527c",
    "time": "2021-01-22T01:07:45.817Z",
    "type": "completion"
   },
   {
    "code": "def col_info():\n    #Get table names\n    tables = table_names()\n    \n    #Initialize dataframes for each table\n    dfs = {}\n\n    for table in tables:\n        #d[table] = pd.DataFrame()\n        \n        query = f\"\"\"\n        PRAGMA table_info({table})\n        \"\"\"\n        c.execute(query)\n        \n        Column = []\n        Type = []\n        Not_Null = []\n        Primary_Key = []\n        \n        for row in c:\n            Column.append(row[1])\n            Type.append(row[2])\n            if row[3]:\n                Not_Null.append(\"YES\")\n            else:\n                Not_Null.append(\"NO\")\n            if row[5]:\n                Primary_Key.append(\"YES\")\n            else:\n                Primary_Key.append(\"\")\n            \n        dfs[table] = pd.DataFrame({\"Column\" : Column,\n                          \"Type\" : Type,\n                          \"Not_Null\" : Not_Null,\n                          \"Primary_Key\" : Primary_Key})\n    return dfs ",
    "id": "b38c8bbdbf2041ea8bb159d04260b841",
    "idx": 9,
    "time": "2021-01-22T01:07:47.107Z",
    "type": "execution"
   },
   {
    "id": "b38c8bbdbf2041ea8bb159d04260b841",
    "time": "2021-01-22T01:07:47.165Z",
    "type": "completion"
   },
   {
    "code": "column_info_dfs = col_info()",
    "id": "6a9abe8958b249fd93a7849f190b5296",
    "idx": 10,
    "time": "2021-01-22T01:07:47.579Z",
    "type": "execution"
   },
   {
    "id": "6a9abe8958b249fd93a7849f190b5296",
    "time": "2021-01-22T01:07:47.645Z",
    "type": "completion"
   },
   {
    "code": "column_info_dfs[\"user\"]",
    "id": "7ee9ebdf82fa456d81a7aa68f7bdfcd0",
    "idx": 11,
    "time": "2021-01-22T01:07:48.074Z",
    "type": "execution"
   },
   {
    "id": "7ee9ebdf82fa456d81a7aa68f7bdfcd0",
    "time": "2021-01-22T01:07:48.146Z",
    "type": "completion"
   },
   {
    "code": "column_info_dfs[\"method\"]",
    "id": "cc7bfbaf692340039a0ad5a94e31ebaf",
    "idx": 12,
    "time": "2021-01-22T01:07:48.682Z",
    "type": "execution"
   },
   {
    "id": "cc7bfbaf692340039a0ad5a94e31ebaf",
    "time": "2021-01-22T01:07:48.742Z",
    "type": "completion"
   },
   {
    "code": "column_info_dfs[\"grade\"]",
    "id": "5cc072a5536a4c47848b5f6926e79ce7",
    "idx": 13,
    "time": "2021-01-22T01:07:49.042Z",
    "type": "execution"
   },
   {
    "id": "5cc072a5536a4c47848b5f6926e79ce7",
    "time": "2021-01-22T01:07:49.107Z",
    "type": "completion"
   },
   {
    "code": "column_info_dfs[\"ascent\"]",
    "id": "b9661b1fd7b84ca9827ec86f6c1fcf65",
    "idx": 14,
    "time": "2021-01-22T01:07:49.267Z",
    "type": "execution"
   },
   {
    "id": "b9661b1fd7b84ca9827ec86f6c1fcf65",
    "time": "2021-01-22T01:07:49.331Z",
    "type": "completion"
   },
   {
    "code": "def countRows():\n    #Get table names\n    tables = table_names()\n    \n    for table in tables:\n        query = f\"\"\"\n        SELECT COUNT(id)\n        FROM {table}\n        \"\"\"\n        count = c.execute(query).fetchall()[0][0]\n        print(f\"{table} table:  {count} rows\")\n        ",
    "id": "8cc2841caf0748d28a62ad5d6e5fcc73",
    "idx": 16,
    "time": "2021-01-22T01:07:49.919Z",
    "type": "execution"
   },
   {
    "id": "8cc2841caf0748d28a62ad5d6e5fcc73",
    "time": "2021-01-22T01:07:49.971Z",
    "type": "completion"
   },
   {
    "code": "countRows()",
    "id": "2bb1486d83f540078a28675ff9533186",
    "idx": 17,
    "time": "2021-01-22T01:07:50.234Z",
    "type": "execution"
   },
   {
    "id": "2bb1486d83f540078a28675ff9533186",
    "time": "2021-01-22T01:07:50.969Z",
    "type": "completion"
   },
   {
    "code": "def queryToDataframe(query, connection = con):\n    \"\"\"\n    Takes a sql query, and a connection.\n    Returns a dataframe.\n    \"\"\"\n    df = pd.read_sql(query, connection)\n    return df",
    "id": "06b58db0ff54482588e21806ebde48f6",
    "idx": 20,
    "time": "2021-01-22T01:08:53.729Z",
    "type": "execution"
   },
   {
    "id": "06b58db0ff54482588e21806ebde48f6",
    "time": "2021-01-22T01:08:53.782Z",
    "type": "completion"
   },
   {
    "code": "# Get count of all users who started in a given year\n\n",
    "id": "e2309feea7694ebb929fe91df894645e",
    "idx": 21,
    "time": "2021-01-22T01:08:54.382Z",
    "type": "execution"
   },
   {
    "id": "e2309feea7694ebb929fe91df894645e",
    "time": "2021-01-22T01:08:54.436Z",
    "type": "completion"
   },
   {
    "code": "start_year_count_all = queryToDataframe(\"\"\"\nSELECT COUNT(started) AS total, started AS year\nFROM user\nWHERE year BETWEEN 1920 AND 2017\nGROUP BY(year)\nORDER BY year DESC\n\"\"\")",
    "id": "45935e3da5f446bfa5de4670752c091b",
    "idx": 22,
    "time": "2021-01-22T01:08:58.725Z",
    "type": "execution"
   },
   {
    "id": "45935e3da5f446bfa5de4670752c091b",
    "time": "2021-01-22T01:08:58.937Z",
    "type": "completion"
   },
   {
    "code": "start_year_count_all[start_year_count_all[\"year\"] < 1950]",
    "id": "a6905beb94574c2d92b4f96ef1741294",
    "idx": 23,
    "time": "2021-01-22T01:08:59.129Z",
    "type": "execution"
   },
   {
    "id": "a6905beb94574c2d92b4f96ef1741294",
    "time": "2021-01-22T01:08:59.193Z",
    "type": "completion"
   },
   {
    "code": "year_count_segmented = queryToDataframe(\"\"\"\nWITH t AS\n    (\n    SELECT COUNT(started) AS total, started AS year\n    FROM user\n    WHERE year BETWEEN 1960 AND 2017\n    GROUP BY(year)\n    ),\nf AS\n    (\n    SELECT COUNT(started) AS female, started AS year\n    FROM user\n    WHERE year BETWEEN 1960 AND 2017\n        AND sex = 1\n    GROUP BY(year)\n    ),\nm AS\n    (\n    SELECT COUNT(started) AS male, started AS year\n    FROM user\n    WHERE year BETWEEN 1960 AND 2017\n        AND sex = 0\n    GROUP BY(year)\n    )\nSELECT t.year, t.total, m.male, IFNULL(f.female, 0) AS female\nFROM t\nLEFT JOIN f\n    ON t.year = f.year\nLEFT JOIN m\n    ON t.year = m.year\n\"\"\")",
    "id": "02dc7bea42a34d2a81d88ccb310eb2a3",
    "idx": 24,
    "time": "2021-01-22T01:09:00.231Z",
    "type": "execution"
   },
   {
    "id": "02dc7bea42a34d2a81d88ccb310eb2a3",
    "time": "2021-01-22T01:09:00.340Z",
    "type": "completion"
   },
   {
    "code": "year_count_segmented",
    "id": "a64d68b1f8a649b1912774f34e333afb",
    "idx": 25,
    "time": "2021-01-22T01:09:01.110Z",
    "type": "execution"
   },
   {
    "id": "a64d68b1f8a649b1912774f34e333afb",
    "time": "2021-01-22T01:09:01.175Z",
    "type": "completion"
   },
   {
    "code": "def write_csv(df, path, filename):\n    \"\"\"\n    Takes a dataframe, path, and filename.\n    Returns a written csv.\n    Checks if the csv is already written, and if the path is correct.\n    \"\"\"\n    file = os.path.join(path, filename)\n\n    if os.path.exists(path):\n        if os.path.exists(file):\n            print(f\"The csv {filename} already exists.\")\n        else:\n            pd.DataFrame.to_csv(df, file)\n    else:\n        print(f\"The path {path} does not exist.\")",
    "id": "1f3cac220fa5458899fa3f384acd07a9",
    "idx": 26,
    "time": "2021-01-22T01:09:14.046Z",
    "type": "execution"
   },
   {
    "id": "1f3cac220fa5458899fa3f384acd07a9",
    "time": "2021-01-22T01:09:14.102Z",
    "type": "completion"
   },
   {
    "code": "write_csv(year_count_segmented, \"clean_data\", \"popularity_growth.csv\")",
    "id": "4156eaba729f42adbd8d6fb8f0ca139a",
    "idx": 27,
    "time": "2021-01-22T01:09:31.462Z",
    "type": "execution"
   },
   {
    "id": "4156eaba729f42adbd8d6fb8f0ca139a",
    "time": "2021-01-22T01:09:31.531Z",
    "type": "completion"
   },
   {
    "code": "def multiLinePlot(df, x, time = False, title = \"\", ylab = \"\", xlab = \"\"):\n    if time:\n        xvar = pd.to_datetime(df[x], format = '%Y').dt.year\n        xvar = df[x]\n        \n    yvars = df.drop(columns = x)\n    ycols = yvars.columns.values\n    \n    for col in ycols:\n        plt.plot(xvar, df[col], label = col)\n    \n    plt.legend()\n    \n    plt.title(title)\n    plt.xlabel(xlab)\n    plt.ylabel(ylab)",
    "id": "3b89d8f50bbe43bf8d3d2ca40a474945",
    "idx": 28,
    "time": "2021-01-22T01:09:42.081Z",
    "type": "execution"
   },
   {
    "id": "3b89d8f50bbe43bf8d3d2ca40a474945",
    "time": "2021-01-22T01:09:42.134Z",
    "type": "completion"
   },
   {
    "code": "multiLinePlot(df = year_count_segmented, \n              x = \"year\", \n              time = True, \n              title = \"Popularity of Climbing Over Time (Starting Date)\",\n              ylab = \"Total Climbers\",\n              xlab = \"Year\")",
    "id": "2ee834cc0bff47bc82f444ef027fb251",
    "idx": 29,
    "time": "2021-01-22T01:09:45.006Z",
    "type": "execution"
   },
   {
    "id": "2ee834cc0bff47bc82f444ef027fb251",
    "time": "2021-01-22T01:09:45.344Z",
    "type": "completion"
   },
   {
    "code": "sex_ratio = queryToDataframe(\"\"\"\nSELECT COUNT(*) AS count, \n    CASE WHEN sex = 0 THEN 'male'\n         WHEN sex = 1 THEN 'female'\n         ELSE 'NA'\n    END AS sex\nFROM user\nGROUP BY sex\nORDER BY count DESC\n\"\"\")",
    "id": "1a1de44a7b6743fba50d2d7e16290d5a",
    "idx": 31,
    "time": "2021-01-22T01:10:06.472Z",
    "type": "execution"
   },
   {
    "id": "1a1de44a7b6743fba50d2d7e16290d5a",
    "time": "2021-01-22T01:10:06.556Z",
    "type": "completion"
   },
   {
    "code": "sex_ratio",
    "id": "55bdd132efb34b208609ac98e4733f4a",
    "idx": 32,
    "time": "2021-01-22T01:10:06.787Z",
    "type": "execution"
   },
   {
    "id": "55bdd132efb34b208609ac98e4733f4a",
    "time": "2021-01-22T01:10:06.842Z",
    "type": "completion"
   },
   {
    "code": "year_count_segmented.tail()",
    "id": "a64d68b1f8a649b1912774f34e333afb",
    "idx": 25,
    "time": "2021-01-22T01:10:22.291Z",
    "type": "execution"
   },
   {
    "id": "a64d68b1f8a649b1912774f34e333afb",
    "time": "2021-01-22T01:10:22.348Z",
    "type": "completion"
   },
   {
    "code": "# Get count of all users who started in a given year\n\nqueryToDataframe(\"\"\"SELECT * FROM method\"\"\")",
    "id": "e2309feea7694ebb929fe91df894645e",
    "idx": 21,
    "time": "2021-01-22T01:21:51.141Z",
    "type": "execution"
   },
   {
    "id": "e2309feea7694ebb929fe91df894645e",
    "time": "2021-01-22T01:21:51.226Z",
    "type": "completion"
   },
   {
    "code": "queryToDataframe(\"\"\"\nSELECT \n    MAX(a.grade_id), a.climb_type AS bouldering, a.year, \n    g.fra_routes AS grade \nFROM ascent a, grade g\nWHERE a.grade_id = g.id\nGROUP BY user_id, bouldering, year\nLIMIT 100\n\"\"\")",
    "id": "38aaef16371c4b23871874db13e31ff0",
    "idx": 48,
    "time": "2021-01-22T01:31:45.281Z",
    "type": "execution"
   },
   {
    "id": "38aaef16371c4b23871874db13e31ff0",
    "time": "2021-01-22T01:31:48.303Z",
    "type": "completion"
   },
   {
    "code": "# Count how many ascents are boulders vs routes\nqueryToDataframe(\"\"\"\nSELECT COUNT(*), climb_type AS bouldering\nFROM ascent\nGROUPBY bouldering\n\"\"\")",
    "id": "e9a0c843c92f48b2a91ab32be090ea3c",
    "idx": 48,
    "time": "2021-01-22T01:33:38.204Z",
    "type": "execution"
   },
   {
    "id": "e9a0c843c92f48b2a91ab32be090ea3c",
    "time": "2021-01-22T01:33:38.301Z",
    "type": "completion"
   },
   {
    "code": "# Count how many ascents are boulders vs routes\nqueryToDataframe(\"\"\"\nSELECT COUNT(*), climb_type AS bouldering\nFROM ascent\nGROUPBY climb_type\n\"\"\")",
    "id": "e9a0c843c92f48b2a91ab32be090ea3c",
    "idx": 48,
    "time": "2021-01-22T01:33:50.630Z",
    "type": "execution"
   },
   {
    "id": "e9a0c843c92f48b2a91ab32be090ea3c",
    "time": "2021-01-22T01:33:50.736Z",
    "type": "completion"
   },
   {
    "code": "# Count how many ascents are boulders vs routes\nqueryToDataframe(\"\"\"\nSELECT COUNT(*) as count\nFROM ascent\nGROUPBY climb_type\n\"\"\")",
    "id": "e9a0c843c92f48b2a91ab32be090ea3c",
    "idx": 48,
    "time": "2021-01-22T01:34:29.371Z",
    "type": "execution"
   },
   {
    "id": "e9a0c843c92f48b2a91ab32be090ea3c",
    "time": "2021-01-22T01:34:29.468Z",
    "type": "completion"
   },
   {
    "code": "# Count how many ascents are boulders vs routes\nqueryToDataframe(\"\"\"\nSELECT COUNT(*) AS count\nFROM ascent\nGROUPBY climb_type\n\"\"\")",
    "id": "e9a0c843c92f48b2a91ab32be090ea3c",
    "idx": 48,
    "time": "2021-01-22T01:34:53.445Z",
    "type": "execution"
   },
   {
    "id": "e9a0c843c92f48b2a91ab32be090ea3c",
    "time": "2021-01-22T01:34:53.544Z",
    "type": "completion"
   },
   {
    "code": "# Count how many ascents are boulders vs routes\nqueryToDataframe(\"\"\"\nSELECT COUNT(*) AS count\nFROM ascent\nGROUPBY climb_type\n\"\"\")",
    "id": "e9a0c843c92f48b2a91ab32be090ea3c",
    "idx": 48,
    "time": "2021-01-22T01:35:45.016Z",
    "type": "execution"
   },
   {
    "id": "e9a0c843c92f48b2a91ab32be090ea3c",
    "time": "2021-01-22T01:35:45.117Z",
    "type": "completion"
   },
   {
    "code": "# Count how many ascents are boulders vs routes\nqueryToDataframe(\"\"\"\nSELECT COUNT(*) AS count\nFROM ascent\nGROUP BY climb_type\n\"\"\")",
    "id": "e9a0c843c92f48b2a91ab32be090ea3c",
    "idx": 48,
    "time": "2021-01-22T01:35:50.326Z",
    "type": "execution"
   },
   {
    "id": "e9a0c843c92f48b2a91ab32be090ea3c",
    "time": "2021-01-22T01:35:52.238Z",
    "type": "completion"
   },
   {
    "code": "1. *What yearly trends do we see in the popularity of climbing? How do these trends differ among men and women?*\n\nWe can answer this question with the user table.",
    "id": "90ee76af36e04c378d25c42f325ff229",
    "idx": 18,
    "time": "2021-01-22T02:17:03.961Z",
    "type": "execution"
   },
   {
    "id": "90ee76af36e04c378d25c42f325ff229",
    "time": "2021-01-22T02:17:04.046Z",
    "type": "completion"
   },
   {
    "code": "sex_ratio = queryToDataframe(\"\"\"\nSELECT COUNT(*) AS count, \n    CASE WHEN sex = 0 THEN 'male'\n         WHEN sex = 1 THEN 'female'\n         ELSE 'NA'\n    END AS sex\nFROM user\nGROUP BY sex\nORDER BY count DESC\n\"\"\")",
    "id": "036e31cb77d54507942ec42a0d1fa85d",
    "idx": 27,
    "time": "2021-01-22T19:50:55.879Z",
    "type": "execution"
   },
   {
    "id": "036e31cb77d54507942ec42a0d1fa85d",
    "time": "2021-01-22T19:50:56.025Z",
    "type": "completion"
   },
   {
    "code": "import sqlite3\nimport pandas as pd\nimport numpy as np\nimport matplotlib.pyplot as plt\nimport os",
    "id": "654107e1366e4f46becd2870c72168b4",
    "idx": 2,
    "time": "2021-01-22T19:51:04.214Z",
    "type": "execution"
   },
   {
    "id": "654107e1366e4f46becd2870c72168b4",
    "time": "2021-01-22T19:51:05.039Z",
    "type": "completion"
   },
   {
    "code": "#Make a connection\ncon = sqlite3.connect('database.sqlite')\n\n#Make a cursor instance\nc = con.cursor()",
    "id": "ffd96e70c3a54f4ab3ab6de09bc42f9a",
    "idx": 4,
    "time": "2021-01-22T19:51:05.068Z",
    "type": "execution"
   },
   {
    "id": "ffd96e70c3a54f4ab3ab6de09bc42f9a",
    "time": "2021-01-22T19:51:05.187Z",
    "type": "completion"
   },
   {
    "code": "#Look at all of the tables within the sqlite databes\ndef table_names():\n    query = \"\"\"\n    SELECT NAME \n    FROM SQLITE_MASTER \n    WHERE type= 'table';\n    \"\"\"\n    c.execute(query)\n    \n    tables = []\n    for row in c.fetchall():\n        tables.append(row[0])\n    \n    return tables",
    "id": "99dd95f2c001467aa5d37156aa3e4954",
    "idx": 6,
    "time": "2021-01-22T19:51:05.901Z",
    "type": "execution"
   },
   {
    "id": "99dd95f2c001467aa5d37156aa3e4954",
    "time": "2021-01-22T19:51:05.959Z",
    "type": "completion"
   },
   {
    "code": "all_tables = table_names()\n\nfor table in all_tables:\n    print(table)",
    "id": "73c36634afc242189ba29d91914ba317",
    "idx": 7,
    "time": "2021-01-22T19:51:06.487Z",
    "type": "execution"
   },
   {
    "id": "73c36634afc242189ba29d91914ba317",
    "time": "2021-01-22T19:51:06.592Z",
    "type": "completion"
   },
   {
    "code": "def col_info():\n    #Get table names\n    tables = table_names()\n    \n    #Initialize dataframes for each table\n    dfs = {}\n\n    for table in tables:\n        #d[table] = pd.DataFrame()\n        \n        query = f\"\"\"\n        PRAGMA table_info({table})\n        \"\"\"\n        c.execute(query)\n        \n        Column = []\n        Type = []\n        Not_Null = []\n        Primary_Key = []\n        \n        for row in c:\n            Column.append(row[1])\n            Type.append(row[2])\n            if row[3]:\n                Not_Null.append(\"YES\")\n            else:\n                Not_Null.append(\"NO\")\n            if row[5]:\n                Primary_Key.append(\"YES\")\n            else:\n                Primary_Key.append(\"\")\n            \n        dfs[table] = pd.DataFrame({\"Column\" : Column,\n                          \"Type\" : Type,\n                          \"Not_Null\" : Not_Null,\n                          \"Primary_Key\" : Primary_Key})\n    return dfs ",
    "id": "a3c4cc33a6904cc7a9fc56125bd3407a",
    "idx": 8,
    "time": "2021-01-22T19:51:07.364Z",
    "type": "execution"
   },
   {
    "id": "a3c4cc33a6904cc7a9fc56125bd3407a",
    "time": "2021-01-22T19:51:07.426Z",
    "type": "completion"
   },
   {
    "code": "column_info_dfs = col_info()",
    "id": "dbe6a245dd50434d837ffaf2483aa10c",
    "idx": 9,
    "time": "2021-01-22T19:51:07.882Z",
    "type": "execution"
   },
   {
    "id": "dbe6a245dd50434d837ffaf2483aa10c",
    "time": "2021-01-22T19:51:07.958Z",
    "type": "completion"
   },
   {
    "code": "column_info_dfs[\"user\"]",
    "id": "9d77cc0d0595499bb3a6418b242ef82d",
    "idx": 10,
    "time": "2021-01-22T19:51:08.333Z",
    "type": "execution"
   },
   {
    "id": "9d77cc0d0595499bb3a6418b242ef82d",
    "time": "2021-01-22T19:51:08.484Z",
    "type": "completion"
   },
   {
    "code": "column_info_dfs[\"method\"]",
    "id": "3fe2b97dc2764a26940066f70c02ad2c",
    "idx": 11,
    "time": "2021-01-22T19:51:09.029Z",
    "type": "execution"
   },
   {
    "id": "3fe2b97dc2764a26940066f70c02ad2c",
    "time": "2021-01-22T19:51:09.096Z",
    "type": "completion"
   },
   {
    "code": "column_info_dfs[\"grade\"]",
    "id": "ea5d5cd48d754da1869e575c78713c8d",
    "idx": 12,
    "time": "2021-01-22T19:51:09.480Z",
    "type": "execution"
   },
   {
    "id": "ea5d5cd48d754da1869e575c78713c8d",
    "time": "2021-01-22T19:51:09.566Z",
    "type": "completion"
   },
   {
    "code": "column_info_dfs[\"ascent\"]",
    "id": "c5e57403ca63481981c82b613dc231e3",
    "idx": 13,
    "time": "2021-01-22T19:51:09.635Z",
    "type": "execution"
   },
   {
    "id": "c5e57403ca63481981c82b613dc231e3",
    "time": "2021-01-22T19:51:09.771Z",
    "type": "completion"
   },
   {
    "code": "def countRows():\n    #Get table names\n    tables = table_names()\n    \n    for table in tables:\n        query = f\"\"\"\n        SELECT COUNT(id)\n        FROM {table}\n        \"\"\"\n        count = c.execute(query).fetchall()[0][0]\n        print(f\"{table} table:  {count} rows\")\n        ",
    "id": "35834f33cc9443c593b8abdd75da388d",
    "idx": 14,
    "time": "2021-01-22T19:51:09.819Z",
    "type": "execution"
   },
   {
    "id": "35834f33cc9443c593b8abdd75da388d",
    "time": "2021-01-22T19:51:09.880Z",
    "type": "completion"
   },
   {
    "code": "countRows()",
    "id": "e44be56ff3304a098cafe1183425c327",
    "idx": 15,
    "time": "2021-01-22T19:51:09.995Z",
    "type": "execution"
   },
   {
    "id": "e44be56ff3304a098cafe1183425c327",
    "time": "2021-01-22T19:51:11.201Z",
    "type": "completion"
   },
   {
    "code": "def queryToDataframe(query, connection = con):\n    \"\"\"\n    Takes a sql query, and a connection.\n    Returns a dataframe.\n    \"\"\"\n    df = pd.read_sql(query, connection)\n    return df",
    "id": "4491f4a96b4a48aa95278f11047c75cd",
    "idx": 17,
    "time": "2021-01-22T19:51:11.321Z",
    "type": "execution"
   },
   {
    "id": "4491f4a96b4a48aa95278f11047c75cd",
    "time": "2021-01-22T19:51:11.374Z",
    "type": "completion"
   },
   {
    "code": "year_count_segmented = queryToDataframe(\"\"\"\nWITH t AS\n    (\n    SELECT COUNT(started) AS total, started AS year\n    FROM user\n    WHERE year BETWEEN 1960 AND 2017\n    GROUP BY(year)\n    ),\nf AS\n    (\n    SELECT COUNT(started) AS female, started AS year\n    FROM user\n    WHERE year BETWEEN 1960 AND 2017\n        AND sex = 1\n    GROUP BY(year)\n    ),\nm AS\n    (\n    SELECT COUNT(started) AS male, started AS year\n    FROM user\n    WHERE year BETWEEN 1960 AND 2017\n        AND sex = 0\n    GROUP BY(year)\n    )\nSELECT t.year, t.total, m.male, IFNULL(f.female, 0) AS female\nFROM t\nLEFT JOIN f\n    ON t.year = f.year\nLEFT JOIN m\n    ON t.year = m.year\n\"\"\")",
    "id": "6f27dcb2e90a400f802a5677adc749ff",
    "idx": 19,
    "time": "2021-01-22T19:51:15.352Z",
    "type": "execution"
   },
   {
    "id": "6f27dcb2e90a400f802a5677adc749ff",
    "time": "2021-01-22T19:51:15.607Z",
    "type": "completion"
   },
   {
    "code": "year_count_segmented.tail()",
    "id": "d65b80854b544c4eb9323d41d4075d16",
    "idx": 20,
    "time": "2021-01-22T19:51:16.316Z",
    "type": "execution"
   },
   {
    "id": "d65b80854b544c4eb9323d41d4075d16",
    "time": "2021-01-22T19:51:16.386Z",
    "type": "completion"
   },
   {
    "code": "def write_csv(df, path, filename):\n    \"\"\"\n    Takes a dataframe, path, and filename.\n    Returns a written csv.\n    Checks if the csv is already written, and if the path is correct.\n    \"\"\"\n    file = os.path.join(path, filename)\n\n    if os.path.exists(path):\n        if os.path.exists(file):\n            print(f\"The csv {filename} already exists.\")\n        else:\n            pd.DataFrame.to_csv(df, file)\n    else:\n        print(f\"The path {path} does not exist.\")",
    "id": "8dfdf35b764e4de78a162bf6ef6dcc6b",
    "idx": 21,
    "time": "2021-01-22T19:51:16.836Z",
    "type": "execution"
   },
   {
    "id": "8dfdf35b764e4de78a162bf6ef6dcc6b",
    "time": "2021-01-22T19:51:16.896Z",
    "type": "completion"
   },
   {
    "code": "write_csv(year_count_segmented, \"clean_data\", \"popularity_growth.csv\")",
    "id": "3b1b32d1292f47be971af5d1e53b4d26",
    "idx": 22,
    "time": "2021-01-22T19:51:17.377Z",
    "type": "execution"
   },
   {
    "id": "3b1b32d1292f47be971af5d1e53b4d26",
    "time": "2021-01-22T19:51:17.446Z",
    "type": "completion"
   },
   {
    "code": "def multiLinePlot(df, x, time = False, title = \"\", ylab = \"\", xlab = \"\"):\n    if time:\n        xvar = pd.to_datetime(df[x], format = '%Y').dt.year\n        xvar = df[x]\n        \n    yvars = df.drop(columns = x)\n    ycols = yvars.columns.values\n    \n    for col in ycols:\n        plt.plot(xvar, df[col], label = col)\n    \n    plt.legend()\n    \n    plt.title(title)\n    plt.xlabel(xlab)\n    plt.ylabel(ylab)",
    "id": "2e8e03bcef624eee8bf80a4e26119c42",
    "idx": 23,
    "time": "2021-01-22T19:51:18.457Z",
    "type": "execution"
   },
   {
    "id": "2e8e03bcef624eee8bf80a4e26119c42",
    "time": "2021-01-22T19:51:18.516Z",
    "type": "completion"
   },
   {
    "code": "multiLinePlot(df = year_count_segmented, \n              x = \"year\", \n              time = True, \n              title = \"Popularity of Climbing Over Time (Starting Date)\",\n              ylab = \"Total Climbers\",\n              xlab = \"Year\")",
    "id": "5c3aefa408f64cf18e197812baf08cd0",
    "idx": 24,
    "time": "2021-01-22T19:51:19.357Z",
    "type": "execution"
   },
   {
    "id": "5c3aefa408f64cf18e197812baf08cd0",
    "time": "2021-01-22T19:51:19.710Z",
    "type": "completion"
   },
   {
    "code": "sex_ratio = queryToDataframe(\"\"\"\nSELECT COUNT(*) AS count, \n    CASE WHEN sex = 0 THEN 'male'\n         WHEN sex = 1 THEN 'female'\n         ELSE 'NA'\n    END AS sex\nFROM user\nGROUP BY sex\nORDER BY count DESC\n\"\"\")",
    "id": "036e31cb77d54507942ec42a0d1fa85d",
    "idx": 27,
    "time": "2021-01-22T19:51:23.394Z",
    "type": "execution"
   },
   {
    "id": "036e31cb77d54507942ec42a0d1fa85d",
    "time": "2021-01-22T19:51:23.504Z",
    "type": "completion"
   },
   {
    "code": "sex_ratio",
    "id": "9a85969347054aca877d5d659b2ca4bb",
    "idx": 28,
    "time": "2021-01-22T19:51:24.195Z",
    "type": "execution"
   },
   {
    "id": "9a85969347054aca877d5d659b2ca4bb",
    "time": "2021-01-22T19:51:24.277Z",
    "type": "completion"
   },
   {
    "code": "countryTop10 = queryToDataframe(\"\"\"\nSELECT COUNT(*) AS count, country\nFROM user\nGROUP BY country\nORDER BY count DESC\nLIMIT 10\n\"\"\")",
    "id": "0c295b81eab74b8ab493f71f45dcda1f",
    "idx": 29,
    "time": "2021-01-22T19:51:46.942Z",
    "type": "execution"
   },
   {
    "id": "0c295b81eab74b8ab493f71f45dcda1f",
    "time": "2021-01-22T19:51:47.045Z",
    "type": "completion"
   },
   {
    "code": "weight_height_average = queryToDataframe(\"\"\"\nSELECT AVG(weight) AS avg_weight, AVG(height) AS avg_height\nFROM user\n\"\"\")",
    "id": "bf8a16258bd24f4282c00240f4f1c7c2",
    "idx": 31,
    "time": "2021-01-22T19:57:48.349Z",
    "type": "execution"
   },
   {
    "id": "bf8a16258bd24f4282c00240f4f1c7c2",
    "time": "2021-01-22T19:57:48.475Z",
    "type": "completion"
   },
   {
    "code": "weight_height_average",
    "id": "62af761278f74b7c8c26853ad5f4fccb",
    "idx": 32,
    "time": "2021-01-22T19:57:57.005Z",
    "type": "execution"
   },
   {
    "id": "62af761278f74b7c8c26853ad5f4fccb",
    "time": "2021-01-22T19:57:57.080Z",
    "type": "completion"
   },
   {
    "code": "weight_height_average = queryToDataframe(\"\"\"\nSELECT AVG(weight) AS avg_weight, \n       AVG(height) AS avg_height,\n       MAX(country) AS max_country\n       \nFROM user\n\"\"\")",
    "id": "bf8a16258bd24f4282c00240f4f1c7c2",
    "idx": 31,
    "time": "2021-01-22T20:01:48.317Z",
    "type": "execution"
   },
   {
    "id": "bf8a16258bd24f4282c00240f4f1c7c2",
    "time": "2021-01-22T20:01:48.408Z",
    "type": "completion"
   },
   {
    "code": "weight_height_average",
    "id": "62af761278f74b7c8c26853ad5f4fccb",
    "idx": 32,
    "time": "2021-01-22T20:01:49.229Z",
    "type": "execution"
   },
   {
    "id": "62af761278f74b7c8c26853ad5f4fccb",
    "time": "2021-01-22T20:01:49.303Z",
    "type": "completion"
   },
   {
    "code": "weight_height_average = queryToDataframe(\"\"\"\nSELECT AVG(weight) AS avg_weight, \n       AVG(height) AS avg_height\nFROM user\n\"\"\")",
    "id": "4465eab447b54a698046b63316187990",
    "idx": 33,
    "time": "2021-01-23T00:35:53.110Z",
    "type": "execution"
   },
   {
    "id": "4465eab447b54a698046b63316187990",
    "time": "2021-01-23T00:35:53.260Z",
    "type": "completion"
   },
   {
    "code": "import sqlite3\nimport pandas as pd\nimport numpy as np\nimport matplotlib.pyplot as plt\nimport os",
    "id": "a53c7339bd344c4e88267604bed46a70",
    "idx": 2,
    "time": "2021-01-23T00:35:59.887Z",
    "type": "execution"
   },
   {
    "code": "#Make a connection\ncon = sqlite3.connect('database.sqlite')\n\n#Make a cursor instance\nc = con.cursor()",
    "id": "cde89310eea1456ea5ad43ffd5714cfa",
    "idx": 4,
    "time": "2021-01-23T00:36:00.266Z",
    "type": "execution"
   },
   {
    "id": "a53c7339bd344c4e88267604bed46a70",
    "time": "2021-01-23T00:36:00.554Z",
    "type": "completion"
   },
   {
    "id": "cde89310eea1456ea5ad43ffd5714cfa",
    "time": "2021-01-23T00:36:00.556Z",
    "type": "completion"
   },
   {
    "code": "#Look at all of the tables within the sqlite databes\ndef table_names():\n    query = \"\"\"\n    SELECT NAME \n    FROM SQLITE_MASTER \n    WHERE type= 'table';\n    \"\"\"\n    c.execute(query)\n    \n    tables = []\n    for row in c.fetchall():\n        tables.append(row[0])\n    \n    return tables",
    "id": "8addd39e5c2b4971999d380c08b2a3ce",
    "idx": 6,
    "time": "2021-01-23T00:36:00.718Z",
    "type": "execution"
   },
   {
    "id": "8addd39e5c2b4971999d380c08b2a3ce",
    "time": "2021-01-23T00:36:00.775Z",
    "type": "completion"
   },
   {
    "code": "all_tables = table_names()\n\nfor table in all_tables:\n    print(table)",
    "id": "357a7659714e4aca8db283741f4cab2e",
    "idx": 7,
    "time": "2021-01-23T00:36:00.918Z",
    "type": "execution"
   },
   {
    "id": "357a7659714e4aca8db283741f4cab2e",
    "time": "2021-01-23T00:36:01.008Z",
    "type": "completion"
   },
   {
    "code": "def col_info():\n    #Get table names\n    tables = table_names()\n    \n    #Initialize dataframes for each table\n    dfs = {}\n\n    for table in tables:\n        #d[table] = pd.DataFrame()\n        \n        query = f\"\"\"\n        PRAGMA table_info({table})\n        \"\"\"\n        c.execute(query)\n        \n        Column = []\n        Type = []\n        Not_Null = []\n        Primary_Key = []\n        \n        for row in c:\n            Column.append(row[1])\n            Type.append(row[2])\n            if row[3]:\n                Not_Null.append(\"YES\")\n            else:\n                Not_Null.append(\"NO\")\n            if row[5]:\n                Primary_Key.append(\"YES\")\n            else:\n                Primary_Key.append(\"\")\n            \n        dfs[table] = pd.DataFrame({\"Column\" : Column,\n                          \"Type\" : Type,\n                          \"Not_Null\" : Not_Null,\n                          \"Primary_Key\" : Primary_Key})\n    return dfs ",
    "id": "105a2de451c6424ea1739b7e2cf55bd2",
    "idx": 8,
    "time": "2021-01-23T00:36:01.123Z",
    "type": "execution"
   },
   {
    "id": "105a2de451c6424ea1739b7e2cf55bd2",
    "time": "2021-01-23T00:36:01.183Z",
    "type": "completion"
   },
   {
    "code": "column_info_dfs = col_info()",
    "id": "d63aced4e1f94f689a15fbfa4c216ba3",
    "idx": 9,
    "time": "2021-01-23T00:36:01.326Z",
    "type": "execution"
   },
   {
    "id": "d63aced4e1f94f689a15fbfa4c216ba3",
    "time": "2021-01-23T00:36:01.399Z",
    "type": "completion"
   },
   {
    "code": "column_info_dfs[\"user\"]",
    "id": "0ac7555c053e44d3818b6d816954d354",
    "idx": 10,
    "time": "2021-01-23T00:36:01.552Z",
    "type": "execution"
   },
   {
    "id": "0ac7555c053e44d3818b6d816954d354",
    "time": "2021-01-23T00:36:01.691Z",
    "type": "completion"
   },
   {
    "code": "column_info_dfs[\"method\"]",
    "id": "9723faf72887400d9d34dccaa387dd58",
    "idx": 11,
    "time": "2021-01-23T00:36:01.730Z",
    "type": "execution"
   },
   {
    "id": "9723faf72887400d9d34dccaa387dd58",
    "time": "2021-01-23T00:36:01.801Z",
    "type": "completion"
   },
   {
    "code": "column_info_dfs[\"grade\"]",
    "id": "b6eba39016364e52831d6f362584e137",
    "idx": 12,
    "time": "2021-01-23T00:36:01.920Z",
    "type": "execution"
   },
   {
    "id": "b6eba39016364e52831d6f362584e137",
    "time": "2021-01-23T00:36:02.036Z",
    "type": "completion"
   },
   {
    "code": "column_info_dfs[\"ascent\"]",
    "id": "ccbb4d2f6a054a8182b14b2da545e6d7",
    "idx": 13,
    "time": "2021-01-23T00:36:02.143Z",
    "type": "execution"
   },
   {
    "code": "def countRows():\n    #Get table names\n    tables = table_names()\n    \n    for table in tables:\n        query = f\"\"\"\n        SELECT COUNT(id)\n        FROM {table}\n        \"\"\"\n        count = c.execute(query).fetchall()[0][0]\n        print(f\"{table} table:  {count} rows\")\n        ",
    "id": "b5e673d0f1714ec68492175dc62d1f73",
    "idx": 14,
    "time": "2021-01-23T00:36:02.264Z",
    "type": "execution"
   },
   {
    "id": "ccbb4d2f6a054a8182b14b2da545e6d7",
    "time": "2021-01-23T00:36:02.339Z",
    "type": "completion"
   },
   {
    "id": "b5e673d0f1714ec68492175dc62d1f73",
    "time": "2021-01-23T00:36:02.341Z",
    "type": "completion"
   },
   {
    "code": "countRows()",
    "id": "a28956bbf75f4b048190dd09f66a6b57",
    "idx": 15,
    "time": "2021-01-23T00:36:02.434Z",
    "type": "execution"
   },
   {
    "code": "def queryToDataframe(query, connection = con):\n    \"\"\"\n    Takes a sql query, and a connection.\n    Returns a dataframe.\n    \"\"\"\n    df = pd.read_sql(query, connection)\n    return df",
    "id": "9cbfb755ccdb47328bd1776d7dd8c787",
    "idx": 17,
    "time": "2021-01-23T00:36:03.014Z",
    "type": "execution"
   },
   {
    "code": "year_count_segmented = queryToDataframe(\"\"\"\nWITH t AS\n    (\n    SELECT COUNT(started) AS total, started AS year\n    FROM user\n    WHERE year BETWEEN 1960 AND 2017\n    GROUP BY(year)\n    ),\nf AS\n    (\n    SELECT COUNT(started) AS female, started AS year\n    FROM user\n    WHERE year BETWEEN 1960 AND 2017\n        AND sex = 1\n    GROUP BY(year)\n    ),\nm AS\n    (\n    SELECT COUNT(started) AS male, started AS year\n    FROM user\n    WHERE year BETWEEN 1960 AND 2017\n        AND sex = 0\n    GROUP BY(year)\n    )\nSELECT t.year, t.total, m.male, IFNULL(f.female, 0) AS female\nFROM t\nLEFT JOIN f\n    ON t.year = f.year\nLEFT JOIN m\n    ON t.year = m.year\n\"\"\")",
    "id": "0d4258b9f5ee484185209c97f965ce6b",
    "idx": 19,
    "time": "2021-01-23T00:36:03.659Z",
    "type": "execution"
   },
   {
    "id": "a28956bbf75f4b048190dd09f66a6b57",
    "time": "2021-01-23T00:36:03.687Z",
    "type": "completion"
   },
   {
    "id": "9cbfb755ccdb47328bd1776d7dd8c787",
    "time": "2021-01-23T00:36:03.690Z",
    "type": "completion"
   },
   {
    "id": "0d4258b9f5ee484185209c97f965ce6b",
    "time": "2021-01-23T00:36:03.913Z",
    "type": "completion"
   },
   {
    "code": "year_count_segmented.tail()",
    "id": "6e09d977aedb468b94482f1cc0515c3f",
    "idx": 20,
    "time": "2021-01-23T00:36:04.299Z",
    "type": "execution"
   },
   {
    "id": "6e09d977aedb468b94482f1cc0515c3f",
    "time": "2021-01-23T00:36:04.377Z",
    "type": "completion"
   },
   {
    "code": "def write_csv(df, path, filename):\n    \"\"\"\n    Takes a dataframe, path, and filename.\n    Returns a written csv.\n    Checks if the csv is already written, and if the path is correct.\n    \"\"\"\n    file = os.path.join(path, filename)\n\n    if os.path.exists(path):\n        if os.path.exists(file):\n            print(f\"The csv {filename} already exists.\")\n        else:\n            pd.DataFrame.to_csv(df, file)\n    else:\n        print(f\"The path {path} does not exist.\")",
    "id": "9fb487b1355740c792f221a00f4432c2",
    "idx": 21,
    "time": "2021-01-23T00:36:04.475Z",
    "type": "execution"
   },
   {
    "id": "9fb487b1355740c792f221a00f4432c2",
    "time": "2021-01-23T00:36:04.533Z",
    "type": "completion"
   },
   {
    "code": "write_csv(year_count_segmented, \"clean_data\", \"popularity_growth.csv\")",
    "id": "47f1614307bb4b45846587b1d6e075b5",
    "idx": 22,
    "time": "2021-01-23T00:36:04.880Z",
    "type": "execution"
   },
   {
    "id": "47f1614307bb4b45846587b1d6e075b5",
    "time": "2021-01-23T00:36:04.956Z",
    "type": "completion"
   },
   {
    "code": "def multiLinePlot(df, x, time = False, title = \"\", ylab = \"\", xlab = \"\"):\n    if time:\n        xvar = pd.to_datetime(df[x], format = '%Y').dt.year\n        xvar = df[x]\n        \n    yvars = df.drop(columns = x)\n    ycols = yvars.columns.values\n    \n    for col in ycols:\n        plt.plot(xvar, df[col], label = col)\n    \n    plt.legend()\n    \n    plt.title(title)\n    plt.xlabel(xlab)\n    plt.ylabel(ylab)",
    "id": "1b429d60c5b148fbba4507d2705d2240",
    "idx": 23,
    "time": "2021-01-23T00:36:05.060Z",
    "type": "execution"
   },
   {
    "id": "1b429d60c5b148fbba4507d2705d2240",
    "time": "2021-01-23T00:36:05.147Z",
    "type": "completion"
   },
   {
    "code": "multiLinePlot(df = year_count_segmented, \n              x = \"year\", \n              time = True, \n              title = \"Popularity of Climbing Over Time (Starting Date)\",\n              ylab = \"Total Climbers\",\n              xlab = \"Year\")",
    "id": "dde4755a239a489781452416b9c8b79c",
    "idx": 24,
    "time": "2021-01-23T00:36:05.668Z",
    "type": "execution"
   },
   {
    "id": "dde4755a239a489781452416b9c8b79c",
    "time": "2021-01-23T00:36:06.068Z",
    "type": "completion"
   },
   {
    "code": "sex_ratio = queryToDataframe(\"\"\"\nSELECT COUNT(*) AS count, \n    CASE WHEN sex = 0 THEN 'male'\n         WHEN sex = 1 THEN 'female'\n         ELSE 'NA'\n    END AS sex\nFROM user\nGROUP BY sex\nORDER BY count DESC\n\"\"\")",
    "id": "98c83da786c843d681f4c92c06fe9317",
    "idx": 27,
    "time": "2021-01-23T00:36:07.716Z",
    "type": "execution"
   },
   {
    "id": "98c83da786c843d681f4c92c06fe9317",
    "time": "2021-01-23T00:36:07.814Z",
    "type": "completion"
   },
   {
    "code": "sex_ratio",
    "id": "91cd325167d843cd9352b255dfe7077b",
    "idx": 28,
    "time": "2021-01-23T00:36:08.526Z",
    "type": "execution"
   },
   {
    "id": "91cd325167d843cd9352b255dfe7077b",
    "time": "2021-01-23T00:36:08.603Z",
    "type": "completion"
   },
   {
    "code": "# Obtain average weight height\n# Obtain most common Country, Occupation\nqueryToDataframe(\"\"\"\nWITH c AS \n    (SELECT COUNT(*) AS count, country\n     FROM user\n     GROUP BY country\n     ORDER BY count DESC\n     LIMIT 1\n    ),\n    \n    wh AS\n    (SELECT AVG(weight) AS avg_weight, \n       AVG(height) AS avg_height\n       SELECT country\n        FROM user\n        WHERE country = (\n            SELECT country, count\n            FROM user\n            Max))\n\"\"\")",
    "id": "dd379e3d7f254274980b3a8c3acedf42",
    "idx": 29,
    "time": "2021-01-23T00:36:09.719Z",
    "type": "execution"
   },
   {
    "id": "dd379e3d7f254274980b3a8c3acedf42",
    "time": "2021-01-23T00:36:09.878Z",
    "type": "completion"
   },
   {
    "code": "# Obtain average weight height\n# Obtain most common Country, Occupation\nqueryToDataframe(\"\"\"\nWITH c AS \n    (SELECT COUNT(*) AS count, country\n     FROM user\n     GROUP BY country\n     ORDER BY count DESC\n     LIMIT 1\n    ),\n    \n    wh AS\n    (SELECT AVG(weight) AS avg_weight, \n        AVG(height) AS avg_height\n     FROM user))\nSELECT c.country, wh.avg_weight, wh.avg_height\nFROM c, wh\n\"\"\")",
    "id": "dd379e3d7f254274980b3a8c3acedf42",
    "idx": 29,
    "time": "2021-01-23T00:42:01.589Z",
    "type": "execution"
   },
   {
    "id": "dd379e3d7f254274980b3a8c3acedf42",
    "time": "2021-01-23T00:42:01.792Z",
    "type": "completion"
   },
   {
    "code": "def queryToDataframe(query, connection = con):\n    \"\"\"\n    Takes a sql query, and a connection.\n    Returns a dataframe.\n    \"\"\"\n    df = pd.read_sql(query, connection)\n    return df",
    "id": "9cbfb755ccdb47328bd1776d7dd8c787",
    "idx": 17,
    "time": "2021-01-23T00:42:20.748Z",
    "type": "execution"
   },
   {
    "id": "9cbfb755ccdb47328bd1776d7dd8c787",
    "time": "2021-01-23T00:42:20.846Z",
    "type": "completion"
   },
   {
    "code": "# Obtain average weight height\n# Obtain most common Country, Occupation\nqueryToDataframe(\"\"\"\nWITH c AS \n    (SELECT COUNT(*) AS count, country\n     FROM user\n     GROUP BY country\n     ORDER BY count DESC\n     LIMIT 1\n    ),\n    \n    wh AS\n    (SELECT AVG(weight) AS avg_weight, \n        AVG(height) AS avg_height\n     FROM user))\nSELECT c.country, wh.avg_weight, wh.avg_height\nFROM c, wh\n\"\"\")",
    "id": "dd379e3d7f254274980b3a8c3acedf42",
    "idx": 29,
    "time": "2021-01-23T00:42:26.011Z",
    "type": "execution"
   },
   {
    "id": "dd379e3d7f254274980b3a8c3acedf42",
    "time": "2021-01-23T00:42:26.185Z",
    "type": "completion"
   },
   {
    "code": "queryToDataframe(\"\"\"SELECT * FROM method\"\"\")",
    "id": "d21516e93f1a4846a81aa91ea3e62630",
    "idx": 30,
    "time": "2021-01-23T00:43:05.974Z",
    "type": "execution"
   },
   {
    "id": "d21516e93f1a4846a81aa91ea3e62630",
    "time": "2021-01-23T00:43:08.916Z",
    "type": "completion"
   },
   {
    "code": "queryToDataframe(\"\"\"SELECT COUNT(*) AS count, country\n     FROM user\n     GROUP BY country\n     ORDER BY count DESC\n     LIMIT 1\"\"\")",
    "id": "1fa09c06133240388f2de85e4a38f600",
    "idx": 29,
    "time": "2021-01-23T00:44:59.577Z",
    "type": "execution"
   },
   {
    "id": "1fa09c06133240388f2de85e4a38f600",
    "time": "2021-01-23T00:44:59.798Z",
    "type": "completion"
   },
   {
    "code": "queryToDataframe(\"\"\"SELECT AVG(weight) AS avg_weight, \n        AVG(height) AS avg_height\n     FROM user\"\"\")",
    "id": "1fa09c06133240388f2de85e4a38f600",
    "idx": 29,
    "time": "2021-01-23T00:45:12.381Z",
    "type": "execution"
   },
   {
    "id": "1fa09c06133240388f2de85e4a38f600",
    "time": "2021-01-23T00:45:13.850Z",
    "type": "completion"
   },
   {
    "code": "# Obtain average weight height\n# Obtain most common Country, Occupation\nqueryToDataframe(\"\"\"\nWITH c AS \n    (SELECT COUNT(*) AS count, country\n     FROM user\n     GROUP BY country\n     ORDER BY count DESC\n     LIMIT 1\n    ),\n    \n    wh AS\n    (SELECT AVG(weight) AS avg_weight, \n        AVG(height) AS avg_height\n     FROM user))\nSELECT *\nFROM c, wh\n\"\"\")",
    "id": "dd379e3d7f254274980b3a8c3acedf42",
    "idx": 30,
    "time": "2021-01-23T00:47:49.724Z",
    "type": "execution"
   },
   {
    "id": "dd379e3d7f254274980b3a8c3acedf42",
    "time": "2021-01-23T00:47:49.952Z",
    "type": "completion"
   },
   {
    "code": "# Obtain average weight height\n# Obtain most common Country, Occupation\nqueryToDataframe(\"\"\"\nWITH c AS \n    (SELECT COUNT(*) AS count, country\n     FROM user\n     GROUP BY country\n     ORDER BY count DESC\n     LIMIT 1),\n    \n    wh AS\n    (SELECT AVG(weight) AS avg_weight, \n        AVG(height) AS avg_height\n     FROM user)\nSELECT c.country, wh.avg_weight, wh.avg_height\nFROM c, wh\n\"\"\")",
    "id": "dd379e3d7f254274980b3a8c3acedf42",
    "idx": 30,
    "time": "2021-01-23T00:48:38.145Z",
    "type": "execution"
   },
   {
    "id": "dd379e3d7f254274980b3a8c3acedf42",
    "time": "2021-01-23T00:48:38.314Z",
    "type": "completion"
   },
   {
    "code": "queryToDataframe(\"\"\"\nSELECT count(*) AS count, occupation \nGROUP BY occupation\nORDER BY count DESC\nFROM user\"\"\")",
    "id": "d21516e93f1a4846a81aa91ea3e62630",
    "idx": 30,
    "time": "2021-01-23T00:54:49.758Z",
    "type": "execution"
   },
   {
    "id": "d21516e93f1a4846a81aa91ea3e62630",
    "time": "2021-01-23T00:54:49.908Z",
    "type": "completion"
   },
   {
    "code": "queryToDataframe(\"\"\"\nSELECT count(*) AS count, occupation \nGROUP BY occupation\nORDER count DESC\nFROM user\"\"\")",
    "id": "d21516e93f1a4846a81aa91ea3e62630",
    "idx": 30,
    "time": "2021-01-23T00:54:54.708Z",
    "type": "execution"
   },
   {
    "id": "d21516e93f1a4846a81aa91ea3e62630",
    "time": "2021-01-23T00:54:54.837Z",
    "type": "completion"
   },
   {
    "code": "queryToDataframe(\"\"\"\nSELECT COUNT(*) AS count, occupation \nGROUP BY occupation\nORDER BY count DESC\nFROM user\"\"\")",
    "id": "d21516e93f1a4846a81aa91ea3e62630",
    "idx": 30,
    "time": "2021-01-23T00:55:06.296Z",
    "type": "execution"
   },
   {
    "id": "d21516e93f1a4846a81aa91ea3e62630",
    "time": "2021-01-23T00:55:06.434Z",
    "type": "completion"
   },
   {
    "code": "queryToDataframe(\"\"\"\nSELECT COUNT(*) AS count, LOWER(occupation) AS job \nGROUP BY job\nORDER BY count DESC\nFROM user\"\"\")",
    "id": "d21516e93f1a4846a81aa91ea3e62630",
    "idx": 30,
    "time": "2021-01-23T00:56:55.850Z",
    "type": "execution"
   },
   {
    "id": "d21516e93f1a4846a81aa91ea3e62630",
    "time": "2021-01-23T00:56:56.023Z",
    "type": "completion"
   },
   {
    "code": "queryToDataframe(\"\"\"\nSELECT COUNT(*) AS count, LOWER(occupation) AS job \nGROUP BY job\nORDER BY count DESC\nFROM user\n\"\"\")",
    "id": "d21516e93f1a4846a81aa91ea3e62630",
    "idx": 30,
    "time": "2021-01-23T00:57:18.305Z",
    "type": "execution"
   },
   {
    "id": "d21516e93f1a4846a81aa91ea3e62630",
    "time": "2021-01-23T00:57:18.461Z",
    "type": "completion"
   },
   {
    "code": "queryToDataframe(\"\"\"\nSELECT COUNT(*) AS count, LOWER(occupation) AS job \nFROM user\nGROUP BY job\nORDER BY count DESC\n\"\"\")",
    "id": "d21516e93f1a4846a81aa91ea3e62630",
    "idx": 30,
    "time": "2021-01-23T00:57:33.785Z",
    "type": "execution"
   },
   {
    "id": "d21516e93f1a4846a81aa91ea3e62630",
    "time": "2021-01-23T00:57:33.980Z",
    "type": "completion"
   },
   {
    "code": "queryToDataframe(\"\"\"\nSELECT COUNT(*) AS count, LOWER(occupation) AS job \nFROM user\nGROUP BY job\nORDER BY count DESC\nWHERE job IS NOT NULL\n    AND job NOT LIKE '%none'\n\"\"\")",
    "id": "d21516e93f1a4846a81aa91ea3e62630",
    "idx": 30,
    "time": "2021-01-23T00:59:31.223Z",
    "type": "execution"
   },
   {
    "id": "d21516e93f1a4846a81aa91ea3e62630",
    "time": "2021-01-23T00:59:31.375Z",
    "type": "completion"
   },
   {
    "code": "queryToDataframe(\"\"\"\nSELECT COUNT(*) AS count, LOWER(occupation) AS job \nFROM user\nGROUP BY job\nORDER BY count DESC\nWHERE job IS NOT NULL\n\"\"\")",
    "id": "d21516e93f1a4846a81aa91ea3e62630",
    "idx": 30,
    "time": "2021-01-23T01:00:41.098Z",
    "type": "execution"
   },
   {
    "id": "d21516e93f1a4846a81aa91ea3e62630",
    "time": "2021-01-23T01:00:41.236Z",
    "type": "completion"
   },
   {
    "code": "queryToDataframe(\"\"\"\nSELECT COUNT(*) AS count, LOWER(occupation) AS job \nFROM user\nGROUP BY job\nWHERE job IS NOT NULL\nORDER BY count DESC\n\"\"\")",
    "id": "d21516e93f1a4846a81aa91ea3e62630",
    "idx": 30,
    "time": "2021-01-23T01:00:59.681Z",
    "type": "execution"
   },
   {
    "id": "d21516e93f1a4846a81aa91ea3e62630",
    "time": "2021-01-23T01:00:59.826Z",
    "type": "completion"
   },
   {
    "code": "queryToDataframe(\"\"\"\nSELECT COUNT(*) AS count, LOWER(occupation) AS job \nFROM user\nWHERE job IS NOT NULL\nGROUP BY job\nORDER BY count DESC\n\"\"\")",
    "id": "d21516e93f1a4846a81aa91ea3e62630",
    "idx": 30,
    "time": "2021-01-23T01:01:10.936Z",
    "type": "execution"
   },
   {
    "id": "d21516e93f1a4846a81aa91ea3e62630",
    "time": "2021-01-23T01:01:11.322Z",
    "type": "completion"
   },
   {
    "code": "queryToDataframe(\"\"\"\nSELECT COUNT(*) AS count, LOWER(occupation) AS job \nFROM user\nWHERE job IS NOT NULL\n    AND job NOT LIKE '%none'\nGROUP BY job\nORDER BY count DESC\n\"\"\")",
    "id": "d21516e93f1a4846a81aa91ea3e62630",
    "idx": 30,
    "time": "2021-01-23T01:01:46.652Z",
    "type": "execution"
   },
   {
    "id": "d21516e93f1a4846a81aa91ea3e62630",
    "time": "2021-01-23T01:01:46.857Z",
    "type": "completion"
   },
   {
    "code": "queryToDataframe(\"\"\"\nSELECT COUNT(*) AS count, LOWER(occupation) AS job \nFROM user\nWHERE job IS NOT NULL\n    AND job != ''\nGROUP BY job\nORDER BY count DESC\n\"\"\")",
    "id": "d21516e93f1a4846a81aa91ea3e62630",
    "idx": 30,
    "time": "2021-01-23T01:02:09.277Z",
    "type": "execution"
   },
   {
    "id": "d21516e93f1a4846a81aa91ea3e62630",
    "time": "2021-01-23T01:02:09.404Z",
    "type": "completion"
   },
   {
    "code": "# Obtain average weight height\n# Obtain most common Country, Occupation\nqueryToDataframe(\"\"\"\nWITH c AS \n    (SELECT COUNT(*) AS count, country\n     FROM user\n     GROUP BY country\n     ORDER BY count DESC\n     LIMIT 1),\n    \n    wh AS\n    (SELECT AVG(weight) AS avg_weight, \n        AVG(height) AS avg_height\n     FROM user),\n    \n    j AS\n    (SELECT COUNT(*) AS count, LOWER(occupation) AS job \n     FROM user\n     WHERE job IS NOT NULL\n         AND job != ''\n     GROUP BY job\n     ORDER BY count DESC\n     LIMIT 1)\nSELECT c.country, wh.avg_weight, wh.avg_height\nFROM c, wh\n\"\"\")",
    "id": "dd379e3d7f254274980b3a8c3acedf42",
    "idx": 29,
    "time": "2021-01-23T01:03:15.113Z",
    "type": "execution"
   },
   {
    "id": "dd379e3d7f254274980b3a8c3acedf42",
    "time": "2021-01-23T01:03:15.287Z",
    "type": "completion"
   },
   {
    "code": "# Obtain average weight height\n# Obtain most common Country, Occupation\nqueryToDataframe(\"\"\"\nWITH c AS \n    (SELECT COUNT(*) AS count, country\n     FROM user\n     GROUP BY country\n     ORDER BY count DESC\n     LIMIT 1),\n    \n    wh AS\n    (SELECT AVG(weight) AS avg_weight, \n        AVG(height) AS avg_height\n     FROM user),\n    \n    j AS\n    (SELECT COUNT(*) AS count, LOWER(occupation) AS job \n     FROM user\n     WHERE job IS NOT NULL\n         AND job != ''\n     GROUP BY job\n     ORDER BY count DESC\n     LIMIT 1)\n     \nSELECT c.country, wh.avg_weight, wh.avg_height, j.job\nFROM c, wh, j\n\"\"\")",
    "id": "dd379e3d7f254274980b3a8c3acedf42",
    "idx": 29,
    "time": "2021-01-23T01:03:34.575Z",
    "type": "execution"
   },
   {
    "id": "dd379e3d7f254274980b3a8c3acedf42",
    "time": "2021-01-23T01:03:34.784Z",
    "type": "completion"
   },
   {
    "code": "queryToDataframe(\"\"\"\nSELECT AVG(grade_id), climb_type\nFROM ascent\nGROUP BY climb_type\n\"\"\")",
    "id": "d21516e93f1a4846a81aa91ea3e62630",
    "idx": 30,
    "time": "2021-01-23T01:07:44.283Z",
    "type": "execution"
   },
   {
    "id": "d21516e93f1a4846a81aa91ea3e62630",
    "time": "2021-01-23T01:07:46.798Z",
    "type": "completion"
   },
   {
    "code": "queryToDataframe(\"\"\"\nSELECT AVG(grade_id), \n    CASE WHEN climb_type = 0 THEN 'boulder'\n         WHEN climb_type = 1 THEN 'route'\n         ELSE 'NA'\n    END AS climb\nFROM ascent\nGROUP BY climb\n\"\"\")",
    "id": "d21516e93f1a4846a81aa91ea3e62630",
    "idx": 30,
    "time": "2021-01-23T01:12:23.353Z",
    "type": "execution"
   },
   {
    "id": "d21516e93f1a4846a81aa91ea3e62630",
    "time": "2021-01-23T01:12:26.479Z",
    "type": "completion"
   },
   {
    "code": "queryToDataframe(\"\"\"\nSELECT AVG(grade_id), \n    CASE WHEN climb_type = 0 THEN 'route'\n         WHEN climb_type = 1 THEN 'boulder'\n         ELSE 'NA'\n    END AS climb\nFROM ascent\nGROUP BY climb\n\"\"\")",
    "id": "d21516e93f1a4846a81aa91ea3e62630",
    "idx": 30,
    "time": "2021-01-23T01:15:21.510Z",
    "type": "execution"
   },
   {
    "id": "d21516e93f1a4846a81aa91ea3e62630",
    "time": "2021-01-23T01:15:24.511Z",
    "type": "completion"
   },
   {
    "code": "queryToDataframe(\"\"\"\nSELECT *\nFROM grade\nLIMIT 5\n\"\"\")",
    "id": "9450a5ed4fc44d45b359957d70ebd43d",
    "idx": 31,
    "time": "2021-01-23T01:19:02.101Z",
    "type": "execution"
   },
   {
    "id": "9450a5ed4fc44d45b359957d70ebd43d",
    "time": "2021-01-23T01:19:02.293Z",
    "type": "completion"
   },
   {
    "code": "queryToDataframe(\"\"\"\nSELECT *\nFROM grade\n\"\"\")",
    "id": "9450a5ed4fc44d45b359957d70ebd43d",
    "idx": 31,
    "time": "2021-01-23T01:19:15.129Z",
    "type": "execution"
   },
   {
    "id": "9450a5ed4fc44d45b359957d70ebd43d",
    "time": "2021-01-23T01:19:15.541Z",
    "type": "completion"
   },
   {
    "code": "queryToDataframe(\"\"\"\nSELECT ROUND(AVG(grade_id)) AS grade_id, \n    CASE WHEN climb_type = 0 THEN 'route'\n         WHEN climb_type = 1 THEN 'boulder'\n         ELSE 'NA'\n    END AS climb\nFROM ascent\nGROUP BY climb\nLEFT JOIN grade AS g\n    ON g.id\n\"\"\")",
    "id": "d21516e93f1a4846a81aa91ea3e62630",
    "idx": 30,
    "time": "2021-01-23T01:19:55.942Z",
    "type": "execution"
   },
   {
    "id": "d21516e93f1a4846a81aa91ea3e62630",
    "time": "2021-01-23T01:19:56.109Z",
    "type": "completion"
   },
   {
    "code": "queryToDataframe(\"\"\"\nSELECT ROUND(AVG(grade_id), 0) AS grade_id, \n    CASE WHEN climb_type = 0 THEN 'route'\n         WHEN climb_type = 1 THEN 'boulder'\n         ELSE 'NA'\n    END AS climb\nFROM ascent\nGROUP BY climb\n\"\"\")",
    "id": "d21516e93f1a4846a81aa91ea3e62630",
    "idx": 30,
    "time": "2021-01-23T01:20:38.515Z",
    "type": "execution"
   },
   {
    "id": "d21516e93f1a4846a81aa91ea3e62630",
    "time": "2021-01-23T01:20:41.600Z",
    "type": "completion"
   },
   {
    "code": "queryToDataframe(\"\"\"\nSELECT ROUND(AVG(grade_id)) AS grade_id, \n    CASE WHEN climb_type = 0 THEN 'route'\n         WHEN climb_type = 1 THEN 'boulder'\n         ELSE 'NA'\n    END AS climb\nFROM ascent\nGROUP BY climb\n\"\"\")",
    "id": "d21516e93f1a4846a81aa91ea3e62630",
    "idx": 30,
    "time": "2021-01-23T01:20:47.829Z",
    "type": "execution"
   },
   {
    "id": "d21516e93f1a4846a81aa91ea3e62630",
    "time": "2021-01-23T01:20:50.966Z",
    "type": "completion"
   },
   {
    "code": "queryToDataframe(\"\"\"\nSELECT CAST(AVG(grade_id), int) AS grade_id, \n    CASE WHEN climb_type = 0 THEN 'route'\n         WHEN climb_type = 1 THEN 'boulder'\n         ELSE 'NA'\n    END AS climb\nFROM ascent\nGROUP BY climb\n\"\"\")",
    "id": "d21516e93f1a4846a81aa91ea3e62630",
    "idx": 30,
    "time": "2021-01-23T01:21:35.394Z",
    "type": "execution"
   },
   {
    "id": "d21516e93f1a4846a81aa91ea3e62630",
    "time": "2021-01-23T01:21:35.541Z",
    "type": "completion"
   },
   {
    "code": "queryToDataframe(\"\"\"\nSELECT CAST(ROUND(AVG(grade_id)), int) AS grade_id, \n    CASE WHEN climb_type = 0 THEN 'route'\n         WHEN climb_type = 1 THEN 'boulder'\n         ELSE 'NA'\n    END AS climb\nFROM ascent\nGROUP BY climb\n\"\"\")",
    "id": "d21516e93f1a4846a81aa91ea3e62630",
    "idx": 30,
    "time": "2021-01-23T01:29:31.974Z",
    "type": "execution"
   },
   {
    "id": "d21516e93f1a4846a81aa91ea3e62630",
    "time": "2021-01-23T01:29:32.133Z",
    "type": "completion"
   },
   {
    "code": "queryToDataframe(\"\"\"\nSELECT ROUND(AVG(grade_id)), int) AS grade_id, \n    CASE WHEN climb_type = 0 THEN 'route'\n         WHEN climb_type = 1 THEN 'boulder'\n         ELSE 'NA'\n    END AS climb\nFROM ascent\nGROUP BY climb\n\"\"\")",
    "id": "d21516e93f1a4846a81aa91ea3e62630",
    "idx": 30,
    "time": "2021-01-23T01:29:42.549Z",
    "type": "execution"
   },
   {
    "id": "d21516e93f1a4846a81aa91ea3e62630",
    "time": "2021-01-23T01:29:42.758Z",
    "type": "completion"
   },
   {
    "code": "queryToDataframe(\"\"\"\nSELECT ROUND(AVG(grade_id)) AS grade_id, \n    CASE WHEN climb_type = 0 THEN 'route'\n         WHEN climb_type = 1 THEN 'boulder'\n         ELSE 'NA'\n    END AS climb\nFROM ascent\nGROUP BY climb\n\"\"\")",
    "id": "d21516e93f1a4846a81aa91ea3e62630",
    "idx": 30,
    "time": "2021-01-23T01:29:51.211Z",
    "type": "execution"
   },
   {
    "id": "d21516e93f1a4846a81aa91ea3e62630",
    "time": "2021-01-23T01:29:54.308Z",
    "type": "completion"
   },
   {
    "code": "queryToDataframe(\"\"\"\nSELECT CAST(ROUND(AVG(grade_id)), int) AS grade_id, \n    CASE WHEN climb_type = 0 THEN 'route'\n         WHEN climb_type = 1 THEN 'boulder'\n         ELSE 'NA'\n    END AS climb\nFROM ascent\nGROUP BY climb\n\"\"\")",
    "id": "d21516e93f1a4846a81aa91ea3e62630",
    "idx": 30,
    "time": "2021-01-23T01:30:05.531Z",
    "type": "execution"
   },
   {
    "id": "d21516e93f1a4846a81aa91ea3e62630",
    "time": "2021-01-23T01:30:05.907Z",
    "type": "completion"
   },
   {
    "code": "queryToDataframe(\"\"\"\nSELECT CAST(ROUND(AVG(grade_id)) AS int) AS grade_id, \n    CASE WHEN climb_type = 0 THEN 'route'\n         WHEN climb_type = 1 THEN 'boulder'\n         ELSE 'NA'\n    END AS climb\nFROM ascent\nGROUP BY climb\n\"\"\")",
    "id": "d21516e93f1a4846a81aa91ea3e62630",
    "idx": 30,
    "time": "2021-01-23T01:30:26.580Z",
    "type": "execution"
   },
   {
    "id": "d21516e93f1a4846a81aa91ea3e62630",
    "time": "2021-01-23T01:30:29.832Z",
    "type": "completion"
   },
   {
    "code": "queryToDataframe(\"\"\"\nSELECT CAST(AVG(grade_id) AS int) AS grade_id, \n    CASE WHEN climb_type = 0 THEN 'route'\n         WHEN climb_type = 1 THEN 'boulder'\n         ELSE 'NA'\n    END AS climb\nFROM ascent\nGROUP BY climb\n\"\"\")",
    "id": "d21516e93f1a4846a81aa91ea3e62630",
    "idx": 30,
    "time": "2021-01-23T01:30:39.676Z",
    "type": "execution"
   },
   {
    "id": "d21516e93f1a4846a81aa91ea3e62630",
    "time": "2021-01-23T01:30:42.695Z",
    "type": "completion"
   },
   {
    "code": "queryToDataframe(\"\"\"\nSELECT CAST(ROUND(AVG(grade_id)) AS int) AS grade_id, \n    CASE WHEN climb_type = 0 THEN 'route'\n         WHEN climb_type = 1 THEN 'boulder'\n         ELSE 'NA'\n    END AS climb\nFROM ascent\nGROUP BY climb\n\"\"\")",
    "id": "d21516e93f1a4846a81aa91ea3e62630",
    "idx": 30,
    "time": "2021-01-23T01:31:05.101Z",
    "type": "execution"
   },
   {
    "id": "d21516e93f1a4846a81aa91ea3e62630",
    "time": "2021-01-23T01:31:08.182Z",
    "type": "completion"
   },
   {
    "code": "# Get average weight and height\n# Get most common country and occupation\nweight_height_country_job = queryToDataframe(\"\"\"\nWITH c AS \n    (SELECT COUNT(*) AS count, country\n     FROM user\n     GROUP BY country\n     ORDER BY count DESC\n     LIMIT 1),\n    \n    wh AS\n    (SELECT AVG(weight) AS avg_weight, \n        AVG(height) AS avg_height\n     FROM user),\n    \n    j AS\n    (SELECT COUNT(*) AS count, LOWER(occupation) AS job \n     FROM user\n     WHERE job IS NOT NULL\n         AND job != ''\n     GROUP BY job\n     ORDER BY count DESC\n     LIMIT 1)\n     \nSELECT c.country, wh.avg_weight, wh.avg_height, j.job\nFROM c, wh, j\n\"\"\")",
    "id": "dd379e3d7f254274980b3a8c3acedf42",
    "idx": 29,
    "time": "2021-01-23T01:32:58.346Z",
    "type": "execution"
   },
   {
    "id": "dd379e3d7f254274980b3a8c3acedf42",
    "time": "2021-01-23T01:32:58.573Z",
    "type": "completion"
   },
   {
    "code": "weight_height_country_job",
    "id": "67527be4c34f470199ad308efdb025b9",
    "idx": 30,
    "time": "2021-01-23T01:33:04.127Z",
    "type": "execution"
   },
   {
    "id": "67527be4c34f470199ad308efdb025b9",
    "time": "2021-01-23T01:33:04.220Z",
    "type": "completion"
   },
   {
    "code": "queryToDataframe(\"\"\"\nSELECT CAST(ROUND(AVG(grade_id)) AS int) AS 8a_nu_grade, fra_boulders\n    CASE WHEN climb_type = 0 THEN 'route'\n         WHEN climb_type = 1 THEN 'boulder'\n         ELSE 'NA'\n    END AS climb\nFROM ascent AS a\nGROUP BY climb\nLEFT JOIN grade AS g\n    ON g.id = ascent.grade_id\n\"\"\")",
    "id": "d21516e93f1a4846a81aa91ea3e62630",
    "idx": 31,
    "time": "2021-01-23T01:36:48.748Z",
    "type": "execution"
   },
   {
    "id": "d21516e93f1a4846a81aa91ea3e62630",
    "time": "2021-01-23T01:36:48.916Z",
    "type": "completion"
   },
   {
    "code": "queryToDataframe(\"\"\"\nSELECT CAST(ROUND(AVG(grade_id)) AS int) AS 8a_nu_grade, fra_boulders, grade_id\n    CASE WHEN climb_type = 0 THEN 'route'\n         WHEN climb_type = 1 THEN 'boulder'\n         ELSE 'NA'\n    END AS climb\nFROM ascent AS a\nGROUP BY climb\nLEFT JOIN grade AS g\n    ON g.id = a.grade_id\n\"\"\")",
    "id": "d21516e93f1a4846a81aa91ea3e62630",
    "idx": 31,
    "time": "2021-01-23T01:44:19.336Z",
    "type": "execution"
   },
   {
    "id": "d21516e93f1a4846a81aa91ea3e62630",
    "time": "2021-01-23T01:44:19.491Z",
    "type": "completion"
   },
   {
    "code": "queryToDataframe(\"\"\"\nSELECT CAST(ROUND(AVG(grade_id)) AS int) AS id_grade, fra_boulders,\n    CASE WHEN climb_type = 0 THEN 'route'\n         WHEN climb_type = 1 THEN 'boulder'\n         ELSE 'NA'\n    END AS climb\n    \nFROM ascent AS a\nGROUP BY climb\nLEFT JOIN grade AS g\n    ON g.id = a.grade_id\n\"\"\")",
    "id": "d21516e93f1a4846a81aa91ea3e62630",
    "idx": 31,
    "time": "2021-01-23T01:46:37.218Z",
    "type": "execution"
   },
   {
    "id": "d21516e93f1a4846a81aa91ea3e62630",
    "time": "2021-01-23T01:46:37.380Z",
    "type": "completion"
   },
   {
    "code": "queryToDataframe(\"\"\"\nSELECT *\nFROM grade\nORDER BY id DESC\nLIMIT 5\n\"\"\")",
    "id": "9450a5ed4fc44d45b359957d70ebd43d",
    "idx": 32,
    "time": "2021-01-23T01:48:07.905Z",
    "type": "execution"
   },
   {
    "id": "9450a5ed4fc44d45b359957d70ebd43d",
    "time": "2021-01-23T01:48:08.026Z",
    "type": "completion"
   },
   {
    "code": "queryToDataframe(\"\"\"\nSELECT a.grade_id, user_id\nFROM ascent AS a\nLIMIT 5\nLEFT JOIN grade AS g\n    ON g.id = a.grade_id\n\"\"\")",
    "id": "9d83d6685ace40dd8842fdecf6157076",
    "idx": 33,
    "time": "2021-01-23T01:49:22.483Z",
    "type": "execution"
   },
   {
    "id": "9d83d6685ace40dd8842fdecf6157076",
    "time": "2021-01-23T01:49:22.614Z",
    "type": "completion"
   },
   {
    "code": "queryToDataframe(\"\"\"\nSELECT a.grade_id, user_id\nFROM ascent AS a\nLIMIT 5\nLEFT JOIN grade AS g\n    ON a.grade_id = g.id\n\"\"\")",
    "id": "9d83d6685ace40dd8842fdecf6157076",
    "idx": 33,
    "time": "2021-01-23T01:54:13.745Z",
    "type": "execution"
   },
   {
    "id": "9d83d6685ace40dd8842fdecf6157076",
    "time": "2021-01-23T01:54:13.922Z",
    "type": "completion"
   },
   {
    "code": "queryToDataframe(\"\"\"\nSELECT a.grade_id, a.user_id, g.fra_boulders\nFROM ascent AS a\nLIMIT 5\nLEFT JOIN grade AS g\n    ON a.grade_id = g.id\n\"\"\")",
    "id": "9d83d6685ace40dd8842fdecf6157076",
    "idx": 33,
    "time": "2021-01-23T01:55:16.793Z",
    "type": "execution"
   },
   {
    "id": "9d83d6685ace40dd8842fdecf6157076",
    "time": "2021-01-23T01:55:16.939Z",
    "type": "completion"
   },
   {
    "code": "queryToDataframe(\"\"\"\nSELECT id, grade_id, user_id\nFROM ascent\nLIMIT 5\n\"\"\")",
    "id": "52560b7ba89d4e888103995ca9b4e6f6",
    "idx": 33,
    "time": "2021-01-23T01:55:55.021Z",
    "type": "execution"
   },
   {
    "id": "52560b7ba89d4e888103995ca9b4e6f6",
    "time": "2021-01-23T01:55:55.111Z",
    "type": "completion"
   },
   {
    "code": "queryToDataframe(\"\"\"\nSELECT a.grade_id, a.user_id, g.fra_boulders\nFROM ascent AS a\nLEFT JOIN grade AS g\n    ON a.grade_id = g.id\nLIMIT 5\n\"\"\")",
    "id": "9d83d6685ace40dd8842fdecf6157076",
    "idx": 34,
    "time": "2021-01-23T01:56:24.969Z",
    "type": "execution"
   },
   {
    "id": "9d83d6685ace40dd8842fdecf6157076",
    "time": "2021-01-23T01:56:25.062Z",
    "type": "completion"
   },
   {
    "code": "queryToDataframe(\"\"\"\nSELECT CAST(ROUND(AVG(a.grade_id)) AS int) AS id_grade, fra_boulders,\n    CASE WHEN climb_type = 0 THEN 'route'\n         WHEN climb_type = 1 THEN 'boulder'\n         ELSE 'NA'\n    END AS climb\n    \nFROM ascent AS a\nGROUP BY climb\nLEFT JOIN grade AS g\n    ON g.id = a.grade_id\n\"\"\")",
    "id": "d21516e93f1a4846a81aa91ea3e62630",
    "idx": 31,
    "time": "2021-01-23T01:57:08.709Z",
    "type": "execution"
   },
   {
    "id": "d21516e93f1a4846a81aa91ea3e62630",
    "time": "2021-01-23T01:57:08.849Z",
    "type": "completion"
   },
   {
    "code": "queryToDataframe(\"\"\"\nSELECT CAST(ROUND(AVG(a.grade_id)) AS int) AS grade_id, fra_boulders,\n    CASE WHEN climb_type = 0 THEN 'route'\n         WHEN climb_type = 1 THEN 'boulder'\n         ELSE 'NA'\n    END AS climb\n    \nFROM ascent AS a\nGROUP BY climb\nLEFT JOIN grade AS g\n    ON g.id = a.grade_id\n\"\"\")",
    "id": "d21516e93f1a4846a81aa91ea3e62630",
    "idx": 31,
    "time": "2021-01-23T01:57:31.614Z",
    "type": "execution"
   },
   {
    "id": "d21516e93f1a4846a81aa91ea3e62630",
    "time": "2021-01-23T01:57:31.770Z",
    "type": "completion"
   },
   {
    "code": "queryToDataframe(\"\"\"\nSELECT CAST(ROUND(AVG(a.grade_id)) AS int) AS grade_id, fra_boulders,\n    CASE WHEN climb_type = 0 THEN 'route'\n         WHEN climb_type = 1 THEN 'boulder'\n         ELSE 'NA'\n    END AS climb\n    \nFROM ascent AS a\nGROUP BY climb\nLEFT JOIN grade AS g\n    ON a.grade_id = g.id\n\"\"\")",
    "id": "d21516e93f1a4846a81aa91ea3e62630",
    "idx": 31,
    "time": "2021-01-23T01:57:48.219Z",
    "type": "execution"
   },
   {
    "id": "d21516e93f1a4846a81aa91ea3e62630",
    "time": "2021-01-23T01:57:48.360Z",
    "type": "completion"
   },
   {
    "code": "queryToDataframe(\"\"\"\nSELECT CAST(ROUND(AVG(a.grade_id)) AS int) AS a.grade_id, fra_boulders,\n    CASE WHEN climb_type = 0 THEN 'route'\n         WHEN climb_type = 1 THEN 'boulder'\n         ELSE 'NA'\n    END AS climb\n    \nFROM ascent AS a\nGROUP BY climb\nLEFT JOIN grade AS g\n    ON a.grade_id = g.id\n\"\"\")",
    "id": "d21516e93f1a4846a81aa91ea3e62630",
    "idx": 31,
    "time": "2021-01-23T01:57:55.352Z",
    "type": "execution"
   },
   {
    "id": "d21516e93f1a4846a81aa91ea3e62630",
    "time": "2021-01-23T01:57:55.500Z",
    "type": "completion"
   },
   {
    "code": "queryToDataframe(\"\"\"\nSELECT CAST(ROUND(AVG(a.grade_id)) AS int) AS a.grade_id, fra_boulders,\n    CASE WHEN climb_type = 0 THEN 'route'\n         WHEN climb_type = 1 THEN 'boulder'\n         ELSE 'NA'\n    END AS climb\n    \nFROM ascent AS a\nGROUP BY climb\n\"\"\")",
    "id": "d21516e93f1a4846a81aa91ea3e62630",
    "idx": 31,
    "time": "2021-01-23T02:00:11.816Z",
    "type": "execution"
   },
   {
    "id": "d21516e93f1a4846a81aa91ea3e62630",
    "time": "2021-01-23T02:00:11.970Z",
    "type": "completion"
   },
   {
    "code": "queryToDataframe(\"\"\"\nSELECT CAST(ROUND(AVG(grade_id)) AS int) AS grade_id,\n    CASE WHEN climb_type = 0 THEN 'route'\n         WHEN climb_type = 1 THEN 'boulder'\n         ELSE 'NA'\n    END AS climb\n    \nFROM ascent\nGROUP BY climb\n\"\"\")",
    "id": "d21516e93f1a4846a81aa91ea3e62630",
    "idx": 31,
    "time": "2021-01-23T02:00:40.593Z",
    "type": "execution"
   },
   {
    "id": "d21516e93f1a4846a81aa91ea3e62630",
    "time": "2021-01-23T02:00:43.498Z",
    "type": "completion"
   },
   {
    "code": "queryToDataframe(\"\"\"\nSELECT *\nFROM grade\nORDER BY id DESC\nLIMIT 20\n\"\"\")",
    "id": "9450a5ed4fc44d45b359957d70ebd43d",
    "idx": 32,
    "time": "2021-01-23T02:02:39.855Z",
    "type": "execution"
   },
   {
    "id": "9450a5ed4fc44d45b359957d70ebd43d",
    "time": "2021-01-23T02:02:40.099Z",
    "type": "completion"
   },
   {
    "code": "queryToDataframe(\"\"\"\nWITH a AS \n    (SELECT CAST(ROUND(AVG(grade_id)) AS int) AS grade_id,\n    CASE WHEN climb_type = 0 THEN 'route'\n         WHEN climb_type = 1 THEN 'boulder'\n         ELSE 'NA'\n    END AS climb \n    FROM ascent\n    GROUP BY climb),\n    g AS\n    (SELECT fra_routes, fra_boulders, usa_routes,usa_boulders\n    FROM grade)\n\nSELECT *\nFROM a\nLEFT JOIN g\n    ON a.grade_id = g.id\n\"\"\")",
    "id": "d21516e93f1a4846a81aa91ea3e62630",
    "idx": 31,
    "time": "2021-01-23T02:06:20.031Z",
    "type": "execution"
   },
   {
    "id": "d21516e93f1a4846a81aa91ea3e62630",
    "time": "2021-01-23T02:06:20.213Z",
    "type": "completion"
   },
   {
    "code": "queryToDataframe(\"\"\"\nWITH a AS \n    (SELECT CAST(ROUND(AVG(grade_id)) AS int) AS grade_id,\n    CASE WHEN climb_type = 0 THEN 'route'\n         WHEN climb_type = 1 THEN 'boulder'\n         ELSE 'NA'\n    END AS climb \n    FROM ascent\n    GROUP BY climb),\n    g AS\n    (SELECT fra_routes, fra_boulders, usa_routes,usa_boulders, id\n    FROM grade)\n\nSELECT *\nFROM a\nLEFT JOIN g\n    ON a.grade_id = g.id\n\"\"\")",
    "id": "d21516e93f1a4846a81aa91ea3e62630",
    "idx": 31,
    "time": "2021-01-23T02:06:41.588Z",
    "type": "execution"
   },
   {
    "id": "d21516e93f1a4846a81aa91ea3e62630",
    "time": "2021-01-23T02:06:44.552Z",
    "type": "completion"
   },
   {
    "code": "queryToDataframe(\"\"\"\nSELECT *\nFROM grade\nORDER BY id DESC\nLIMIT 50\n\"\"\")",
    "id": "9450a5ed4fc44d45b359957d70ebd43d",
    "idx": 32,
    "time": "2021-01-23T02:13:51.231Z",
    "type": "execution"
   },
   {
    "id": "9450a5ed4fc44d45b359957d70ebd43d",
    "time": "2021-01-23T02:13:51.539Z",
    "type": "completion"
   }
  ],
  "kernelspec": {
   "display_name": "Python 3",
   "language": "python",
   "name": "python3"
  },
  "language_info": {
   "codemirror_mode": {
    "name": "ipython",
    "version": 3
   },
   "file_extension": ".py",
   "mimetype": "text/x-python",
   "name": "python",
   "nbconvert_exporter": "python",
   "pygments_lexer": "ipython3",
   "version": "3.8.6"
  }
 },
 "nbformat": 4,
 "nbformat_minor": 2
}
